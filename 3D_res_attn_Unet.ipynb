{
  "nbformat": 4,
  "nbformat_minor": 0,
  "metadata": {
    "colab": {
      "name": "3D_res_attn_Unet.ipynb",
      "provenance": [],
      "collapsed_sections": []
    },
    "kernelspec": {
      "name": "python3",
      "display_name": "Python 3"
    },
    "language_info": {
      "name": "python"
    },
    "accelerator": "GPU"
  },
  "cells": [
    {
      "cell_type": "code",
      "metadata": {
        "colab": {
          "base_uri": "https://localhost:8080/"
        },
        "id": "TmD9SLQpmNJF",
        "outputId": "01ca7e1a-a4cb-4806-b57b-950c13db0864"
      },
      "source": [
        "!nvidia-smi"
      ],
      "execution_count": 46,
      "outputs": [
        {
          "output_type": "stream",
          "text": [
            "Tue May 18 15:53:51 2021       \n",
            "+-----------------------------------------------------------------------------+\n",
            "| NVIDIA-SMI 465.19.01    Driver Version: 460.32.03    CUDA Version: 11.2     |\n",
            "|-------------------------------+----------------------+----------------------+\n",
            "| GPU  Name        Persistence-M| Bus-Id        Disp.A | Volatile Uncorr. ECC |\n",
            "| Fan  Temp  Perf  Pwr:Usage/Cap|         Memory-Usage | GPU-Util  Compute M. |\n",
            "|                               |                      |               MIG M. |\n",
            "|===============================+======================+======================|\n",
            "|   0  Tesla T4            Off  | 00000000:00:04.0 Off |                    0 |\n",
            "| N/A   61C    P0    29W /  70W |    350MiB / 15109MiB |      0%      Default |\n",
            "|                               |                      |                  N/A |\n",
            "+-------------------------------+----------------------+----------------------+\n",
            "                                                                               \n",
            "+-----------------------------------------------------------------------------+\n",
            "| Processes:                                                                  |\n",
            "|  GPU   GI   CI        PID   Type   Process name                  GPU Memory |\n",
            "|        ID   ID                                                   Usage      |\n",
            "|=============================================================================|\n",
            "+-----------------------------------------------------------------------------+\n"
          ],
          "name": "stdout"
        }
      ]
    },
    {
      "cell_type": "code",
      "metadata": {
        "colab": {
          "base_uri": "https://localhost:8080/"
        },
        "id": "AZI13ut7nBZF",
        "outputId": "63d53d5f-9901-4f4f-e62c-a169cde9858c"
      },
      "source": [
        "%pip install -q tensorflow-addons[tensorflow]\n",
        "# %pip install -q simpleitk\n",
        "# %pip install -q colab_ssh\n",
        "# %pip install -q wandb"
      ],
      "execution_count": 2,
      "outputs": [
        {
          "output_type": "stream",
          "text": [
            "\u001b[?25l\r\u001b[K     |▌                               | 10kB 28.8MB/s eta 0:00:01\r\u001b[K     |█                               | 20kB 35.5MB/s eta 0:00:01\r\u001b[K     |█▌                              | 30kB 40.1MB/s eta 0:00:01\r\u001b[K     |██                              | 40kB 34.0MB/s eta 0:00:01\r\u001b[K     |██▍                             | 51kB 33.9MB/s eta 0:00:01\r\u001b[K     |███                             | 61kB 33.6MB/s eta 0:00:01\r\u001b[K     |███▍                            | 71kB 27.2MB/s eta 0:00:01\r\u001b[K     |███▉                            | 81kB 27.8MB/s eta 0:00:01\r\u001b[K     |████▍                           | 92kB 27.3MB/s eta 0:00:01\r\u001b[K     |████▉                           | 102kB 28.0MB/s eta 0:00:01\r\u001b[K     |█████▎                          | 112kB 28.0MB/s eta 0:00:01\r\u001b[K     |█████▉                          | 122kB 28.0MB/s eta 0:00:01\r\u001b[K     |██████▎                         | 133kB 28.0MB/s eta 0:00:01\r\u001b[K     |██████▊                         | 143kB 28.0MB/s eta 0:00:01\r\u001b[K     |███████▎                        | 153kB 28.0MB/s eta 0:00:01\r\u001b[K     |███████▊                        | 163kB 28.0MB/s eta 0:00:01\r\u001b[K     |████████▏                       | 174kB 28.0MB/s eta 0:00:01\r\u001b[K     |████████▊                       | 184kB 28.0MB/s eta 0:00:01\r\u001b[K     |█████████▏                      | 194kB 28.0MB/s eta 0:00:01\r\u001b[K     |█████████▋                      | 204kB 28.0MB/s eta 0:00:01\r\u001b[K     |██████████▏                     | 215kB 28.0MB/s eta 0:00:01\r\u001b[K     |██████████▋                     | 225kB 28.0MB/s eta 0:00:01\r\u001b[K     |███████████                     | 235kB 28.0MB/s eta 0:00:01\r\u001b[K     |███████████▋                    | 245kB 28.0MB/s eta 0:00:01\r\u001b[K     |████████████                    | 256kB 28.0MB/s eta 0:00:01\r\u001b[K     |████████████▌                   | 266kB 28.0MB/s eta 0:00:01\r\u001b[K     |█████████████                   | 276kB 28.0MB/s eta 0:00:01\r\u001b[K     |█████████████▌                  | 286kB 28.0MB/s eta 0:00:01\r\u001b[K     |██████████████                  | 296kB 28.0MB/s eta 0:00:01\r\u001b[K     |██████████████▌                 | 307kB 28.0MB/s eta 0:00:01\r\u001b[K     |███████████████                 | 317kB 28.0MB/s eta 0:00:01\r\u001b[K     |███████████████▍                | 327kB 28.0MB/s eta 0:00:01\r\u001b[K     |████████████████                | 337kB 28.0MB/s eta 0:00:01\r\u001b[K     |████████████████▍               | 348kB 28.0MB/s eta 0:00:01\r\u001b[K     |████████████████▉               | 358kB 28.0MB/s eta 0:00:01\r\u001b[K     |█████████████████▍              | 368kB 28.0MB/s eta 0:00:01\r\u001b[K     |█████████████████▉              | 378kB 28.0MB/s eta 0:00:01\r\u001b[K     |██████████████████▎             | 389kB 28.0MB/s eta 0:00:01\r\u001b[K     |██████████████████▉             | 399kB 28.0MB/s eta 0:00:01\r\u001b[K     |███████████████████▎            | 409kB 28.0MB/s eta 0:00:01\r\u001b[K     |███████████████████▊            | 419kB 28.0MB/s eta 0:00:01\r\u001b[K     |████████████████████▎           | 430kB 28.0MB/s eta 0:00:01\r\u001b[K     |████████████████████▊           | 440kB 28.0MB/s eta 0:00:01\r\u001b[K     |█████████████████████▏          | 450kB 28.0MB/s eta 0:00:01\r\u001b[K     |█████████████████████▊          | 460kB 28.0MB/s eta 0:00:01\r\u001b[K     |██████████████████████▏         | 471kB 28.0MB/s eta 0:00:01\r\u001b[K     |██████████████████████▋         | 481kB 28.0MB/s eta 0:00:01\r\u001b[K     |███████████████████████▏        | 491kB 28.0MB/s eta 0:00:01\r\u001b[K     |███████████████████████▋        | 501kB 28.0MB/s eta 0:00:01\r\u001b[K     |████████████████████████        | 512kB 28.0MB/s eta 0:00:01\r\u001b[K     |████████████████████████▋       | 522kB 28.0MB/s eta 0:00:01\r\u001b[K     |█████████████████████████       | 532kB 28.0MB/s eta 0:00:01\r\u001b[K     |█████████████████████████▌      | 542kB 28.0MB/s eta 0:00:01\r\u001b[K     |██████████████████████████      | 552kB 28.0MB/s eta 0:00:01\r\u001b[K     |██████████████████████████▌     | 563kB 28.0MB/s eta 0:00:01\r\u001b[K     |███████████████████████████     | 573kB 28.0MB/s eta 0:00:01\r\u001b[K     |███████████████████████████▌    | 583kB 28.0MB/s eta 0:00:01\r\u001b[K     |████████████████████████████    | 593kB 28.0MB/s eta 0:00:01\r\u001b[K     |████████████████████████████▍   | 604kB 28.0MB/s eta 0:00:01\r\u001b[K     |█████████████████████████████   | 614kB 28.0MB/s eta 0:00:01\r\u001b[K     |█████████████████████████████▍  | 624kB 28.0MB/s eta 0:00:01\r\u001b[K     |█████████████████████████████▉  | 634kB 28.0MB/s eta 0:00:01\r\u001b[K     |██████████████████████████████▍ | 645kB 28.0MB/s eta 0:00:01\r\u001b[K     |██████████████████████████████▉ | 655kB 28.0MB/s eta 0:00:01\r\u001b[K     |███████████████████████████████▎| 665kB 28.0MB/s eta 0:00:01\r\u001b[K     |███████████████████████████████▉| 675kB 28.0MB/s eta 0:00:01\r\u001b[K     |████████████████████████████████| 686kB 28.0MB/s \n",
            "\u001b[?25h"
          ],
          "name": "stdout"
        }
      ]
    },
    {
      "cell_type": "code",
      "metadata": {
        "id": "fYq1D1nrmMfW"
      },
      "source": [
        "%load_ext autoreload\n",
        "%autoreload 2"
      ],
      "execution_count": 1,
      "outputs": []
    },
    {
      "cell_type": "code",
      "metadata": {
        "id": "RyvK3bkmmRF5"
      },
      "source": [
        "import tensorflow as tf\n",
        "from tensorflow.keras import layers\n",
        "import tensorflow_addons as tfa\n",
        "import numpy as np\n",
        "import matplotlib.pyplot as plt\n",
        "import PIL.Image\n",
        "import glob\n",
        "from tqdm.notebook import tqdm\n",
        "from time import time\n",
        "%matplotlib inline"
      ],
      "execution_count": 2,
      "outputs": []
    },
    {
      "cell_type": "code",
      "metadata": {
        "colab": {
          "base_uri": "https://localhost:8080/"
        },
        "id": "x8wLJQSNmV8W",
        "outputId": "b1bee342-f9f8-4451-f9c5-45271915e961"
      },
      "source": [
        "from tensorflow.keras.mixed_precision import experimental as mixed_precision\n",
        "policy = mixed_precision.Policy('mixed_float16')\n",
        "mixed_precision.set_policy(policy)"
      ],
      "execution_count": 3,
      "outputs": [
        {
          "output_type": "stream",
          "text": [
            "INFO:tensorflow:Mixed precision compatibility check (mixed_float16): OK\n",
            "Your GPU will likely run quickly with dtype policy mixed_float16 as it has compute capability of at least 7.0. Your GPU: Tesla T4, compute capability 7.5\n",
            "WARNING:tensorflow:From /usr/local/lib/python3.7/dist-packages/tensorflow/python/keras/mixed_precision/loss_scale.py:56: DynamicLossScale.__init__ (from tensorflow.python.training.experimental.loss_scale) is deprecated and will be removed in a future version.\n",
            "Instructions for updating:\n",
            "Use tf.keras.mixed_precision.LossScaleOptimizer instead. LossScaleOptimizer now has all the functionality of DynamicLossScale\n"
          ],
          "name": "stdout"
        }
      ]
    },
    {
      "cell_type": "code",
      "metadata": {
        "colab": {
          "base_uri": "https://localhost:8080/"
        },
        "id": "6bu-os4Kqoiq",
        "outputId": "a02185de-c4f8-4ecc-ae7e-f2b485f6e7ae"
      },
      "source": [
        "%cd /content\n",
        "!rm -rf 3D_res_attn_Unet"
      ],
      "execution_count": 4,
      "outputs": [
        {
          "output_type": "stream",
          "text": [
            "/content\n"
          ],
          "name": "stdout"
        }
      ]
    },
    {
      "cell_type": "code",
      "metadata": {
        "colab": {
          "base_uri": "https://localhost:8080/"
        },
        "id": "B5UZTWx-mb7Y",
        "outputId": "b0d85d7a-5d88-4c4a-e434-21d49f8ea1e1"
      },
      "source": [
        "!git clone https://github.com/ShivamShrirao/3D_res_attn_Unet\n",
        "%cd 3D_res_attn_Unet"
      ],
      "execution_count": 5,
      "outputs": [
        {
          "output_type": "stream",
          "text": [
            "Cloning into '3D_res_attn_Unet'...\n",
            "remote: Enumerating objects: 38, done.\u001b[K\n",
            "remote: Counting objects:   2% (1/38)\u001b[K\rremote: Counting objects:   5% (2/38)\u001b[K\rremote: Counting objects:   7% (3/38)\u001b[K\rremote: Counting objects:  10% (4/38)\u001b[K\rremote: Counting objects:  13% (5/38)\u001b[K\rremote: Counting objects:  15% (6/38)\u001b[K\rremote: Counting objects:  18% (7/38)\u001b[K\rremote: Counting objects:  21% (8/38)\u001b[K\rremote: Counting objects:  23% (9/38)\u001b[K\rremote: Counting objects:  26% (10/38)\u001b[K\rremote: Counting objects:  28% (11/38)\u001b[K\rremote: Counting objects:  31% (12/38)\u001b[K\rremote: Counting objects:  34% (13/38)\u001b[K\rremote: Counting objects:  36% (14/38)\u001b[K\rremote: Counting objects:  39% (15/38)\u001b[K\rremote: Counting objects:  42% (16/38)\u001b[K\rremote: Counting objects:  44% (17/38)\u001b[K\rremote: Counting objects:  47% (18/38)\u001b[K\rremote: Counting objects:  50% (19/38)\u001b[K\rremote: Counting objects:  52% (20/38)\u001b[K\rremote: Counting objects:  55% (21/38)\u001b[K\rremote: Counting objects:  57% (22/38)\u001b[K\rremote: Counting objects:  60% (23/38)\u001b[K\rremote: Counting objects:  63% (24/38)\u001b[K\rremote: Counting objects:  65% (25/38)\u001b[K\rremote: Counting objects:  68% (26/38)\u001b[K\rremote: Counting objects:  71% (27/38)\u001b[K\rremote: Counting objects:  73% (28/38)\u001b[K\rremote: Counting objects:  76% (29/38)\u001b[K\rremote: Counting objects:  78% (30/38)\u001b[K\rremote: Counting objects:  81% (31/38)\u001b[K\rremote: Counting objects:  84% (32/38)\u001b[K\rremote: Counting objects:  86% (33/38)\u001b[K\rremote: Counting objects:  89% (34/38)\u001b[K\rremote: Counting objects:  92% (35/38)\u001b[K\rremote: Counting objects:  94% (36/38)\u001b[K\rremote: Counting objects:  97% (37/38)\u001b[K\rremote: Counting objects: 100% (38/38)\u001b[K\rremote: Counting objects: 100% (38/38), done.\u001b[K\n",
            "remote: Compressing objects:   4% (1/23)\u001b[K\rremote: Compressing objects:   8% (2/23)\u001b[K\rremote: Compressing objects:  13% (3/23)\u001b[K\rremote: Compressing objects:  17% (4/23)\u001b[K\rremote: Compressing objects:  21% (5/23)\u001b[K\rremote: Compressing objects:  26% (6/23)\u001b[K\rremote: Compressing objects:  30% (7/23)\u001b[K\rremote: Compressing objects:  34% (8/23)\u001b[K\rremote: Compressing objects:  39% (9/23)\u001b[K\rremote: Compressing objects:  43% (10/23)\u001b[K\rremote: Compressing objects:  47% (11/23)\u001b[K\rremote: Compressing objects:  52% (12/23)\u001b[K\rremote: Compressing objects:  56% (13/23)\u001b[K\rremote: Compressing objects:  60% (14/23)\u001b[K\rremote: Compressing objects:  65% (15/23)\u001b[K\rremote: Compressing objects:  69% (16/23)\u001b[K\rremote: Compressing objects:  73% (17/23)\u001b[K\rremote: Compressing objects:  78% (18/23)\u001b[K\rremote: Compressing objects:  82% (19/23)\u001b[K\rremote: Compressing objects:  86% (20/23)\u001b[K\rremote: Compressing objects:  91% (21/23)\u001b[K\rremote: Compressing objects:  95% (22/23)\u001b[K\rremote: Compressing objects: 100% (23/23)\u001b[K\rremote: Compressing objects: 100% (23/23), done.\u001b[K\n",
            "remote: Total 38 (delta 17), reused 32 (delta 11), pack-reused 0\u001b[K\n",
            "Unpacking objects:   2% (1/38)   \rUnpacking objects:   5% (2/38)   \rUnpacking objects:   7% (3/38)   \rUnpacking objects:  10% (4/38)   \rUnpacking objects:  13% (5/38)   \rUnpacking objects:  15% (6/38)   \rUnpacking objects:  18% (7/38)   \rUnpacking objects:  21% (8/38)   \rUnpacking objects:  23% (9/38)   \rUnpacking objects:  26% (10/38)   \rUnpacking objects:  28% (11/38)   \rUnpacking objects:  31% (12/38)   \rUnpacking objects:  34% (13/38)   \rUnpacking objects:  36% (14/38)   \rUnpacking objects:  39% (15/38)   \rUnpacking objects:  42% (16/38)   \rUnpacking objects:  44% (17/38)   \rUnpacking objects:  47% (18/38)   \rUnpacking objects:  50% (19/38)   \rUnpacking objects:  52% (20/38)   \rUnpacking objects:  55% (21/38)   \rUnpacking objects:  57% (22/38)   \rUnpacking objects:  60% (23/38)   \rUnpacking objects:  63% (24/38)   \rUnpacking objects:  65% (25/38)   \rUnpacking objects:  68% (26/38)   \rUnpacking objects:  71% (27/38)   \rUnpacking objects:  73% (28/38)   \rUnpacking objects:  76% (29/38)   \rUnpacking objects:  78% (30/38)   \rUnpacking objects:  81% (31/38)   \rUnpacking objects:  84% (32/38)   \rUnpacking objects:  86% (33/38)   \rUnpacking objects:  89% (34/38)   \rUnpacking objects:  92% (35/38)   \rUnpacking objects:  94% (36/38)   \rUnpacking objects:  97% (37/38)   \rUnpacking objects: 100% (38/38)   \rUnpacking objects: 100% (38/38), done.\n",
            "/content/3D_res_attn_Unet\n"
          ],
          "name": "stdout"
        }
      ]
    },
    {
      "cell_type": "code",
      "metadata": {
        "id": "nRY6Np0vmy6h"
      },
      "source": [
        "from model.conv_blocks import ConvNorm, NormAct, down_stack, up_stack"
      ],
      "execution_count": 6,
      "outputs": []
    },
    {
      "cell_type": "code",
      "metadata": {
        "id": "SM9d_Ekqq01a"
      },
      "source": [
        "BATCH_SIZE = 2"
      ],
      "execution_count": 7,
      "outputs": []
    },
    {
      "cell_type": "code",
      "metadata": {
        "id": "yUud1K2iloXZ"
      },
      "source": [
        "config_defaults = {\n",
        "    'activation'            : 'leaky_relu',\n",
        "    'batch_size'            : BATCH_SIZE,\n",
        "    'clr_step_size'         : 6,\n",
        "    'groups'                : 'max',\n",
        "    'dp_rate'               : 0.2,\n",
        "    'dropout_type'          : 'Spatial',\n",
        "    'frac_dv'               : 0.5,\n",
        "    'loss_function'         : 'FocalTversky',\n",
        "    'max_lr'                : 8e-4,\n",
        "    'min_lr'                : 1e-6,\n",
        "    'nheads'                : 8,\n",
        "    'norm'                  : 'bn',\n",
        "    'optimizer'             : 'adamw',\n",
        "    'self_attn'             : False,\n",
        "    'vary_weight_decay'     : True,\n",
        "    'weight_decay'          : 1e-4,     # max weight decay\n",
        "}"
      ],
      "execution_count": 24,
      "outputs": []
    },
    {
      "cell_type": "code",
      "metadata": {
        "id": "DUlSJlfpm63E"
      },
      "source": [
        "CONFIG = config_defaults"
      ],
      "execution_count": 25,
      "outputs": []
    },
    {
      "cell_type": "code",
      "metadata": {
        "id": "9_Yim6pLsk7Y"
      },
      "source": [
        "depth,height,width = 128,192,160"
      ],
      "execution_count": 26,
      "outputs": []
    },
    {
      "cell_type": "code",
      "metadata": {
        "id": "mWXn8he2nt5W"
      },
      "source": [
        "def enc_dec(x, frac_dv, stack_args):     # x(64,64,96,80)\n",
        "    x1 = down_stack(x ,  64, blocks=2, strides=2, **stack_args)     # ( 256,32,48,40)\n",
        "    x2 = down_stack(x1, 128, blocks=3, strides=2, **stack_args)     # ( 512,16,24,20)\n",
        "    x3 = down_stack(x2, 256, blocks=4, strides=2, frac_dv=frac_dv, **stack_args) # (1024, 8,12,10)\n",
        "\n",
        "    x4 = down_stack(x3, 256, blocks=3, strides=2, frac_dv=frac_dv, **stack_args) # (1024, 4, 6, 5)\n",
        "\n",
        "    y = up_stack(x4,x3, 128, blocks=3, strides=2, frac_dv=frac_dv, **stack_args) # (1024+1024->512,8,12,10)\n",
        "    y = up_stack(y, x2,  64, blocks=4, strides=2, frac_dv=frac_dv, **stack_args) # (512+512->256, 16,24,20)\n",
        "    y = up_stack(y, x1,  32, blocks=3, strides=2, **stack_args)     # ( 256+256->128,32,48,40)\n",
        "    y = up_stack(y, x ,  16, blocks=2, strides=2, **stack_args)     # ( 128+ 64->64,64,96,80)\n",
        "    return y\n",
        "\n",
        "\n",
        "def build_network(cfg, input_shape=(4,128,192,160), classes=3):\n",
        "    stack_args = {'activation': cfg['activation'], 'groups': cfg['groups'], 'norm': cfg['norm'],\n",
        "                  'dp_rate': cfg['dp_rate'], 'dropout_type': cfg['dropout_type']}\n",
        "\n",
        "    inp = layers.Input(shape=input_shape)                           # ( 4,128,192,160)\n",
        "    x = inp\n",
        "    x = ConvNorm(32, kernel_size=3, strides=2, activation=cfg['activation'], norm=cfg['norm'])(x)   # (32,64,96,80)\n",
        "    x = ConvNorm(64, kernel_size=3, do_norm_act=False)(x)                               # (64, 64, 96, 80)\n",
        "\n",
        "    x = enc_dec(x, cfg['frac_dv'], stack_args)                                          # (64, 64, 96, 80)\n",
        "\n",
        "    x = NormAct(activation=cfg['activation'], norm=cfg['norm'])(x)\n",
        "    x = layers.UpSampling3D(data_format=\"channels_first\")(x)                            # (64,128,192,160)\n",
        "    x = ConvNorm(16, kernel_size=3, activation=cfg['activation'], norm=cfg['norm'])(x)  # (16,128,192,160)\n",
        "    x = ConvNorm(classes,kernel_size=3, activation=cfg['activation'], norm=cfg['norm'])(x)#(3,128,192,160)\n",
        "    x = layers.Softmax(axis=1)(x)         # softmax cause each pixel has unique class, no overlap with other classes, verified.\n",
        "\n",
        "    return tf.keras.Model(inputs=inp, outputs=x)"
      ],
      "execution_count": 27,
      "outputs": []
    },
    {
      "cell_type": "code",
      "metadata": {
        "id": "d3He9IJQqzHq"
      },
      "source": [
        "model = build_network(CONFIG, input_shape=(4,depth,height,width), classes=3)"
      ],
      "execution_count": 28,
      "outputs": []
    },
    {
      "cell_type": "code",
      "metadata": {
        "colab": {
          "base_uri": "https://localhost:8080/"
        },
        "id": "alHQI9fntI0U",
        "outputId": "36400766-46ac-4fb0-bfaa-4cd494eb061d"
      },
      "source": [
        "model.summary()"
      ],
      "execution_count": 29,
      "outputs": [
        {
          "output_type": "stream",
          "text": [
            "Model: \"model_2\"\n",
            "__________________________________________________________________________________________________\n",
            "Layer (type)                    Output Shape         Param #     Connected to                     \n",
            "==================================================================================================\n",
            "input_51 (InputLayer)           [(None, 4, 128, 192, 0                                            \n",
            "__________________________________________________________________________________________________\n",
            "conv_norm_8 (ConvNorm)          (None, 32, 64, 96, 8 3584        input_51[0][0]                   \n",
            "__________________________________________________________________________________________________\n",
            "conv_norm_9 (ConvNorm)          (None, 64, 64, 96, 8 55360       conv_norm_8[0][0]                \n",
            "__________________________________________________________________________________________________\n",
            "attn_bottleneck_block_48 (AttnB (None, 256, 32, 48,  42064       conv_norm_9[0][0]                \n",
            "__________________________________________________________________________________________________\n",
            "attn_bottleneck_block_49 (AttnB (None, 256, 32, 48,  38480       attn_bottleneck_block_48[0][0]   \n",
            "__________________________________________________________________________________________________\n",
            "attn_bottleneck_block_50 (AttnB (None, 512, 16, 24,  244384      attn_bottleneck_block_49[0][0]   \n",
            "__________________________________________________________________________________________________\n",
            "attn_bottleneck_block_51 (AttnB (None, 512, 16, 24,  146592      attn_bottleneck_block_50[0][0]   \n",
            "__________________________________________________________________________________________________\n",
            "attn_bottleneck_block_52 (AttnB (None, 512, 16, 24,  146592      attn_bottleneck_block_51[0][0]   \n",
            "__________________________________________________________________________________________________\n",
            "attn_bottleneck_block_53 (AttnB (None, 1024, 8, 12,  1029856     attn_bottleneck_block_52[0][0]   \n",
            "__________________________________________________________________________________________________\n",
            "attn_bottleneck_block_54 (AttnB (None, 1024, 8, 12,  637664      attn_bottleneck_block_53[0][0]   \n",
            "__________________________________________________________________________________________________\n",
            "attn_bottleneck_block_55 (AttnB (None, 1024, 8, 12,  637664      attn_bottleneck_block_54[0][0]   \n",
            "__________________________________________________________________________________________________\n",
            "attn_bottleneck_block_56 (AttnB (None, 1024, 8, 12,  637664      attn_bottleneck_block_55[0][0]   \n",
            "__________________________________________________________________________________________________\n",
            "attn_bottleneck_block_57 (AttnB (None, 1024, 4, 6, 5 637424      attn_bottleneck_block_56[0][0]   \n",
            "__________________________________________________________________________________________________\n",
            "attn_bottleneck_block_58 (AttnB (None, 1024, 4, 6, 5 637424      attn_bottleneck_block_57[0][0]   \n",
            "__________________________________________________________________________________________________\n",
            "attn_bottleneck_block_59 (AttnB (None, 1024, 4, 6, 5 637424      attn_bottleneck_block_58[0][0]   \n",
            "__________________________________________________________________________________________________\n",
            "up_sampling3d_10 (UpSampling3D) (None, 1024, 8, 12,  0           attn_bottleneck_block_59[0][0]   \n",
            "__________________________________________________________________________________________________\n",
            "concatenate_8 (Concatenate)     (None, 2048, 8, 12,  0           up_sampling3d_10[0][0]           \n",
            "                                                                 attn_bottleneck_block_56[0][0]   \n",
            "__________________________________________________________________________________________________\n",
            "attn_bottleneck_block_60 (AttnB (None, 512, 8, 12, 1 1415024     concatenate_8[0][0]              \n",
            "__________________________________________________________________________________________________\n",
            "attn_bottleneck_block_61 (AttnB (None, 512, 8, 12, 1 163184      attn_bottleneck_block_60[0][0]   \n",
            "__________________________________________________________________________________________________\n",
            "attn_bottleneck_block_62 (AttnB (None, 512, 8, 12, 1 163184      attn_bottleneck_block_61[0][0]   \n",
            "__________________________________________________________________________________________________\n",
            "up_sampling3d_11 (UpSampling3D) (None, 512, 16, 24,  0           attn_bottleneck_block_62[0][0]   \n",
            "__________________________________________________________________________________________________\n",
            "concatenate_9 (Concatenate)     (None, 1024, 16, 24, 0           up_sampling3d_11[0][0]           \n",
            "                                                                 attn_bottleneck_block_52[0][0]   \n",
            "__________________________________________________________________________________________________\n",
            "attn_bottleneck_block_63 (AttnB (None, 256, 16, 24,  357424      concatenate_9[0][0]              \n",
            "__________________________________________________________________________________________________\n",
            "attn_bottleneck_block_64 (AttnB (None, 256, 16, 24,  42800       attn_bottleneck_block_63[0][0]   \n",
            "__________________________________________________________________________________________________\n",
            "attn_bottleneck_block_65 (AttnB (None, 256, 16, 24,  42800       attn_bottleneck_block_64[0][0]   \n",
            "__________________________________________________________________________________________________\n",
            "attn_bottleneck_block_66 (AttnB (None, 256, 16, 24,  42800       attn_bottleneck_block_65[0][0]   \n",
            "__________________________________________________________________________________________________\n",
            "up_sampling3d_12 (UpSampling3D) (None, 256, 32, 48,  0           attn_bottleneck_block_66[0][0]   \n",
            "__________________________________________________________________________________________________\n",
            "concatenate_10 (Concatenate)    (None, 512, 32, 48,  0           up_sampling3d_12[0][0]           \n",
            "                                                                 attn_bottleneck_block_49[0][0]   \n",
            "__________________________________________________________________________________________________\n",
            "attn_bottleneck_block_67 (AttnB (None, 128, 32, 48,  90024       concatenate_10[0][0]             \n",
            "__________________________________________________________________________________________________\n",
            "attn_bottleneck_block_68 (AttnB (None, 128, 32, 48,  10536       attn_bottleneck_block_67[0][0]   \n",
            "__________________________________________________________________________________________________\n",
            "attn_bottleneck_block_69 (AttnB (None, 128, 32, 48,  10536       attn_bottleneck_block_68[0][0]   \n",
            "__________________________________________________________________________________________________\n",
            "up_sampling3d_13 (UpSampling3D) (None, 128, 64, 96,  0           attn_bottleneck_block_69[0][0]   \n",
            "__________________________________________________________________________________________________\n",
            "concatenate_11 (Concatenate)    (None, 192, 64, 96,  0           up_sampling3d_13[0][0]           \n",
            "                                                                 conv_norm_9[0][0]                \n",
            "__________________________________________________________________________________________________\n",
            "attn_bottleneck_block_70 (AttnB (None, 64, 64, 96, 8 18004       concatenate_11[0][0]             \n",
            "__________________________________________________________________________________________________\n",
            "attn_bottleneck_block_71 (AttnB (None, 64, 64, 96, 8 3092        attn_bottleneck_block_70[0][0]   \n",
            "__________________________________________________________________________________________________\n",
            "norm_act_74 (NormAct)           (None, 64, 64, 96, 8 256         attn_bottleneck_block_71[0][0]   \n",
            "__________________________________________________________________________________________________\n",
            "up_sampling3d_14 (UpSampling3D) (None, 64, 128, 192, 0           norm_act_74[0][0]                \n",
            "__________________________________________________________________________________________________\n",
            "conv_norm_10 (ConvNorm)         (None, 16, 128, 192, 27712       up_sampling3d_14[0][0]           \n",
            "__________________________________________________________________________________________________\n",
            "conv_norm_11 (ConvNorm)         (None, 3, 128, 192,  1308        conv_norm_10[0][0]               \n",
            "__________________________________________________________________________________________________\n",
            "softmax_2 (Softmax)             (None, 3, 128, 192,  0           conv_norm_11[0][0]               \n",
            "==================================================================================================\n",
            "Total params: 7,920,860\n",
            "Trainable params: 7,880,054\n",
            "Non-trainable params: 40,806\n",
            "__________________________________________________________________________________________________\n"
          ],
          "name": "stdout"
        }
      ]
    },
    {
      "cell_type": "code",
      "metadata": {
        "id": "aDyefuc20tAo"
      },
      "source": [
        "model_plot = tf.keras.utils.plot_model(model, to_file='model.png', show_shapes=True, dpi=None)"
      ],
      "execution_count": 30,
      "outputs": []
    },
    {
      "cell_type": "code",
      "metadata": {
        "id": "5l9WlsqnTHYQ"
      },
      "source": [
        ""
      ],
      "execution_count": null,
      "outputs": []
    }
  ]
}