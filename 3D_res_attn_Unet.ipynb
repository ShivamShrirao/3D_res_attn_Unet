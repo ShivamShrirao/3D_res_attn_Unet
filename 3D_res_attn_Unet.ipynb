{
  "nbformat": 4,
  "nbformat_minor": 0,
  "metadata": {
    "accelerator": "GPU",
    "colab": {
      "name": "3D_res_attn_Unet.ipynb",
      "provenance": [],
      "collapsed_sections": [],
      "machine_shape": "hm"
    },
    "kernelspec": {
      "display_name": "Python 3",
      "name": "python3"
    },
    "language_info": {
      "name": "python"
    },
    "widgets": {
      "application/vnd.jupyter.widget-state+json": {
        "201dcf26f734414eb08e52ace3f60bba": {
          "model_module": "@jupyter-widgets/controls",
          "model_name": "HBoxModel",
          "state": {
            "_view_name": "HBoxView",
            "_dom_classes": [],
            "_model_name": "HBoxModel",
            "_view_module": "@jupyter-widgets/controls",
            "_model_module_version": "1.5.0",
            "_view_count": null,
            "_view_module_version": "1.5.0",
            "box_style": "",
            "layout": "IPY_MODEL_0cdc0c01e0d54368bb75e87284608a1e",
            "_model_module": "@jupyter-widgets/controls",
            "children": [
              "IPY_MODEL_b939793c64fe4cafbf519c3c060cc87a",
              "IPY_MODEL_87c8cb4d4e3a44f6abd1d9af55b92e0c"
            ]
          }
        },
        "0cdc0c01e0d54368bb75e87284608a1e": {
          "model_module": "@jupyter-widgets/base",
          "model_name": "LayoutModel",
          "state": {
            "_view_name": "LayoutView",
            "grid_template_rows": null,
            "right": null,
            "justify_content": null,
            "_view_module": "@jupyter-widgets/base",
            "overflow": null,
            "_model_module_version": "1.2.0",
            "_view_count": null,
            "flex_flow": null,
            "width": null,
            "min_width": null,
            "border": null,
            "align_items": null,
            "bottom": null,
            "_model_module": "@jupyter-widgets/base",
            "top": null,
            "grid_column": null,
            "overflow_y": null,
            "overflow_x": null,
            "grid_auto_flow": null,
            "grid_area": null,
            "grid_template_columns": null,
            "flex": null,
            "_model_name": "LayoutModel",
            "justify_items": null,
            "grid_row": null,
            "max_height": null,
            "align_content": null,
            "visibility": null,
            "align_self": null,
            "height": null,
            "min_height": null,
            "padding": null,
            "grid_auto_rows": null,
            "grid_gap": null,
            "max_width": null,
            "order": null,
            "_view_module_version": "1.2.0",
            "grid_template_areas": null,
            "object_position": null,
            "object_fit": null,
            "grid_auto_columns": null,
            "margin": null,
            "display": null,
            "left": null
          }
        },
        "b939793c64fe4cafbf519c3c060cc87a": {
          "model_module": "@jupyter-widgets/controls",
          "model_name": "FloatProgressModel",
          "state": {
            "_view_name": "ProgressView",
            "style": "IPY_MODEL_92e75713468543449ab4cdb5934e2593",
            "_dom_classes": [],
            "description": "",
            "_model_name": "FloatProgressModel",
            "bar_style": "danger",
            "max": 1,
            "_view_module": "@jupyter-widgets/controls",
            "_model_module_version": "1.5.0",
            "value": 1,
            "_view_count": null,
            "_view_module_version": "1.5.0",
            "orientation": "horizontal",
            "min": 0,
            "description_tooltip": null,
            "_model_module": "@jupyter-widgets/controls",
            "layout": "IPY_MODEL_b93ecce1632a4fc6bfbaa9c087aef834"
          }
        },
        "87c8cb4d4e3a44f6abd1d9af55b92e0c": {
          "model_module": "@jupyter-widgets/controls",
          "model_name": "HTMLModel",
          "state": {
            "_view_name": "HTMLView",
            "style": "IPY_MODEL_c840b3f0d0574afc8d0f1f129362d332",
            "_dom_classes": [],
            "description": "",
            "_model_name": "HTMLModel",
            "placeholder": "​",
            "_view_module": "@jupyter-widgets/controls",
            "_model_module_version": "1.5.0",
            "value": " 143/? [02:23&lt;00:00,  1.02it/s]",
            "_view_count": null,
            "_view_module_version": "1.5.0",
            "description_tooltip": null,
            "_model_module": "@jupyter-widgets/controls",
            "layout": "IPY_MODEL_af680948b3ff4f68b917ef39608eb31d"
          }
        },
        "92e75713468543449ab4cdb5934e2593": {
          "model_module": "@jupyter-widgets/controls",
          "model_name": "ProgressStyleModel",
          "state": {
            "_view_name": "StyleView",
            "_model_name": "ProgressStyleModel",
            "description_width": "initial",
            "_view_module": "@jupyter-widgets/base",
            "_model_module_version": "1.5.0",
            "_view_count": null,
            "_view_module_version": "1.2.0",
            "bar_color": null,
            "_model_module": "@jupyter-widgets/controls"
          }
        },
        "b93ecce1632a4fc6bfbaa9c087aef834": {
          "model_module": "@jupyter-widgets/base",
          "model_name": "LayoutModel",
          "state": {
            "_view_name": "LayoutView",
            "grid_template_rows": null,
            "right": null,
            "justify_content": null,
            "_view_module": "@jupyter-widgets/base",
            "overflow": null,
            "_model_module_version": "1.2.0",
            "_view_count": null,
            "flex_flow": null,
            "width": null,
            "min_width": null,
            "border": null,
            "align_items": null,
            "bottom": null,
            "_model_module": "@jupyter-widgets/base",
            "top": null,
            "grid_column": null,
            "overflow_y": null,
            "overflow_x": null,
            "grid_auto_flow": null,
            "grid_area": null,
            "grid_template_columns": null,
            "flex": null,
            "_model_name": "LayoutModel",
            "justify_items": null,
            "grid_row": null,
            "max_height": null,
            "align_content": null,
            "visibility": null,
            "align_self": null,
            "height": null,
            "min_height": null,
            "padding": null,
            "grid_auto_rows": null,
            "grid_gap": null,
            "max_width": null,
            "order": null,
            "_view_module_version": "1.2.0",
            "grid_template_areas": null,
            "object_position": null,
            "object_fit": null,
            "grid_auto_columns": null,
            "margin": null,
            "display": null,
            "left": null
          }
        },
        "c840b3f0d0574afc8d0f1f129362d332": {
          "model_module": "@jupyter-widgets/controls",
          "model_name": "DescriptionStyleModel",
          "state": {
            "_view_name": "StyleView",
            "_model_name": "DescriptionStyleModel",
            "description_width": "",
            "_view_module": "@jupyter-widgets/base",
            "_model_module_version": "1.5.0",
            "_view_count": null,
            "_view_module_version": "1.2.0",
            "_model_module": "@jupyter-widgets/controls"
          }
        },
        "af680948b3ff4f68b917ef39608eb31d": {
          "model_module": "@jupyter-widgets/base",
          "model_name": "LayoutModel",
          "state": {
            "_view_name": "LayoutView",
            "grid_template_rows": null,
            "right": null,
            "justify_content": null,
            "_view_module": "@jupyter-widgets/base",
            "overflow": null,
            "_model_module_version": "1.2.0",
            "_view_count": null,
            "flex_flow": null,
            "width": null,
            "min_width": null,
            "border": null,
            "align_items": null,
            "bottom": null,
            "_model_module": "@jupyter-widgets/base",
            "top": null,
            "grid_column": null,
            "overflow_y": null,
            "overflow_x": null,
            "grid_auto_flow": null,
            "grid_area": null,
            "grid_template_columns": null,
            "flex": null,
            "_model_name": "LayoutModel",
            "justify_items": null,
            "grid_row": null,
            "max_height": null,
            "align_content": null,
            "visibility": null,
            "align_self": null,
            "height": null,
            "min_height": null,
            "padding": null,
            "grid_auto_rows": null,
            "grid_gap": null,
            "max_width": null,
            "order": null,
            "_view_module_version": "1.2.0",
            "grid_template_areas": null,
            "object_position": null,
            "object_fit": null,
            "grid_auto_columns": null,
            "margin": null,
            "display": null,
            "left": null
          }
        },
        "8f3aadb12cdc4c60b8b10a6ff3c9ca37": {
          "model_module": "@jupyter-widgets/controls",
          "model_name": "VBoxModel",
          "state": {
            "_view_name": "VBoxView",
            "_dom_classes": [],
            "_model_name": "VBoxModel",
            "_view_module": "@jupyter-widgets/controls",
            "_model_module_version": "1.5.0",
            "_view_count": null,
            "_view_module_version": "1.5.0",
            "box_style": "",
            "layout": "IPY_MODEL_1d0087d7ad23470ea55da52fe4423961",
            "_model_module": "@jupyter-widgets/controls",
            "children": [
              "IPY_MODEL_13869a9a52894c48a4019d6d4c078329",
              "IPY_MODEL_9716f3383116421381eeacb45ba0479a"
            ]
          }
        },
        "1d0087d7ad23470ea55da52fe4423961": {
          "model_module": "@jupyter-widgets/base",
          "model_name": "LayoutModel",
          "state": {
            "_view_name": "LayoutView",
            "grid_template_rows": null,
            "right": null,
            "justify_content": null,
            "_view_module": "@jupyter-widgets/base",
            "overflow": null,
            "_model_module_version": "1.2.0",
            "_view_count": null,
            "flex_flow": null,
            "width": null,
            "min_width": null,
            "border": null,
            "align_items": null,
            "bottom": null,
            "_model_module": "@jupyter-widgets/base",
            "top": null,
            "grid_column": null,
            "overflow_y": null,
            "overflow_x": null,
            "grid_auto_flow": null,
            "grid_area": null,
            "grid_template_columns": null,
            "flex": null,
            "_model_name": "LayoutModel",
            "justify_items": null,
            "grid_row": null,
            "max_height": null,
            "align_content": null,
            "visibility": null,
            "align_self": null,
            "height": null,
            "min_height": null,
            "padding": null,
            "grid_auto_rows": null,
            "grid_gap": null,
            "max_width": null,
            "order": null,
            "_view_module_version": "1.2.0",
            "grid_template_areas": null,
            "object_position": null,
            "object_fit": null,
            "grid_auto_columns": null,
            "margin": null,
            "display": null,
            "left": null
          }
        },
        "13869a9a52894c48a4019d6d4c078329": {
          "model_module": "@jupyter-widgets/controls",
          "model_name": "LabelModel",
          "state": {
            "_view_name": "LabelView",
            "style": "IPY_MODEL_c0a6b740fb144a06a603d076854bab2d",
            "_dom_classes": [],
            "description": "",
            "_model_name": "LabelModel",
            "placeholder": "​",
            "_view_module": "@jupyter-widgets/controls",
            "_model_module_version": "1.5.0",
            "value": " 184.77MB of 184.77MB uploaded (0.07MB deduped)\r",
            "_view_count": null,
            "_view_module_version": "1.5.0",
            "description_tooltip": null,
            "_model_module": "@jupyter-widgets/controls",
            "layout": "IPY_MODEL_1828908d96644748bb0ec02a04012689"
          }
        },
        "9716f3383116421381eeacb45ba0479a": {
          "model_module": "@jupyter-widgets/controls",
          "model_name": "FloatProgressModel",
          "state": {
            "_view_name": "ProgressView",
            "style": "IPY_MODEL_5f0218a5f52b466daf90a35eb30ed667",
            "_dom_classes": [],
            "description": "",
            "_model_name": "FloatProgressModel",
            "bar_style": "",
            "max": 1,
            "_view_module": "@jupyter-widgets/controls",
            "_model_module_version": "1.5.0",
            "value": 1,
            "_view_count": null,
            "_view_module_version": "1.5.0",
            "orientation": "horizontal",
            "min": 0,
            "description_tooltip": null,
            "_model_module": "@jupyter-widgets/controls",
            "layout": "IPY_MODEL_9504953d5c9d41c29c0bda1c3b783ca7"
          }
        },
        "c0a6b740fb144a06a603d076854bab2d": {
          "model_module": "@jupyter-widgets/controls",
          "model_name": "DescriptionStyleModel",
          "state": {
            "_view_name": "StyleView",
            "_model_name": "DescriptionStyleModel",
            "description_width": "",
            "_view_module": "@jupyter-widgets/base",
            "_model_module_version": "1.5.0",
            "_view_count": null,
            "_view_module_version": "1.2.0",
            "_model_module": "@jupyter-widgets/controls"
          }
        },
        "1828908d96644748bb0ec02a04012689": {
          "model_module": "@jupyter-widgets/base",
          "model_name": "LayoutModel",
          "state": {
            "_view_name": "LayoutView",
            "grid_template_rows": null,
            "right": null,
            "justify_content": null,
            "_view_module": "@jupyter-widgets/base",
            "overflow": null,
            "_model_module_version": "1.2.0",
            "_view_count": null,
            "flex_flow": null,
            "width": null,
            "min_width": null,
            "border": null,
            "align_items": null,
            "bottom": null,
            "_model_module": "@jupyter-widgets/base",
            "top": null,
            "grid_column": null,
            "overflow_y": null,
            "overflow_x": null,
            "grid_auto_flow": null,
            "grid_area": null,
            "grid_template_columns": null,
            "flex": null,
            "_model_name": "LayoutModel",
            "justify_items": null,
            "grid_row": null,
            "max_height": null,
            "align_content": null,
            "visibility": null,
            "align_self": null,
            "height": null,
            "min_height": null,
            "padding": null,
            "grid_auto_rows": null,
            "grid_gap": null,
            "max_width": null,
            "order": null,
            "_view_module_version": "1.2.0",
            "grid_template_areas": null,
            "object_position": null,
            "object_fit": null,
            "grid_auto_columns": null,
            "margin": null,
            "display": null,
            "left": null
          }
        },
        "5f0218a5f52b466daf90a35eb30ed667": {
          "model_module": "@jupyter-widgets/controls",
          "model_name": "ProgressStyleModel",
          "state": {
            "_view_name": "StyleView",
            "_model_name": "ProgressStyleModel",
            "description_width": "",
            "_view_module": "@jupyter-widgets/base",
            "_model_module_version": "1.5.0",
            "_view_count": null,
            "_view_module_version": "1.2.0",
            "bar_color": null,
            "_model_module": "@jupyter-widgets/controls"
          }
        },
        "9504953d5c9d41c29c0bda1c3b783ca7": {
          "model_module": "@jupyter-widgets/base",
          "model_name": "LayoutModel",
          "state": {
            "_view_name": "LayoutView",
            "grid_template_rows": null,
            "right": null,
            "justify_content": null,
            "_view_module": "@jupyter-widgets/base",
            "overflow": null,
            "_model_module_version": "1.2.0",
            "_view_count": null,
            "flex_flow": null,
            "width": null,
            "min_width": null,
            "border": null,
            "align_items": null,
            "bottom": null,
            "_model_module": "@jupyter-widgets/base",
            "top": null,
            "grid_column": null,
            "overflow_y": null,
            "overflow_x": null,
            "grid_auto_flow": null,
            "grid_area": null,
            "grid_template_columns": null,
            "flex": null,
            "_model_name": "LayoutModel",
            "justify_items": null,
            "grid_row": null,
            "max_height": null,
            "align_content": null,
            "visibility": null,
            "align_self": null,
            "height": null,
            "min_height": null,
            "padding": null,
            "grid_auto_rows": null,
            "grid_gap": null,
            "max_width": null,
            "order": null,
            "_view_module_version": "1.2.0",
            "grid_template_areas": null,
            "object_position": null,
            "object_fit": null,
            "grid_auto_columns": null,
            "margin": null,
            "display": null,
            "left": null
          }
        }
      }
    }
  },
  "cells": [
    {
      "cell_type": "code",
      "metadata": {
        "colab": {
          "base_uri": "https://localhost:8080/"
        },
        "id": "TmD9SLQpmNJF",
        "outputId": "c97344bb-e903-4406-c5f8-38e3c462afb1"
      },
      "source": [
        "!nvidia-smi"
      ],
      "execution_count": 1,
      "outputs": [
        {
          "output_type": "stream",
          "text": [
            "Fri May 21 07:57:01 2021       \n",
            "+-----------------------------------------------------------------------------+\n",
            "| NVIDIA-SMI 465.19.01    Driver Version: 460.32.03    CUDA Version: 11.2     |\n",
            "|-------------------------------+----------------------+----------------------+\n",
            "| GPU  Name        Persistence-M| Bus-Id        Disp.A | Volatile Uncorr. ECC |\n",
            "| Fan  Temp  Perf  Pwr:Usage/Cap|         Memory-Usage | GPU-Util  Compute M. |\n",
            "|                               |                      |               MIG M. |\n",
            "|===============================+======================+======================|\n",
            "|   0  Tesla V100-SXM2...  Off  | 00000000:00:04.0 Off |                    0 |\n",
            "| N/A   34C    P0    22W / 300W |      0MiB / 16160MiB |      0%      Default |\n",
            "|                               |                      |                  N/A |\n",
            "+-------------------------------+----------------------+----------------------+\n",
            "                                                                               \n",
            "+-----------------------------------------------------------------------------+\n",
            "| Processes:                                                                  |\n",
            "|  GPU   GI   CI        PID   Type   Process name                  GPU Memory |\n",
            "|        ID   ID                                                   Usage      |\n",
            "|=============================================================================|\n",
            "|  No running processes found                                                 |\n",
            "+-----------------------------------------------------------------------------+\n"
          ],
          "name": "stdout"
        }
      ]
    },
    {
      "cell_type": "code",
      "metadata": {
        "colab": {
          "base_uri": "https://localhost:8080/"
        },
        "id": "AZI13ut7nBZF",
        "outputId": "21c5dce4-6248-40f1-dc8f-5050c7d63e2a"
      },
      "source": [
        "%pip install -q tensorflow-addons[tensorflow]\n",
        "%pip install -q simpleitk\n",
        "# %pip install -q colab_ssh\n",
        "%pip install -q wandb"
      ],
      "execution_count": 2,
      "outputs": [
        {
          "output_type": "stream",
          "text": [
            "\u001b[K     |████████████████████████████████| 686kB 14.2MB/s \n",
            "\u001b[K     |████████████████████████████████| 47.4MB 103kB/s \n",
            "\u001b[K     |████████████████████████████████| 1.8MB 14.7MB/s \n",
            "\u001b[K     |████████████████████████████████| 102kB 13.1MB/s \n",
            "\u001b[K     |████████████████████████████████| 133kB 49.2MB/s \n",
            "\u001b[K     |████████████████████████████████| 174kB 53.1MB/s \n",
            "\u001b[K     |████████████████████████████████| 71kB 9.4MB/s \n",
            "\u001b[?25h  Building wheel for pathtools (setup.py) ... \u001b[?25l\u001b[?25hdone\n",
            "  Building wheel for subprocess32 (setup.py) ... \u001b[?25l\u001b[?25hdone\n"
          ],
          "name": "stdout"
        }
      ]
    },
    {
      "cell_type": "code",
      "metadata": {
        "colab": {
          "base_uri": "https://localhost:8080/"
        },
        "id": "MeRBZZsrxy7G",
        "outputId": "0bb78ce2-8865-4d84-8ff2-a399a976725b"
      },
      "source": [
        "!gdown https://drive.google.com/uc?id=1jYb-dKqywLm5bQ5esP6YSV5xuBzqBPqm"
      ],
      "execution_count": 3,
      "outputs": [
        {
          "output_type": "stream",
          "text": [
            "Downloading...\n",
            "From: https://drive.google.com/uc?id=1jYb-dKqywLm5bQ5esP6YSV5xuBzqBPqm\n",
            "To: /content/BRATS_Dataset.tar.gz\n",
            "2.76GB [00:43, 62.9MB/s]\n"
          ],
          "name": "stdout"
        }
      ]
    },
    {
      "cell_type": "code",
      "metadata": {
        "colab": {
          "base_uri": "https://localhost:8080/"
        },
        "id": "MCwAJtyIx0oX",
        "outputId": "ac5845a0-eb58-44c3-bb4d-5c8dd18f8fdc"
      },
      "source": [
        "!apt -qq install pigz"
      ],
      "execution_count": 4,
      "outputs": [
        {
          "output_type": "stream",
          "text": [
            "The following package was automatically installed and is no longer required:\n",
            "  libnvidia-common-460\n",
            "Use 'apt autoremove' to remove it.\n",
            "The following NEW packages will be installed:\n",
            "  pigz\n",
            "0 upgraded, 1 newly installed, 0 to remove and 34 not upgraded.\n",
            "Need to get 57.4 kB of archives.\n",
            "After this operation, 259 kB of additional disk space will be used.\n",
            "Selecting previously unselected package pigz.\n",
            "(Reading database ... 160706 files and directories currently installed.)\n",
            "Preparing to unpack .../archives/pigz_2.4-1_amd64.deb ...\n",
            "Unpacking pigz (2.4-1) ...\n",
            "Setting up pigz (2.4-1) ...\n",
            "Processing triggers for man-db (2.8.3-2ubuntu0.1) ...\n"
          ],
          "name": "stdout"
        }
      ]
    },
    {
      "cell_type": "code",
      "metadata": {
        "id": "RBS9P9pVyL0p"
      },
      "source": [
        "!pigz -dc BRATS_Dataset.tar.gz | tar xf -"
      ],
      "execution_count": 5,
      "outputs": []
    },
    {
      "cell_type": "code",
      "metadata": {
        "id": "iwMjK_O6yL-5"
      },
      "source": [
        "!rm BRATS_Dataset.tar.gz"
      ],
      "execution_count": 6,
      "outputs": []
    },
    {
      "cell_type": "code",
      "metadata": {
        "colab": {
          "base_uri": "https://localhost:8080/"
        },
        "id": "6bu-os4Kqoiq",
        "outputId": "07886eb0-580c-40fb-b6d8-4074b546cc95"
      },
      "source": [
        "%cd /content\n",
        "!rm -rf 3D_res_attn_Unet"
      ],
      "execution_count": 2,
      "outputs": [
        {
          "output_type": "stream",
          "text": [
            "/content\n"
          ],
          "name": "stdout"
        }
      ]
    },
    {
      "cell_type": "code",
      "metadata": {
        "colab": {
          "base_uri": "https://localhost:8080/"
        },
        "id": "B5UZTWx-mb7Y",
        "outputId": "edf41e70-3cf3-4758-9547-6c4c7fb7cea8"
      },
      "source": [
        "!git clone https://github.com/ShivamShrirao/3D_res_attn_Unet"
      ],
      "execution_count": 3,
      "outputs": [
        {
          "output_type": "stream",
          "text": [
            "Cloning into '3D_res_attn_Unet'...\n",
            "remote: Enumerating objects: 144, done.\u001b[K\n",
            "remote: Counting objects: 100% (144/144), done.\u001b[K\n",
            "remote: Compressing objects: 100% (98/98), done.\u001b[K\n",
            "remote: Total 144 (delta 97), reused 89 (delta 42), pack-reused 0\u001b[K\n",
            "Receiving objects: 100% (144/144), 523.27 KiB | 7.58 MiB/s, done.\n",
            "Resolving deltas: 100% (97/97), done.\n"
          ],
          "name": "stdout"
        }
      ]
    },
    {
      "cell_type": "code",
      "metadata": {
        "colab": {
          "base_uri": "https://localhost:8080/"
        },
        "id": "SDsMVBQUEX_C",
        "outputId": "d59e7e5c-365e-4246-924f-d18d0f8aa6c3"
      },
      "source": [
        "%cd 3D_res_attn_Unet"
      ],
      "execution_count": 4,
      "outputs": [
        {
          "output_type": "stream",
          "text": [
            "/content/3D_res_attn_Unet\n"
          ],
          "name": "stdout"
        }
      ]
    },
    {
      "cell_type": "code",
      "metadata": {
        "id": "fYq1D1nrmMfW"
      },
      "source": [
        "%load_ext tensorboard\n",
        "%load_ext autoreload\n",
        "%autoreload 2"
      ],
      "execution_count": 5,
      "outputs": []
    },
    {
      "cell_type": "code",
      "metadata": {
        "id": "VxV8loizyQk5"
      },
      "source": [
        "import SimpleITK as sitk"
      ],
      "execution_count": 6,
      "outputs": []
    },
    {
      "cell_type": "code",
      "metadata": {
        "id": "RyvK3bkmmRF5"
      },
      "source": [
        "import tensorflow as tf\n",
        "from tensorflow.keras import layers\n",
        "import tensorflow_addons as tfa\n",
        "import numpy as np\n",
        "import matplotlib.pyplot as plt\n",
        "import PIL.Image\n",
        "import glob\n",
        "from tqdm.notebook import tqdm\n",
        "from time import time\n",
        "%matplotlib inline"
      ],
      "execution_count": 7,
      "outputs": []
    },
    {
      "cell_type": "code",
      "metadata": {
        "colab": {
          "base_uri": "https://localhost:8080/"
        },
        "id": "x8wLJQSNmV8W",
        "outputId": "575a0545-5ff0-4f95-f98d-f9bbb0faada6"
      },
      "source": [
        "from tensorflow.keras.mixed_precision import experimental as mixed_precision\n",
        "policy = mixed_precision.Policy('mixed_float16')\n",
        "mixed_precision.set_policy(policy)"
      ],
      "execution_count": 8,
      "outputs": [
        {
          "output_type": "stream",
          "text": [
            "INFO:tensorflow:Mixed precision compatibility check (mixed_float16): OK\n",
            "Your GPU will likely run quickly with dtype policy mixed_float16 as it has compute capability of at least 7.0. Your GPU: Tesla V100-SXM2-16GB, compute capability 7.0\n",
            "WARNING:tensorflow:From /usr/local/lib/python3.7/dist-packages/tensorflow/python/keras/mixed_precision/loss_scale.py:56: DynamicLossScale.__init__ (from tensorflow.python.training.experimental.loss_scale) is deprecated and will be removed in a future version.\n",
            "Instructions for updating:\n",
            "Use tf.keras.mixed_precision.LossScaleOptimizer instead. LossScaleOptimizer now has all the functionality of DynamicLossScale\n"
          ],
          "name": "stdout"
        }
      ]
    },
    {
      "cell_type": "code",
      "metadata": {
        "id": "DH9zA80Lyblg"
      },
      "source": [
        "def get_data_paths(dataset_path):\n",
        "    t1 = glob.glob(dataset_path+'/*GG/*/*t1.nii.gz')\n",
        "    t2 = glob.glob(dataset_path+'/*GG/*/*t2.nii.gz')\n",
        "    t1ce = glob.glob(dataset_path+'/*GG/*/*t1ce.nii.gz')\n",
        "    flair = glob.glob(dataset_path+'/*GG/*/*flair.nii.gz')\n",
        "    seg = glob.glob(dataset_path+'/*GG/*/*seg.nii.gz')\n",
        "    return list(zip(t1, t2, t1ce, flair, seg))"
      ],
      "execution_count": 9,
      "outputs": []
    },
    {
      "cell_type": "code",
      "metadata": {
        "id": "KoB8nSTVyfUX"
      },
      "source": [
        "train_paths = get_data_paths('../BRATS_Dataset/brats_dataset/')\n",
        "val_paths = get_data_paths('../BRATS_Dataset/brats_test_dataset/')"
      ],
      "execution_count": 10,
      "outputs": []
    },
    {
      "cell_type": "code",
      "metadata": {
        "colab": {
          "base_uri": "https://localhost:8080/"
        },
        "id": "B2BFkvT4yfRU",
        "outputId": "e24116bc-8b4c-4a04-9764-e5934dc8e8a0"
      },
      "source": [
        "len(train_paths), len(val_paths)"
      ],
      "execution_count": 11,
      "outputs": [
        {
          "output_type": "execute_result",
          "data": {
            "text/plain": [
              "(285, 50)"
            ]
          },
          "metadata": {
            "tags": []
          },
          "execution_count": 11
        }
      ]
    },
    {
      "cell_type": "code",
      "metadata": {
        "id": "T-GTEwiqy1E_"
      },
      "source": [
        "from model.preprocess import *"
      ],
      "execution_count": 12,
      "outputs": []
    },
    {
      "cell_type": "code",
      "metadata": {
        "id": "QNGVcTA5fS51"
      },
      "source": [
        "mean = tf.constant([0.06301811, 0.05202341, 0.04396216, 0.05345017], shape=(1, 4, 1, 1, 1))\n",
        "std  = tf.constant([0.14905235, 0.12771605, 0.1042005 , 0.12938198], shape=(1, 4, 1, 1, 1))"
      ],
      "execution_count": 13,
      "outputs": []
    },
    {
      "cell_type": "code",
      "metadata": {
        "id": "BLUheTvAyfNE"
      },
      "source": [
        "# mean = []\n",
        "# std = []\n",
        "# for tp in tqdm(train_paths[0:100]):\n",
        "#     img, lbl = load_img(tp)\n",
        "#     img = tf.cast(img, tf.float32)/255.0\n",
        "#     mean.append(tf.reduce_mean(img, axis=[1,2,3]))\n",
        "#     std.append(tf.math.reduce_std(img, axis=[1,2,3]))\n",
        "# mean = tf.reshape(tf.reduce_mean(mean, axis=0), (1, 4, 1, 1, 1))\n",
        "# std = tf.reshape(tf.reduce_mean(std, axis=0), (1, 4, 1, 1, 1))"
      ],
      "execution_count": 14,
      "outputs": []
    },
    {
      "cell_type": "code",
      "metadata": {
        "colab": {
          "base_uri": "https://localhost:8080/"
        },
        "id": "gELRSfJLyfKe",
        "outputId": "bb2d4aeb-d8e6-47e2-8f50-c400e30b06ac"
      },
      "source": [
        "depth = 128 # 155\n",
        "height = 192 # 240\n",
        "width = 160 # 240\n",
        "(155-depth, 240-height, 240-width)"
      ],
      "execution_count": 15,
      "outputs": [
        {
          "output_type": "execute_result",
          "data": {
            "text/plain": [
              "(27, 48, 80)"
            ]
          },
          "metadata": {
            "tags": []
          },
          "execution_count": 15
        }
      ]
    },
    {
      "cell_type": "code",
      "metadata": {
        "id": "hA8i-idEyfGn"
      },
      "source": [
        "def random_crop3D(imgs, lbls, train=True):          # Crops image to size (128, 192, 160)\n",
        "    d_cr, h_cr, w_cr = 13, 24, 40\n",
        "    if train:\n",
        "        if tf.random.uniform([], 0, 1, dtype=tf.float32) <= 0.8:\n",
        "            d_cr = tf.random.uniform([], 0, 27, dtype=tf.int32)\n",
        "            h_cr = tf.random.uniform([], 0, 48, dtype=tf.int32)\n",
        "            w_cr = tf.random.uniform([], 0, 80, dtype=tf.int32)\n",
        "    imgs = imgs[:, :, d_cr:d_cr+depth, h_cr:h_cr+height, w_cr:w_cr+width]\n",
        "    lbls = lbls[:, :, d_cr:d_cr+depth, h_cr:h_cr+height, w_cr:w_cr+width]\n",
        "    return imgs, lbls"
      ],
      "execution_count": 16,
      "outputs": []
    },
    {
      "cell_type": "code",
      "metadata": {
        "id": "Kla_BA_JyfCP"
      },
      "source": [
        "def final_augmentation(imgs, lbls, train=True):       # input imgs[B, 4, 155, 240, 240], output[B, 4, 128, 192, 160]\n",
        "    imgs, lbls = random_crop3D(imgs, lbls, train)\n",
        "    imgs = tf.cast(imgs, tf.float32)/255.0\n",
        "    lbls = tf.cast(lbls, tf.float32)\n",
        "    if train:\n",
        "        imgs = tf.image.random_brightness(imgs, 0.2)      # source code checked, it's fine for 3D\n",
        "    # imgs = tf.image.per_image_standardization(imgs)   # source code checked, it's fine for 3D\n",
        "    imgs = (imgs - mean) / std\n",
        "    return imgs, lbls"
      ],
      "execution_count": 17,
      "outputs": []
    },
    {
      "cell_type": "code",
      "metadata": {
        "id": "-jYQgwzeye7w"
      },
      "source": [
        "BATCH_SIZE = 2\n",
        "AUTOTUNE = tf.data.experimental.AUTOTUNE"
      ],
      "execution_count": 18,
      "outputs": []
    },
    {
      "cell_type": "code",
      "metadata": {
        "id": "4CRpmKSryeMY"
      },
      "source": [
        "def get_tfds(data_paths, train=False):\n",
        "    # 53.3373920917511 s\n",
        "    dataset = tf.data.Dataset.from_tensor_slices(data_paths)\n",
        "    if train:\n",
        "        dataset = dataset.shuffle(len(data_paths))\n",
        "    dataset = dataset.map(load_paths_wrapper, num_parallel_calls=AUTOTUNE)\n",
        "    if train:\n",
        "        dataset = dataset.map(random_rotate3D, num_parallel_calls=AUTOTUNE)\n",
        "    dataset = dataset.repeat()\n",
        "    dataset = dataset.batch(BATCH_SIZE)\n",
        "    if train:\n",
        "        dataset = dataset.map(random_flip3D, num_parallel_calls=AUTOTUNE)\n",
        "    dataset = dataset.map(lambda x,y: final_augmentation(x,y,train), num_parallel_calls=AUTOTUNE)      # remove for test,val\n",
        "    dataset = dataset.prefetch(AUTOTUNE)\n",
        "    return dataset"
      ],
      "execution_count": 19,
      "outputs": []
    },
    {
      "cell_type": "code",
      "metadata": {
        "id": "aLVvTfMPzSgG"
      },
      "source": [
        "train_ds = get_tfds(train_paths, train=True)\n",
        "val_ds = get_tfds(val_paths)"
      ],
      "execution_count": 20,
      "outputs": []
    },
    {
      "cell_type": "code",
      "metadata": {
        "id": "k_u6nfUhzT9C"
      },
      "source": [
        "import wandb\n",
        "from wandb.keras import WandbCallback"
      ],
      "execution_count": 21,
      "outputs": []
    },
    {
      "cell_type": "code",
      "metadata": {
        "colab": {
          "base_uri": "https://localhost:8080/"
        },
        "id": "39ZKOyeDzT6O",
        "outputId": "969cf543-b759-49f8-e77a-0d54525baa46"
      },
      "source": [
        "wandb.login()"
      ],
      "execution_count": 22,
      "outputs": [
        {
          "output_type": "stream",
          "text": [
            "\u001b[34m\u001b[1mwandb\u001b[0m: Currently logged in as: \u001b[33mshivamshrirao\u001b[0m (use `wandb login --relogin` to force relogin)\n"
          ],
          "name": "stderr"
        },
        {
          "output_type": "execute_result",
          "data": {
            "text/plain": [
              "True"
            ]
          },
          "metadata": {
            "tags": []
          },
          "execution_count": 22
        }
      ]
    },
    {
      "cell_type": "code",
      "metadata": {
        "id": "yUud1K2iloXZ"
      },
      "source": [
        "config_defaults = {\n",
        "    'activation'            : 'leaky_relu',\n",
        "    'batch_size'            : BATCH_SIZE,\n",
        "    'block_type'            : 'AttnBottleneckBlock',\n",
        "    'clr_step_size'         : 10,\n",
        "    'clr_offset_ep'         : 7,\n",
        "    'groups'                : 32,\n",
        "    'dp_rate'               : 0.22,\n",
        "    'dropout_type'          : 'Spatial',\n",
        "    'frac_dv'               : 0.5,\n",
        "    'loss_function'         : 'FocalTversky',\n",
        "    'max_lr'                : 6e-4,\n",
        "    'min_lr'                : 1e-6,\n",
        "    'nheads'                : 8,\n",
        "    'norm'                  : 'gn',\n",
        "    'optimizer'             : 'adamw',\n",
        "    'vary_weight_decay'     : True,\n",
        "    'weight_decay'          : 4e-5,     # max weight decay\n",
        "}\n",
        "CONFIG = config_defaults"
      ],
      "execution_count": 23,
      "outputs": []
    },
    {
      "cell_type": "code",
      "metadata": {
        "id": "aTWSlkaTUVIp",
        "colab": {
          "base_uri": "https://localhost:8080/",
          "height": 119
        },
        "outputId": "78111906-8ea4-49a1-f46f-42990afdb4e6"
      },
      "source": [
        "# run = wandb.init(id='sxeicdk0', project=\"3D_res_attn_Unet\", resume='must')\n",
        "# CONFIG = run.config"
      ],
      "execution_count": 24,
      "outputs": [
        {
          "output_type": "display_data",
          "data": {
            "text/html": [
              "\n",
              "                Tracking run with wandb version 0.10.30<br/>\n",
              "                Resuming run <strong style=\"color:#cdcd00\">azure-sunset-25</strong> to <a href=\"https://wandb.ai\" target=\"_blank\">Weights & Biases</a> <a href=\"https://docs.wandb.com/integrations/jupyter.html\" target=\"_blank\">(Documentation)</a>.<br/>\n",
              "                Project page: <a href=\"https://wandb.ai/shivamshrirao/3D_res_attn_Unet\" target=\"_blank\">https://wandb.ai/shivamshrirao/3D_res_attn_Unet</a><br/>\n",
              "                Run page: <a href=\"https://wandb.ai/shivamshrirao/3D_res_attn_Unet/runs/sxeicdk0\" target=\"_blank\">https://wandb.ai/shivamshrirao/3D_res_attn_Unet/runs/sxeicdk0</a><br/>\n",
              "                Run data is saved locally in <code>/content/3D_res_attn_Unet/wandb/run-20210521_075733-sxeicdk0</code><br/><br/>\n",
              "            "
            ],
            "text/plain": [
              "<IPython.core.display.HTML object>"
            ]
          },
          "metadata": {
            "tags": []
          }
        }
      ]
    },
    {
      "cell_type": "code",
      "metadata": {
        "id": "RjaGe7P4z1qV",
        "colab": {
          "base_uri": "https://localhost:8080/",
          "height": 119
        },
        "outputId": "26887000-f635-4a0b-f301-d6b5a5ecce80"
      },
      "source": [
        "run = wandb.init(project=\"3D_res_attn_Unet\", entity=\"shivamshrirao\", config=config_defaults)\n",
        "CONFIG = wandb.config"
      ],
      "execution_count": 60,
      "outputs": [
        {
          "output_type": "display_data",
          "data": {
            "text/html": [
              "\n",
              "                Tracking run with wandb version 0.10.30<br/>\n",
              "                Syncing run <strong style=\"color:#cdcd00\">azure-sunset-25</strong> to <a href=\"https://wandb.ai\" target=\"_blank\">Weights & Biases</a> <a href=\"https://docs.wandb.com/integrations/jupyter.html\" target=\"_blank\">(Documentation)</a>.<br/>\n",
              "                Project page: <a href=\"https://wandb.ai/shivamshrirao/3D_res_attn_Unet\" target=\"_blank\">https://wandb.ai/shivamshrirao/3D_res_attn_Unet</a><br/>\n",
              "                Run page: <a href=\"https://wandb.ai/shivamshrirao/3D_res_attn_Unet/runs/sxeicdk0\" target=\"_blank\">https://wandb.ai/shivamshrirao/3D_res_attn_Unet/runs/sxeicdk0</a><br/>\n",
              "                Run data is saved locally in <code>/content/3D_res_attn_Unet/wandb/run-20210521_005358-sxeicdk0</code><br/><br/>\n",
              "            "
            ],
            "text/plain": [
              "<IPython.core.display.HTML object>"
            ]
          },
          "metadata": {
            "tags": []
          }
        }
      ]
    },
    {
      "cell_type": "code",
      "metadata": {
        "colab": {
          "base_uri": "https://localhost:8080/"
        },
        "id": "8PNd1IfZ7D-R",
        "outputId": "04491065-34cc-4f31-8fa2-4c419b9c0759"
      },
      "source": [
        "mean.numpy().ravel(), std.numpy().ravel()"
      ],
      "execution_count": 25,
      "outputs": [
        {
          "output_type": "execute_result",
          "data": {
            "text/plain": [
              "(array([0.06301811, 0.05202341, 0.04396216, 0.05345017], dtype=float32),\n",
              " array([0.14905235, 0.12771605, 0.1042005 , 0.12938198], dtype=float32))"
            ]
          },
          "metadata": {
            "tags": []
          },
          "execution_count": 25
        }
      ]
    },
    {
      "cell_type": "code",
      "metadata": {
        "id": "muugExNpz1lY"
      },
      "source": [
        "tf.keras.backend.set_image_data_format('channels_first')"
      ],
      "execution_count": 26,
      "outputs": []
    },
    {
      "cell_type": "code",
      "metadata": {
        "id": "hRbHoACDz8_D"
      },
      "source": [
        "## attention shortcuts to be used.\n",
        "## try attention on the unet shortcuts\n",
        "## try Global Context Block\n",
        "## try input image pyramid and deep supervised output layers (output from intermediate layers (fuse with conv-sigmoid like U^2net ??))\n",
        "## TRY PIXELSHUFFLE\n",
        "## Try SPARSE CONV NET https://github.com/facebookresearch/SparseConvNet"
      ],
      "execution_count": 27,
      "outputs": []
    },
    {
      "cell_type": "code",
      "metadata": {
        "id": "nRY6Np0vmy6h"
      },
      "source": [
        "from model.conv_blocks import *"
      ],
      "execution_count": 28,
      "outputs": []
    },
    {
      "cell_type": "code",
      "metadata": {
        "id": "mWXn8he2nt5W"
      },
      "source": [
        "def enc_dec(x, block, frac_dv, stack_args):     # x(64,64,96,80)\n",
        "    x1 = down_stack(x ,  64, nblocks=2, block=block, strides=2, **stack_args)     # (256,32,48,40)\n",
        "    x2 = down_stack(x1, 128, nblocks=2, block=block, strides=2, **stack_args)     # (512,16,24,20)\n",
        "    x3 = down_stack(x2, 256, nblocks=2, block=block, strides=2, frac_dv=frac_dv, **stack_args) # (1024, 8,12,10)\n",
        "    x4 = down_stack(x3, 256, nblocks=3, block=block, strides=2, frac_dv=frac_dv, **stack_args) # (1024, 4, 6, 5)\n",
        "\n",
        "    y = up_stack(x4,x3, 128, nblocks=3, block=block, strides=2, frac_dv=frac_dv, **stack_args) # (1024+1024->512,8,12,10)\n",
        "    y = up_stack(y, x2,  64, nblocks=2, block=block, strides=2, **stack_args)     # (512+512->256,16,24,20)\n",
        "    y = up_stack(y, x1,  32, nblocks=2, block=block, strides=2, **stack_args)     # (256+256->128,32,48,40)\n",
        "    y = up_stack(y, x ,  16, nblocks=1, block=block, strides=2, **stack_args)     # (128+ 64-> 64,64,96,80)\n",
        "    return y\n",
        "\n",
        "\n",
        "def build_network(cfg, block, input_shape=(4,128,192,160), classes=4):\n",
        "    stack_args = {'activation': cfg['activation'], 'groups': cfg['groups'], 'norm': cfg['norm'],\n",
        "                  'dp_rate': cfg['dp_rate'], 'dropout_type': cfg['dropout_type']}\n",
        "\n",
        "    inp = layers.Input(shape=input_shape)                           # ( 4,128,192,160)\n",
        "    x = inp\n",
        "    x = ConvNorm(32, kernel_size=3, strides=2, activation=cfg['activation'], norm=cfg['norm'])(x)   # (32,64,96,80)\n",
        "    x = ConvNorm(64, kernel_size=3, do_norm_act=False)(x)                               # (64, 64, 96, 80)\n",
        "\n",
        "    x = enc_dec(x, block, cfg['frac_dv'], stack_args)                                   # (64, 64, 96, 80)\n",
        "\n",
        "    x = NormAct(activation=cfg['activation'], norm=cfg['norm'])(x)\n",
        "    x = layers.UpSampling3D(data_format=\"channels_first\")(x)                            # (64,128,192,160)\n",
        "    x = ConvNorm(16, kernel_size=3, activation=cfg['activation'], norm=cfg['norm'])(x)  # (16,128,192,160)\n",
        "    x = ConvNorm(classes, kernel_size=3, do_norm_act=False)(x)                          #(3,128,192,160)\n",
        "    x = layers.Softmax(axis=1)(x)         # softmax cause each pixel has unique class, no overlap with other classes, verified.\n",
        "\n",
        "    return tf.keras.Model(inputs=inp, outputs=x)"
      ],
      "execution_count": 26,
      "outputs": []
    },
    {
      "cell_type": "code",
      "metadata": {
        "id": "d3He9IJQqzHq"
      },
      "source": [
        "block = AttnBottleneckBlock\n",
        "CONFIG['block_type'] = block.__name__\n",
        "model = build_network(CONFIG, block, input_shape=(4,depth,height,width), classes=4)"
      ],
      "execution_count": 66,
      "outputs": []
    },
    {
      "cell_type": "code",
      "metadata": {
        "colab": {
          "base_uri": "https://localhost:8080/"
        },
        "id": "alHQI9fntI0U",
        "outputId": "c6c1692e-c6dc-42b8-a681-3538ed6373ae"
      },
      "source": [
        "model.summary()"
      ],
      "execution_count": 67,
      "outputs": [
        {
          "output_type": "stream",
          "text": [
            "Model: \"model\"\n",
            "__________________________________________________________________________________________________\n",
            "Layer (type)                    Output Shape         Param #     Connected to                     \n",
            "==================================================================================================\n",
            "input_18 (InputLayer)           [(None, 4, 128, 192, 0                                            \n",
            "__________________________________________________________________________________________________\n",
            "conv_norm_20 (ConvNorm)         (None, 32, 64, 96, 8 3520        input_18[0][0]                   \n",
            "__________________________________________________________________________________________________\n",
            "conv_norm_1_18 (ConvNorm)       (None, 64, 64, 96, 8 55360       conv_norm_20[0][0]               \n",
            "__________________________________________________________________________________________________\n",
            "attn_bottleneck_block_17 (AttnB (None, 256, 32, 48,  43344       conv_norm_1_18[0][0]             \n",
            "__________________________________________________________________________________________________\n",
            "attn_bottleneck_block_1_1 (Attn (None, 256, 32, 48,  39376       attn_bottleneck_block_17[0][0]   \n",
            "__________________________________________________________________________________________________\n",
            "attn_bottleneck_block_2_1 (Attn (None, 512, 16, 24,  253600      attn_bottleneck_block_1_1[0][0]  \n",
            "__________________________________________________________________________________________________\n",
            "attn_bottleneck_block_3_1 (Attn (None, 512, 16, 24,  155296      attn_bottleneck_block_2_1[0][0]  \n",
            "__________________________________________________________________________________________________\n",
            "attn_bottleneck_block_4_1 (Attn (None, 1024, 8, 12,  1048416     attn_bottleneck_block_3_1[0][0]  \n",
            "__________________________________________________________________________________________________\n",
            "attn_bottleneck_block_5_1 (Attn (None, 1024, 8, 12,  655200      attn_bottleneck_block_4_1[0][0]  \n",
            "__________________________________________________________________________________________________\n",
            "attn_bottleneck_block_6_1 (Attn (None, 1024, 4, 6, 5 654960      attn_bottleneck_block_5_1[0][0]  \n",
            "__________________________________________________________________________________________________\n",
            "attn_bottleneck_block_7_1 (Attn (None, 1024, 4, 6, 5 654960      attn_bottleneck_block_6_1[0][0]  \n",
            "__________________________________________________________________________________________________\n",
            "attn_bottleneck_block_8_1 (Attn (None, 1024, 4, 6, 5 654960      attn_bottleneck_block_7_1[0][0]  \n",
            "__________________________________________________________________________________________________\n",
            "up_sampling3d (UpSampling3D)    (None, 1024, 8, 12,  0           attn_bottleneck_block_8_1[0][0]  \n",
            "__________________________________________________________________________________________________\n",
            "concatenate (Concatenate)       (None, 2048, 8, 12,  0           up_sampling3d[0][0]              \n",
            "                                                                 attn_bottleneck_block_5_1[0][0]  \n",
            "__________________________________________________________________________________________________\n",
            "attn_bottleneck_block_9_1 (Attn (None, 512, 8, 12, 1 1413808     concatenate[0][0]                \n",
            "__________________________________________________________________________________________________\n",
            "attn_bottleneck_block_10_1 (Att (None, 512, 8, 12, 1 165040      attn_bottleneck_block_9_1[0][0]  \n",
            "__________________________________________________________________________________________________\n",
            "attn_bottleneck_block_11_1 (Att (None, 512, 8, 12, 1 165040      attn_bottleneck_block_10_1[0][0] \n",
            "__________________________________________________________________________________________________\n",
            "up_sampling3d_1 (UpSampling3D)  (None, 512, 16, 24,  0           attn_bottleneck_block_11_1[0][0] \n",
            "__________________________________________________________________________________________________\n",
            "concatenate_1 (Concatenate)     (None, 1024, 16, 24, 0           up_sampling3d_1[0][0]            \n",
            "                                                                 attn_bottleneck_block_3_1[0][0]  \n",
            "__________________________________________________________________________________________________\n",
            "attn_bottleneck_block_12_1 (Att (None, 256, 16, 24,  352464      concatenate_1[0][0]              \n",
            "__________________________________________________________________________________________________\n",
            "attn_bottleneck_block_13_1 (Att (None, 256, 16, 24,  39376       attn_bottleneck_block_12_1[0][0] \n",
            "__________________________________________________________________________________________________\n",
            "up_sampling3d_2 (UpSampling3D)  (None, 256, 32, 48,  0           attn_bottleneck_block_13_1[0][0] \n",
            "__________________________________________________________________________________________________\n",
            "concatenate_2 (Concatenate)     (None, 512, 32, 48,  0           up_sampling3d_2[0][0]            \n",
            "                                                                 attn_bottleneck_block_1_1[0][0]  \n",
            "__________________________________________________________________________________________________\n",
            "attn_bottleneck_block_14_1 (Att (None, 128, 32, 48,  88840       concatenate_2[0][0]              \n",
            "__________________________________________________________________________________________________\n",
            "attn_bottleneck_block_15_1 (Att (None, 128, 32, 48,  10120       attn_bottleneck_block_14_1[0][0] \n",
            "__________________________________________________________________________________________________\n",
            "up_sampling3d_3 (UpSampling3D)  (None, 128, 64, 96,  0           attn_bottleneck_block_15_1[0][0] \n",
            "__________________________________________________________________________________________________\n",
            "concatenate_3 (Concatenate)     (None, 192, 64, 96,  0           up_sampling3d_3[0][0]            \n",
            "                                                                 conv_norm_1_18[0][0]             \n",
            "__________________________________________________________________________________________________\n",
            "attn_bottleneck_block_16_1 (Att (None, 64, 64, 96, 8 17540       concatenate_3[0][0]              \n",
            "__________________________________________________________________________________________________\n",
            "norm_act_34_1 (NormAct)         (None, 64, 64, 96, 8 128         attn_bottleneck_block_16_1[0][0] \n",
            "__________________________________________________________________________________________________\n",
            "up_sampling3d_4 (UpSampling3D)  (None, 64, 128, 192, 0           norm_act_34_1[0][0]              \n",
            "__________________________________________________________________________________________________\n",
            "conv_norm_2_36 (ConvNorm)       (None, 16, 128, 192, 27680       up_sampling3d_4[0][0]            \n",
            "__________________________________________________________________________________________________\n",
            "conv_norm_3_15 (ConvNorm)       (None, 4, 128, 192,  1732        conv_norm_2_36[0][0]             \n",
            "__________________________________________________________________________________________________\n",
            "softmax (Softmax)               (None, 4, 128, 192,  0           conv_norm_3_15[0][0]             \n",
            "==================================================================================================\n",
            "Total params: 6,500,760\n",
            "Trainable params: 6,500,760\n",
            "Non-trainable params: 0\n",
            "__________________________________________________________________________________________________\n"
          ],
          "name": "stdout"
        }
      ]
    },
    {
      "cell_type": "code",
      "metadata": {
        "id": "zjkU03lnbji3"
      },
      "source": [
        "model_plot = tf.keras.utils.plot_model(model, '/content/model.png', show_shapes=True, dpi=None)"
      ],
      "execution_count": 68,
      "outputs": []
    },
    {
      "cell_type": "code",
      "metadata": {
        "id": "83ItIV7aZHed"
      },
      "source": [
        "wandb.log({\"model\": wandb.Image(\"/content/model.png\")})"
      ],
      "execution_count": 69,
      "outputs": []
    },
    {
      "cell_type": "code",
      "metadata": {
        "id": "MXx318sknylB"
      },
      "source": [
        "from tensorflow.python.client import session\n",
        "from tensorflow.python.summary import summary"
      ],
      "execution_count": 70,
      "outputs": []
    },
    {
      "cell_type": "code",
      "metadata": {
        "id": "gylV6eyKXj_c"
      },
      "source": [
        "log_dir = \"/content/trace_log\"\n",
        "!rm -rf $log_dir\n",
        "\n",
        "@tf.function\n",
        "def trace(x):\n",
        "    return model(x)\n",
        "\n",
        "data = tf.random.normal((2,) + model.input_shape[1:])\n",
        "data = tf.constant(data)\n",
        "\n",
        "imported_g = trace.get_concrete_function(data).graph\n",
        "\n",
        "# Export the graph\n",
        "with session.Session(graph=imported_g) as sess:\n",
        "    pb_visual_writer = summary.FileWriter(log_dir)\n",
        "    pb_visual_writer.add_graph(sess.graph)"
      ],
      "execution_count": 71,
      "outputs": []
    },
    {
      "cell_type": "code",
      "metadata": {
        "id": "m0GzUyfRXt_G"
      },
      "source": [
        "%tensorboard --logdir /content/trace_log"
      ],
      "execution_count": null,
      "outputs": []
    },
    {
      "cell_type": "code",
      "metadata": {
        "colab": {
          "base_uri": "https://localhost:8080/",
          "height": 34
        },
        "id": "MDQCKTmBjlOt",
        "outputId": "2b461bf7-fe01-413d-ac59-7c4b330bd218"
      },
      "source": [
        "from google.colab.output import eval_js\n",
        "print(eval_js(\"google.colab.kernel.proxyPort(6006)\"))"
      ],
      "execution_count": 43,
      "outputs": [
        {
          "output_type": "stream",
          "text": [
            "https://40c885g48o6-496ff2e9c6d22116-6006-colab.googleusercontent.com/\n"
          ],
          "name": "stdout"
        }
      ]
    },
    {
      "cell_type": "code",
      "metadata": {
        "colab": {
          "base_uri": "https://localhost:8080/"
        },
        "id": "TO3HwVYoEpFA",
        "outputId": "1333832f-295b-4641-beef-43ea366ace22"
      },
      "source": [
        "import gc\n",
        "gc.collect()"
      ],
      "execution_count": 29,
      "outputs": [
        {
          "output_type": "execute_result",
          "data": {
            "text/plain": [
              "665"
            ]
          },
          "metadata": {
            "tags": []
          },
          "execution_count": 29
        }
      ]
    },
    {
      "cell_type": "code",
      "metadata": {
        "id": "uar0LFgp0n1-"
      },
      "source": [
        "from model.losses import *\n",
        "from model.utils import *"
      ],
      "execution_count": 30,
      "outputs": []
    },
    {
      "cell_type": "code",
      "metadata": {
        "colab": {
          "base_uri": "https://localhost:8080/",
          "height": 265
        },
        "id": "8lX3j_he0nxj",
        "outputId": "cc6db0a6-c8e3-4f47-ea78-00fc97ec6251"
      },
      "source": [
        "steps_per_epoch = int(np.ceil(len(train_paths)/BATCH_SIZE))\n",
        "clr = tfa.optimizers.Triangular2CyclicalLearningRate(\n",
        "            initial_learning_rate=CONFIG[\"min_lr\"],\n",
        "            maximal_learning_rate=CONFIG[\"max_lr\"],\n",
        "            step_size=CONFIG[\"clr_step_size\"] * steps_per_epoch,\n",
        "            scale_mode=\"cycle\")\n",
        "domain = range(0, 100*steps_per_epoch, 32)\n",
        "lr_log = [clr(i).numpy() for i in domain]\n",
        "plt.plot(domain, lr_log)\n",
        "plt.show()"
      ],
      "execution_count": 31,
      "outputs": [
        {
          "output_type": "display_data",
          "data": {
            "image/png": "[encoded data removed]",
            "text/plain": [
              "<Figure size 432x288 with 1 Axes>"
            ]
          },
          "metadata": {
            "tags": [],
            "needs_background": "light"
          }
        }
      ]
    },
    {
      "cell_type": "code",
      "metadata": {
        "id": "4Rgh70-m2AWa"
      },
      "source": [
        "def get_wdc(op):\n",
        "    lr = op.learning_rate\n",
        "    wdc = CONFIG[\"weight_decay\"]*lr/CONFIG[\"max_lr\"]\n",
        "    return wdc\n",
        "\n",
        "initial_epoch = 0\n",
        "clr_offset_ep = CONFIG[\"clr_offset_ep\"]\n",
        "\n",
        "def get_lr(op):\n",
        "    lr = clr(op.iterations + (initial_epoch + clr_offset_ep)*steps_per_epoch)\n",
        "    if tf.executing_eagerly():\n",
        "        return lr.numpy()\n",
        "    else:\n",
        "        return lr"
      ],
      "execution_count": 33,
      "outputs": []
    },
    {
      "cell_type": "code",
      "metadata": {
        "id": "yqk_6JVV03Ue"
      },
      "source": [
        "if CONFIG[\"optimizer\"] == 'adamw':\n",
        "    opt = tfa.optimizers.AdamW(learning_rate=lambda: clr, weight_decay=lambda : CONFIG[\"weight_decay\"])\n",
        "    # wd_schedule = tf.optimizers.schedules.ExponentialDecay(5e-5, 100, 0.9)    # weight_decay=lambda : None\n",
        "    opt.learning_rate = lambda : get_lr(opt)\n",
        "    if CONFIG[\"vary_weight_decay\"]:\n",
        "        opt.weight_decay = lambda : get_wdc(opt)\n",
        "elif CONFIG[\"optimizer\"] == 'adam':            # or just make weight_decay=0\n",
        "    opt = tf.keras.optimizers.Adam(learning_rate=clr)\n",
        "opt = tf.keras.mixed_precision.LossScaleOptimizer(opt)"
      ],
      "execution_count": 34,
      "outputs": []
    },
    {
      "cell_type": "code",
      "metadata": {
        "id": "CVv7YFEA03SE"
      },
      "source": [
        "if CONFIG[\"loss_function\"] == 'FocalTversky':\n",
        "    loss_function = FocalTversky()\n",
        "elif CONFIG[\"loss_function\"] == 'cce':\n",
        "    loss_function = cce"
      ],
      "execution_count": 35,
      "outputs": []
    },
    {
      "cell_type": "code",
      "metadata": {
        "id": "Hbb5bvp_03Pc"
      },
      "source": [
        "model.compile(optimizer=opt, loss=loss_function, metrics=[dsc])"
      ],
      "execution_count": 78,
      "outputs": []
    },
    {
      "cell_type": "code",
      "metadata": {
        "id": "TGDA2XLen0do"
      },
      "source": [
        "# model = tf.keras.models.load_model(wandb.restore(\"model-best.h5\").name, custom_objects={'ConvNorm': ConvNorm,\n",
        "#                                                                                         'NormAct': NormAct,\n",
        "#                                                                                         'AttnBottleneckBlock': AttnBottleneckBlock,\n",
        "#                                                                                         'BasicBlock': BasicBlock,\n",
        "#                                                                                         'InvertedResBlock': InvertedResBlock,\n",
        "#                                                                                         'SqueezeExcite': SqueezeExcite,\n",
        "#                                                                                         'MHSA3D': MHSA3D,\n",
        "#                                                                                         'AbsPosEmb': AbsPosEmb,\n",
        "#                                                                                         'dsc': dsc,\n",
        "#                                                                                         'FocalTversky': FocalTversky,\n",
        "#                                                                                         })\n",
        "# model.compile(optimizer=model.optimizer, loss=model.loss, metrics=[dsc])"
      ],
      "execution_count": 36,
      "outputs": []
    },
    {
      "cell_type": "code",
      "metadata": {
        "id": "kt6_Pewu0_FW"
      },
      "source": [
        "wandb_cb = WandbCallback(monitor='dsc', mode='max')"
      ],
      "execution_count": 37,
      "outputs": []
    },
    {
      "cell_type": "code",
      "metadata": {
        "id": "_dD2Nbrh0-5O"
      },
      "source": [
        "class CustomCallback(tf.keras.callbacks.Callback):\n",
        "    def on_epoch_begin(self, epoch, logs=None):\n",
        "        img, lbl = next(iter(val_ds))\n",
        "        pred = self.model(img)\n",
        "        i = epoch % BATCH_SIZE\n",
        "        img = img[i,1].numpy()\n",
        "        mn = img.min()\n",
        "        mx = img.max()\n",
        "        img = (img - mn)/(mx - mn) * 255\n",
        "        lbl = lbl[i,1:].numpy()*255\n",
        "        pred = pred[i,1:].numpy()*255\n",
        "        get_gif(img, lbl, pred, \"out.gif\")\n",
        "        wandb.log({\"Outputs\": wandb.Image(\"out.gif\")})\n",
        "        gc.collect()"
      ],
      "execution_count": 38,
      "outputs": []
    },
    {
      "cell_type": "code",
      "metadata": {
        "colab": {
          "base_uri": "https://localhost:8080/"
        },
        "id": "QN8C8ytiW0kP",
        "outputId": "351ecf79-f73e-4abe-f865-ed3ac63ac764"
      },
      "source": [
        "history = model.fit(train_ds,\n",
        "                    epochs=100,\n",
        "                    steps_per_epoch=np.ceil(len(train_paths)/BATCH_SIZE),\n",
        "                    validation_data=val_ds,\n",
        "                    validation_steps=np.ceil(len(val_paths)//BATCH_SIZE),\n",
        "                    initial_epoch=initial_epoch,\n",
        "                    workers=4,\n",
        "                    use_multiprocessing=True,\n",
        "                    callbacks=[CustomCallback(), wandb_cb])"
      ],
      "execution_count": 39,
      "outputs": [
        {
          "output_type": "stream",
          "text": [
            "Epoch 71/100\n",
            "143/143 [==============================] - 312s 2s/step - loss: 1.1240 - dsc: 0.6943 - val_loss: 0.8114 - val_dsc: 0.7931\n",
            "Epoch 72/100\n",
            "143/143 [==============================] - 251s 2s/step - loss: 1.0584 - dsc: 0.7198 - val_loss: 0.8127 - val_dsc: 0.8108\n",
            "Epoch 73/100\n",
            "143/143 [==============================] - 248s 2s/step - loss: 1.0553 - dsc: 0.7247 - val_loss: 0.8145 - val_dsc: 0.8076\n",
            "Epoch 74/100\n",
            "143/143 [==============================] - 247s 2s/step - loss: 1.1230 - dsc: 0.6981 - val_loss: 0.7776 - val_dsc: 0.8112\n",
            "Epoch 75/100\n",
            "143/143 [==============================] - 249s 2s/step - loss: 1.0563 - dsc: 0.7225 - val_loss: 0.7660 - val_dsc: 0.8186\n",
            "Epoch 76/100\n",
            "143/143 [==============================] - 247s 2s/step - loss: 1.0381 - dsc: 0.7301 - val_loss: 0.8029 - val_dsc: 0.8062\n",
            "Epoch 77/100\n",
            "143/143 [==============================] - 245s 2s/step - loss: 1.0777 - dsc: 0.7173 - val_loss: 0.7782 - val_dsc: 0.8062\n",
            "Epoch 78/100\n",
            "143/143 [==============================] - 243s 2s/step - loss: 1.1140 - dsc: 0.6985 - val_loss: 0.8003 - val_dsc: 0.7927\n",
            "Epoch 79/100\n",
            "143/143 [==============================] - 243s 2s/step - loss: 1.0742 - dsc: 0.7171 - val_loss: 0.7493 - val_dsc: 0.8182\n",
            "Epoch 80/100\n",
            "143/143 [==============================] - 238s 2s/step - loss: 1.0828 - dsc: 0.7163 - val_loss: 0.7815 - val_dsc: 0.8029\n",
            "Epoch 81/100\n",
            "143/143 [==============================] - 248s 2s/step - loss: 1.0440 - dsc: 0.7246 - val_loss: 0.7718 - val_dsc: 0.8154\n",
            "Epoch 82/100\n",
            "143/143 [==============================] - 246s 2s/step - loss: 0.9909 - dsc: 0.7444 - val_loss: 0.7793 - val_dsc: 0.7972\n",
            "Epoch 83/100\n",
            "143/143 [==============================] - 249s 2s/step - loss: 1.0469 - dsc: 0.7224 - val_loss: 0.7953 - val_dsc: 0.8010\n",
            "Epoch 84/100\n",
            "143/143 [==============================] - 249s 2s/step - loss: 1.0285 - dsc: 0.7314 - val_loss: 0.7665 - val_dsc: 0.8053\n",
            "Epoch 85/100\n",
            "143/143 [==============================] - 251s 2s/step - loss: 1.0604 - dsc: 0.7207 - val_loss: 0.7618 - val_dsc: 0.7997\n",
            "Epoch 86/100\n",
            "143/143 [==============================] - 247s 2s/step - loss: 1.0388 - dsc: 0.7238 - val_loss: 0.7524 - val_dsc: 0.8181\n",
            "Epoch 87/100\n",
            "143/143 [==============================] - 245s 2s/step - loss: 1.0928 - dsc: 0.7124 - val_loss: 0.7765 - val_dsc: 0.8099\n",
            "Epoch 88/100\n",
            "143/143 [==============================] - 248s 2s/step - loss: 0.9876 - dsc: 0.7459 - val_loss: 0.7979 - val_dsc: 0.7959\n",
            "Epoch 89/100\n",
            "143/143 [==============================] - 247s 2s/step - loss: 1.0248 - dsc: 0.7330 - val_loss: 0.7576 - val_dsc: 0.8079\n",
            "Epoch 90/100\n",
            "143/143 [==============================] - 249s 2s/step - loss: 1.0716 - dsc: 0.7146 - val_loss: 0.7702 - val_dsc: 0.8183\n",
            "Epoch 91/100\n",
            "143/143 [==============================] - 245s 2s/step - loss: 1.0420 - dsc: 0.7310 - val_loss: 0.7630 - val_dsc: 0.7998\n",
            "Epoch 92/100\n",
            "143/143 [==============================] - 246s 2s/step - loss: 0.9527 - dsc: 0.7549 - val_loss: 0.7998 - val_dsc: 0.8001\n",
            "Epoch 93/100\n",
            "143/143 [==============================] - 239s 2s/step - loss: 1.0364 - dsc: 0.7286 - val_loss: 0.7870 - val_dsc: 0.7994\n",
            "Epoch 94/100\n",
            "143/143 [==============================] - 242s 2s/step - loss: 1.0403 - dsc: 0.7260 - val_loss: 0.7454 - val_dsc: 0.8197\n",
            "Epoch 95/100\n",
            "143/143 [==============================] - 243s 2s/step - loss: 1.0152 - dsc: 0.7367 - val_loss: 0.7872 - val_dsc: 0.8109\n",
            "Epoch 96/100\n",
            "143/143 [==============================] - 243s 2s/step - loss: 1.0394 - dsc: 0.7261 - val_loss: 0.7846 - val_dsc: 0.8120\n",
            "Epoch 97/100\n",
            "143/143 [==============================] - 244s 2s/step - loss: 0.9984 - dsc: 0.7411 - val_loss: 0.7431 - val_dsc: 0.8243\n",
            "Epoch 98/100\n",
            "143/143 [==============================] - 244s 2s/step - loss: 1.1092 - dsc: 0.7020 - val_loss: 0.8140 - val_dsc: 0.7899\n",
            "Epoch 99/100\n",
            "143/143 [==============================] - 243s 2s/step - loss: 0.9873 - dsc: 0.7433 - val_loss: 0.7660 - val_dsc: 0.8162\n",
            "Epoch 100/100\n",
            "143/143 [==============================] - 243s 2s/step - loss: 1.0010 - dsc: 0.7395 - val_loss: 0.7436 - val_dsc: 0.8204\n"
          ],
          "name": "stdout"
        }
      ]
    },
    {
      "cell_type": "code",
      "metadata": {
        "id": "WUdNNyl-1ktX",
        "colab": {
          "base_uri": "https://localhost:8080/"
        },
        "outputId": "d7691db8-2a33-4ce1-a375-baf9fb23b1dd"
      },
      "source": [
        "model.evaluate(val_ds, steps=np.ceil(len(val_paths)//BATCH_SIZE))"
      ],
      "execution_count": 40,
      "outputs": [
        {
          "output_type": "stream",
          "text": [
            "25/25 [==============================] - 19s 686ms/step - loss: 0.7436 - dsc: 0.8204\n"
          ],
          "name": "stdout"
        },
        {
          "output_type": "execute_result",
          "data": {
            "text/plain": [
              "[0.7435517311096191, 0.8203723430633545]"
            ]
          },
          "metadata": {
            "tags": []
          },
          "execution_count": 40
        }
      ]
    },
    {
      "cell_type": "code",
      "metadata": {
        "colab": {
          "base_uri": "https://localhost:8080/",
          "height": 49,
          "referenced_widgets": [
            "201dcf26f734414eb08e52ace3f60bba",
            "0cdc0c01e0d54368bb75e87284608a1e",
            "b939793c64fe4cafbf519c3c060cc87a",
            "87c8cb4d4e3a44f6abd1d9af55b92e0c",
            "92e75713468543449ab4cdb5934e2593",
            "b93ecce1632a4fc6bfbaa9c087aef834",
            "c840b3f0d0574afc8d0f1f129362d332",
            "af680948b3ff4f68b917ef39608eb31d"
          ]
        },
        "id": "ttJA6gGL1pv7",
        "outputId": "7152ed2a-5d28-444d-cb25-d22c84d92c1e"
      },
      "source": [
        "scores = []\n",
        "for i, (a,b) in tqdm(enumerate(train_ds)):\n",
        "    if i==steps_per_epoch:\n",
        "        break\n",
        "    o = model(a)\n",
        "    o = tf.cast(o, tf.float32)\n",
        "    scores.append(dsc(b,o))"
      ],
      "execution_count": 41,
      "outputs": [
        {
          "output_type": "display_data",
          "data": {
            "application/vnd.jupyter.widget-view+json": {
              "model_id": "201dcf26f734414eb08e52ace3f60bba",
              "version_minor": 0,
              "version_major": 2
            },
            "text/plain": [
              "HBox(children=(FloatProgress(value=1.0, bar_style='info', max=1.0), HTML(value='')))"
            ]
          },
          "metadata": {
            "tags": []
          }
        }
      ]
    },
    {
      "cell_type": "code",
      "metadata": {
        "colab": {
          "base_uri": "https://localhost:8080/"
        },
        "id": "iZ1UO7i_1ppa",
        "outputId": "22a74317-36f4-4e5f-d81a-a2134eaae5c9"
      },
      "source": [
        "np.mean(scores, axis=0)"
      ],
      "execution_count": 42,
      "outputs": [
        {
          "output_type": "execute_result",
          "data": {
            "text/plain": [
              "array([0.693558  , 0.72110546, 0.7894503 ], dtype=float32)"
            ]
          },
          "metadata": {
            "tags": []
          },
          "execution_count": 42
        }
      ]
    },
    {
      "cell_type": "code",
      "metadata": {
        "colab": {
          "base_uri": "https://localhost:8080/",
          "height": 667,
          "referenced_widgets": [
            "8f3aadb12cdc4c60b8b10a6ff3c9ca37",
            "1d0087d7ad23470ea55da52fe4423961",
            "13869a9a52894c48a4019d6d4c078329",
            "9716f3383116421381eeacb45ba0479a",
            "c0a6b740fb144a06a603d076854bab2d",
            "1828908d96644748bb0ec02a04012689",
            "5f0218a5f52b466daf90a35eb30ed667",
            "9504953d5c9d41c29c0bda1c3b783ca7"
          ]
        },
        "id": "m2qi8enp1maS",
        "outputId": "c79cfef6-469e-484c-b3fd-c4620d33455f"
      },
      "source": [
        "run.finish()"
      ],
      "execution_count": 43,
      "outputs": [
        {
          "output_type": "display_data",
          "data": {
            "text/html": [
              "<br/>Waiting for W&B process to finish, PID 5717<br/>Program ended successfully."
            ],
            "text/plain": [
              "<IPython.core.display.HTML object>"
            ]
          },
          "metadata": {
            "tags": []
          }
        },
        {
          "output_type": "display_data",
          "data": {
            "application/vnd.jupyter.widget-view+json": {
              "model_id": "8f3aadb12cdc4c60b8b10a6ff3c9ca37",
              "version_minor": 0,
              "version_major": 2
            },
            "text/plain": [
              "VBox(children=(Label(value=' 184.72MB of 184.72MB uploaded (0.07MB deduped)\\r'), FloatProgress(value=1.0, max=…"
            ]
          },
          "metadata": {
            "tags": []
          }
        },
        {
          "output_type": "display_data",
          "data": {
            "text/html": [
              "Find user logs for this run at: <code>/content/3D_res_attn_Unet/wandb/run-20210521_075733-sxeicdk0/logs/debug.log</code>"
            ],
            "text/plain": [
              "<IPython.core.display.HTML object>"
            ]
          },
          "metadata": {
            "tags": []
          }
        },
        {
          "output_type": "display_data",
          "data": {
            "text/html": [
              "Find internal logs for this run at: <code>/content/3D_res_attn_Unet/wandb/run-20210521_075733-sxeicdk0/logs/debug-internal.log</code>"
            ],
            "text/plain": [
              "<IPython.core.display.HTML object>"
            ]
          },
          "metadata": {
            "tags": []
          }
        },
        {
          "output_type": "display_data",
          "data": {
            "text/html": [
              "<h3>Run summary:</h3><br/><style>\n",
              "    table.wandb td:nth-child(1) { padding: 0 10px; text-align: right }\n",
              "    </style><table class=\"wandb\">\n",
              "<tr><td>_step</td><td>209</td></tr><tr><td>_runtime</td><td>27434</td></tr><tr><td>best_dsc</td><td>0.74889</td></tr><tr><td>_timestamp</td><td>1621591503</td></tr><tr><td>dsc</td><td>0.73085</td></tr><tr><td>loss</td><td>1.02704</td></tr><tr><td>epoch</td><td>99</td></tr><tr><td>val_dsc</td><td>0.82037</td></tr><tr><td>val_loss</td><td>0.74355</td></tr><tr><td>best_epoch</td><td>91</td></tr></table>"
            ],
            "text/plain": [
              "<IPython.core.display.HTML object>"
            ]
          },
          "metadata": {
            "tags": []
          }
        },
        {
          "output_type": "display_data",
          "data": {
            "text/html": [
              "<h3>Run history:</h3><br/><style>\n",
              "    table.wandb td:nth-child(1) { padding: 0 10px; text-align: right }\n",
              "    </style><table class=\"wandb\">\n",
              "<tr><td>_runtime</td><td>▁▁▂▂▂▂▂▂▂▃▃▃▃▃▄▄▄▄▄▄▅▅▅▅▅▅▆▆▆▆▆▆▇▇▇▇▇███</td></tr><tr><td>_timestamp</td><td>▁▁▂▂▂▂▂▂▂▃▃▃▃▃▄▄▄▄▄▄▅▅▅▅▅▅▆▆▆▆▆▆▇▇▇▇▇███</td></tr><tr><td>_step</td><td>▁▁▁▁▂▂▂▂▂▃▃▃▃▃▃▄▄▄▄▄▅▅▅▅▅▅▆▆▆▆▆▆▇▇▇▇▇███</td></tr><tr><td>epoch</td><td>▁▁▁▂▂▂▂▃▃▃▃▄▄▄▄▅▅▅▅▆▆▆▆▇▇▇▇███</td></tr><tr><td>loss</td><td>▇█▅▇▅▆▇▇▆▇▆▅▆▆▅▅▆▃▃▆▄▁▄▆▂▄▄▇▃▄</td></tr><tr><td>dsc</td><td>▂▁▄▂▄▃▂▂▄▂▂▄▃▃▄▃▃▆▆▃▅█▅▃▇▄▄▂▅▄</td></tr><tr><td>val_loss</td><td>███▄▃▇▄▇▂▅▄▅▆▃▃▂▄▆▂▄▃▇▅▁▅▅▁█▃▁</td></tr><tr><td>val_dsc</td><td>▂▅▅▅▇▄▄▂▇▄▆▂▃▄▃▇▅▂▅▇▃▃▃▇▅▅█▁▆▇</td></tr></table><br/>"
            ],
            "text/plain": [
              "<IPython.core.display.HTML object>"
            ]
          },
          "metadata": {
            "tags": []
          }
        },
        {
          "output_type": "display_data",
          "data": {
            "text/html": [
              "Synced 5 W&B file(s), 31 media file(s), 2 artifact file(s) and 2 other file(s)"
            ],
            "text/plain": [
              "<IPython.core.display.HTML object>"
            ]
          },
          "metadata": {
            "tags": []
          }
        },
        {
          "output_type": "display_data",
          "data": {
            "text/html": [
              "\n",
              "                    <br/>Synced <strong style=\"color:#cdcd00\">azure-sunset-25</strong>: <a href=\"https://wandb.ai/shivamshrirao/3D_res_attn_Unet/runs/sxeicdk0\" target=\"_blank\">https://wandb.ai/shivamshrirao/3D_res_attn_Unet/runs/sxeicdk0</a><br/>\n",
              "                "
            ],
            "text/plain": [
              "<IPython.core.display.HTML object>"
            ]
          },
          "metadata": {
            "tags": []
          }
        }
      ]
    },
    {
      "cell_type": "code",
      "metadata": {
        "id": "kYyhhAMKLh4E"
      },
      "source": [
        ""
      ],
      "execution_count": null,
      "outputs": []
    }
  ]
}