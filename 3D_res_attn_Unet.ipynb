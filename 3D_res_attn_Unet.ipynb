{
  "nbformat": 4,
  "nbformat_minor": 0,
  "metadata": {
    "accelerator": "GPU",
    "colab": {
      "name": "3D_res_attn_Unet.ipynb",
      "provenance": [],
      "collapsed_sections": [],
      "machine_shape": "hm"
    },
    "kernelspec": {
      "display_name": "Python 3",
      "name": "python3"
    },
    "language_info": {
      "name": "python"
    }
  },
  "cells": [
    {
      "cell_type": "code",
      "metadata": {
        "colab": {
          "base_uri": "https://localhost:8080/"
        },
        "id": "TmD9SLQpmNJF",
        "outputId": "839fa9a7-2bc0-42dd-eb9c-9b834eda23dd"
      },
      "source": [
        "!nvidia-smi"
      ],
      "execution_count": 1,
      "outputs": [
        {
          "output_type": "stream",
          "text": [
            "Thu May 20 15:47:55 2021       \n",
            "+-----------------------------------------------------------------------------+\n",
            "| NVIDIA-SMI 465.19.01    Driver Version: 460.32.03    CUDA Version: 11.2     |\n",
            "|-------------------------------+----------------------+----------------------+\n",
            "| GPU  Name        Persistence-M| Bus-Id        Disp.A | Volatile Uncorr. ECC |\n",
            "| Fan  Temp  Perf  Pwr:Usage/Cap|         Memory-Usage | GPU-Util  Compute M. |\n",
            "|                               |                      |               MIG M. |\n",
            "|===============================+======================+======================|\n",
            "|   0  Tesla T4            Off  | 00000000:00:04.0 Off |                    0 |\n",
            "| N/A   48C    P8    10W /  70W |      0MiB / 15109MiB |      0%      Default |\n",
            "|                               |                      |                  N/A |\n",
            "+-------------------------------+----------------------+----------------------+\n",
            "                                                                               \n",
            "+-----------------------------------------------------------------------------+\n",
            "| Processes:                                                                  |\n",
            "|  GPU   GI   CI        PID   Type   Process name                  GPU Memory |\n",
            "|        ID   ID                                                   Usage      |\n",
            "|=============================================================================|\n",
            "|  No running processes found                                                 |\n",
            "+-----------------------------------------------------------------------------+\n"
          ],
          "name": "stdout"
        }
      ]
    },
    {
      "cell_type": "code",
      "metadata": {
        "colab": {
          "base_uri": "https://localhost:8080/"
        },
        "id": "AZI13ut7nBZF",
        "outputId": "1465fe59-debe-497a-dd9a-73bc965b6fdc"
      },
      "source": [
        "%pip install -q tensorflow-addons[tensorflow]\n",
        "%pip install -q simpleitk\n",
        "# %pip install -q colab_ssh\n",
        "%pip install -q wandb"
      ],
      "execution_count": 2,
      "outputs": [
        {
          "output_type": "stream",
          "text": [
            "\u001b[K     |████████████████████████████████| 686kB 7.2MB/s \n",
            "\u001b[K     |████████████████████████████████| 47.4MB 66kB/s \n",
            "\u001b[K     |████████████████████████████████| 1.8MB 8.5MB/s \n",
            "\u001b[K     |████████████████████████████████| 174kB 57.8MB/s \n",
            "\u001b[K     |████████████████████████████████| 133kB 24.5MB/s \n",
            "\u001b[K     |████████████████████████████████| 102kB 13.8MB/s \n",
            "\u001b[K     |████████████████████████████████| 71kB 11.1MB/s \n",
            "\u001b[?25h  Building wheel for pathtools (setup.py) ... \u001b[?25l\u001b[?25hdone\n",
            "  Building wheel for subprocess32 (setup.py) ... \u001b[?25l\u001b[?25hdone\n"
          ],
          "name": "stdout"
        }
      ]
    },
    {
      "cell_type": "code",
      "metadata": {
        "colab": {
          "base_uri": "https://localhost:8080/"
        },
        "id": "MeRBZZsrxy7G",
        "outputId": "31b815c6-3a18-4ca9-cda4-089a6bb2c910"
      },
      "source": [
        "!gdown https://drive.google.com/uc?id=1jYb-dKqywLm5bQ5esP6YSV5xuBzqBPqm"
      ],
      "execution_count": 3,
      "outputs": [
        {
          "output_type": "stream",
          "text": [
            "Downloading...\n",
            "From: https://drive.google.com/uc?id=1jYb-dKqywLm5bQ5esP6YSV5xuBzqBPqm\n",
            "To: /content/BRATS_Dataset.tar.gz\n",
            "2.76GB [00:49, 56.0MB/s]\n"
          ],
          "name": "stdout"
        }
      ]
    },
    {
      "cell_type": "code",
      "metadata": {
        "colab": {
          "base_uri": "https://localhost:8080/"
        },
        "id": "MCwAJtyIx0oX",
        "outputId": "ed7b6d5e-1615-433f-808b-75c811fd9605"
      },
      "source": [
        "!apt -qq install pigz"
      ],
      "execution_count": 4,
      "outputs": [
        {
          "output_type": "stream",
          "text": [
            "The following package was automatically installed and is no longer required:\n",
            "  libnvidia-common-460\n",
            "Use 'apt autoremove' to remove it.\n",
            "The following NEW packages will be installed:\n",
            "  pigz\n",
            "0 upgraded, 1 newly installed, 0 to remove and 34 not upgraded.\n",
            "Need to get 57.4 kB of archives.\n",
            "After this operation, 259 kB of additional disk space will be used.\n",
            "Selecting previously unselected package pigz.\n",
            "(Reading database ... 160706 files and directories currently installed.)\n",
            "Preparing to unpack .../archives/pigz_2.4-1_amd64.deb ...\n",
            "Unpacking pigz (2.4-1) ...\n",
            "Setting up pigz (2.4-1) ...\n",
            "Processing triggers for man-db (2.8.3-2ubuntu0.1) ...\n"
          ],
          "name": "stdout"
        }
      ]
    },
    {
      "cell_type": "code",
      "metadata": {
        "id": "RBS9P9pVyL0p"
      },
      "source": [
        "!pigz -dc BRATS_Dataset.tar.gz | tar xf -"
      ],
      "execution_count": 5,
      "outputs": []
    },
    {
      "cell_type": "code",
      "metadata": {
        "id": "iwMjK_O6yL-5"
      },
      "source": [
        "!rm BRATS_Dataset.tar.gz"
      ],
      "execution_count": 6,
      "outputs": []
    },
    {
      "cell_type": "code",
      "metadata": {
        "colab": {
          "base_uri": "https://localhost:8080/"
        },
        "id": "6bu-os4Kqoiq",
        "outputId": "613bc12b-0951-4682-f194-8d8fd5463311"
      },
      "source": [
        "%cd /content\n",
        "!rm -rf 3D_res_attn_Unet"
      ],
      "execution_count": 7,
      "outputs": [
        {
          "output_type": "stream",
          "text": [
            "/content\n"
          ],
          "name": "stdout"
        }
      ]
    },
    {
      "cell_type": "code",
      "metadata": {
        "colab": {
          "base_uri": "https://localhost:8080/"
        },
        "id": "B5UZTWx-mb7Y",
        "outputId": "d9203bcb-d268-4035-9038-a88bc9977aa4"
      },
      "source": [
        "!git clone https://github.com/ShivamShrirao/3D_res_attn_Unet"
      ],
      "execution_count": 8,
      "outputs": [
        {
          "output_type": "stream",
          "text": [
            "Cloning into '3D_res_attn_Unet'...\n",
            "remote: Enumerating objects: 134, done.\u001b[K\n",
            "remote: Counting objects: 100% (134/134), done.\u001b[K\n",
            "remote: Compressing objects: 100% (87/87), done.\u001b[K\n",
            "remote: Total 134 (delta 89), reused 88 (delta 43), pack-reused 0\u001b[K\n",
            "Receiving objects: 100% (134/134), 485.35 KiB | 1.99 MiB/s, done.\n",
            "Resolving deltas: 100% (89/89), done.\n"
          ],
          "name": "stdout"
        }
      ]
    },
    {
      "cell_type": "code",
      "metadata": {
        "colab": {
          "base_uri": "https://localhost:8080/"
        },
        "id": "SDsMVBQUEX_C",
        "outputId": "e55c8d57-1bec-4bea-82b1-89be43283f90"
      },
      "source": [
        "%cd 3D_res_attn_Unet"
      ],
      "execution_count": 2,
      "outputs": [
        {
          "output_type": "stream",
          "text": [
            "/content/3D_res_attn_Unet\n"
          ],
          "name": "stdout"
        }
      ]
    },
    {
      "cell_type": "code",
      "metadata": {
        "id": "fYq1D1nrmMfW"
      },
      "source": [
        "%load_ext tensorboard\n",
        "%load_ext autoreload\n",
        "%autoreload 2"
      ],
      "execution_count": 3,
      "outputs": []
    },
    {
      "cell_type": "code",
      "metadata": {
        "id": "VxV8loizyQk5"
      },
      "source": [
        "import SimpleITK as sitk"
      ],
      "execution_count": 4,
      "outputs": []
    },
    {
      "cell_type": "code",
      "metadata": {
        "id": "RyvK3bkmmRF5"
      },
      "source": [
        "import tensorflow as tf\n",
        "from tensorflow.keras import layers\n",
        "import tensorflow_addons as tfa\n",
        "import numpy as np\n",
        "import matplotlib.pyplot as plt\n",
        "import PIL.Image\n",
        "import glob\n",
        "from tqdm.notebook import tqdm\n",
        "from time import time\n",
        "%matplotlib inline"
      ],
      "execution_count": 5,
      "outputs": []
    },
    {
      "cell_type": "code",
      "metadata": {
        "colab": {
          "base_uri": "https://localhost:8080/"
        },
        "id": "x8wLJQSNmV8W",
        "outputId": "bc42537b-a40f-4d40-c16a-8a4273c8be87"
      },
      "source": [
        "from tensorflow.keras.mixed_precision import experimental as mixed_precision\n",
        "policy = mixed_precision.Policy('mixed_float16')\n",
        "mixed_precision.set_policy(policy)"
      ],
      "execution_count": 6,
      "outputs": [
        {
          "output_type": "stream",
          "text": [
            "INFO:tensorflow:Mixed precision compatibility check (mixed_float16): OK\n",
            "Your GPU will likely run quickly with dtype policy mixed_float16 as it has compute capability of at least 7.0. Your GPU: Tesla T4, compute capability 7.5\n",
            "WARNING:tensorflow:From /usr/local/lib/python3.7/dist-packages/tensorflow/python/keras/mixed_precision/loss_scale.py:56: DynamicLossScale.__init__ (from tensorflow.python.training.experimental.loss_scale) is deprecated and will be removed in a future version.\n",
            "Instructions for updating:\n",
            "Use tf.keras.mixed_precision.LossScaleOptimizer instead. LossScaleOptimizer now has all the functionality of DynamicLossScale\n"
          ],
          "name": "stdout"
        }
      ]
    },
    {
      "cell_type": "code",
      "metadata": {
        "id": "DH9zA80Lyblg"
      },
      "source": [
        "def get_data_paths(dataset_path):\n",
        "    t1 = glob.glob(dataset_path+'/*GG/*/*t1.nii.gz')\n",
        "    t2 = glob.glob(dataset_path+'/*GG/*/*t2.nii.gz')\n",
        "    t1ce = glob.glob(dataset_path+'/*GG/*/*t1ce.nii.gz')\n",
        "    flair = glob.glob(dataset_path+'/*GG/*/*flair.nii.gz')\n",
        "    seg = glob.glob(dataset_path+'/*GG/*/*seg.nii.gz')\n",
        "    return list(zip(t1, t2, t1ce, flair, seg))"
      ],
      "execution_count": 7,
      "outputs": []
    },
    {
      "cell_type": "code",
      "metadata": {
        "id": "KoB8nSTVyfUX"
      },
      "source": [
        "train_paths = get_data_paths('../BRATS_Dataset/brats_dataset/')\n",
        "val_paths = get_data_paths('../BRATS_Dataset/brats_test_dataset/')"
      ],
      "execution_count": 8,
      "outputs": []
    },
    {
      "cell_type": "code",
      "metadata": {
        "colab": {
          "base_uri": "https://localhost:8080/"
        },
        "id": "B2BFkvT4yfRU",
        "outputId": "b7a7ff28-561d-4419-c282-6e3cce9ef879"
      },
      "source": [
        "len(train_paths), len(val_paths)"
      ],
      "execution_count": 9,
      "outputs": [
        {
          "output_type": "execute_result",
          "data": {
            "text/plain": [
              "(285, 50)"
            ]
          },
          "metadata": {
            "tags": []
          },
          "execution_count": 9
        }
      ]
    },
    {
      "cell_type": "code",
      "metadata": {
        "id": "T-GTEwiqy1E_"
      },
      "source": [
        "from model.preprocess import *"
      ],
      "execution_count": 10,
      "outputs": []
    },
    {
      "cell_type": "code",
      "metadata": {
        "id": "QNGVcTA5fS51"
      },
      "source": [
        "mean = tf.constant([0.06301811, 0.05202341, 0.04396216, 0.05345017], shape=(1, 4, 1, 1, 1))\n",
        "std  = tf.constant([0.14905235, 0.12771605, 0.1042005 , 0.12938198], shape=(1, 4, 1, 1, 1))"
      ],
      "execution_count": 11,
      "outputs": []
    },
    {
      "cell_type": "code",
      "metadata": {
        "id": "BLUheTvAyfNE"
      },
      "source": [
        "# mean = []\n",
        "# std = []\n",
        "# for tp in tqdm(train_paths[0:100]):\n",
        "#     img, lbl = load_img(tp)\n",
        "#     img = tf.cast(img, tf.float32)/255.0\n",
        "#     mean.append(tf.reduce_mean(img, axis=[1,2,3]))\n",
        "#     std.append(tf.math.reduce_std(img, axis=[1,2,3]))\n",
        "# mean = tf.reshape(tf.reduce_mean(mean, axis=0), (1, 4, 1, 1, 1))\n",
        "# std = tf.reshape(tf.reduce_mean(std, axis=0), (1, 4, 1, 1, 1))"
      ],
      "execution_count": 12,
      "outputs": []
    },
    {
      "cell_type": "code",
      "metadata": {
        "colab": {
          "base_uri": "https://localhost:8080/"
        },
        "id": "gELRSfJLyfKe",
        "outputId": "a207213a-4cd5-48ea-e6eb-58e239781ea2"
      },
      "source": [
        "depth = 128 # 155\n",
        "height = 192 # 240\n",
        "width = 160 # 240\n",
        "(155-depth, 240-height, 240-width)"
      ],
      "execution_count": 13,
      "outputs": [
        {
          "output_type": "execute_result",
          "data": {
            "text/plain": [
              "(27, 48, 80)"
            ]
          },
          "metadata": {
            "tags": []
          },
          "execution_count": 13
        }
      ]
    },
    {
      "cell_type": "code",
      "metadata": {
        "id": "hA8i-idEyfGn"
      },
      "source": [
        "def random_crop3D(imgs, lbls, train=True):          # Crops image to size (128, 192, 160)\n",
        "    d_cr, h_cr, w_cr = 13, 24, 40\n",
        "    if train:\n",
        "        if tf.random.uniform([], 0, 1, dtype=tf.float32) <= 0.8:\n",
        "            d_cr = tf.random.uniform([], 0, 27, dtype=tf.int32)\n",
        "            h_cr = tf.random.uniform([], 0, 48, dtype=tf.int32)\n",
        "            w_cr = tf.random.uniform([], 0, 80, dtype=tf.int32)\n",
        "    imgs = imgs[:, :, d_cr:d_cr+depth, h_cr:h_cr+height, w_cr:w_cr+width]\n",
        "    lbls = lbls[:, :, d_cr:d_cr+depth, h_cr:h_cr+height, w_cr:w_cr+width]\n",
        "    return imgs, lbls"
      ],
      "execution_count": 14,
      "outputs": []
    },
    {
      "cell_type": "code",
      "metadata": {
        "id": "Kla_BA_JyfCP"
      },
      "source": [
        "def final_augmentation(img, lbl, train=True):       # input img[B, 4, 155, 240, 240], output[B, 4, 128, 192, 160]\n",
        "    img, lbl = random_crop3D(img, lbl, train)\n",
        "    img = tf.cast(img, tf.float32)/255.0\n",
        "    lbl = tf.cast(lbl, tf.float32)\n",
        "    if train:\n",
        "        img = tf.image.random_brightness(img, 0.2)      # source code checked, it's fine for 3D\n",
        "    # img = tf.image.per_image_standardization(img)   # source code checked, it's fine for 3D\n",
        "    img = (img - mean) / std\n",
        "    return img, lbl"
      ],
      "execution_count": 15,
      "outputs": []
    },
    {
      "cell_type": "code",
      "metadata": {
        "id": "-jYQgwzeye7w"
      },
      "source": [
        "BATCH_SIZE = 2\n",
        "AUTOTUNE = tf.data.experimental.AUTOTUNE"
      ],
      "execution_count": 16,
      "outputs": []
    },
    {
      "cell_type": "code",
      "metadata": {
        "id": "4CRpmKSryeMY"
      },
      "source": [
        "def get_tfds(data_paths, train=False):\n",
        "    # 53.3373920917511 s\n",
        "    dataset = tf.data.Dataset.from_tensor_slices(data_paths)\n",
        "    if train:\n",
        "        dataset = dataset.shuffle(len(data_paths))\n",
        "    dataset = dataset.map(load_paths_wrapper, num_parallel_calls=AUTOTUNE)\n",
        "    if train:\n",
        "        dataset = dataset.map(random_rotate3D, num_parallel_calls=AUTOTUNE)\n",
        "    dataset = dataset.repeat()\n",
        "    dataset = dataset.batch(BATCH_SIZE)\n",
        "    if train:\n",
        "        dataset = dataset.map(random_flip3D, num_parallel_calls=AUTOTUNE)\n",
        "    dataset = dataset.map(lambda x,y: final_augmentation(x,y,train), num_parallel_calls=AUTOTUNE)      # remove for test,val\n",
        "    dataset = dataset.prefetch(AUTOTUNE)\n",
        "    return dataset"
      ],
      "execution_count": 17,
      "outputs": []
    },
    {
      "cell_type": "code",
      "metadata": {
        "id": "aLVvTfMPzSgG"
      },
      "source": [
        "train_ds = get_tfds(train_paths, train=True)\n",
        "val_ds = get_tfds(val_paths)"
      ],
      "execution_count": 18,
      "outputs": []
    },
    {
      "cell_type": "code",
      "metadata": {
        "id": "k_u6nfUhzT9C"
      },
      "source": [
        "import wandb\n",
        "from wandb.keras import WandbCallback"
      ],
      "execution_count": 19,
      "outputs": []
    },
    {
      "cell_type": "code",
      "metadata": {
        "colab": {
          "base_uri": "https://localhost:8080/"
        },
        "id": "39ZKOyeDzT6O",
        "outputId": "665a7cbe-bb15-4b9c-c9d6-0ca549b16dc6"
      },
      "source": [
        "wandb.login()"
      ],
      "execution_count": 20,
      "outputs": [
        {
          "output_type": "stream",
          "text": [
            "\u001b[34m\u001b[1mwandb\u001b[0m: Currently logged in as: \u001b[33mshivamshrirao\u001b[0m (use `wandb login --relogin` to force relogin)\n"
          ],
          "name": "stderr"
        },
        {
          "output_type": "execute_result",
          "data": {
            "text/plain": [
              "True"
            ]
          },
          "metadata": {
            "tags": []
          },
          "execution_count": 20
        }
      ]
    },
    {
      "cell_type": "code",
      "metadata": {
        "id": "yUud1K2iloXZ"
      },
      "source": [
        "config_defaults = {\n",
        "    'activation'            : 'leaky_relu',\n",
        "    'batch_size'            : BATCH_SIZE,\n",
        "    'block_type'            : 'AttnBottleneckBlock',\n",
        "    'clr_step_size'         : 10,\n",
        "    'clr_offset_ep'         : 5,\n",
        "    'groups'                : 48,\n",
        "    'dp_rate'               : 0.25,\n",
        "    'dropout_type'          : 'Spatial',\n",
        "    'frac_dv'               : 0,\n",
        "    'loss_function'         : 'FocalTversky',\n",
        "    'max_lr'                : 8e-4,\n",
        "    'min_lr'                : 2e-6,\n",
        "    'nheads'                : 8,\n",
        "    'norm'                  : 'gn',\n",
        "    'optimizer'             : 'adamw',\n",
        "    'vary_weight_decay'     : True,\n",
        "    'weight_decay'          : 2e-5,     # max weight decay\n",
        "}\n",
        "CONFIG = config_defaults"
      ],
      "execution_count": 21,
      "outputs": []
    },
    {
      "cell_type": "code",
      "metadata": {
        "id": "aTWSlkaTUVIp",
        "colab": {
          "base_uri": "https://localhost:8080/",
          "height": 119
        },
        "outputId": "ea84c425-8803-4d3a-d98a-98a74eb7b5a9"
      },
      "source": [
        "# run = wandb.init(id='12t1tg20', project=\"3D_res_attn_Unet\", resume='must')\n",
        "# CONFIG = run.config"
      ],
      "execution_count": 22,
      "outputs": [
        {
          "output_type": "display_data",
          "data": {
            "text/html": [
              "\n",
              "                Tracking run with wandb version 0.10.30<br/>\n",
              "                Resuming run <strong style=\"color:#cdcd00\">vocal-universe-21</strong> to <a href=\"https://wandb.ai\" target=\"_blank\">Weights & Biases</a> <a href=\"https://docs.wandb.com/integrations/jupyter.html\" target=\"_blank\">(Documentation)</a>.<br/>\n",
              "                Project page: <a href=\"https://wandb.ai/shivamshrirao/3D_res_attn_Unet\" target=\"_blank\">https://wandb.ai/shivamshrirao/3D_res_attn_Unet</a><br/>\n",
              "                Run page: <a href=\"https://wandb.ai/shivamshrirao/3D_res_attn_Unet/runs/12t1tg20\" target=\"_blank\">https://wandb.ai/shivamshrirao/3D_res_attn_Unet/runs/12t1tg20</a><br/>\n",
              "                Run data is saved locally in <code>/content/3D_res_attn_Unet/wandb/run-20210520_154826-12t1tg20</code><br/><br/>\n",
              "            "
            ],
            "text/plain": [
              "<IPython.core.display.HTML object>"
            ]
          },
          "metadata": {
            "tags": []
          }
        }
      ]
    },
    {
      "cell_type": "code",
      "metadata": {
        "id": "RjaGe7P4z1qV"
      },
      "source": [
        "run = wandb.init(project=\"3D_res_attn_Unet\", entity=\"shivamshrirao\", config=config_defaults)\n",
        "CONFIG = wandb.config"
      ],
      "execution_count": null,
      "outputs": []
    },
    {
      "cell_type": "code",
      "metadata": {
        "colab": {
          "base_uri": "https://localhost:8080/"
        },
        "id": "8PNd1IfZ7D-R",
        "outputId": "a3a5491b-920c-4c0f-dee0-2ed22fd26c0d"
      },
      "source": [
        "mean.numpy().ravel(), std.numpy().ravel()"
      ],
      "execution_count": 23,
      "outputs": [
        {
          "output_type": "execute_result",
          "data": {
            "text/plain": [
              "(array([0.06301811, 0.05202341, 0.04396216, 0.05345017], dtype=float32),\n",
              " array([0.14905235, 0.12771605, 0.1042005 , 0.12938198], dtype=float32))"
            ]
          },
          "metadata": {
            "tags": []
          },
          "execution_count": 23
        }
      ]
    },
    {
      "cell_type": "code",
      "metadata": {
        "id": "muugExNpz1lY"
      },
      "source": [
        "tf.keras.backend.set_image_data_format('channels_first')"
      ],
      "execution_count": 24,
      "outputs": []
    },
    {
      "cell_type": "code",
      "metadata": {
        "id": "hRbHoACDz8_D"
      },
      "source": [
        "## attention shortcuts to be used.\n",
        "## try attention on the unet shortcuts\n",
        "## try Global Context Block\n",
        "## try input image pyramid and deep supervised output layers (output from intermediate layers (fuse with conv-sigmoid like U^2net ??))\n",
        "## TRY PIXELSHUFFLE\n",
        "## Try SPARSE CONV NET https://github.com/facebookresearch/SparseConvNet"
      ],
      "execution_count": 25,
      "outputs": []
    },
    {
      "cell_type": "code",
      "metadata": {
        "id": "nRY6Np0vmy6h"
      },
      "source": [
        "from model.conv_blocks import *"
      ],
      "execution_count": 26,
      "outputs": []
    },
    {
      "cell_type": "code",
      "metadata": {
        "id": "mWXn8he2nt5W"
      },
      "source": [
        "def enc_dec(x, block, frac_dv, stack_args):     # x(64,64,96,80)\n",
        "    x1 = down_stack(x ,  64, nblocks=2, block=block, strides=2, **stack_args)     # (256,32,48,40)\n",
        "    x2 = down_stack(x1, 128, nblocks=2, block=block, strides=2, **stack_args)     # (512,16,24,20)\n",
        "    x3 = down_stack(x2, 256, nblocks=2, block=block, strides=2, frac_dv=frac_dv, **stack_args) # (1024, 8,12,10)\n",
        "    x4 = down_stack(x3, 256, nblocks=3, block=block, strides=2, frac_dv=frac_dv, **stack_args) # (1024, 4, 6, 5)\n",
        "\n",
        "    y = up_stack(x4,x3, 128, nblocks=3, block=block, strides=2, frac_dv=frac_dv, **stack_args) # (1024+1024->512,8,12,10)\n",
        "    y = up_stack(y, x2,  64, nblocks=2, block=block, strides=2, **stack_args)     # (512+512->256,16,24,20)\n",
        "    y = up_stack(y, x1,  32, nblocks=2, block=block, strides=2, **stack_args)     # (256+256->128,32,48,40)\n",
        "    y = up_stack(y, x ,  16, nblocks=1, block=block, strides=2, **stack_args)     # (128+ 64-> 64,64,96,80)\n",
        "    return y\n",
        "\n",
        "\n",
        "def build_network(cfg, block, input_shape=(4,128,192,160), classes=4):\n",
        "    stack_args = {'activation': cfg['activation'], 'groups': cfg['groups'], 'norm': cfg['norm'],\n",
        "                  'dp_rate': cfg['dp_rate'], 'dropout_type': cfg['dropout_type']}\n",
        "\n",
        "    inp = layers.Input(shape=input_shape)                           # ( 4,128,192,160)\n",
        "    x = inp\n",
        "    x = ConvNorm(32, kernel_size=3, strides=2, activation=cfg['activation'], norm=cfg['norm'])(x)   # (32,64,96,80)\n",
        "    x = ConvNorm(64, kernel_size=3, do_norm_act=False)(x)                               # (64, 64, 96, 80)\n",
        "\n",
        "    x = enc_dec(x, block, cfg['frac_dv'], stack_args)                                   # (64, 64, 96, 80)\n",
        "\n",
        "    x = NormAct(activation=cfg['activation'], norm=cfg['norm'])(x)\n",
        "    x = layers.UpSampling3D(data_format=\"channels_first\")(x)                            # (64,128,192,160)\n",
        "    x = ConvNorm(16, kernel_size=3, activation=cfg['activation'], norm=cfg['norm'])(x)  # (16,128,192,160)\n",
        "    x = ConvNorm(classes, kernel_size=3, do_norm_act=False)(x)                          #(3,128,192,160)\n",
        "    x = layers.Softmax(axis=1)(x)         # softmax cause each pixel has unique class, no overlap with other classes, verified.\n",
        "\n",
        "    return tf.keras.Model(inputs=inp, outputs=x)"
      ],
      "execution_count": 60,
      "outputs": []
    },
    {
      "cell_type": "code",
      "metadata": {
        "id": "d3He9IJQqzHq"
      },
      "source": [
        "block = AttnBottleneckBlock\n",
        "CONFIG['block_type'] = block.__name__\n",
        "model = build_network(CONFIG, block, input_shape=(4,depth,height,width), classes=4)"
      ],
      "execution_count": 61,
      "outputs": []
    },
    {
      "cell_type": "code",
      "metadata": {
        "colab": {
          "base_uri": "https://localhost:8080/"
        },
        "id": "alHQI9fntI0U",
        "outputId": "ddcd578c-cf94-46ae-d8ce-03119772e91a"
      },
      "source": [
        "model.summary()"
      ],
      "execution_count": 62,
      "outputs": [
        {
          "output_type": "stream",
          "text": [
            "Model: \"model\"\n",
            "__________________________________________________________________________________________________\n",
            "Layer (type)                    Output Shape         Param #     Connected to                     \n",
            "==================================================================================================\n",
            "input_1 (InputLayer)            [(None, 4, 128, 192, 0                                            \n",
            "__________________________________________________________________________________________________\n",
            "conv_norm (ConvNorm)            (None, 32, 64, 96, 8 3520        input_1[0][0]                    \n",
            "__________________________________________________________________________________________________\n",
            "conv_norm_1 (ConvNorm)          (None, 64, 64, 96, 8 55424       conv_norm[0][0]                  \n",
            "__________________________________________________________________________________________________\n",
            "inverted_res_block (InvertedRes (None, 64, 32, 48, 4 73920       conv_norm_1[0][0]                \n",
            "__________________________________________________________________________________________________\n",
            "inverted_res_block_1 (InvertedR (None, 64, 32, 48, 4 73920       inverted_res_block[0][0]         \n",
            "__________________________________________________________________________________________________\n",
            "inverted_res_block_2 (InvertedR (None, 128, 16, 24,  254592      inverted_res_block_1[0][0]       \n",
            "__________________________________________________________________________________________________\n",
            "inverted_res_block_3 (InvertedR (None, 128, 16, 24,  278912      inverted_res_block_2[0][0]       \n",
            "__________________________________________________________________________________________________\n",
            "inverted_res_block_4 (InvertedR (None, 256, 8, 12, 1 984320      inverted_res_block_3[0][0]       \n",
            "__________________________________________________________________________________________________\n",
            "inverted_res_block_5 (InvertedR (None, 256, 8, 12, 1 1082112     inverted_res_block_4[0][0]       \n",
            "__________________________________________________________________________________________________\n",
            "inverted_res_block_6 (InvertedR (None, 256, 4, 6, 5) 1082112     inverted_res_block_5[0][0]       \n",
            "__________________________________________________________________________________________________\n",
            "inverted_res_block_7 (InvertedR (None, 256, 4, 6, 5) 1082112     inverted_res_block_6[0][0]       \n",
            "__________________________________________________________________________________________________\n",
            "inverted_res_block_8 (InvertedR (None, 256, 4, 6, 5) 1082112     inverted_res_block_7[0][0]       \n",
            "__________________________________________________________________________________________________\n",
            "up_sampling3d (UpSampling3D)    (None, 256, 8, 12, 1 0           inverted_res_block_8[0][0]       \n",
            "__________________________________________________________________________________________________\n",
            "concatenate (Concatenate)       (None, 512, 8, 12, 1 0           up_sampling3d[0][0]              \n",
            "                                                                 inverted_res_block_5[0][0]       \n",
            "__________________________________________________________________________________________________\n",
            "inverted_res_block_9 (InvertedR (None, 128, 8, 12, 1 541312      concatenate[0][0]                \n",
            "__________________________________________________________________________________________________\n",
            "inverted_res_block_10 (Inverted (None, 128, 8, 12, 1 278912      inverted_res_block_9[0][0]       \n",
            "__________________________________________________________________________________________________\n",
            "inverted_res_block_11 (Inverted (None, 128, 8, 12, 1 278912      inverted_res_block_10[0][0]      \n",
            "__________________________________________________________________________________________________\n",
            "up_sampling3d_1 (UpSampling3D)  (None, 128, 16, 24,  0           inverted_res_block_11[0][0]      \n",
            "__________________________________________________________________________________________________\n",
            "concatenate_1 (Concatenate)     (None, 256, 16, 24,  0           up_sampling3d_1[0][0]            \n",
            "                                                                 inverted_res_block_3[0][0]       \n",
            "__________________________________________________________________________________________________\n",
            "inverted_res_block_12 (Inverted (None, 64, 16, 24, 2 139584      concatenate_1[0][0]              \n",
            "__________________________________________________________________________________________________\n",
            "inverted_res_block_13 (Inverted (None, 64, 16, 24, 2 73920       inverted_res_block_12[0][0]      \n",
            "__________________________________________________________________________________________________\n",
            "up_sampling3d_2 (UpSampling3D)  (None, 64, 32, 48, 4 0           inverted_res_block_13[0][0]      \n",
            "__________________________________________________________________________________________________\n",
            "concatenate_2 (Concatenate)     (None, 128, 32, 48,  0           up_sampling3d_2[0][0]            \n",
            "                                                                 inverted_res_block_1[0][0]       \n",
            "__________________________________________________________________________________________________\n",
            "inverted_res_block_14 (Inverted (None, 32, 32, 48, 4 37024       concatenate_2[0][0]              \n",
            "__________________________________________________________________________________________________\n",
            "up_sampling3d_3 (UpSampling3D)  (None, 32, 64, 96, 8 0           inverted_res_block_14[0][0]      \n",
            "__________________________________________________________________________________________________\n",
            "concatenate_3 (Concatenate)     (None, 96, 64, 96, 8 0           up_sampling3d_3[0][0]            \n",
            "                                                                 conv_norm_1[0][0]                \n",
            "__________________________________________________________________________________________________\n",
            "inverted_res_block_15 (Inverted (None, 16, 64, 96, 8 12880       concatenate_3[0][0]              \n",
            "__________________________________________________________________________________________________\n",
            "up_sampling3d_4 (UpSampling3D)  (None, 16, 128, 192, 0           inverted_res_block_15[0][0]      \n",
            "__________________________________________________________________________________________________\n",
            "conv_norm_2_17 (ConvNorm)       (None, 16, 128, 192, 6944        up_sampling3d_4[0][0]            \n",
            "__________________________________________________________________________________________________\n",
            "conv_norm_3_7 (ConvNorm)        (None, 4, 128, 192,  1732        conv_norm_2_17[0][0]             \n",
            "__________________________________________________________________________________________________\n",
            "softmax (Softmax)               (None, 4, 128, 192,  0           conv_norm_3_7[0][0]              \n",
            "==================================================================================================\n",
            "Total params: 7,424,276\n",
            "Trainable params: 7,424,276\n",
            "Non-trainable params: 0\n",
            "__________________________________________________________________________________________________\n"
          ],
          "name": "stdout"
        }
      ]
    },
    {
      "cell_type": "code",
      "metadata": {
        "id": "zjkU03lnbji3"
      },
      "source": [
        "model_plot = tf.keras.utils.plot_model(model, '/content/model.png', show_shapes=True, dpi=None)"
      ],
      "execution_count": 65,
      "outputs": []
    },
    {
      "cell_type": "code",
      "metadata": {
        "id": "83ItIV7aZHed"
      },
      "source": [
        "wandb.log({\"model\": wandb.Image(\"/content/model.png\")})"
      ],
      "execution_count": 66,
      "outputs": []
    },
    {
      "cell_type": "code",
      "metadata": {
        "id": "MXx318sknylB"
      },
      "source": [
        "from tensorflow.python.client import session\n",
        "from tensorflow.python.summary import summary"
      ],
      "execution_count": null,
      "outputs": []
    },
    {
      "cell_type": "code",
      "metadata": {
        "id": "gylV6eyKXj_c"
      },
      "source": [
        "log_dir = \"/content/trace_log\"\n",
        "!rm -rf $log_dir\n",
        "\n",
        "@tf.function\n",
        "def trace(x):\n",
        "    return model(x)\n",
        "\n",
        "data = tf.random.normal((2,) + model.input_shape[1:])\n",
        "data = tf.constant(data)\n",
        "\n",
        "imported_g = trace.get_concrete_function(data).graph\n",
        "\n",
        "# Export the graph\n",
        "with session.Session(graph=imported_g) as sess:\n",
        "    pb_visual_writer = summary.FileWriter(log_dir)\n",
        "    pb_visual_writer.add_graph(sess.graph)"
      ],
      "execution_count": 64,
      "outputs": []
    },
    {
      "cell_type": "code",
      "metadata": {
        "id": "m0GzUyfRXt_G"
      },
      "source": [
        "%tensorboard --logdir /content/trace_log"
      ],
      "execution_count": null,
      "outputs": []
    },
    {
      "cell_type": "code",
      "metadata": {
        "colab": {
          "base_uri": "https://localhost:8080/",
          "height": 34
        },
        "id": "MDQCKTmBjlOt",
        "outputId": "a4f30256-15ec-4686-93ea-4666b4b46c27"
      },
      "source": [
        "from google.colab.output import eval_js\n",
        "print(eval_js(\"google.colab.kernel.proxyPort(6006)\"))"
      ],
      "execution_count": 68,
      "outputs": [
        {
          "output_type": "stream",
          "text": [
            "https://rmh7iv1tsd-496ff2e9c6d22116-6006-colab.googleusercontent.com/\n"
          ],
          "name": "stdout"
        }
      ]
    },
    {
      "cell_type": "code",
      "metadata": {
        "colab": {
          "base_uri": "https://localhost:8080/"
        },
        "id": "TO3HwVYoEpFA",
        "outputId": "3dd5450c-af6f-4105-eed7-7d2dcb871ec7"
      },
      "source": [
        "import gc\n",
        "gc.collect()"
      ],
      "execution_count": 27,
      "outputs": [
        {
          "output_type": "execute_result",
          "data": {
            "text/plain": [
              "855"
            ]
          },
          "metadata": {
            "tags": []
          },
          "execution_count": 27
        }
      ]
    },
    {
      "cell_type": "code",
      "metadata": {
        "id": "uar0LFgp0n1-"
      },
      "source": [
        "from model.losses import *\n",
        "from model.utils import *"
      ],
      "execution_count": 28,
      "outputs": []
    },
    {
      "cell_type": "code",
      "metadata": {
        "colab": {
          "base_uri": "https://localhost:8080/",
          "height": 265
        },
        "id": "8lX3j_he0nxj",
        "outputId": "99193e12-a67c-40af-84b1-d22d07dd3cfe"
      },
      "source": [
        "steps_per_epoch = int(np.ceil(len(train_paths)/BATCH_SIZE))\n",
        "clr = tfa.optimizers.Triangular2CyclicalLearningRate(\n",
        "            initial_learning_rate=CONFIG[\"min_lr\"],\n",
        "            maximal_learning_rate=CONFIG[\"max_lr\"],\n",
        "            step_size=CONFIG[\"clr_step_size\"] * steps_per_epoch,\n",
        "            scale_mode=\"cycle\")\n",
        "domain = range(0, 100*steps_per_epoch, 32)\n",
        "lr_log = [clr(i).numpy() for i in domain]\n",
        "plt.plot(domain, lr_log)\n",
        "plt.show()"
      ],
      "execution_count": 29,
      "outputs": [
        {
          "output_type": "display_data",
          "data": {
            "image/png": "[encoded data removed]",
            "text/plain": [
              "<Figure size 432x288 with 1 Axes>"
            ]
          },
          "metadata": {
            "tags": [],
            "needs_background": "light"
          }
        }
      ]
    },
    {
      "cell_type": "code",
      "metadata": {
        "id": "RWz4DVIp0nuj"
      },
      "source": [
        "def get_wdc(op):\n",
        "    lr = op.learning_rate\n",
        "    wdc = CONFIG[\"weight_decay\"]*lr/CONFIG[\"max_lr\"]\n",
        "    return wdc\n",
        "\n",
        "initial_epoch = 0\n",
        "clr_offset_ep = CONFIG[\"clr_offset_ep\"]\n",
        "\n",
        "def get_lr(op):\n",
        "    lr = clr(op.iterations + (initial_epoch + clr_offset_ep)*steps_per_epoch)\n",
        "    if tf.executing_eagerly():\n",
        "        return lr.numpy()\n",
        "    else:\n",
        "        return lr"
      ],
      "execution_count": 30,
      "outputs": []
    },
    {
      "cell_type": "code",
      "metadata": {
        "id": "yqk_6JVV03Ue"
      },
      "source": [
        "if CONFIG[\"optimizer\"] == 'adamw':\n",
        "    opt = tfa.optimizers.AdamW(learning_rate=lambda: clr, weight_decay=lambda : CONFIG[\"weight_decay\"])\n",
        "    # wd_schedule = tf.optimizers.schedules.ExponentialDecay(5e-5, 100, 0.9)    # weight_decay=lambda : None\n",
        "    opt.learning_rate = lambda : get_lr(opt)\n",
        "    if CONFIG[\"vary_weight_decay\"]:\n",
        "        opt.weight_decay = lambda : get_wdc(opt)\n",
        "elif CONFIG[\"optimizer\"] == 'adam':            # or just make weight_decay=0\n",
        "    opt = tf.keras.optimizers.Adam(learning_rate=clr)\n",
        "opt = tf.keras.mixed_precision.LossScaleOptimizer(opt)"
      ],
      "execution_count": 31,
      "outputs": []
    },
    {
      "cell_type": "code",
      "metadata": {
        "id": "CVv7YFEA03SE"
      },
      "source": [
        "if CONFIG[\"loss_function\"] == 'FocalTversky':\n",
        "    loss_function = FocalTversky()\n",
        "elif CONFIG[\"loss_function\"] == 'cce':\n",
        "    loss_function = cce"
      ],
      "execution_count": 32,
      "outputs": []
    },
    {
      "cell_type": "code",
      "metadata": {
        "id": "Hbb5bvp_03Pc"
      },
      "source": [
        "model.compile(optimizer=opt, loss=loss_function, metrics=[dsc])"
      ],
      "execution_count": 75,
      "outputs": []
    },
    {
      "cell_type": "code",
      "metadata": {
        "id": "TGDA2XLen0do"
      },
      "source": [
        "# model = tf.keras.models.load_model(wandb.restore(\"model-best.h5\").name, custom_objects={'ConvNorm': ConvNorm,\n",
        "#                                                                                         'NormAct': NormAct,\n",
        "#                                                                                         'AttnBottleneckBlock': AttnBottleneckBlock,\n",
        "#                                                                                         'BasicBlock': BasicBlock,\n",
        "#                                                                                         'InvertedResBlock': InvertedResBlock,\n",
        "#                                                                                         'SqueezeExcite': SqueezeExcite,\n",
        "#                                                                                         'MHSA3D': MHSA3D,\n",
        "#                                                                                         'AbsPosEmb': AbsPosEmb,\n",
        "#                                                                                         'dsc': dsc,\n",
        "#                                                                                         'FocalTversky': FocalTversky,\n",
        "#                                                                                         })\n",
        "# model.compile(optimizer=model.optimizer, loss=model.loss, metrics=[dsc])"
      ],
      "execution_count": 40,
      "outputs": []
    },
    {
      "cell_type": "code",
      "metadata": {
        "id": "kt6_Pewu0_FW"
      },
      "source": [
        "wandb_cb = WandbCallback(monitor='dsc', mode='max')"
      ],
      "execution_count": 41,
      "outputs": []
    },
    {
      "cell_type": "code",
      "metadata": {
        "id": "_dD2Nbrh0-5O"
      },
      "source": [
        "class CustomCallback(tf.keras.callbacks.Callback):\n",
        "    def on_epoch_begin(self, epoch, logs=None):\n",
        "        img, lbl = next(iter(val_ds))\n",
        "        pred = self.model(img)\n",
        "        i = epoch % BATCH_SIZE\n",
        "        img = img[i,1].numpy()\n",
        "        mn = img.min()\n",
        "        mx = img.max()\n",
        "        img = (img - mn)/(mx - mn) * 255\n",
        "        lbl = lbl[i,1:].numpy()*255\n",
        "        pred = pred[i,1:].numpy()*255\n",
        "        get_gif(img, lbl, pred, \"out.gif\")\n",
        "        wandb.log({\"Outputs\": wandb.Image(\"out.gif\")})\n",
        "        gc.collect()"
      ],
      "execution_count": 42,
      "outputs": []
    },
    {
      "cell_type": "code",
      "metadata": {
        "colab": {
          "base_uri": "https://localhost:8080/"
        },
        "id": "nk54vXOF1ZC1",
        "outputId": "7c63b108-a391-4287-f8ef-ae7a868077b6"
      },
      "source": [
        "history = model.fit(train_ds,\n",
        "                    epochs=100,\n",
        "                    steps_per_epoch=np.ceil(len(train_paths)/BATCH_SIZE),\n",
        "                    validation_data=val_ds,\n",
        "                    validation_steps=np.ceil(len(val_paths)//BATCH_SIZE),\n",
        "                    initial_epoch=initial_epoch,\n",
        "                    workers=4,\n",
        "                    use_multiprocessing=True,\n",
        "                    callbacks=[CustomCallback(), wandb_cb])"
      ],
      "execution_count": null,
      "outputs": [
        {
          "output_type": "stream",
          "text": [
            "Epoch 1/100\n",
            " 68/285 [======>.......................] - ETA: 8:26 - loss: 3.5133 - dsc: 0.0225"
          ],
          "name": "stdout"
        }
      ]
    },
    {
      "cell_type": "code",
      "metadata": {
        "id": "WUdNNyl-1ktX"
      },
      "source": [
        "model.evaluate(val_ds, steps=np.ceil(len(val_paths)//BATCH_SIZE))"
      ],
      "execution_count": null,
      "outputs": []
    },
    {
      "cell_type": "code",
      "metadata": {
        "colab": {
          "background_save": true
        },
        "id": "ttJA6gGL1pv7"
      },
      "source": [
        "scores = []\n",
        "for i, (a,b) in tqdm(enumerate(train_ds)):\n",
        "    if i==steps_per_epoch:\n",
        "        break\n",
        "    o = model(a)\n",
        "    o = tf.cast(o, tf.float32)\n",
        "    scores.append(dsc(b,o))"
      ],
      "execution_count": null,
      "outputs": []
    },
    {
      "cell_type": "code",
      "metadata": {
        "colab": {
          "base_uri": "https://localhost:8080/"
        },
        "id": "iZ1UO7i_1ppa",
        "outputId": "613a3443-1602-4da1-8beb-6ed291132c3b"
      },
      "source": [
        "np.mean(scores, axis=0)"
      ],
      "execution_count": null,
      "outputs": [
        {
          "output_type": "execute_result",
          "data": {
            "text/plain": [
              "array([0.4047957 , 0.4720509 , 0.42634007], dtype=float32)"
            ]
          },
          "metadata": {
            "tags": []
          },
          "execution_count": 50
        }
      ]
    },
    {
      "cell_type": "code",
      "metadata": {
        "colab": {
          "background_save": true
        },
        "id": "m2qi8enp1maS"
      },
      "source": [
        "run.finish()"
      ],
      "execution_count": null,
      "outputs": []
    },
    {
      "cell_type": "code",
      "metadata": {
        "id": "kYyhhAMKLh4E"
      },
      "source": [
        ""
      ],
      "execution_count": null,
      "outputs": []
    }
  ]
}