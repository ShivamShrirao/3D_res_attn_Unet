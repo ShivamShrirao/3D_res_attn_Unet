{
  "nbformat": 4,
  "nbformat_minor": 0,
  "metadata": {
    "colab": {
      "name": "3D_res_attn_Unet.ipynb",
      "provenance": [],
      "collapsed_sections": []
    },
    "kernelspec": {
      "name": "python3",
      "display_name": "Python 3"
    },
    "language_info": {
      "name": "python"
    },
    "accelerator": "GPU",
    "widgets": {
      "application/vnd.jupyter.widget-state+json": {
        "04c63e5bbb904cfe85de533ac8c74c6f": {
          "model_module": "@jupyter-widgets/controls",
          "model_name": "HBoxModel",
          "state": {
            "_view_name": "HBoxView",
            "_dom_classes": [],
            "_model_name": "HBoxModel",
            "_view_module": "@jupyter-widgets/controls",
            "_model_module_version": "1.5.0",
            "_view_count": null,
            "_view_module_version": "1.5.0",
            "box_style": "",
            "layout": "IPY_MODEL_f48c20a485dd4c42a0e4875be423bdc9",
            "_model_module": "@jupyter-widgets/controls",
            "children": [
              "IPY_MODEL_6d67b234ade34c89bd28623072b9ad63",
              "IPY_MODEL_d88569aaab824b4489c11cc053f213f3"
            ]
          }
        },
        "f48c20a485dd4c42a0e4875be423bdc9": {
          "model_module": "@jupyter-widgets/base",
          "model_name": "LayoutModel",
          "state": {
            "_view_name": "LayoutView",
            "grid_template_rows": null,
            "right": null,
            "justify_content": null,
            "_view_module": "@jupyter-widgets/base",
            "overflow": null,
            "_model_module_version": "1.2.0",
            "_view_count": null,
            "flex_flow": null,
            "width": null,
            "min_width": null,
            "border": null,
            "align_items": null,
            "bottom": null,
            "_model_module": "@jupyter-widgets/base",
            "top": null,
            "grid_column": null,
            "overflow_y": null,
            "overflow_x": null,
            "grid_auto_flow": null,
            "grid_area": null,
            "grid_template_columns": null,
            "flex": null,
            "_model_name": "LayoutModel",
            "justify_items": null,
            "grid_row": null,
            "max_height": null,
            "align_content": null,
            "visibility": null,
            "align_self": null,
            "height": null,
            "min_height": null,
            "padding": null,
            "grid_auto_rows": null,
            "grid_gap": null,
            "max_width": null,
            "order": null,
            "_view_module_version": "1.2.0",
            "grid_template_areas": null,
            "object_position": null,
            "object_fit": null,
            "grid_auto_columns": null,
            "margin": null,
            "display": null,
            "left": null
          }
        },
        "6d67b234ade34c89bd28623072b9ad63": {
          "model_module": "@jupyter-widgets/controls",
          "model_name": "FloatProgressModel",
          "state": {
            "_view_name": "ProgressView",
            "style": "IPY_MODEL_ab708115137f4ab5be2a995735fcd13d",
            "_dom_classes": [],
            "description": "100%",
            "_model_name": "FloatProgressModel",
            "bar_style": "success",
            "max": 200,
            "_view_module": "@jupyter-widgets/controls",
            "_model_module_version": "1.5.0",
            "value": 200,
            "_view_count": null,
            "_view_module_version": "1.5.0",
            "orientation": "horizontal",
            "min": 0,
            "description_tooltip": null,
            "_model_module": "@jupyter-widgets/controls",
            "layout": "IPY_MODEL_6c0b99a0b2b4468199b95c1da189af71"
          }
        },
        "d88569aaab824b4489c11cc053f213f3": {
          "model_module": "@jupyter-widgets/controls",
          "model_name": "HTMLModel",
          "state": {
            "_view_name": "HTMLView",
            "style": "IPY_MODEL_a3f9816ad7634e7a8f8f6fda3bfd917a",
            "_dom_classes": [],
            "description": "",
            "_model_name": "HTMLModel",
            "placeholder": "​",
            "_view_module": "@jupyter-widgets/controls",
            "_model_module_version": "1.5.0",
            "value": " 200/200 [02:44&lt;00:00,  1.22it/s]",
            "_view_count": null,
            "_view_module_version": "1.5.0",
            "description_tooltip": null,
            "_model_module": "@jupyter-widgets/controls",
            "layout": "IPY_MODEL_e5df12dbdcd443c5929ee497c6635dda"
          }
        },
        "ab708115137f4ab5be2a995735fcd13d": {
          "model_module": "@jupyter-widgets/controls",
          "model_name": "ProgressStyleModel",
          "state": {
            "_view_name": "StyleView",
            "_model_name": "ProgressStyleModel",
            "description_width": "initial",
            "_view_module": "@jupyter-widgets/base",
            "_model_module_version": "1.5.0",
            "_view_count": null,
            "_view_module_version": "1.2.0",
            "bar_color": null,
            "_model_module": "@jupyter-widgets/controls"
          }
        },
        "6c0b99a0b2b4468199b95c1da189af71": {
          "model_module": "@jupyter-widgets/base",
          "model_name": "LayoutModel",
          "state": {
            "_view_name": "LayoutView",
            "grid_template_rows": null,
            "right": null,
            "justify_content": null,
            "_view_module": "@jupyter-widgets/base",
            "overflow": null,
            "_model_module_version": "1.2.0",
            "_view_count": null,
            "flex_flow": null,
            "width": null,
            "min_width": null,
            "border": null,
            "align_items": null,
            "bottom": null,
            "_model_module": "@jupyter-widgets/base",
            "top": null,
            "grid_column": null,
            "overflow_y": null,
            "overflow_x": null,
            "grid_auto_flow": null,
            "grid_area": null,
            "grid_template_columns": null,
            "flex": null,
            "_model_name": "LayoutModel",
            "justify_items": null,
            "grid_row": null,
            "max_height": null,
            "align_content": null,
            "visibility": null,
            "align_self": null,
            "height": null,
            "min_height": null,
            "padding": null,
            "grid_auto_rows": null,
            "grid_gap": null,
            "max_width": null,
            "order": null,
            "_view_module_version": "1.2.0",
            "grid_template_areas": null,
            "object_position": null,
            "object_fit": null,
            "grid_auto_columns": null,
            "margin": null,
            "display": null,
            "left": null
          }
        },
        "a3f9816ad7634e7a8f8f6fda3bfd917a": {
          "model_module": "@jupyter-widgets/controls",
          "model_name": "DescriptionStyleModel",
          "state": {
            "_view_name": "StyleView",
            "_model_name": "DescriptionStyleModel",
            "description_width": "",
            "_view_module": "@jupyter-widgets/base",
            "_model_module_version": "1.5.0",
            "_view_count": null,
            "_view_module_version": "1.2.0",
            "_model_module": "@jupyter-widgets/controls"
          }
        },
        "e5df12dbdcd443c5929ee497c6635dda": {
          "model_module": "@jupyter-widgets/base",
          "model_name": "LayoutModel",
          "state": {
            "_view_name": "LayoutView",
            "grid_template_rows": null,
            "right": null,
            "justify_content": null,
            "_view_module": "@jupyter-widgets/base",
            "overflow": null,
            "_model_module_version": "1.2.0",
            "_view_count": null,
            "flex_flow": null,
            "width": null,
            "min_width": null,
            "border": null,
            "align_items": null,
            "bottom": null,
            "_model_module": "@jupyter-widgets/base",
            "top": null,
            "grid_column": null,
            "overflow_y": null,
            "overflow_x": null,
            "grid_auto_flow": null,
            "grid_area": null,
            "grid_template_columns": null,
            "flex": null,
            "_model_name": "LayoutModel",
            "justify_items": null,
            "grid_row": null,
            "max_height": null,
            "align_content": null,
            "visibility": null,
            "align_self": null,
            "height": null,
            "min_height": null,
            "padding": null,
            "grid_auto_rows": null,
            "grid_gap": null,
            "max_width": null,
            "order": null,
            "_view_module_version": "1.2.0",
            "grid_template_areas": null,
            "object_position": null,
            "object_fit": null,
            "grid_auto_columns": null,
            "margin": null,
            "display": null,
            "left": null
          }
        }
      }
    }
  },
  "cells": [
    {
      "cell_type": "code",
      "metadata": {
        "colab": {
          "base_uri": "https://localhost:8080/"
        },
        "id": "TmD9SLQpmNJF",
        "outputId": "7e1c6155-8826-46d6-835a-50f2bcd3e823"
      },
      "source": [
        "!nvidia-smi"
      ],
      "execution_count": 100,
      "outputs": [
        {
          "output_type": "stream",
          "text": [
            "Tue May 18 19:30:01 2021       \n",
            "+-----------------------------------------------------------------------------+\n",
            "| NVIDIA-SMI 465.19.01    Driver Version: 460.32.03    CUDA Version: 11.2     |\n",
            "|-------------------------------+----------------------+----------------------+\n",
            "| GPU  Name        Persistence-M| Bus-Id        Disp.A | Volatile Uncorr. ECC |\n",
            "| Fan  Temp  Perf  Pwr:Usage/Cap|         Memory-Usage | GPU-Util  Compute M. |\n",
            "|                               |                      |               MIG M. |\n",
            "|===============================+======================+======================|\n",
            "|   0  Tesla T4            Off  | 00000000:00:04.0 Off |                    0 |\n",
            "| N/A   74C    P0    32W /  70W |  14828MiB / 15109MiB |      0%      Default |\n",
            "|                               |                      |                  N/A |\n",
            "+-------------------------------+----------------------+----------------------+\n",
            "                                                                               \n",
            "+-----------------------------------------------------------------------------+\n",
            "| Processes:                                                                  |\n",
            "|  GPU   GI   CI        PID   Type   Process name                  GPU Memory |\n",
            "|        ID   ID                                                   Usage      |\n",
            "|=============================================================================|\n",
            "+-----------------------------------------------------------------------------+\n"
          ],
          "name": "stdout"
        }
      ]
    },
    {
      "cell_type": "code",
      "metadata": {
        "colab": {
          "base_uri": "https://localhost:8080/"
        },
        "id": "AZI13ut7nBZF",
        "outputId": "99beb9ec-d348-4931-f884-f1a7ed9f0818"
      },
      "source": [
        "%pip install -q tensorflow-addons[tensorflow]\n",
        "%pip install -q simpleitk\n",
        "# %pip install -q colab_ssh\n",
        "%pip install -q wandb"
      ],
      "execution_count": 2,
      "outputs": [
        {
          "output_type": "stream",
          "text": [
            "\u001b[K     |████████████████████████████████| 686kB 8.8MB/s \n",
            "\u001b[K     |████████████████████████████████| 47.4MB 62kB/s \n",
            "\u001b[K     |████████████████████████████████| 1.8MB 8.7MB/s \n",
            "\u001b[K     |████████████████████████████████| 133kB 50.4MB/s \n",
            "\u001b[K     |████████████████████████████████| 174kB 54.2MB/s \n",
            "\u001b[K     |████████████████████████████████| 102kB 15.0MB/s \n",
            "\u001b[K     |████████████████████████████████| 71kB 11.7MB/s \n",
            "\u001b[?25h  Building wheel for pathtools (setup.py) ... \u001b[?25l\u001b[?25hdone\n",
            "  Building wheel for subprocess32 (setup.py) ... \u001b[?25l\u001b[?25hdone\n"
          ],
          "name": "stdout"
        }
      ]
    },
    {
      "cell_type": "code",
      "metadata": {
        "colab": {
          "base_uri": "https://localhost:8080/"
        },
        "id": "MeRBZZsrxy7G",
        "outputId": "5a06e5f7-8dbb-4bf2-b72e-a819ab25251e"
      },
      "source": [
        "!gdown https://drive.google.com/uc?id=1jYb-dKqywLm5bQ5esP6YSV5xuBzqBPqm"
      ],
      "execution_count": 3,
      "outputs": [
        {
          "output_type": "stream",
          "text": [
            "Downloading...\n",
            "From: https://drive.google.com/uc?id=1jYb-dKqywLm5bQ5esP6YSV5xuBzqBPqm\n",
            "To: /content/BRATS_Dataset.tar.gz\n",
            "2.76GB [00:40, 69.0MB/s]\n"
          ],
          "name": "stdout"
        }
      ]
    },
    {
      "cell_type": "code",
      "metadata": {
        "colab": {
          "base_uri": "https://localhost:8080/"
        },
        "id": "MCwAJtyIx0oX",
        "outputId": "db62b113-a019-4213-c610-7dd844bd4870"
      },
      "source": [
        "!apt -qq install pigz"
      ],
      "execution_count": 4,
      "outputs": [
        {
          "output_type": "stream",
          "text": [
            "The following package was automatically installed and is no longer required:\n",
            "  libnvidia-common-460\n",
            "Use 'apt autoremove' to remove it.\n",
            "The following NEW packages will be installed:\n",
            "  pigz\n",
            "0 upgraded, 1 newly installed, 0 to remove and 34 not upgraded.\n",
            "Need to get 57.4 kB of archives.\n",
            "After this operation, 259 kB of additional disk space will be used.\n",
            "Selecting previously unselected package pigz.\n",
            "(Reading database ... 160706 files and directories currently installed.)\n",
            "Preparing to unpack .../archives/pigz_2.4-1_amd64.deb ...\n",
            "Unpacking pigz (2.4-1) ...\n",
            "Setting up pigz (2.4-1) ...\n",
            "Processing triggers for man-db (2.8.3-2ubuntu0.1) ...\n"
          ],
          "name": "stdout"
        }
      ]
    },
    {
      "cell_type": "code",
      "metadata": {
        "id": "RBS9P9pVyL0p"
      },
      "source": [
        "!pigz -dc BRATS_Dataset.tar.gz | tar xf -"
      ],
      "execution_count": 5,
      "outputs": []
    },
    {
      "cell_type": "code",
      "metadata": {
        "id": "iwMjK_O6yL-5"
      },
      "source": [
        "!rm BRATS_Dataset.tar.gz"
      ],
      "execution_count": 6,
      "outputs": []
    },
    {
      "cell_type": "code",
      "metadata": {
        "colab": {
          "base_uri": "https://localhost:8080/"
        },
        "id": "6bu-os4Kqoiq",
        "outputId": "779a9470-5f79-4261-eed1-28bc0f6e37aa"
      },
      "source": [
        "%cd /content\n",
        "!rm -rf 3D_res_attn_Unet"
      ],
      "execution_count": 7,
      "outputs": [
        {
          "output_type": "stream",
          "text": [
            "/content\n"
          ],
          "name": "stdout"
        }
      ]
    },
    {
      "cell_type": "code",
      "metadata": {
        "colab": {
          "base_uri": "https://localhost:8080/"
        },
        "id": "B5UZTWx-mb7Y",
        "outputId": "c1f6335b-e725-4566-be64-5a0bb27b0c2f"
      },
      "source": [
        "!git clone https://github.com/ShivamShrirao/3D_res_attn_Unet\n",
        "%cd 3D_res_attn_Unet"
      ],
      "execution_count": 8,
      "outputs": [
        {
          "output_type": "stream",
          "text": [
            "Cloning into '3D_res_attn_Unet'...\n",
            "remote: Enumerating objects: 55, done.\u001b[K\n",
            "remote: Counting objects: 100% (55/55), done.\u001b[K\n",
            "remote: Compressing objects: 100% (36/36), done.\u001b[K\n",
            "remote: Total 55 (delta 27), reused 43 (delta 15), pack-reused 0\u001b[K\n",
            "Unpacking objects: 100% (55/55), done.\n",
            "/content/3D_res_attn_Unet\n"
          ],
          "name": "stdout"
        }
      ]
    },
    {
      "cell_type": "code",
      "metadata": {
        "id": "fYq1D1nrmMfW"
      },
      "source": [
        "%load_ext autoreload\n",
        "%autoreload 2"
      ],
      "execution_count": 9,
      "outputs": []
    },
    {
      "cell_type": "code",
      "metadata": {
        "id": "VxV8loizyQk5"
      },
      "source": [
        "import SimpleITK as sitk"
      ],
      "execution_count": 10,
      "outputs": []
    },
    {
      "cell_type": "code",
      "metadata": {
        "id": "RyvK3bkmmRF5"
      },
      "source": [
        "import tensorflow as tf\n",
        "from tensorflow.keras import layers\n",
        "import tensorflow_addons as tfa\n",
        "import numpy as np\n",
        "import matplotlib.pyplot as plt\n",
        "import PIL.Image\n",
        "import glob\n",
        "from tqdm.notebook import tqdm\n",
        "from time import time\n",
        "%matplotlib inline"
      ],
      "execution_count": 11,
      "outputs": []
    },
    {
      "cell_type": "code",
      "metadata": {
        "colab": {
          "base_uri": "https://localhost:8080/"
        },
        "id": "x8wLJQSNmV8W",
        "outputId": "5c501762-e856-4293-e7ec-6b3a967826fb"
      },
      "source": [
        "from tensorflow.keras.mixed_precision import experimental as mixed_precision\n",
        "policy = mixed_precision.Policy('mixed_float16')\n",
        "mixed_precision.set_policy(policy)"
      ],
      "execution_count": 12,
      "outputs": [
        {
          "output_type": "stream",
          "text": [
            "INFO:tensorflow:Mixed precision compatibility check (mixed_float16): OK\n",
            "Your GPU will likely run quickly with dtype policy mixed_float16 as it has compute capability of at least 7.0. Your GPU: Tesla T4, compute capability 7.5\n",
            "WARNING:tensorflow:From /usr/local/lib/python3.7/dist-packages/tensorflow/python/keras/mixed_precision/loss_scale.py:56: DynamicLossScale.__init__ (from tensorflow.python.training.experimental.loss_scale) is deprecated and will be removed in a future version.\n",
            "Instructions for updating:\n",
            "Use tf.keras.mixed_precision.LossScaleOptimizer instead. LossScaleOptimizer now has all the functionality of DynamicLossScale\n"
          ],
          "name": "stdout"
        }
      ]
    },
    {
      "cell_type": "code",
      "metadata": {
        "id": "DH9zA80Lyblg"
      },
      "source": [
        "def get_data_paths(dataset_path):\n",
        "    t1 = glob.glob(dataset_path+'/*GG/*/*t1.nii.gz')\n",
        "    t2 = glob.glob(dataset_path+'/*GG/*/*t2.nii.gz')\n",
        "    t1ce = glob.glob(dataset_path+'/*GG/*/*t1ce.nii.gz')\n",
        "    flair = glob.glob(dataset_path+'/*GG/*/*flair.nii.gz')\n",
        "    seg = glob.glob(dataset_path+'/*GG/*/*seg.nii.gz')\n",
        "    return list(zip(t1, t2, t1ce, flair, seg))"
      ],
      "execution_count": 13,
      "outputs": []
    },
    {
      "cell_type": "code",
      "metadata": {
        "id": "KoB8nSTVyfUX"
      },
      "source": [
        "train_paths = get_data_paths('../BRATS_Dataset/brats_dataset/')\n",
        "val_paths = get_data_paths('../BRATS_Dataset/brats_test_dataset/')"
      ],
      "execution_count": 24,
      "outputs": []
    },
    {
      "cell_type": "code",
      "metadata": {
        "colab": {
          "base_uri": "https://localhost:8080/"
        },
        "id": "B2BFkvT4yfRU",
        "outputId": "a9ef4f17-8522-4e86-d08d-057d6a985165"
      },
      "source": [
        "len(train_paths), len(val_paths)"
      ],
      "execution_count": 25,
      "outputs": [
        {
          "output_type": "execute_result",
          "data": {
            "text/plain": [
              "(285, 50)"
            ]
          },
          "metadata": {
            "tags": []
          },
          "execution_count": 25
        }
      ]
    },
    {
      "cell_type": "code",
      "metadata": {
        "id": "T-GTEwiqy1E_"
      },
      "source": [
        "from model.preprocess import *"
      ],
      "execution_count": 56,
      "outputs": []
    },
    {
      "cell_type": "code",
      "metadata": {
        "colab": {
          "base_uri": "https://localhost:8080/",
          "height": 66,
          "referenced_widgets": [
            "04c63e5bbb904cfe85de533ac8c74c6f",
            "f48c20a485dd4c42a0e4875be423bdc9",
            "6d67b234ade34c89bd28623072b9ad63",
            "d88569aaab824b4489c11cc053f213f3",
            "ab708115137f4ab5be2a995735fcd13d",
            "6c0b99a0b2b4468199b95c1da189af71",
            "a3f9816ad7634e7a8f8f6fda3bfd917a",
            "e5df12dbdcd443c5929ee497c6635dda"
          ]
        },
        "id": "BLUheTvAyfNE",
        "outputId": "4519ae4a-4f51-40bb-bbfd-b217c57de5a3"
      },
      "source": [
        "mean = []\n",
        "std = []\n",
        "for tp in tqdm(train_paths[0:200]):\n",
        "    img, lbl = load_img(tp)\n",
        "    img = tf.cast(img, tf.float32)/255.0\n",
        "    mean.append(tf.reduce_mean(img, axis=[1,2,3]))\n",
        "    std.append(tf.math.reduce_std(img, axis=[1,2,3]))\n",
        "mean = tf.reshape(tf.reduce_mean(mean, axis=0), (1, 4, 1, 1, 1))\n",
        "std = tf.reshape(tf.reduce_mean(std, axis=0), (1, 4, 1, 1, 1))"
      ],
      "execution_count": 59,
      "outputs": [
        {
          "output_type": "display_data",
          "data": {
            "application/vnd.jupyter.widget-view+json": {
              "model_id": "04c63e5bbb904cfe85de533ac8c74c6f",
              "version_minor": 0,
              "version_major": 2
            },
            "text/plain": [
              "HBox(children=(FloatProgress(value=0.0, max=200.0), HTML(value='')))"
            ]
          },
          "metadata": {
            "tags": []
          }
        },
        {
          "output_type": "stream",
          "text": [
            "\n"
          ],
          "name": "stdout"
        }
      ]
    },
    {
      "cell_type": "code",
      "metadata": {
        "colab": {
          "base_uri": "https://localhost:8080/"
        },
        "id": "97H3_mHi6_He",
        "outputId": "b8878f33-7823-4fed-a559-cbe26cee529b"
      },
      "source": [
        "mean.numpy().ravel(), std.numpy().ravel()"
      ],
      "execution_count": 60,
      "outputs": [
        {
          "output_type": "execute_result",
          "data": {
            "text/plain": [
              "(array([0.06472264, 0.05054687, 0.04256304, 0.04891836], dtype=float32),\n",
              " array([0.15363158, 0.12545417, 0.10133979, 0.11938298], dtype=float32))"
            ]
          },
          "metadata": {
            "tags": []
          },
          "execution_count": 60
        }
      ]
    },
    {
      "cell_type": "code",
      "metadata": {
        "colab": {
          "base_uri": "https://localhost:8080/"
        },
        "id": "gELRSfJLyfKe",
        "outputId": "10daab92-e101-4d59-a2cd-ecc4875b34ec"
      },
      "source": [
        "depth = 128 # 155\n",
        "height = 192 # 240\n",
        "width = 160 # 240\n",
        "(155-depth, 240-height, 240-width)"
      ],
      "execution_count": 45,
      "outputs": [
        {
          "output_type": "execute_result",
          "data": {
            "text/plain": [
              "(27, 48, 80)"
            ]
          },
          "metadata": {
            "tags": []
          },
          "execution_count": 45
        }
      ]
    },
    {
      "cell_type": "code",
      "metadata": {
        "id": "hA8i-idEyfGn"
      },
      "source": [
        "def random_crop3D(imgs, lbls, train=True):          # Crops image to size (128, 192, 160)\n",
        "    d_cr, h_cr, w_cr = 13, 24, 40\n",
        "    if train:\n",
        "        if tf.random.uniform([], 0, 1, dtype=tf.float32) <= 0.8:\n",
        "            d_cr = tf.random.uniform([], 0, 27, dtype=tf.int32)\n",
        "            h_cr = tf.random.uniform([], 0, 48, dtype=tf.int32)\n",
        "            w_cr = tf.random.uniform([], 0, 80, dtype=tf.int32)\n",
        "    imgs = imgs[:, :, d_cr:d_cr+depth, h_cr:h_cr+height, w_cr:w_cr+width]\n",
        "    lbls = lbls[:, :, d_cr:d_cr+depth, h_cr:h_cr+height, w_cr:w_cr+width]\n",
        "    return imgs, lbls"
      ],
      "execution_count": 46,
      "outputs": []
    },
    {
      "cell_type": "code",
      "metadata": {
        "id": "Kla_BA_JyfCP"
      },
      "source": [
        "def final_augmentation(img, lbl, train=True):       # input img[B, 4, 155, 240, 240], output[B, 4, 128, 192, 160]\n",
        "    img, lbl = random_crop3D(img, lbl, train)\n",
        "    img = tf.cast(img, tf.float32)/255.0\n",
        "    lbl = tf.cast(lbl, tf.float32)\n",
        "    if train:\n",
        "        img = tf.image.random_brightness(img, 0.2)      # source code checked, it's fine for 3D\n",
        "    # img = tf.image.per_image_standardization(img)   # source code checked, it's fine for 3D\n",
        "    img = (img - mean) / std\n",
        "    return img, lbl"
      ],
      "execution_count": 47,
      "outputs": []
    },
    {
      "cell_type": "code",
      "metadata": {
        "id": "-jYQgwzeye7w"
      },
      "source": [
        "BATCH_SIZE = 4\n",
        "AUTOTUNE = tf.data.experimental.AUTOTUNE"
      ],
      "execution_count": 48,
      "outputs": []
    },
    {
      "cell_type": "code",
      "metadata": {
        "id": "4CRpmKSryeMY"
      },
      "source": [
        "def get_tfds(data_paths, train=False):\n",
        "    # 53.3373920917511 s\n",
        "    dataset = tf.data.Dataset.from_tensor_slices(data_paths)\n",
        "    if train:\n",
        "        dataset = dataset.shuffle(len(data_paths))\n",
        "    dataset = dataset.map(load_paths_wrapper, num_parallel_calls=AUTOTUNE)\n",
        "    if train:\n",
        "        dataset = dataset.map(random_rotate3D, num_parallel_calls=AUTOTUNE)\n",
        "    dataset = dataset.repeat()\n",
        "    dataset = dataset.batch(BATCH_SIZE)\n",
        "    if train:\n",
        "        dataset = dataset.map(random_flip3D, num_parallel_calls=AUTOTUNE)\n",
        "    dataset = dataset.map(lambda x,y: final_augmentation(x,y,train), num_parallel_calls=AUTOTUNE)      # remove for test,val\n",
        "    dataset = dataset.prefetch(AUTOTUNE)\n",
        "    return dataset"
      ],
      "execution_count": 57,
      "outputs": []
    },
    {
      "cell_type": "code",
      "metadata": {
        "id": "aLVvTfMPzSgG"
      },
      "source": [
        "train_ds = get_tfds(train_paths, train=True)\n",
        "val_ds = get_tfds(val_paths)"
      ],
      "execution_count": 61,
      "outputs": []
    },
    {
      "cell_type": "code",
      "metadata": {
        "id": "k_u6nfUhzT9C"
      },
      "source": [
        "import wandb\n",
        "from wandb.keras import WandbCallback"
      ],
      "execution_count": 62,
      "outputs": []
    },
    {
      "cell_type": "code",
      "metadata": {
        "colab": {
          "base_uri": "https://localhost:8080/",
          "height": 68
        },
        "id": "39ZKOyeDzT6O",
        "outputId": "c65e72e3-58fa-4867-fce9-ca200e35f6f3"
      },
      "source": [
        "wandb.login()"
      ],
      "execution_count": 63,
      "outputs": [
        {
          "output_type": "display_data",
          "data": {
            "application/javascript": [
              "\n",
              "        window._wandbApiKey = new Promise((resolve, reject) => {\n",
              "            function loadScript(url) {\n",
              "            return new Promise(function(resolve, reject) {\n",
              "                let newScript = document.createElement(\"script\");\n",
              "                newScript.onerror = reject;\n",
              "                newScript.onload = resolve;\n",
              "                document.body.appendChild(newScript);\n",
              "                newScript.src = url;\n",
              "            });\n",
              "            }\n",
              "            loadScript(\"https://cdn.jsdelivr.net/npm/postmate/build/postmate.min.js\").then(() => {\n",
              "            const iframe = document.createElement('iframe')\n",
              "            iframe.style.cssText = \"width:0;height:0;border:none\"\n",
              "            document.body.appendChild(iframe)\n",
              "            const handshake = new Postmate({\n",
              "                container: iframe,\n",
              "                url: 'https://wandb.ai/authorize'\n",
              "            });\n",
              "            const timeout = setTimeout(() => reject(\"Couldn't auto authenticate\"), 5000)\n",
              "            handshake.then(function(child) {\n",
              "                child.on('authorize', data => {\n",
              "                    clearTimeout(timeout)\n",
              "                    resolve(data)\n",
              "                });\n",
              "            });\n",
              "            })\n",
              "        });\n",
              "    "
            ],
            "text/plain": [
              "<IPython.core.display.Javascript object>"
            ]
          },
          "metadata": {
            "tags": []
          }
        },
        {
          "output_type": "stream",
          "text": [
            "\u001b[34m\u001b[1mwandb\u001b[0m: Appending key for api.wandb.ai to your netrc file: /root/.netrc\n"
          ],
          "name": "stderr"
        },
        {
          "output_type": "execute_result",
          "data": {
            "text/plain": [
              "True"
            ]
          },
          "metadata": {
            "tags": []
          },
          "execution_count": 63
        }
      ]
    },
    {
      "cell_type": "code",
      "metadata": {
        "id": "yUud1K2iloXZ"
      },
      "source": [
        "config_defaults = {\n",
        "    'activation'            : 'leaky_relu',\n",
        "    'batch_size'            : BATCH_SIZE,\n",
        "    'clr_step_size'         : 6,\n",
        "    'groups'                : 'max',\n",
        "    'dp_rate'               : 0.2,\n",
        "    'dropout_type'          : 'Spatial',\n",
        "    'frac_dv'               : 0.5,\n",
        "    'loss_function'         : 'FocalTversky',\n",
        "    'max_lr'                : 8e-4,\n",
        "    'min_lr'                : 1e-6,\n",
        "    'nheads'                : 8,\n",
        "    'norm'                  : 'bn',\n",
        "    'optimizer'             : 'adamw',\n",
        "    'self_attn'             : False,\n",
        "    'vary_weight_decay'     : True,\n",
        "    'weight_decay'          : 1e-4,     # max weight decay\n",
        "}"
      ],
      "execution_count": 64,
      "outputs": []
    },
    {
      "cell_type": "code",
      "metadata": {
        "id": "DUlSJlfpm63E"
      },
      "source": [
        "CONFIG = config_defaults"
      ],
      "execution_count": 65,
      "outputs": []
    },
    {
      "cell_type": "code",
      "metadata": {
        "id": "RjaGe7P4z1qV"
      },
      "source": [
        "run = wandb.init(project=\"3D_res_attn_Unet\", entity=\"shivamshrirao\", config=config_defaults)\n",
        "CONFIG = wandb.config"
      ],
      "execution_count": null,
      "outputs": []
    },
    {
      "cell_type": "code",
      "metadata": {
        "colab": {
          "base_uri": "https://localhost:8080/"
        },
        "id": "8PNd1IfZ7D-R",
        "outputId": "cfbc445f-66ac-427c-f864-c300942f540a"
      },
      "source": [
        "mean.numpy().ravel(), std.numpy().ravel()"
      ],
      "execution_count": 66,
      "outputs": [
        {
          "output_type": "execute_result",
          "data": {
            "text/plain": [
              "(array([0.06472264, 0.05054687, 0.04256304, 0.04891836], dtype=float32),\n",
              " array([0.15363158, 0.12545417, 0.10133979, 0.11938298], dtype=float32))"
            ]
          },
          "metadata": {
            "tags": []
          },
          "execution_count": 66
        }
      ]
    },
    {
      "cell_type": "code",
      "metadata": {
        "id": "muugExNpz1lY"
      },
      "source": [
        "tf.keras.backend.set_image_data_format('channels_first')"
      ],
      "execution_count": 67,
      "outputs": []
    },
    {
      "cell_type": "code",
      "metadata": {
        "id": "hRbHoACDz8_D"
      },
      "source": [
        "## attention shortcuts to be used.\n",
        "## try attention on the unet shortcuts\n",
        "## try Global Context Block\n",
        "## try input image pyramid and deep supervised output layers (output from intermediate layers (fuse with conv-sigmoid like U^2net ??))\n",
        "## TRY PIXELSHUFFLE\n",
        "## Try SPARSE CONV NET https://github.com/facebookresearch/SparseConvNet"
      ],
      "execution_count": 68,
      "outputs": []
    },
    {
      "cell_type": "code",
      "metadata": {
        "id": "nRY6Np0vmy6h"
      },
      "source": [
        "from model.conv_blocks import ConvNorm, NormAct, down_stack, up_stack"
      ],
      "execution_count": 69,
      "outputs": []
    },
    {
      "cell_type": "code",
      "metadata": {
        "id": "mWXn8he2nt5W"
      },
      "source": [
        "def enc_dec(x, frac_dv, stack_args):     # x(64,64,96,80)\n",
        "    x1 = down_stack(x ,  64, blocks=2, strides=2, **stack_args)     # (256,32,48,40)\n",
        "    x2 = down_stack(x1, 128, blocks=2, strides=2, **stack_args)     # (512,16,24,20)\n",
        "    x3 = down_stack(x2, 256, blocks=3, strides=2, frac_dv=frac_dv, **stack_args) # (1024, 8,12,10)\n",
        "\n",
        "    x4 = down_stack(x3, 256, blocks=3, strides=2, frac_dv=frac_dv, **stack_args) # (1024, 4, 6, 5)\n",
        "\n",
        "    y = up_stack(x4,x3, 128, blocks=3, strides=2, frac_dv=frac_dv, **stack_args) # (1024+1024->512,8,12,10)\n",
        "    y = up_stack(y, x2,  64, blocks=3, strides=2, **stack_args)     # (512+512->256,16,24,20)\n",
        "    y = up_stack(y, x1,  32, blocks=2, strides=2, **stack_args)     # (256+256->128,32,48,40)\n",
        "    y = up_stack(y, x ,  16, blocks=2, strides=2, **stack_args)     # (128+ 64-> 64,64,96,80)\n",
        "    return y\n",
        "\n",
        "\n",
        "def build_network(cfg, input_shape=(4,128,192,160), classes=4):\n",
        "    stack_args = {'activation': cfg['activation'], 'groups': cfg['groups'], 'norm': cfg['norm'],\n",
        "                  'dp_rate': cfg['dp_rate'], 'dropout_type': cfg['dropout_type']}\n",
        "\n",
        "    inp = layers.Input(shape=input_shape)                           # ( 4,128,192,160)\n",
        "    x = inp\n",
        "    x = ConvNorm(32, kernel_size=3, strides=2, activation=cfg['activation'], norm=cfg['norm'])(x)   # (32,64,96,80)\n",
        "    x = ConvNorm(64, kernel_size=3, do_norm_act=False)(x)                               # (64, 64, 96, 80)\n",
        "\n",
        "    x = enc_dec(x, cfg['frac_dv'], stack_args)                                          # (64, 64, 96, 80)\n",
        "\n",
        "    x = NormAct(activation=cfg['activation'], norm=cfg['norm'])(x)\n",
        "    x = layers.UpSampling3D(data_format=\"channels_first\")(x)                            # (64,128,192,160)\n",
        "    x = ConvNorm(16, kernel_size=3, activation=cfg['activation'], norm=cfg['norm'])(x)  # (16,128,192,160)\n",
        "    x = ConvNorm(classes,kernel_size=3, activation=cfg['activation'], norm=cfg['norm'])(x)#(3,128,192,160)\n",
        "    x = layers.Softmax(axis=1)(x)         # softmax cause each pixel has unique class, no overlap with other classes, verified.\n",
        "\n",
        "    return tf.keras.Model(inputs=inp, outputs=x)"
      ],
      "execution_count": 101,
      "outputs": []
    },
    {
      "cell_type": "code",
      "metadata": {
        "id": "d3He9IJQqzHq"
      },
      "source": [
        "model = build_network(CONFIG, input_shape=(4,depth,height,width), classes=4)"
      ],
      "execution_count": 102,
      "outputs": []
    },
    {
      "cell_type": "code",
      "metadata": {
        "colab": {
          "base_uri": "https://localhost:8080/"
        },
        "id": "alHQI9fntI0U",
        "outputId": "bda2e390-41ee-4ab9-da0e-10f241f22155"
      },
      "source": [
        "model.summary()"
      ],
      "execution_count": 103,
      "outputs": [
        {
          "output_type": "stream",
          "text": [
            "Model: \"model_2\"\n",
            "__________________________________________________________________________________________________\n",
            "Layer (type)                    Output Shape         Param #     Connected to                     \n",
            "==================================================================================================\n",
            "input_51 (InputLayer)           [(None, 4, 128, 192, 0                                            \n",
            "__________________________________________________________________________________________________\n",
            "conv_norm_8 (ConvNorm)          (None, 32, 64, 96, 8 3584        input_51[0][0]                   \n",
            "__________________________________________________________________________________________________\n",
            "conv_norm_9 (ConvNorm)          (None, 64, 64, 96, 8 55360       conv_norm_8[0][0]                \n",
            "__________________________________________________________________________________________________\n",
            "attn_bottleneck_block_48 (AttnB (None, 256, 32, 48,  42064       conv_norm_9[0][0]                \n",
            "__________________________________________________________________________________________________\n",
            "attn_bottleneck_block_49 (AttnB (None, 256, 32, 48,  38480       attn_bottleneck_block_48[0][0]   \n",
            "__________________________________________________________________________________________________\n",
            "attn_bottleneck_block_50 (AttnB (None, 512, 16, 24,  244384      attn_bottleneck_block_49[0][0]   \n",
            "__________________________________________________________________________________________________\n",
            "attn_bottleneck_block_51 (AttnB (None, 512, 16, 24,  146592      attn_bottleneck_block_50[0][0]   \n",
            "__________________________________________________________________________________________________\n",
            "attn_bottleneck_block_52 (AttnB (None, 1024, 8, 12,  1029856     attn_bottleneck_block_51[0][0]   \n",
            "__________________________________________________________________________________________________\n",
            "attn_bottleneck_block_53 (AttnB (None, 1024, 8, 12,  637664      attn_bottleneck_block_52[0][0]   \n",
            "__________________________________________________________________________________________________\n",
            "attn_bottleneck_block_54 (AttnB (None, 1024, 8, 12,  637664      attn_bottleneck_block_53[0][0]   \n",
            "__________________________________________________________________________________________________\n",
            "attn_bottleneck_block_55 (AttnB (None, 1024, 4, 6, 5 637424      attn_bottleneck_block_54[0][0]   \n",
            "__________________________________________________________________________________________________\n",
            "attn_bottleneck_block_56 (AttnB (None, 1024, 4, 6, 5 637424      attn_bottleneck_block_55[0][0]   \n",
            "__________________________________________________________________________________________________\n",
            "attn_bottleneck_block_57 (AttnB (None, 1024, 4, 6, 5 637424      attn_bottleneck_block_56[0][0]   \n",
            "__________________________________________________________________________________________________\n",
            "up_sampling3d_10 (UpSampling3D) (None, 1024, 8, 12,  0           attn_bottleneck_block_57[0][0]   \n",
            "__________________________________________________________________________________________________\n",
            "concatenate_8 (Concatenate)     (None, 2048, 8, 12,  0           up_sampling3d_10[0][0]           \n",
            "                                                                 attn_bottleneck_block_54[0][0]   \n",
            "__________________________________________________________________________________________________\n",
            "attn_bottleneck_block_58 (AttnB (None, 512, 8, 12, 1 1415024     concatenate_8[0][0]              \n",
            "__________________________________________________________________________________________________\n",
            "attn_bottleneck_block_59 (AttnB (None, 512, 8, 12, 1 163184      attn_bottleneck_block_58[0][0]   \n",
            "__________________________________________________________________________________________________\n",
            "attn_bottleneck_block_60 (AttnB (None, 512, 8, 12, 1 163184      attn_bottleneck_block_59[0][0]   \n",
            "__________________________________________________________________________________________________\n",
            "up_sampling3d_11 (UpSampling3D) (None, 512, 16, 24,  0           attn_bottleneck_block_60[0][0]   \n",
            "__________________________________________________________________________________________________\n",
            "concatenate_9 (Concatenate)     (None, 1024, 16, 24, 0           up_sampling3d_11[0][0]           \n",
            "                                                                 attn_bottleneck_block_51[0][0]   \n",
            "__________________________________________________________________________________________________\n",
            "attn_bottleneck_block_61 (AttnB (None, 256, 16, 24,  353104      concatenate_9[0][0]              \n",
            "__________________________________________________________________________________________________\n",
            "attn_bottleneck_block_62 (AttnB (None, 256, 16, 24,  38480       attn_bottleneck_block_61[0][0]   \n",
            "__________________________________________________________________________________________________\n",
            "attn_bottleneck_block_63 (AttnB (None, 256, 16, 24,  38480       attn_bottleneck_block_62[0][0]   \n",
            "__________________________________________________________________________________________________\n",
            "up_sampling3d_12 (UpSampling3D) (None, 256, 32, 48,  0           attn_bottleneck_block_63[0][0]   \n",
            "__________________________________________________________________________________________________\n",
            "concatenate_10 (Concatenate)    (None, 512, 32, 48,  0           up_sampling3d_12[0][0]           \n",
            "                                                                 attn_bottleneck_block_49[0][0]   \n",
            "__________________________________________________________________________________________________\n",
            "attn_bottleneck_block_64 (AttnB (None, 128, 32, 48,  90024       concatenate_10[0][0]             \n",
            "__________________________________________________________________________________________________\n",
            "attn_bottleneck_block_65 (AttnB (None, 128, 32, 48,  10536       attn_bottleneck_block_64[0][0]   \n",
            "__________________________________________________________________________________________________\n",
            "up_sampling3d_13 (UpSampling3D) (None, 128, 64, 96,  0           attn_bottleneck_block_65[0][0]   \n",
            "__________________________________________________________________________________________________\n",
            "concatenate_11 (Concatenate)    (None, 192, 64, 96,  0           up_sampling3d_13[0][0]           \n",
            "                                                                 conv_norm_9[0][0]                \n",
            "__________________________________________________________________________________________________\n",
            "attn_bottleneck_block_66 (AttnB (None, 64, 64, 96, 8 18004       concatenate_11[0][0]             \n",
            "__________________________________________________________________________________________________\n",
            "attn_bottleneck_block_67 (AttnB (None, 64, 64, 96, 8 3092        attn_bottleneck_block_66[0][0]   \n",
            "__________________________________________________________________________________________________\n",
            "norm_act_70 (NormAct)           (None, 64, 64, 96, 8 256         attn_bottleneck_block_67[0][0]   \n",
            "__________________________________________________________________________________________________\n",
            "up_sampling3d_14 (UpSampling3D) (None, 64, 128, 192, 0           norm_act_70[0][0]                \n",
            "__________________________________________________________________________________________________\n",
            "conv_norm_10 (ConvNorm)         (None, 16, 128, 192, 27712       up_sampling3d_14[0][0]           \n",
            "__________________________________________________________________________________________________\n",
            "conv_norm_11 (ConvNorm)         (None, 4, 128, 192,  1744        conv_norm_10[0][0]               \n",
            "__________________________________________________________________________________________________\n",
            "softmax_2 (Softmax)             (None, 4, 128, 192,  0           conv_norm_11[0][0]               \n",
            "==================================================================================================\n",
            "Total params: 7,070,744\n",
            "Trainable params: 7,035,696\n",
            "Non-trainable params: 35,048\n",
            "__________________________________________________________________________________________________\n"
          ],
          "name": "stdout"
        }
      ]
    },
    {
      "cell_type": "code",
      "metadata": {
        "id": "aDyefuc20tAo"
      },
      "source": [
        "model_plot = tf.keras.utils.plot_model(model, to_file='model.png', show_shapes=True, dpi=None)"
      ],
      "execution_count": 104,
      "outputs": []
    },
    {
      "cell_type": "code",
      "metadata": {
        "id": "83ItIV7aZHed"
      },
      "source": [
        "wandb.log({\"model\": wandb.Image(\"model.png\")})"
      ],
      "execution_count": 19,
      "outputs": []
    },
    {
      "cell_type": "code",
      "metadata": {
        "id": "uar0LFgp0n1-"
      },
      "source": [
        "from model.losses import *\n",
        "from model.utils import *"
      ],
      "execution_count": 92,
      "outputs": []
    },
    {
      "cell_type": "code",
      "metadata": {
        "colab": {
          "base_uri": "https://localhost:8080/",
          "height": 267
        },
        "id": "8lX3j_he0nxj",
        "outputId": "418a2042-5b69-474d-9388-54d113dbcaf3"
      },
      "source": [
        "steps_per_epoch = int(np.ceil(len(train_paths)/BATCH_SIZE))\n",
        "clr = tfa.optimizers.Triangular2CyclicalLearningRate(\n",
        "            initial_learning_rate=CONFIG[\"min_lr\"],\n",
        "            maximal_learning_rate=CONFIG[\"max_lr\"],\n",
        "            step_size=CONFIG[\"clr_step_size\"] * steps_per_epoch,\n",
        "            scale_mode=\"cycle\")\n",
        "domain = range(0, 100*steps_per_epoch, 32)\n",
        "lr_log = [clr(i).numpy() for i in domain]\n",
        "plt.plot(domain, lr_log)\n",
        "plt.show()"
      ],
      "execution_count": 93,
      "outputs": [
        {
          "output_type": "display_data",
          "data": {
            "image/png": "[encoded data removed]",
            "text/plain": [
              "<Figure size 432x288 with 1 Axes>"
            ]
          },
          "metadata": {
            "tags": [],
            "needs_background": "light"
          }
        }
      ]
    },
    {
      "cell_type": "code",
      "metadata": {
        "id": "RWz4DVIp0nuj"
      },
      "source": [
        "def get_wdc(op):\n",
        "    lr = op.learning_rate\n",
        "    wdc = CONFIG[\"weight_decay\"]*lr/CONFIG[\"max_lr\"]\n",
        "    return wdc\n",
        "\n",
        "initial_epoch = 0\n",
        "\n",
        "def get_lr(op):\n",
        "    lr = clr(op.iterations + initial_epoch*steps_per_epoch)\n",
        "    if tf.executing_eagerly():\n",
        "        return lr.numpy()\n",
        "    else:\n",
        "        return lr"
      ],
      "execution_count": 94,
      "outputs": []
    },
    {
      "cell_type": "code",
      "metadata": {
        "id": "yqk_6JVV03Ue"
      },
      "source": [
        "if CONFIG[\"optimizer\"] == 'adamw':\n",
        "    opt = tfa.optimizers.AdamW(learning_rate=lambda: clr, weight_decay=lambda : CONFIG[\"weight_decay\"])\n",
        "    # wd_schedule = tf.optimizers.schedules.ExponentialDecay(5e-5, 100, 0.9)    # weight_decay=lambda : None\n",
        "    opt.learning_rate = lambda : get_lr(opt)\n",
        "    if CONFIG[\"vary_weight_decay\"]:\n",
        "        opt.weight_decay = lambda : get_wdc(opt)\n",
        "elif CONFIG[\"optimizer\"] == 'adam':            # or just make weight_decay=0\n",
        "    opt = tf.keras.optimizers.Adam(learning_rate=clr)\n",
        "opt = tf.keras.mixed_precision.LossScaleOptimizer(opt)"
      ],
      "execution_count": 105,
      "outputs": []
    },
    {
      "cell_type": "code",
      "metadata": {
        "id": "CVv7YFEA03SE"
      },
      "source": [
        "if CONFIG[\"loss_function\"] == 'FocalTversky':\n",
        "    loss_function = FocalTversky()\n",
        "elif CONFIG[\"loss_function\"] == 'cce':\n",
        "    loss_function = cce"
      ],
      "execution_count": 106,
      "outputs": []
    },
    {
      "cell_type": "code",
      "metadata": {
        "id": "Hbb5bvp_03Pc"
      },
      "source": [
        "model.compile(optimizer=opt, loss=loss_function, metrics=[dsc])"
      ],
      "execution_count": 107,
      "outputs": []
    },
    {
      "cell_type": "code",
      "metadata": {
        "id": "kt6_Pewu0_FW"
      },
      "source": [
        "wandb_cb = WandbCallback(monitor='dsc', mode='max')"
      ],
      "execution_count": null,
      "outputs": []
    },
    {
      "cell_type": "code",
      "metadata": {
        "id": "_dD2Nbrh0-5O"
      },
      "source": [
        "class CustomCallback(tf.keras.callbacks.Callback):\n",
        "    def on_epoch_begin(self, epoch, logs=None):\n",
        "        img, lbl = next(iter(val_ds))\n",
        "        pred = self.model(img)\n",
        "        i = epoch % 2\n",
        "        img = img[i,1].numpy()\n",
        "        mn = img.min()\n",
        "        mx = img.max()\n",
        "        img = (img - mn)/(mx - mn) * 255\n",
        "        lbl = lbl[i,1:].numpy()*255\n",
        "        pred = pred[i,1:].numpy()*255\n",
        "        get_gif(img, lbl, pred, \"out.gif\")\n",
        "        wandb.log({\"Outputs\": wandb.Image(\"out.gif\")})"
      ],
      "execution_count": 108,
      "outputs": []
    },
    {
      "cell_type": "code",
      "metadata": {
        "id": "nk54vXOF1ZC1"
      },
      "source": [
        "history = model.fit(train_ds,\n",
        "                    epochs=100,\n",
        "                    steps_per_epoch=np.ceil(len(train_paths)/BATCH_SIZE),\n",
        "                    validation_data=val_ds,\n",
        "                    validation_steps=np.ceil(len(val_paths)//BATCH_SIZE),\n",
        "                    initial_epoch=initial_epoch,\n",
        "                    workers=4,\n",
        "                    use_multiprocessing=True,\n",
        "                    callbacks=[CustomCallback(), wandb_cb])"
      ],
      "execution_count": null,
      "outputs": []
    },
    {
      "cell_type": "code",
      "metadata": {
        "id": "WUdNNyl-1ktX"
      },
      "source": [
        "model.evaluate(val_ds, steps=np.ceil(len(val_paths)//BATCH_SIZE))"
      ],
      "execution_count": null,
      "outputs": []
    },
    {
      "cell_type": "code",
      "metadata": {
        "id": "ttJA6gGL1pv7"
      },
      "source": [
        "scores = []\n",
        "for i, (a,b) in tqdm(enumerate(train_ds)):\n",
        "    if i==steps_per_epoch:\n",
        "        break\n",
        "    o = model(a)\n",
        "    o = tf.cast(o, tf.float32)\n",
        "    scores.append(dsc(b,o))"
      ],
      "execution_count": null,
      "outputs": []
    },
    {
      "cell_type": "code",
      "metadata": {
        "id": "iZ1UO7i_1ppa"
      },
      "source": [
        "np.mean(scores, axis=0)"
      ],
      "execution_count": null,
      "outputs": []
    },
    {
      "cell_type": "code",
      "metadata": {
        "id": "m2qi8enp1maS"
      },
      "source": [
        "run.finish()"
      ],
      "execution_count": null,
      "outputs": []
    },
    {
      "cell_type": "code",
      "metadata": {
        "id": "YE5Nalss1mXj"
      },
      "source": [
        ""
      ],
      "execution_count": null,
      "outputs": []
    }
  ]
}