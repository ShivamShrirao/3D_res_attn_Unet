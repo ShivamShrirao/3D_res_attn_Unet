{
  "nbformat": 4,
  "nbformat_minor": 0,
  "metadata": {
    "colab": {
      "name": "3D_res_attn_Unet.ipynb",
      "provenance": [],
      "collapsed_sections": [],
      "machine_shape": "hm"
    },
    "kernelspec": {
      "name": "python3",
      "display_name": "Python 3"
    },
    "language_info": {
      "name": "python"
    },
    "accelerator": "GPU"
  },
  "cells": [
    {
      "cell_type": "code",
      "metadata": {
        "colab": {
          "base_uri": "https://localhost:8080/"
        },
        "id": "TmD9SLQpmNJF",
        "outputId": "de790e9e-fdf1-4136-dfdc-0a6c71ead93e"
      },
      "source": [
        "!nvidia-smi"
      ],
      "execution_count": 1,
      "outputs": [
        {
          "output_type": "stream",
          "text": [
            "Wed May 19 11:05:39 2021       \n",
            "+-----------------------------------------------------------------------------+\n",
            "| NVIDIA-SMI 465.19.01    Driver Version: 460.32.03    CUDA Version: 11.2     |\n",
            "|-------------------------------+----------------------+----------------------+\n",
            "| GPU  Name        Persistence-M| Bus-Id        Disp.A | Volatile Uncorr. ECC |\n",
            "| Fan  Temp  Perf  Pwr:Usage/Cap|         Memory-Usage | GPU-Util  Compute M. |\n",
            "|                               |                      |               MIG M. |\n",
            "|===============================+======================+======================|\n",
            "|   0  Tesla P100-PCIE...  Off  | 00000000:00:04.0 Off |                    0 |\n",
            "| N/A   33C    P0    27W / 250W |      0MiB / 16280MiB |      0%      Default |\n",
            "|                               |                      |                  N/A |\n",
            "+-------------------------------+----------------------+----------------------+\n",
            "                                                                               \n",
            "+-----------------------------------------------------------------------------+\n",
            "| Processes:                                                                  |\n",
            "|  GPU   GI   CI        PID   Type   Process name                  GPU Memory |\n",
            "|        ID   ID                                                   Usage      |\n",
            "|=============================================================================|\n",
            "|  No running processes found                                                 |\n",
            "+-----------------------------------------------------------------------------+\n"
          ],
          "name": "stdout"
        }
      ]
    },
    {
      "cell_type": "code",
      "metadata": {
        "colab": {
          "base_uri": "https://localhost:8080/"
        },
        "id": "AZI13ut7nBZF",
        "outputId": "6ee017b4-ad2a-4345-92c8-9cb8c7774612"
      },
      "source": [
        "%pip install -q tensorflow-addons[tensorflow]\n",
        "%pip install -q simpleitk\n",
        "# %pip install -q colab_ssh\n",
        "%pip install -q wandb"
      ],
      "execution_count": 2,
      "outputs": [
        {
          "output_type": "stream",
          "text": [
            "\u001b[K     |████████████████████████████████| 686kB 6.9MB/s \n",
            "\u001b[K     |████████████████████████████████| 47.4MB 114kB/s \n",
            "\u001b[K     |████████████████████████████████| 1.8MB 6.7MB/s \n",
            "\u001b[K     |████████████████████████████████| 102kB 10.0MB/s \n",
            "\u001b[K     |████████████████████████████████| 174kB 17.5MB/s \n",
            "\u001b[K     |████████████████████████████████| 133kB 21.4MB/s \n",
            "\u001b[K     |████████████████████████████████| 71kB 10.1MB/s \n",
            "\u001b[?25h  Building wheel for subprocess32 (setup.py) ... \u001b[?25l\u001b[?25hdone\n",
            "  Building wheel for pathtools (setup.py) ... \u001b[?25l\u001b[?25hdone\n"
          ],
          "name": "stdout"
        }
      ]
    },
    {
      "cell_type": "code",
      "metadata": {
        "colab": {
          "base_uri": "https://localhost:8080/"
        },
        "id": "MeRBZZsrxy7G",
        "outputId": "8126fad7-7b33-49dd-af8d-42f5840a05bc"
      },
      "source": [
        "!gdown https://drive.google.com/uc?id=1jYb-dKqywLm5bQ5esP6YSV5xuBzqBPqm"
      ],
      "execution_count": 3,
      "outputs": [
        {
          "output_type": "stream",
          "text": [
            "Downloading...\n",
            "From: https://drive.google.com/uc?id=1jYb-dKqywLm5bQ5esP6YSV5xuBzqBPqm\n",
            "To: /content/BRATS_Dataset.tar.gz\n",
            "2.76GB [00:24, 113MB/s]\n"
          ],
          "name": "stdout"
        }
      ]
    },
    {
      "cell_type": "code",
      "metadata": {
        "colab": {
          "base_uri": "https://localhost:8080/"
        },
        "id": "MCwAJtyIx0oX",
        "outputId": "cddf8b44-88bf-457d-ad83-ec13b9697301"
      },
      "source": [
        "!apt -qq install pigz"
      ],
      "execution_count": 4,
      "outputs": [
        {
          "output_type": "stream",
          "text": [
            "The following package was automatically installed and is no longer required:\n",
            "  libnvidia-common-460\n",
            "Use 'apt autoremove' to remove it.\n",
            "The following NEW packages will be installed:\n",
            "  pigz\n",
            "0 upgraded, 1 newly installed, 0 to remove and 34 not upgraded.\n",
            "Need to get 57.4 kB of archives.\n",
            "After this operation, 259 kB of additional disk space will be used.\n",
            "Selecting previously unselected package pigz.\n",
            "(Reading database ... 160715 files and directories currently installed.)\n",
            "Preparing to unpack .../archives/pigz_2.4-1_amd64.deb ...\n",
            "Unpacking pigz (2.4-1) ...\n",
            "Setting up pigz (2.4-1) ...\n",
            "Processing triggers for man-db (2.8.3-2ubuntu0.1) ...\n"
          ],
          "name": "stdout"
        }
      ]
    },
    {
      "cell_type": "code",
      "metadata": {
        "id": "RBS9P9pVyL0p"
      },
      "source": [
        "!pigz -dc BRATS_Dataset.tar.gz | tar xf -"
      ],
      "execution_count": 5,
      "outputs": []
    },
    {
      "cell_type": "code",
      "metadata": {
        "id": "iwMjK_O6yL-5"
      },
      "source": [
        "!rm BRATS_Dataset.tar.gz"
      ],
      "execution_count": 6,
      "outputs": []
    },
    {
      "cell_type": "code",
      "metadata": {
        "colab": {
          "base_uri": "https://localhost:8080/"
        },
        "id": "6bu-os4Kqoiq",
        "outputId": "02622cc6-71e7-4400-f2e4-4ce292acd76d"
      },
      "source": [
        "%cd /content\n",
        "!rm -rf 3D_res_attn_Unet"
      ],
      "execution_count": 7,
      "outputs": [
        {
          "output_type": "stream",
          "text": [
            "/content\n"
          ],
          "name": "stdout"
        }
      ]
    },
    {
      "cell_type": "code",
      "metadata": {
        "colab": {
          "base_uri": "https://localhost:8080/"
        },
        "id": "B5UZTWx-mb7Y",
        "outputId": "e961d1ff-56d7-4956-a273-1a8f00b6e092"
      },
      "source": [
        "!git clone https://github.com/ShivamShrirao/3D_res_attn_Unet"
      ],
      "execution_count": 8,
      "outputs": [
        {
          "output_type": "stream",
          "text": [
            "Cloning into '3D_res_attn_Unet'...\n",
            "remote: Enumerating objects: 80, done.\u001b[K\n",
            "remote: Counting objects: 100% (80/80), done.\u001b[K\n",
            "remote: Compressing objects: 100% (54/54), done.\u001b[K\n",
            "remote: Total 80 (delta 47), reused 55 (delta 22), pack-reused 0\u001b[K\n",
            "Unpacking objects: 100% (80/80), done.\n"
          ],
          "name": "stdout"
        }
      ]
    },
    {
      "cell_type": "code",
      "metadata": {
        "colab": {
          "base_uri": "https://localhost:8080/"
        },
        "id": "SDsMVBQUEX_C",
        "outputId": "3d555b8c-3670-4063-ae43-d39f942971d9"
      },
      "source": [
        "%cd 3D_res_attn_Unet"
      ],
      "execution_count": 1,
      "outputs": [
        {
          "output_type": "stream",
          "text": [
            "/content/3D_res_attn_Unet\n"
          ],
          "name": "stdout"
        }
      ]
    },
    {
      "cell_type": "code",
      "metadata": {
        "id": "fYq1D1nrmMfW"
      },
      "source": [
        "%load_ext tensorboard\n",
        "%load_ext autoreload\n",
        "%autoreload 2"
      ],
      "execution_count": 3,
      "outputs": []
    },
    {
      "cell_type": "code",
      "metadata": {
        "id": "VxV8loizyQk5"
      },
      "source": [
        "import SimpleITK as sitk"
      ],
      "execution_count": 4,
      "outputs": []
    },
    {
      "cell_type": "code",
      "metadata": {
        "id": "RyvK3bkmmRF5"
      },
      "source": [
        "import tensorflow as tf\n",
        "from tensorflow.keras import layers\n",
        "import tensorflow_addons as tfa\n",
        "import numpy as np\n",
        "import matplotlib.pyplot as plt\n",
        "import PIL.Image\n",
        "import glob\n",
        "from tqdm.notebook import tqdm\n",
        "from time import time\n",
        "%matplotlib inline"
      ],
      "execution_count": 5,
      "outputs": []
    },
    {
      "cell_type": "code",
      "metadata": {
        "colab": {
          "base_uri": "https://localhost:8080/"
        },
        "id": "x8wLJQSNmV8W",
        "outputId": "2ccc16e6-9ae5-4251-f887-ab47cbb510c8"
      },
      "source": [
        "from tensorflow.keras.mixed_precision import experimental as mixed_precision\n",
        "policy = mixed_precision.Policy('mixed_float16')\n",
        "mixed_precision.set_policy(policy)"
      ],
      "execution_count": 6,
      "outputs": [
        {
          "output_type": "stream",
          "text": [
            "WARNING:tensorflow:Mixed precision compatibility check (mixed_float16): WARNING\n",
            "Your GPU may run slowly with dtype policy mixed_float16 because it does not have compute capability of at least 7.0. Your GPU:\n",
            "  Tesla P100-PCIE-16GB, compute capability 6.0\n",
            "See https://developer.nvidia.com/cuda-gpus for a list of GPUs and their compute capabilities.\n",
            "If you will use compatible GPU(s) not attached to this host, e.g. by running a multi-worker model, you can ignore this warning. This message will only be logged once\n",
            "WARNING:tensorflow:From /usr/local/lib/python3.7/dist-packages/tensorflow/python/keras/mixed_precision/loss_scale.py:56: DynamicLossScale.__init__ (from tensorflow.python.training.experimental.loss_scale) is deprecated and will be removed in a future version.\n",
            "Instructions for updating:\n",
            "Use tf.keras.mixed_precision.LossScaleOptimizer instead. LossScaleOptimizer now has all the functionality of DynamicLossScale\n"
          ],
          "name": "stdout"
        }
      ]
    },
    {
      "cell_type": "code",
      "metadata": {
        "id": "DH9zA80Lyblg"
      },
      "source": [
        "def get_data_paths(dataset_path):\n",
        "    t1 = glob.glob(dataset_path+'/*GG/*/*t1.nii.gz')\n",
        "    t2 = glob.glob(dataset_path+'/*GG/*/*t2.nii.gz')\n",
        "    t1ce = glob.glob(dataset_path+'/*GG/*/*t1ce.nii.gz')\n",
        "    flair = glob.glob(dataset_path+'/*GG/*/*flair.nii.gz')\n",
        "    seg = glob.glob(dataset_path+'/*GG/*/*seg.nii.gz')\n",
        "    return list(zip(t1, t2, t1ce, flair, seg))"
      ],
      "execution_count": 7,
      "outputs": []
    },
    {
      "cell_type": "code",
      "metadata": {
        "id": "KoB8nSTVyfUX"
      },
      "source": [
        "train_paths = get_data_paths('../BRATS_Dataset/brats_dataset/')\n",
        "val_paths = get_data_paths('../BRATS_Dataset/brats_test_dataset/')"
      ],
      "execution_count": 8,
      "outputs": []
    },
    {
      "cell_type": "code",
      "metadata": {
        "colab": {
          "base_uri": "https://localhost:8080/"
        },
        "id": "B2BFkvT4yfRU",
        "outputId": "2eeebce3-b00a-4e1f-96bb-3ba35f02aa06"
      },
      "source": [
        "len(train_paths), len(val_paths)"
      ],
      "execution_count": 9,
      "outputs": [
        {
          "output_type": "execute_result",
          "data": {
            "text/plain": [
              "(285, 50)"
            ]
          },
          "metadata": {
            "tags": []
          },
          "execution_count": 9
        }
      ]
    },
    {
      "cell_type": "code",
      "metadata": {
        "id": "T-GTEwiqy1E_"
      },
      "source": [
        "from model.preprocess import *"
      ],
      "execution_count": 10,
      "outputs": []
    },
    {
      "cell_type": "code",
      "metadata": {
        "id": "QNGVcTA5fS51"
      },
      "source": [
        "mean = tf.constant([0.06301811, 0.05202341, 0.04396216, 0.05345017], shape=(1, 4, 1, 1, 1))\n",
        "std  = tf.constant([0.14905235, 0.12771605, 0.1042005 , 0.12938198], shape=(1, 4, 1, 1, 1))"
      ],
      "execution_count": 11,
      "outputs": []
    },
    {
      "cell_type": "code",
      "metadata": {
        "id": "BLUheTvAyfNE"
      },
      "source": [
        "# mean = []\n",
        "# std = []\n",
        "# for tp in tqdm(train_paths[0:100]):\n",
        "#     img, lbl = load_img(tp)\n",
        "#     img = tf.cast(img, tf.float32)/255.0\n",
        "#     mean.append(tf.reduce_mean(img, axis=[1,2,3]))\n",
        "#     std.append(tf.math.reduce_std(img, axis=[1,2,3]))\n",
        "# mean = tf.reshape(tf.reduce_mean(mean, axis=0), (1, 4, 1, 1, 1))\n",
        "# std = tf.reshape(tf.reduce_mean(std, axis=0), (1, 4, 1, 1, 1))"
      ],
      "execution_count": 12,
      "outputs": []
    },
    {
      "cell_type": "code",
      "metadata": {
        "colab": {
          "base_uri": "https://localhost:8080/"
        },
        "id": "gELRSfJLyfKe",
        "outputId": "008f1d2a-dbd2-422e-ccaf-a9c9fe4aee09"
      },
      "source": [
        "depth = 128 # 155\n",
        "height = 192 # 240\n",
        "width = 160 # 240\n",
        "(155-depth, 240-height, 240-width)"
      ],
      "execution_count": 14,
      "outputs": [
        {
          "output_type": "execute_result",
          "data": {
            "text/plain": [
              "(27, 48, 80)"
            ]
          },
          "metadata": {
            "tags": []
          },
          "execution_count": 14
        }
      ]
    },
    {
      "cell_type": "code",
      "metadata": {
        "id": "hA8i-idEyfGn"
      },
      "source": [
        "def random_crop3D(imgs, lbls, train=True):          # Crops image to size (128, 192, 160)\n",
        "    d_cr, h_cr, w_cr = 13, 24, 40\n",
        "    if train:\n",
        "        if tf.random.uniform([], 0, 1, dtype=tf.float32) <= 0.8:\n",
        "            d_cr = tf.random.uniform([], 0, 27, dtype=tf.int32)\n",
        "            h_cr = tf.random.uniform([], 0, 48, dtype=tf.int32)\n",
        "            w_cr = tf.random.uniform([], 0, 80, dtype=tf.int32)\n",
        "    imgs = imgs[:, :, d_cr:d_cr+depth, h_cr:h_cr+height, w_cr:w_cr+width]\n",
        "    lbls = lbls[:, :, d_cr:d_cr+depth, h_cr:h_cr+height, w_cr:w_cr+width]\n",
        "    return imgs, lbls"
      ],
      "execution_count": 15,
      "outputs": []
    },
    {
      "cell_type": "code",
      "metadata": {
        "id": "Kla_BA_JyfCP"
      },
      "source": [
        "def final_augmentation(img, lbl, train=True):       # input img[B, 4, 155, 240, 240], output[B, 4, 128, 192, 160]\n",
        "    img, lbl = random_crop3D(img, lbl, train)\n",
        "    img = tf.cast(img, tf.float32)/255.0\n",
        "    lbl = tf.cast(lbl, tf.float32)\n",
        "    if train:\n",
        "        img = tf.image.random_brightness(img, 0.2)      # source code checked, it's fine for 3D\n",
        "    # img = tf.image.per_image_standardization(img)   # source code checked, it's fine for 3D\n",
        "    img = (img - mean) / std\n",
        "    return img, lbl"
      ],
      "execution_count": 16,
      "outputs": []
    },
    {
      "cell_type": "code",
      "metadata": {
        "id": "-jYQgwzeye7w"
      },
      "source": [
        "BATCH_SIZE = 2\n",
        "AUTOTUNE = tf.data.experimental.AUTOTUNE"
      ],
      "execution_count": 17,
      "outputs": []
    },
    {
      "cell_type": "code",
      "metadata": {
        "id": "4CRpmKSryeMY"
      },
      "source": [
        "def get_tfds(data_paths, train=False):\n",
        "    # 53.3373920917511 s\n",
        "    dataset = tf.data.Dataset.from_tensor_slices(data_paths)\n",
        "    if train:\n",
        "        dataset = dataset.shuffle(len(data_paths))\n",
        "    dataset = dataset.map(load_paths_wrapper, num_parallel_calls=AUTOTUNE)\n",
        "    if train:\n",
        "        dataset = dataset.map(random_rotate3D, num_parallel_calls=AUTOTUNE)\n",
        "    dataset = dataset.repeat()\n",
        "    dataset = dataset.batch(BATCH_SIZE)\n",
        "    if train:\n",
        "        dataset = dataset.map(random_flip3D, num_parallel_calls=AUTOTUNE)\n",
        "    dataset = dataset.map(lambda x,y: final_augmentation(x,y,train), num_parallel_calls=AUTOTUNE)      # remove for test,val\n",
        "    dataset = dataset.prefetch(AUTOTUNE)\n",
        "    return dataset"
      ],
      "execution_count": 18,
      "outputs": []
    },
    {
      "cell_type": "code",
      "metadata": {
        "id": "aLVvTfMPzSgG"
      },
      "source": [
        "train_ds = get_tfds(train_paths, train=True)\n",
        "val_ds = get_tfds(val_paths)"
      ],
      "execution_count": 19,
      "outputs": []
    },
    {
      "cell_type": "code",
      "metadata": {
        "id": "k_u6nfUhzT9C"
      },
      "source": [
        "import wandb\n",
        "from wandb.keras import WandbCallback"
      ],
      "execution_count": 20,
      "outputs": []
    },
    {
      "cell_type": "code",
      "metadata": {
        "colab": {
          "base_uri": "https://localhost:8080/"
        },
        "id": "39ZKOyeDzT6O",
        "outputId": "38b36399-a096-47f9-cb89-8a25d3709be7"
      },
      "source": [
        "wandb.login()"
      ],
      "execution_count": 21,
      "outputs": [
        {
          "output_type": "stream",
          "text": [
            "\u001b[34m\u001b[1mwandb\u001b[0m: Currently logged in as: \u001b[33mshivamshrirao\u001b[0m (use `wandb login --relogin` to force relogin)\n"
          ],
          "name": "stderr"
        },
        {
          "output_type": "execute_result",
          "data": {
            "text/plain": [
              "True"
            ]
          },
          "metadata": {
            "tags": []
          },
          "execution_count": 21
        }
      ]
    },
    {
      "cell_type": "code",
      "metadata": {
        "id": "yUud1K2iloXZ"
      },
      "source": [
        "config_defaults = {\n",
        "    'activation'            : 'leaky_relu',\n",
        "    'batch_size'            : BATCH_SIZE,\n",
        "    'block_type'            : 'AttnBottleneckBlock',\n",
        "    'clr_step_size'         : 10,\n",
        "    'clr_offset_ep'         : 5,\n",
        "    'groups'                : 48,\n",
        "    'dp_rate'               : 0.25,\n",
        "    'dropout_type'          : 'Spatial',\n",
        "    'frac_dv'               : 0,\n",
        "    'loss_function'         : 'FocalTversky',\n",
        "    'max_lr'                : 8e-4,\n",
        "    'min_lr'                : 2e-6,\n",
        "    'nheads'                : 8,\n",
        "    'norm'                  : 'gn',\n",
        "    'optimizer'             : 'adamw',\n",
        "    'vary_weight_decay'     : True,\n",
        "    'weight_decay'          : 2e-5,     # max weight decay\n",
        "}\n",
        "CONFIG = config_defaults"
      ],
      "execution_count": 22,
      "outputs": []
    },
    {
      "cell_type": "code",
      "metadata": {
        "id": "RjaGe7P4z1qV",
        "colab": {
          "base_uri": "https://localhost:8080/",
          "height": 119
        },
        "outputId": "8b85871c-f0bd-442a-9b4d-00a85a474f79"
      },
      "source": [
        "run = wandb.init(project=\"3D_res_attn_Unet\", entity=\"shivamshrirao\", config=config_defaults)\n",
        "CONFIG = wandb.config"
      ],
      "execution_count": 23,
      "outputs": [
        {
          "output_type": "display_data",
          "data": {
            "text/html": [
              "\n",
              "                Tracking run with wandb version 0.10.30<br/>\n",
              "                Syncing run <strong style=\"color:#cdcd00\">vague-dream-5</strong> to <a href=\"https://wandb.ai\" target=\"_blank\">Weights & Biases</a> <a href=\"https://docs.wandb.com/integrations/jupyter.html\" target=\"_blank\">(Documentation)</a>.<br/>\n",
              "                Project page: <a href=\"https://wandb.ai/shivamshrirao/3D_res_attn_Unet\" target=\"_blank\">https://wandb.ai/shivamshrirao/3D_res_attn_Unet</a><br/>\n",
              "                Run page: <a href=\"https://wandb.ai/shivamshrirao/3D_res_attn_Unet/runs/21mtkw65\" target=\"_blank\">https://wandb.ai/shivamshrirao/3D_res_attn_Unet/runs/21mtkw65</a><br/>\n",
              "                Run data is saved locally in <code>/content/3D_res_attn_Unet/wandb/run-20210519_120356-21mtkw65</code><br/><br/>\n",
              "            "
            ],
            "text/plain": [
              "<IPython.core.display.HTML object>"
            ]
          },
          "metadata": {
            "tags": []
          }
        }
      ]
    },
    {
      "cell_type": "code",
      "metadata": {
        "colab": {
          "base_uri": "https://localhost:8080/"
        },
        "id": "8PNd1IfZ7D-R",
        "outputId": "df64b5cf-44c0-452d-8902-1b3b0424ee00"
      },
      "source": [
        "mean.numpy().ravel(), std.numpy().ravel()"
      ],
      "execution_count": 24,
      "outputs": [
        {
          "output_type": "execute_result",
          "data": {
            "text/plain": [
              "(array([0.06301811, 0.05202341, 0.04396216, 0.05345017], dtype=float32),\n",
              " array([0.14905235, 0.12771605, 0.1042005 , 0.12938198], dtype=float32))"
            ]
          },
          "metadata": {
            "tags": []
          },
          "execution_count": 24
        }
      ]
    },
    {
      "cell_type": "code",
      "metadata": {
        "id": "muugExNpz1lY"
      },
      "source": [
        "tf.keras.backend.set_image_data_format('channels_first')"
      ],
      "execution_count": 25,
      "outputs": []
    },
    {
      "cell_type": "code",
      "metadata": {
        "id": "hRbHoACDz8_D"
      },
      "source": [
        "## attention shortcuts to be used.\n",
        "## try attention on the unet shortcuts\n",
        "## try Global Context Block\n",
        "## try input image pyramid and deep supervised output layers (output from intermediate layers (fuse with conv-sigmoid like U^2net ??))\n",
        "## TRY PIXELSHUFFLE\n",
        "## Try SPARSE CONV NET https://github.com/facebookresearch/SparseConvNet"
      ],
      "execution_count": 26,
      "outputs": []
    },
    {
      "cell_type": "code",
      "metadata": {
        "id": "nRY6Np0vmy6h"
      },
      "source": [
        "from model.conv_blocks import ConvNorm, NormAct, BasicBlock, AttnBottleneckBlock, down_stack, up_stack"
      ],
      "execution_count": 27,
      "outputs": []
    },
    {
      "cell_type": "code",
      "metadata": {
        "id": "mWXn8he2nt5W"
      },
      "source": [
        "def enc_dec(x, block, frac_dv, stack_args):     # x(64,64,96,80)\n",
        "    x1 = down_stack(x ,  64, nblocks=2, block=block, strides=2, **stack_args)     # (256,32,48,40)\n",
        "    x2 = down_stack(x1, 128, nblocks=2, block=block, strides=2, **stack_args)     # (512,16,24,20)\n",
        "    x3 = down_stack(x2, 256, nblocks=2, block=block, strides=2, frac_dv=frac_dv, **stack_args) # (1024, 8,12,10)\n",
        "    x4 = down_stack(x3, 256, nblocks=3, block=block, strides=2, frac_dv=frac_dv, **stack_args) # (1024, 4, 6, 5)\n",
        "\n",
        "    y = up_stack(x4,x3, 128, nblocks=3, block=block, strides=2, frac_dv=frac_dv, **stack_args) # (1024+1024->512,8,12,10)\n",
        "    y = up_stack(y, x2,  64, nblocks=2, block=block, strides=2, **stack_args)     # (512+512->256,16,24,20)\n",
        "    y = up_stack(y, x1,  32, nblocks=2, block=block, strides=2, **stack_args)     # (256+256->128,32,48,40)\n",
        "    y = up_stack(y, x ,  16, nblocks=1, block=block, strides=2, **stack_args)     # (128+ 64-> 64,64,96,80)\n",
        "    return y\n",
        "\n",
        "\n",
        "def build_network(cfg, block, input_shape=(4,128,192,160), classes=4):\n",
        "    stack_args = {'activation': cfg['activation'], 'groups': cfg['groups'], 'norm': cfg['norm'],\n",
        "                  'dp_rate': cfg['dp_rate'], 'dropout_type': cfg['dropout_type']}\n",
        "\n",
        "    inp = layers.Input(shape=input_shape)                           # ( 4,128,192,160)\n",
        "    x = inp\n",
        "    x = ConvNorm(32, kernel_size=3, strides=2, activation=cfg['activation'], norm=cfg['norm'])(x)   # (32,64,96,80)\n",
        "    x = ConvNorm(64, kernel_size=3, do_norm_act=False)(x)                               # (64, 64, 96, 80)\n",
        "\n",
        "    x = enc_dec(x, block, cfg['frac_dv'], stack_args)                                   # (64, 64, 96, 80)\n",
        "\n",
        "    x = NormAct(activation=cfg['activation'], norm=cfg['norm'])(x)\n",
        "    x = layers.UpSampling3D(data_format=\"channels_first\")(x)                            # (64,128,192,160)\n",
        "    x = ConvNorm(16, kernel_size=3, activation=cfg['activation'], norm=cfg['norm'])(x)  # (16,128,192,160)\n",
        "    x = ConvNorm(classes, kernel_size=3, do_norm_act=False)(x)                          #(3,128,192,160)\n",
        "    x = layers.Softmax(axis=1)(x)         # softmax cause each pixel has unique class, no overlap with other classes, verified.\n",
        "\n",
        "    return tf.keras.Model(inputs=inp, outputs=x)"
      ],
      "execution_count": 28,
      "outputs": []
    },
    {
      "cell_type": "code",
      "metadata": {
        "id": "d3He9IJQqzHq"
      },
      "source": [
        "block = AttnBottleneckBlock\n",
        "CONFIG['block_type'] = block.__name__\n",
        "model = build_network(CONFIG, block, input_shape=(4,depth,height,width), classes=4)"
      ],
      "execution_count": 29,
      "outputs": []
    },
    {
      "cell_type": "code",
      "metadata": {
        "colab": {
          "base_uri": "https://localhost:8080/"
        },
        "id": "alHQI9fntI0U",
        "outputId": "9e5d75aa-3610-43dd-8fb8-a5771ba3f5dc"
      },
      "source": [
        "model.summary()"
      ],
      "execution_count": 30,
      "outputs": [
        {
          "output_type": "stream",
          "text": [
            "Model: \"model\"\n",
            "__________________________________________________________________________________________________\n",
            "Layer (type)                    Output Shape         Param #     Connected to                     \n",
            "==================================================================================================\n",
            "input_1 (InputLayer)            [(None, 4, 128, 192, 0                                            \n",
            "__________________________________________________________________________________________________\n",
            "conv_norm (ConvNorm)            (None, 32, 64, 96, 8 3584        input_1[0][0]                    \n",
            "__________________________________________________________________________________________________\n",
            "conv_norm_1 (ConvNorm)          (None, 64, 64, 96, 8 55360       conv_norm[0][0]                  \n",
            "__________________________________________________________________________________________________\n",
            "attn_bottleneck_block (AttnBott (None, 256, 32, 48,  43728       conv_norm_1[0][0]                \n",
            "__________________________________________________________________________________________________\n",
            "attn_bottleneck_block_1 (AttnBo (None, 256, 32, 48,  40144       attn_bottleneck_block[0][0]      \n",
            "__________________________________________________________________________________________________\n",
            "attn_bottleneck_block_2 (AttnBo (None, 512, 16, 24,  254624      attn_bottleneck_block_1[0][0]    \n",
            "__________________________________________________________________________________________________\n",
            "attn_bottleneck_block_3 (AttnBo (None, 512, 16, 24,  156832      attn_bottleneck_block_2[0][0]    \n",
            "__________________________________________________________________________________________________\n",
            "attn_bottleneck_block_4 (AttnBo (None, 1024, 8, 12,  1012032     attn_bottleneck_block_3[0][0]    \n",
            "__________________________________________________________________________________________________\n",
            "attn_bottleneck_block_5 (AttnBo (None, 1024, 8, 12,  619840      attn_bottleneck_block_4[0][0]    \n",
            "__________________________________________________________________________________________________\n",
            "attn_bottleneck_block_6 (AttnBo (None, 1024, 4, 6, 5 619840      attn_bottleneck_block_5[0][0]    \n",
            "__________________________________________________________________________________________________\n",
            "attn_bottleneck_block_7 (AttnBo (None, 1024, 4, 6, 5 619840      attn_bottleneck_block_6[0][0]    \n",
            "__________________________________________________________________________________________________\n",
            "attn_bottleneck_block_8 (AttnBo (None, 1024, 4, 6, 5 619840      attn_bottleneck_block_7[0][0]    \n",
            "__________________________________________________________________________________________________\n",
            "up_sampling3d (UpSampling3D)    (None, 1024, 8, 12,  0           attn_bottleneck_block_8[0][0]    \n",
            "__________________________________________________________________________________________________\n",
            "concatenate (Concatenate)       (None, 2048, 8, 12,  0           up_sampling3d[0][0]              \n",
            "                                                                 attn_bottleneck_block_5[0][0]    \n",
            "__________________________________________________________________________________________________\n",
            "attn_bottleneck_block_9 (AttnBo (None, 512, 8, 12, 1 1408672     concatenate[0][0]                \n",
            "__________________________________________________________________________________________________\n",
            "attn_bottleneck_block_10 (AttnB (None, 512, 8, 12, 1 156832      attn_bottleneck_block_9[0][0]    \n",
            "__________________________________________________________________________________________________\n",
            "attn_bottleneck_block_11 (AttnB (None, 512, 8, 12, 1 156832      attn_bottleneck_block_10[0][0]   \n",
            "__________________________________________________________________________________________________\n",
            "up_sampling3d_1 (UpSampling3D)  (None, 512, 16, 24,  0           attn_bottleneck_block_11[0][0]   \n",
            "__________________________________________________________________________________________________\n",
            "concatenate_1 (Concatenate)     (None, 1024, 16, 24, 0           up_sampling3d_1[0][0]            \n",
            "                                                                 attn_bottleneck_block_3[0][0]    \n",
            "__________________________________________________________________________________________________\n",
            "attn_bottleneck_block_12 (AttnB (None, 256, 16, 24,  354768      concatenate_1[0][0]              \n",
            "__________________________________________________________________________________________________\n",
            "attn_bottleneck_block_13 (AttnB (None, 256, 16, 24,  40144       attn_bottleneck_block_12[0][0]   \n",
            "__________________________________________________________________________________________________\n",
            "up_sampling3d_2 (UpSampling3D)  (None, 256, 32, 48,  0           attn_bottleneck_block_13[0][0]   \n",
            "__________________________________________________________________________________________________\n",
            "concatenate_2 (Concatenate)     (None, 512, 32, 48,  0           up_sampling3d_2[0][0]            \n",
            "                                                                 attn_bottleneck_block_1[0][0]    \n",
            "__________________________________________________________________________________________________\n",
            "attn_bottleneck_block_14 (AttnB (None, 128, 32, 48,  89992       concatenate_2[0][0]              \n",
            "__________________________________________________________________________________________________\n",
            "attn_bottleneck_block_15 (AttnB (None, 128, 32, 48,  10504       attn_bottleneck_block_14[0][0]   \n",
            "__________________________________________________________________________________________________\n",
            "up_sampling3d_3 (UpSampling3D)  (None, 128, 64, 96,  0           attn_bottleneck_block_15[0][0]   \n",
            "__________________________________________________________________________________________________\n",
            "concatenate_3 (Concatenate)     (None, 192, 64, 96,  0           up_sampling3d_3[0][0]            \n",
            "                                                                 conv_norm_1[0][0]                \n",
            "__________________________________________________________________________________________________\n",
            "attn_bottleneck_block_16 (AttnB (None, 64, 64, 96, 8 17988       concatenate_3[0][0]              \n",
            "__________________________________________________________________________________________________\n",
            "norm_act_17 (NormAct)           (None, 64, 64, 96, 8 256         attn_bottleneck_block_16[0][0]   \n",
            "__________________________________________________________________________________________________\n",
            "up_sampling3d_4 (UpSampling3D)  (None, 64, 128, 192, 0           norm_act_17[0][0]                \n",
            "__________________________________________________________________________________________________\n",
            "conv_norm_2 (ConvNorm)          (None, 16, 128, 192, 27712       up_sampling3d_4[0][0]            \n",
            "__________________________________________________________________________________________________\n",
            "conv_norm_3 (ConvNorm)          (None, 4, 128, 192,  1732        conv_norm_2[0][0]                \n",
            "__________________________________________________________________________________________________\n",
            "softmax (Softmax)               (None, 4, 128, 192,  0           conv_norm_3[0][0]                \n",
            "==================================================================================================\n",
            "Total params: 6,311,096\n",
            "Trainable params: 6,280,088\n",
            "Non-trainable params: 31,008\n",
            "__________________________________________________________________________________________________\n"
          ],
          "name": "stdout"
        }
      ]
    },
    {
      "cell_type": "code",
      "metadata": {
        "id": "aDyefuc20tAo"
      },
      "source": [
        "model_plot = tf.keras.utils.plot_model(model, to_file='/content/model.png', show_shapes=True, dpi=None)"
      ],
      "execution_count": 31,
      "outputs": []
    },
    {
      "cell_type": "code",
      "metadata": {
        "id": "83ItIV7aZHed"
      },
      "source": [
        "wandb.log({\"model\": wandb.Image(\"/content/model.png\")})"
      ],
      "execution_count": 32,
      "outputs": []
    },
    {
      "cell_type": "code",
      "metadata": {
        "id": "MXx318sknylB"
      },
      "source": [
        "from tensorflow.python.client import session\n",
        "from tensorflow.python.summary import summary"
      ],
      "execution_count": 33,
      "outputs": []
    },
    {
      "cell_type": "code",
      "metadata": {
        "id": "gylV6eyKXj_c"
      },
      "source": [
        "log_dir = \"/content/trace_log\"\n",
        "!rm -rf $log_dir\n",
        "\n",
        "@tf.function\n",
        "def trace(x):\n",
        "    return model(x)\n",
        "\n",
        "data = tf.random.normal((2,) + model.input_shape[1:])\n",
        "data = tf.constant(data)\n",
        "\n",
        "imported_g = trace.get_concrete_function(data).graph\n",
        "\n",
        "# Export the graph\n",
        "with session.Session(graph=imported_g) as sess:\n",
        "    pb_visual_writer = summary.FileWriter(log_dir)\n",
        "    pb_visual_writer.add_graph(sess.graph)"
      ],
      "execution_count": 34,
      "outputs": []
    },
    {
      "cell_type": "code",
      "metadata": {
        "id": "m0GzUyfRXt_G"
      },
      "source": [
        "%tensorboard --logdir /content/trace_log"
      ],
      "execution_count": null,
      "outputs": []
    },
    {
      "cell_type": "code",
      "metadata": {
        "colab": {
          "base_uri": "https://localhost:8080/",
          "height": 34
        },
        "id": "MDQCKTmBjlOt",
        "outputId": "3176f362-9ebc-43fb-a4e0-02d0693dbf16"
      },
      "source": [
        "from google.colab.output import eval_js\n",
        "print(eval_js(\"google.colab.kernel.proxyPort(6006)\"))"
      ],
      "execution_count": 36,
      "outputs": [
        {
          "output_type": "stream",
          "text": [
            "https://2wi4nm079zg-496ff2e9c6d22116-6006-colab.googleusercontent.com/\n"
          ],
          "name": "stdout"
        }
      ]
    },
    {
      "cell_type": "code",
      "metadata": {
        "colab": {
          "base_uri": "https://localhost:8080/"
        },
        "id": "TO3HwVYoEpFA",
        "outputId": "20fb198a-eb49-4318-8df9-cad2e5fafef3"
      },
      "source": [
        "import gc\n",
        "gc.collect()"
      ],
      "execution_count": 38,
      "outputs": [
        {
          "output_type": "execute_result",
          "data": {
            "text/plain": [
              "290"
            ]
          },
          "metadata": {
            "tags": []
          },
          "execution_count": 38
        }
      ]
    },
    {
      "cell_type": "code",
      "metadata": {
        "id": "uar0LFgp0n1-"
      },
      "source": [
        "from model.losses import *\n",
        "from model.utils import *"
      ],
      "execution_count": 39,
      "outputs": []
    },
    {
      "cell_type": "code",
      "metadata": {
        "colab": {
          "base_uri": "https://localhost:8080/",
          "height": 265
        },
        "id": "8lX3j_he0nxj",
        "outputId": "c50476ae-8c71-4102-8547-e571496ff4e1"
      },
      "source": [
        "steps_per_epoch = int(np.ceil(len(train_paths)/BATCH_SIZE))\n",
        "clr = tfa.optimizers.Triangular2CyclicalLearningRate(\n",
        "            initial_learning_rate=CONFIG[\"min_lr\"],\n",
        "            maximal_learning_rate=CONFIG[\"max_lr\"],\n",
        "            step_size=CONFIG[\"clr_step_size\"] * steps_per_epoch,\n",
        "            scale_mode=\"cycle\")\n",
        "domain = range(0, 100*steps_per_epoch, 32)\n",
        "lr_log = [clr(i).numpy() for i in domain]\n",
        "plt.plot(domain, lr_log)\n",
        "plt.show()"
      ],
      "execution_count": 40,
      "outputs": [
        {
          "output_type": "display_data",
          "data": {
            "image/png": "[encoded data removed]",
            "text/plain": [
              "<Figure size 432x288 with 1 Axes>"
            ]
          },
          "metadata": {
            "tags": [],
            "needs_background": "light"
          }
        }
      ]
    },
    {
      "cell_type": "code",
      "metadata": {
        "id": "RWz4DVIp0nuj"
      },
      "source": [
        "def get_wdc(op):\n",
        "    lr = op.learning_rate\n",
        "    wdc = CONFIG[\"weight_decay\"]*lr/CONFIG[\"max_lr\"]\n",
        "    return wdc\n",
        "\n",
        "initial_epoch = 0\n",
        "clr_offset_ep = CONFIG[\"clr_offset_ep\"]\n",
        "\n",
        "def get_lr(op):\n",
        "    lr = clr(op.iterations + (initial_epoch + clr_offset_ep)*steps_per_epoch)\n",
        "    if tf.executing_eagerly():\n",
        "        return lr.numpy()\n",
        "    else:\n",
        "        return lr"
      ],
      "execution_count": 41,
      "outputs": []
    },
    {
      "cell_type": "code",
      "metadata": {
        "id": "yqk_6JVV03Ue"
      },
      "source": [
        "if CONFIG[\"optimizer\"] == 'adamw':\n",
        "    opt = tfa.optimizers.AdamW(learning_rate=lambda: clr, weight_decay=lambda : CONFIG[\"weight_decay\"])\n",
        "    # wd_schedule = tf.optimizers.schedules.ExponentialDecay(5e-5, 100, 0.9)    # weight_decay=lambda : None\n",
        "    opt.learning_rate = lambda : get_lr(opt)\n",
        "    if CONFIG[\"vary_weight_decay\"]:\n",
        "        opt.weight_decay = lambda : get_wdc(opt)\n",
        "elif CONFIG[\"optimizer\"] == 'adam':            # or just make weight_decay=0\n",
        "    opt = tf.keras.optimizers.Adam(learning_rate=clr)\n",
        "opt = tf.keras.mixed_precision.LossScaleOptimizer(opt)"
      ],
      "execution_count": 42,
      "outputs": []
    },
    {
      "cell_type": "code",
      "metadata": {
        "id": "CVv7YFEA03SE"
      },
      "source": [
        "if CONFIG[\"loss_function\"] == 'FocalTversky':\n",
        "    loss_function = FocalTversky()\n",
        "elif CONFIG[\"loss_function\"] == 'cce':\n",
        "    loss_function = cce"
      ],
      "execution_count": 43,
      "outputs": []
    },
    {
      "cell_type": "code",
      "metadata": {
        "id": "Hbb5bvp_03Pc"
      },
      "source": [
        "model.compile(optimizer=opt, loss=loss_function, metrics=[dsc])"
      ],
      "execution_count": 44,
      "outputs": []
    },
    {
      "cell_type": "code",
      "metadata": {
        "id": "kt6_Pewu0_FW"
      },
      "source": [
        "wandb_cb = WandbCallback(monitor='dsc', mode='max')"
      ],
      "execution_count": 45,
      "outputs": []
    },
    {
      "cell_type": "code",
      "metadata": {
        "id": "_dD2Nbrh0-5O"
      },
      "source": [
        "class CustomCallback(tf.keras.callbacks.Callback):\n",
        "    def on_epoch_begin(self, epoch, logs=None):\n",
        "        img, lbl = next(iter(val_ds))\n",
        "        pred = self.model(img)\n",
        "        i = epoch % 2\n",
        "        img = img[i,1].numpy()\n",
        "        mn = img.min()\n",
        "        mx = img.max()\n",
        "        img = (img - mn)/(mx - mn) * 255\n",
        "        lbl = lbl[i,1:].numpy()*255\n",
        "        pred = pred[i,1:].numpy()*255\n",
        "        get_gif(img, lbl, pred, \"out.gif\")\n",
        "        wandb.log({\"Outputs\": wandb.Image(\"out.gif\")})"
      ],
      "execution_count": 46,
      "outputs": []
    },
    {
      "cell_type": "code",
      "metadata": {
        "id": "nk54vXOF1ZC1",
        "colab": {
          "base_uri": "https://localhost:8080/"
        },
        "outputId": "d0ee62a5-2878-48b6-b221-ef55dbd47843"
      },
      "source": [
        "history = model.fit(train_ds,\n",
        "                    epochs=100,\n",
        "                    steps_per_epoch=np.ceil(len(train_paths)/BATCH_SIZE),\n",
        "                    validation_data=val_ds,\n",
        "                    validation_steps=np.ceil(len(val_paths)//BATCH_SIZE),\n",
        "                    initial_epoch=initial_epoch,\n",
        "                    workers=4,\n",
        "                    use_multiprocessing=True,\n",
        "                    callbacks=[CustomCallback(), wandb_cb])"
      ],
      "execution_count": null,
      "outputs": [
        {
          "output_type": "stream",
          "text": [
            "Epoch 1/100\n",
            "143/143 [==============================] - 477s 3s/step - loss: 3.4472 - dsc: 0.0272 - val_loss: 3.2685 - val_dsc: 0.0255\n"
          ],
          "name": "stdout"
        },
        {
          "output_type": "stream",
          "text": [
            "\u001b[34m\u001b[1mwandb\u001b[0m: \u001b[32m\u001b[41mERROR\u001b[0m Can't save model, h5py returned error: get_config() missing 1 required positional argument: 'self'\n"
          ],
          "name": "stderr"
        },
        {
          "output_type": "stream",
          "text": [
            "Epoch 2/100\n",
            "143/143 [==============================] - 435s 3s/step - loss: 2.9785 - dsc: 0.1356 - val_loss: 2.7085 - val_dsc: 0.2307\n",
            "Epoch 3/100\n",
            "143/143 [==============================] - 435s 3s/step - loss: 2.3156 - dsc: 0.3618 - val_loss: 2.8234 - val_dsc: 0.1910\n",
            "Epoch 4/100\n",
            "143/143 [==============================] - 432s 3s/step - loss: 2.3159 - dsc: 0.3560 - val_loss: 2.5787 - val_dsc: 0.2651\n",
            "Epoch 5/100\n",
            "143/143 [==============================] - 430s 3s/step - loss: 2.1926 - dsc: 0.3872 - val_loss: 2.6896 - val_dsc: 0.2178\n",
            "Epoch 6/100\n",
            "143/143 [==============================] - 429s 3s/step - loss: 2.1704 - dsc: 0.3846 - val_loss: 2.0071 - val_dsc: 0.4116\n",
            "Epoch 7/100\n",
            "143/143 [==============================] - 433s 3s/step - loss: 1.8809 - dsc: 0.4474 - val_loss: 3.1391 - val_dsc: 0.0777\n",
            "Epoch 8/100\n",
            "143/143 [==============================] - 427s 3s/step - loss: 1.8132 - dsc: 0.4727 - val_loss: 2.5415 - val_dsc: 0.2359\n",
            "Epoch 9/100\n",
            "143/143 [==============================] - 432s 3s/step - loss: 1.7248 - dsc: 0.5033 - val_loss: 1.6998 - val_dsc: 0.4930\n",
            "Epoch 10/100\n",
            "143/143 [==============================] - 427s 3s/step - loss: 1.6083 - dsc: 0.5411 - val_loss: 2.2635 - val_dsc: 0.2695\n",
            "Epoch 11/100\n",
            "143/143 [==============================] - 434s 3s/step - loss: 1.5627 - dsc: 0.5567 - val_loss: 1.7736 - val_dsc: 0.4557\n",
            "Epoch 12/100\n",
            "143/143 [==============================] - 426s 3s/step - loss: 1.6190 - dsc: 0.5370 - val_loss: 1.9290 - val_dsc: 0.4639\n",
            "Epoch 13/100\n",
            "143/143 [==============================] - 420s 3s/step - loss: 1.5098 - dsc: 0.5791 - val_loss: 1.3913 - val_dsc: 0.5818\n",
            "Epoch 14/100\n",
            "143/143 [==============================] - 431s 3s/step - loss: 1.4291 - dsc: 0.6073 - val_loss: 1.4327 - val_dsc: 0.5563\n",
            "Epoch 15/100\n",
            "143/143 [==============================] - 426s 3s/step - loss: 1.4121 - dsc: 0.6065 - val_loss: 1.6753 - val_dsc: 0.5095\n",
            "Epoch 16/100\n",
            "143/143 [==============================] - 431s 3s/step - loss: 1.3806 - dsc: 0.6186 - val_loss: 1.1311 - val_dsc: 0.6849\n",
            "Epoch 17/100\n",
            "143/143 [==============================] - 430s 3s/step - loss: 1.2822 - dsc: 0.6516 - val_loss: 1.0867 - val_dsc: 0.7056\n",
            "Epoch 18/100\n",
            "143/143 [==============================] - 424s 3s/step - loss: 1.3211 - dsc: 0.6396 - val_loss: 1.0698 - val_dsc: 0.7083\n",
            "Epoch 19/100\n",
            "143/143 [==============================] - 429s 3s/step - loss: 1.3283 - dsc: 0.6333 - val_loss: 1.0003 - val_dsc: 0.7283\n",
            "Epoch 20/100\n",
            "143/143 [==============================] - 438s 3s/step - loss: 1.2197 - dsc: 0.6724 - val_loss: 0.9748 - val_dsc: 0.7440\n",
            "Epoch 21/100\n",
            "143/143 [==============================] - 430s 3s/step - loss: 1.2252 - dsc: 0.6676 - val_loss: 0.9490 - val_dsc: 0.7618\n",
            "Epoch 22/100\n",
            "143/143 [==============================] - 432s 3s/step - loss: 1.1654 - dsc: 0.6908 - val_loss: 0.9721 - val_dsc: 0.7383\n",
            "Epoch 23/100\n",
            "143/143 [==============================] - 428s 3s/step - loss: 1.2279 - dsc: 0.6693 - val_loss: 1.0018 - val_dsc: 0.7550\n",
            "Epoch 24/100\n",
            "143/143 [==============================] - 431s 3s/step - loss: 1.2414 - dsc: 0.6652 - val_loss: 1.0511 - val_dsc: 0.7059\n",
            "Epoch 25/100\n",
            "143/143 [==============================] - 428s 3s/step - loss: 1.3075 - dsc: 0.6405 - val_loss: 1.0057 - val_dsc: 0.7255\n",
            "Epoch 26/100\n",
            "143/143 [==============================] - 430s 3s/step - loss: 1.2247 - dsc: 0.6694 - val_loss: 0.9626 - val_dsc: 0.7563\n",
            "Epoch 27/100\n",
            "143/143 [==============================] - 426s 3s/step - loss: 1.1866 - dsc: 0.6851 - val_loss: 1.0163 - val_dsc: 0.7487\n",
            "Epoch 28/100\n",
            "143/143 [==============================] - 432s 3s/step - loss: 1.2630 - dsc: 0.6582 - val_loss: 1.0677 - val_dsc: 0.7074\n",
            "Epoch 29/100\n",
            "143/143 [==============================] - 426s 3s/step - loss: 1.2895 - dsc: 0.6470 - val_loss: 1.1375 - val_dsc: 0.7037\n",
            "Epoch 30/100\n",
            "143/143 [==============================] - 428s 3s/step - loss: 1.3238 - dsc: 0.6408 - val_loss: 0.9865 - val_dsc: 0.7403\n",
            "Epoch 31/100\n",
            "143/143 [==============================] - 427s 3s/step - loss: 1.2890 - dsc: 0.6488 - val_loss: 1.3845 - val_dsc: 0.5931\n",
            "Epoch 32/100\n",
            "143/143 [==============================] - 427s 3s/step - loss: 1.2926 - dsc: 0.6487 - val_loss: 1.1334 - val_dsc: 0.6608\n",
            "Epoch 33/100\n",
            "143/143 [==============================] - 433s 3s/step - loss: 1.2316 - dsc: 0.6705 - val_loss: 1.0027 - val_dsc: 0.7303\n",
            "Epoch 34/100\n",
            "143/143 [==============================] - 435s 3s/step - loss: 1.1958 - dsc: 0.6809 - val_loss: 0.8977 - val_dsc: 0.7645\n",
            "Epoch 35/100\n",
            "143/143 [==============================] - 434s 3s/step - loss: 1.2015 - dsc: 0.6788 - val_loss: 0.8869 - val_dsc: 0.7834\n",
            "Epoch 36/100\n",
            "143/143 [==============================] - 430s 3s/step - loss: 1.1414 - dsc: 0.6963 - val_loss: 0.9187 - val_dsc: 0.7673\n",
            "Epoch 37/100\n",
            "143/143 [==============================] - 426s 3s/step - loss: 1.1433 - dsc: 0.6949 - val_loss: 1.0684 - val_dsc: 0.6974\n",
            "Epoch 38/100\n",
            "143/143 [==============================] - 430s 3s/step - loss: 1.1054 - dsc: 0.7068 - val_loss: 0.8651 - val_dsc: 0.7855\n",
            "Epoch 39/100\n",
            "143/143 [==============================] - 425s 3s/step - loss: 1.1157 - dsc: 0.7070 - val_loss: 0.8318 - val_dsc: 0.7933\n",
            "Epoch 40/100\n",
            "143/143 [==============================] - 432s 3s/step - loss: 1.1125 - dsc: 0.7084 - val_loss: 0.8433 - val_dsc: 0.7862\n",
            "Epoch 41/100\n",
            "143/143 [==============================] - 431s 3s/step - loss: 1.1346 - dsc: 0.6990 - val_loss: 0.8368 - val_dsc: 0.7840\n",
            "Epoch 42/100\n",
            "143/143 [==============================] - 423s 3s/step - loss: 1.0868 - dsc: 0.7149 - val_loss: 0.8429 - val_dsc: 0.7849\n",
            "Epoch 43/100\n",
            "143/143 [==============================] - 433s 3s/step - loss: 1.0619 - dsc: 0.7252 - val_loss: 0.8794 - val_dsc: 0.7825\n",
            "Epoch 44/100\n",
            "143/143 [==============================] - 434s 3s/step - loss: 1.0643 - dsc: 0.7245 - val_loss: 0.8250 - val_dsc: 0.7815\n",
            "Epoch 45/100\n",
            "143/143 [==============================] - 432s 3s/step - loss: 1.0841 - dsc: 0.7146 - val_loss: 0.9033 - val_dsc: 0.7754\n",
            "Epoch 46/100\n",
            "143/143 [==============================] - 426s 3s/step - loss: 1.0812 - dsc: 0.7195 - val_loss: 0.8725 - val_dsc: 0.7597\n",
            "Epoch 47/100\n",
            "143/143 [==============================] - 434s 3s/step - loss: 1.0981 - dsc: 0.7142 - val_loss: 0.8047 - val_dsc: 0.7961\n",
            "Epoch 48/100\n",
            "143/143 [==============================] - 426s 3s/step - loss: 1.1126 - dsc: 0.7095 - val_loss: 0.8735 - val_dsc: 0.7739\n",
            "Epoch 49/100\n",
            "143/143 [==============================] - 420s 3s/step - loss: 1.1451 - dsc: 0.6957 - val_loss: 1.0215 - val_dsc: 0.7088\n",
            "Epoch 50/100\n",
            "143/143 [==============================] - 426s 3s/step - loss: 1.1626 - dsc: 0.6904 - val_loss: 0.9162 - val_dsc: 0.7476\n",
            "Epoch 51/100\n",
            "143/143 [==============================] - 432s 3s/step - loss: 1.1221 - dsc: 0.7021 - val_loss: 0.9008 - val_dsc: 0.7494\n",
            "Epoch 52/100\n",
            "143/143 [==============================] - 441s 3s/step - loss: 1.1794 - dsc: 0.6850 - val_loss: 0.8375 - val_dsc: 0.7768\n",
            "Epoch 53/100\n",
            "143/143 [==============================] - 437s 3s/step - loss: 1.1647 - dsc: 0.6901 - val_loss: 0.9143 - val_dsc: 0.7536\n",
            "Epoch 54/100\n",
            "143/143 [==============================] - 441s 3s/step - loss: 1.0732 - dsc: 0.7229 - val_loss: 0.8788 - val_dsc: 0.7767\n",
            "Epoch 55/100\n",
            "143/143 [==============================] - 439s 3s/step - loss: 1.0749 - dsc: 0.7203 - val_loss: 0.8335 - val_dsc: 0.7946\n",
            "Epoch 56/100\n",
            "143/143 [==============================] - 438s 3s/step - loss: 1.0669 - dsc: 0.7263 - val_loss: 0.7830 - val_dsc: 0.8029\n",
            "Epoch 57/100\n",
            "143/143 [==============================] - 438s 3s/step - loss: 1.0265 - dsc: 0.7363 - val_loss: 0.8075 - val_dsc: 0.7888\n",
            "Epoch 58/100\n",
            "143/143 [==============================] - 446s 3s/step - loss: 1.0008 - dsc: 0.7441 - val_loss: 0.8391 - val_dsc: 0.7745\n",
            "Epoch 59/100\n",
            "143/143 [==============================] - 441s 3s/step - loss: 1.0589 - dsc: 0.7206 - val_loss: 0.7674 - val_dsc: 0.8085\n",
            "Epoch 60/100\n",
            "143/143 [==============================] - 436s 3s/step - loss: 0.9765 - dsc: 0.7539 - val_loss: 0.7586 - val_dsc: 0.8123\n",
            "Epoch 61/100\n",
            "143/143 [==============================] - 434s 3s/step - loss: 1.0183 - dsc: 0.7379 - val_loss: 0.7573 - val_dsc: 0.8126\n",
            "Epoch 62/100\n",
            "143/143 [==============================] - 436s 3s/step - loss: 1.0712 - dsc: 0.7206 - val_loss: 0.7744 - val_dsc: 0.8053\n",
            "Epoch 63/100\n",
            "143/143 [==============================] - 442s 3s/step - loss: 0.9665 - dsc: 0.7556 - val_loss: 0.7667 - val_dsc: 0.8092\n",
            "Epoch 64/100\n",
            "143/143 [==============================] - 438s 3s/step - loss: 1.0065 - dsc: 0.7439 - val_loss: 0.7826 - val_dsc: 0.8141\n",
            "Epoch 65/100\n",
            "132/143 [==========================>...] - ETA: 30s - loss: 0.9963 - dsc: 0.7502"
          ],
          "name": "stdout"
        }
      ]
    },
    {
      "cell_type": "code",
      "metadata": {
        "id": "WUdNNyl-1ktX"
      },
      "source": [
        "model.evaluate(val_ds, steps=np.ceil(len(val_paths)//BATCH_SIZE))"
      ],
      "execution_count": null,
      "outputs": []
    },
    {
      "cell_type": "code",
      "metadata": {
        "id": "ttJA6gGL1pv7"
      },
      "source": [
        "scores = []\n",
        "for i, (a,b) in tqdm(enumerate(train_ds)):\n",
        "    if i==steps_per_epoch:\n",
        "        break\n",
        "    o = model(a)\n",
        "    o = tf.cast(o, tf.float32)\n",
        "    scores.append(dsc(b,o))"
      ],
      "execution_count": null,
      "outputs": []
    },
    {
      "cell_type": "code",
      "metadata": {
        "id": "iZ1UO7i_1ppa"
      },
      "source": [
        "np.mean(scores, axis=0)"
      ],
      "execution_count": null,
      "outputs": []
    },
    {
      "cell_type": "code",
      "metadata": {
        "id": "m2qi8enp1maS"
      },
      "source": [
        "run.finish()"
      ],
      "execution_count": null,
      "outputs": []
    },
    {
      "cell_type": "code",
      "metadata": {
        "id": "kYyhhAMKLh4E"
      },
      "source": [
        ""
      ],
      "execution_count": null,
      "outputs": []
    }
  ]
}