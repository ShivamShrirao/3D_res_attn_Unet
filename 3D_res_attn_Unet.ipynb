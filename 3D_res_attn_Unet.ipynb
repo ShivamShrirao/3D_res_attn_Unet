{
  "nbformat": 4,
  "nbformat_minor": 0,
  "metadata": {
    "colab": {
      "name": "3D_res_attn_Unet.ipynb",
      "provenance": [],
      "collapsed_sections": [],
      "machine_shape": "hm"
    },
    "kernelspec": {
      "name": "python3",
      "display_name": "Python 3"
    },
    "language_info": {
      "name": "python"
    },
    "accelerator": "GPU",
    "widgets": {
      "application/vnd.jupyter.widget-state+json": {
        "bdc48d7d86a047a9b4932aed93c8580f": {
          "model_module": "@jupyter-widgets/controls",
          "model_name": "HBoxModel",
          "state": {
            "_view_name": "HBoxView",
            "_dom_classes": [],
            "_model_name": "HBoxModel",
            "_view_module": "@jupyter-widgets/controls",
            "_model_module_version": "1.5.0",
            "_view_count": null,
            "_view_module_version": "1.5.0",
            "box_style": "",
            "layout": "IPY_MODEL_a18c3c3c0d564c96a606e7bc8f6ca046",
            "_model_module": "@jupyter-widgets/controls",
            "children": [
              "IPY_MODEL_5ef7b4e565f349909e24a516d932e72c",
              "IPY_MODEL_2343cb201f474fc3bf1e342356f02bfa"
            ]
          }
        },
        "a18c3c3c0d564c96a606e7bc8f6ca046": {
          "model_module": "@jupyter-widgets/base",
          "model_name": "LayoutModel",
          "state": {
            "_view_name": "LayoutView",
            "grid_template_rows": null,
            "right": null,
            "justify_content": null,
            "_view_module": "@jupyter-widgets/base",
            "overflow": null,
            "_model_module_version": "1.2.0",
            "_view_count": null,
            "flex_flow": null,
            "width": null,
            "min_width": null,
            "border": null,
            "align_items": null,
            "bottom": null,
            "_model_module": "@jupyter-widgets/base",
            "top": null,
            "grid_column": null,
            "overflow_y": null,
            "overflow_x": null,
            "grid_auto_flow": null,
            "grid_area": null,
            "grid_template_columns": null,
            "flex": null,
            "_model_name": "LayoutModel",
            "justify_items": null,
            "grid_row": null,
            "max_height": null,
            "align_content": null,
            "visibility": null,
            "align_self": null,
            "height": null,
            "min_height": null,
            "padding": null,
            "grid_auto_rows": null,
            "grid_gap": null,
            "max_width": null,
            "order": null,
            "_view_module_version": "1.2.0",
            "grid_template_areas": null,
            "object_position": null,
            "object_fit": null,
            "grid_auto_columns": null,
            "margin": null,
            "display": null,
            "left": null
          }
        },
        "5ef7b4e565f349909e24a516d932e72c": {
          "model_module": "@jupyter-widgets/controls",
          "model_name": "FloatProgressModel",
          "state": {
            "_view_name": "ProgressView",
            "style": "IPY_MODEL_081d180d3e8248f49ab910bb43868176",
            "_dom_classes": [],
            "description": "",
            "_model_name": "FloatProgressModel",
            "bar_style": "danger",
            "max": 1,
            "_view_module": "@jupyter-widgets/controls",
            "_model_module_version": "1.5.0",
            "value": 1,
            "_view_count": null,
            "_view_module_version": "1.5.0",
            "orientation": "horizontal",
            "min": 0,
            "description_tooltip": null,
            "_model_module": "@jupyter-widgets/controls",
            "layout": "IPY_MODEL_83bf8d3811354aa1a529c02ca739624c"
          }
        },
        "2343cb201f474fc3bf1e342356f02bfa": {
          "model_module": "@jupyter-widgets/controls",
          "model_name": "HTMLModel",
          "state": {
            "_view_name": "HTMLView",
            "style": "IPY_MODEL_77bfe86f8b8b4937b33bc5daf1442edf",
            "_dom_classes": [],
            "description": "",
            "_model_name": "HTMLModel",
            "placeholder": "​",
            "_view_module": "@jupyter-widgets/controls",
            "_model_module_version": "1.5.0",
            "value": " 143/? [03:50&lt;00:00,  1.88s/it]",
            "_view_count": null,
            "_view_module_version": "1.5.0",
            "description_tooltip": null,
            "_model_module": "@jupyter-widgets/controls",
            "layout": "IPY_MODEL_d39cd69703d14188b3b70118400c1519"
          }
        },
        "081d180d3e8248f49ab910bb43868176": {
          "model_module": "@jupyter-widgets/controls",
          "model_name": "ProgressStyleModel",
          "state": {
            "_view_name": "StyleView",
            "_model_name": "ProgressStyleModel",
            "description_width": "initial",
            "_view_module": "@jupyter-widgets/base",
            "_model_module_version": "1.5.0",
            "_view_count": null,
            "_view_module_version": "1.2.0",
            "bar_color": null,
            "_model_module": "@jupyter-widgets/controls"
          }
        },
        "83bf8d3811354aa1a529c02ca739624c": {
          "model_module": "@jupyter-widgets/base",
          "model_name": "LayoutModel",
          "state": {
            "_view_name": "LayoutView",
            "grid_template_rows": null,
            "right": null,
            "justify_content": null,
            "_view_module": "@jupyter-widgets/base",
            "overflow": null,
            "_model_module_version": "1.2.0",
            "_view_count": null,
            "flex_flow": null,
            "width": null,
            "min_width": null,
            "border": null,
            "align_items": null,
            "bottom": null,
            "_model_module": "@jupyter-widgets/base",
            "top": null,
            "grid_column": null,
            "overflow_y": null,
            "overflow_x": null,
            "grid_auto_flow": null,
            "grid_area": null,
            "grid_template_columns": null,
            "flex": null,
            "_model_name": "LayoutModel",
            "justify_items": null,
            "grid_row": null,
            "max_height": null,
            "align_content": null,
            "visibility": null,
            "align_self": null,
            "height": null,
            "min_height": null,
            "padding": null,
            "grid_auto_rows": null,
            "grid_gap": null,
            "max_width": null,
            "order": null,
            "_view_module_version": "1.2.0",
            "grid_template_areas": null,
            "object_position": null,
            "object_fit": null,
            "grid_auto_columns": null,
            "margin": null,
            "display": null,
            "left": null
          }
        },
        "77bfe86f8b8b4937b33bc5daf1442edf": {
          "model_module": "@jupyter-widgets/controls",
          "model_name": "DescriptionStyleModel",
          "state": {
            "_view_name": "StyleView",
            "_model_name": "DescriptionStyleModel",
            "description_width": "",
            "_view_module": "@jupyter-widgets/base",
            "_model_module_version": "1.5.0",
            "_view_count": null,
            "_view_module_version": "1.2.0",
            "_model_module": "@jupyter-widgets/controls"
          }
        },
        "d39cd69703d14188b3b70118400c1519": {
          "model_module": "@jupyter-widgets/base",
          "model_name": "LayoutModel",
          "state": {
            "_view_name": "LayoutView",
            "grid_template_rows": null,
            "right": null,
            "justify_content": null,
            "_view_module": "@jupyter-widgets/base",
            "overflow": null,
            "_model_module_version": "1.2.0",
            "_view_count": null,
            "flex_flow": null,
            "width": null,
            "min_width": null,
            "border": null,
            "align_items": null,
            "bottom": null,
            "_model_module": "@jupyter-widgets/base",
            "top": null,
            "grid_column": null,
            "overflow_y": null,
            "overflow_x": null,
            "grid_auto_flow": null,
            "grid_area": null,
            "grid_template_columns": null,
            "flex": null,
            "_model_name": "LayoutModel",
            "justify_items": null,
            "grid_row": null,
            "max_height": null,
            "align_content": null,
            "visibility": null,
            "align_self": null,
            "height": null,
            "min_height": null,
            "padding": null,
            "grid_auto_rows": null,
            "grid_gap": null,
            "max_width": null,
            "order": null,
            "_view_module_version": "1.2.0",
            "grid_template_areas": null,
            "object_position": null,
            "object_fit": null,
            "grid_auto_columns": null,
            "margin": null,
            "display": null,
            "left": null
          }
        },
        "b11a6c440457494e9c7f998876eeabf6": {
          "model_module": "@jupyter-widgets/controls",
          "model_name": "VBoxModel",
          "state": {
            "_view_name": "VBoxView",
            "_dom_classes": [],
            "_model_name": "VBoxModel",
            "_view_module": "@jupyter-widgets/controls",
            "_model_module_version": "1.5.0",
            "_view_count": null,
            "_view_module_version": "1.5.0",
            "box_style": "",
            "layout": "IPY_MODEL_9903b78827164f71a1f363e30699afbf",
            "_model_module": "@jupyter-widgets/controls",
            "children": [
              "IPY_MODEL_4ab91895d2a94f32b3afbc63ef74b5df",
              "IPY_MODEL_b0a9ec6d214c4453aae02b11c80903ec"
            ]
          }
        },
        "9903b78827164f71a1f363e30699afbf": {
          "model_module": "@jupyter-widgets/base",
          "model_name": "LayoutModel",
          "state": {
            "_view_name": "LayoutView",
            "grid_template_rows": null,
            "right": null,
            "justify_content": null,
            "_view_module": "@jupyter-widgets/base",
            "overflow": null,
            "_model_module_version": "1.2.0",
            "_view_count": null,
            "flex_flow": null,
            "width": null,
            "min_width": null,
            "border": null,
            "align_items": null,
            "bottom": null,
            "_model_module": "@jupyter-widgets/base",
            "top": null,
            "grid_column": null,
            "overflow_y": null,
            "overflow_x": null,
            "grid_auto_flow": null,
            "grid_area": null,
            "grid_template_columns": null,
            "flex": null,
            "_model_name": "LayoutModel",
            "justify_items": null,
            "grid_row": null,
            "max_height": null,
            "align_content": null,
            "visibility": null,
            "align_self": null,
            "height": null,
            "min_height": null,
            "padding": null,
            "grid_auto_rows": null,
            "grid_gap": null,
            "max_width": null,
            "order": null,
            "_view_module_version": "1.2.0",
            "grid_template_areas": null,
            "object_position": null,
            "object_fit": null,
            "grid_auto_columns": null,
            "margin": null,
            "display": null,
            "left": null
          }
        },
        "4ab91895d2a94f32b3afbc63ef74b5df": {
          "model_module": "@jupyter-widgets/controls",
          "model_name": "LabelModel",
          "state": {
            "_view_name": "LabelView",
            "style": "IPY_MODEL_c5bc55da59c6430fad1bc4bab07862db",
            "_dom_classes": [],
            "description": "",
            "_model_name": "LabelModel",
            "placeholder": "​",
            "_view_module": "@jupyter-widgets/controls",
            "_model_module_version": "1.5.0",
            "value": " 330.06MB of 330.06MB uploaded (0.07MB deduped)\r",
            "_view_count": null,
            "_view_module_version": "1.5.0",
            "description_tooltip": null,
            "_model_module": "@jupyter-widgets/controls",
            "layout": "IPY_MODEL_16d9ece48b2e47708003a0deb39509fb"
          }
        },
        "b0a9ec6d214c4453aae02b11c80903ec": {
          "model_module": "@jupyter-widgets/controls",
          "model_name": "FloatProgressModel",
          "state": {
            "_view_name": "ProgressView",
            "style": "IPY_MODEL_bc0abc2800ac47dba6a06545215ec75f",
            "_dom_classes": [],
            "description": "",
            "_model_name": "FloatProgressModel",
            "bar_style": "",
            "max": 1,
            "_view_module": "@jupyter-widgets/controls",
            "_model_module_version": "1.5.0",
            "value": 1,
            "_view_count": null,
            "_view_module_version": "1.5.0",
            "orientation": "horizontal",
            "min": 0,
            "description_tooltip": null,
            "_model_module": "@jupyter-widgets/controls",
            "layout": "IPY_MODEL_1f248d5e6d5046d7b2d99f5b756bacb4"
          }
        },
        "c5bc55da59c6430fad1bc4bab07862db": {
          "model_module": "@jupyter-widgets/controls",
          "model_name": "DescriptionStyleModel",
          "state": {
            "_view_name": "StyleView",
            "_model_name": "DescriptionStyleModel",
            "description_width": "",
            "_view_module": "@jupyter-widgets/base",
            "_model_module_version": "1.5.0",
            "_view_count": null,
            "_view_module_version": "1.2.0",
            "_model_module": "@jupyter-widgets/controls"
          }
        },
        "16d9ece48b2e47708003a0deb39509fb": {
          "model_module": "@jupyter-widgets/base",
          "model_name": "LayoutModel",
          "state": {
            "_view_name": "LayoutView",
            "grid_template_rows": null,
            "right": null,
            "justify_content": null,
            "_view_module": "@jupyter-widgets/base",
            "overflow": null,
            "_model_module_version": "1.2.0",
            "_view_count": null,
            "flex_flow": null,
            "width": null,
            "min_width": null,
            "border": null,
            "align_items": null,
            "bottom": null,
            "_model_module": "@jupyter-widgets/base",
            "top": null,
            "grid_column": null,
            "overflow_y": null,
            "overflow_x": null,
            "grid_auto_flow": null,
            "grid_area": null,
            "grid_template_columns": null,
            "flex": null,
            "_model_name": "LayoutModel",
            "justify_items": null,
            "grid_row": null,
            "max_height": null,
            "align_content": null,
            "visibility": null,
            "align_self": null,
            "height": null,
            "min_height": null,
            "padding": null,
            "grid_auto_rows": null,
            "grid_gap": null,
            "max_width": null,
            "order": null,
            "_view_module_version": "1.2.0",
            "grid_template_areas": null,
            "object_position": null,
            "object_fit": null,
            "grid_auto_columns": null,
            "margin": null,
            "display": null,
            "left": null
          }
        },
        "bc0abc2800ac47dba6a06545215ec75f": {
          "model_module": "@jupyter-widgets/controls",
          "model_name": "ProgressStyleModel",
          "state": {
            "_view_name": "StyleView",
            "_model_name": "ProgressStyleModel",
            "description_width": "",
            "_view_module": "@jupyter-widgets/base",
            "_model_module_version": "1.5.0",
            "_view_count": null,
            "_view_module_version": "1.2.0",
            "bar_color": null,
            "_model_module": "@jupyter-widgets/controls"
          }
        },
        "1f248d5e6d5046d7b2d99f5b756bacb4": {
          "model_module": "@jupyter-widgets/base",
          "model_name": "LayoutModel",
          "state": {
            "_view_name": "LayoutView",
            "grid_template_rows": null,
            "right": null,
            "justify_content": null,
            "_view_module": "@jupyter-widgets/base",
            "overflow": null,
            "_model_module_version": "1.2.0",
            "_view_count": null,
            "flex_flow": null,
            "width": null,
            "min_width": null,
            "border": null,
            "align_items": null,
            "bottom": null,
            "_model_module": "@jupyter-widgets/base",
            "top": null,
            "grid_column": null,
            "overflow_y": null,
            "overflow_x": null,
            "grid_auto_flow": null,
            "grid_area": null,
            "grid_template_columns": null,
            "flex": null,
            "_model_name": "LayoutModel",
            "justify_items": null,
            "grid_row": null,
            "max_height": null,
            "align_content": null,
            "visibility": null,
            "align_self": null,
            "height": null,
            "min_height": null,
            "padding": null,
            "grid_auto_rows": null,
            "grid_gap": null,
            "max_width": null,
            "order": null,
            "_view_module_version": "1.2.0",
            "grid_template_areas": null,
            "object_position": null,
            "object_fit": null,
            "grid_auto_columns": null,
            "margin": null,
            "display": null,
            "left": null
          }
        }
      }
    }
  },
  "cells": [
    {
      "cell_type": "code",
      "metadata": {
        "colab": {
          "base_uri": "https://localhost:8080/"
        },
        "id": "TmD9SLQpmNJF",
        "outputId": "01c6320f-da1d-42d7-c01d-02dc54a09596"
      },
      "source": [
        "!nvidia-smi"
      ],
      "execution_count": null,
      "outputs": [
        {
          "output_type": "stream",
          "text": [
            "Thu May 20 06:21:10 2021       \n",
            "+-----------------------------------------------------------------------------+\n",
            "| NVIDIA-SMI 465.19.01    Driver Version: 460.32.03    CUDA Version: 11.2     |\n",
            "|-------------------------------+----------------------+----------------------+\n",
            "| GPU  Name        Persistence-M| Bus-Id        Disp.A | Volatile Uncorr. ECC |\n",
            "| Fan  Temp  Perf  Pwr:Usage/Cap|         Memory-Usage | GPU-Util  Compute M. |\n",
            "|                               |                      |               MIG M. |\n",
            "|===============================+======================+======================|\n",
            "|   0  Tesla T4            Off  | 00000000:00:04.0 Off |                    0 |\n",
            "| N/A   60C    P8    10W /  70W |      0MiB / 15109MiB |      0%      Default |\n",
            "|                               |                      |                  N/A |\n",
            "+-------------------------------+----------------------+----------------------+\n",
            "                                                                               \n",
            "+-----------------------------------------------------------------------------+\n",
            "| Processes:                                                                  |\n",
            "|  GPU   GI   CI        PID   Type   Process name                  GPU Memory |\n",
            "|        ID   ID                                                   Usage      |\n",
            "|=============================================================================|\n",
            "|  No running processes found                                                 |\n",
            "+-----------------------------------------------------------------------------+\n"
          ],
          "name": "stdout"
        }
      ]
    },
    {
      "cell_type": "code",
      "metadata": {
        "colab": {
          "base_uri": "https://localhost:8080/"
        },
        "id": "AZI13ut7nBZF",
        "outputId": "45dd98eb-c599-4d79-fed8-22701373f011"
      },
      "source": [
        "%pip install -q tensorflow-addons[tensorflow]\n",
        "%pip install -q simpleitk\n",
        "# %pip install -q colab_ssh\n",
        "%pip install -q wandb"
      ],
      "execution_count": null,
      "outputs": [
        {
          "output_type": "stream",
          "text": [
            "\u001b[K     |████████████████████████████████| 686kB 8.2MB/s \n",
            "\u001b[K     |████████████████████████████████| 47.4MB 64kB/s \n",
            "\u001b[K     |████████████████████████████████| 1.8MB 8.3MB/s \n",
            "\u001b[K     |████████████████████████████████| 133kB 53.5MB/s \n",
            "\u001b[K     |████████████████████████████████| 174kB 49.2MB/s \n",
            "\u001b[K     |████████████████████████████████| 102kB 13.3MB/s \n",
            "\u001b[K     |████████████████████████████████| 71kB 10.3MB/s \n",
            "\u001b[?25h  Building wheel for pathtools (setup.py) ... \u001b[?25l\u001b[?25hdone\n",
            "  Building wheel for subprocess32 (setup.py) ... \u001b[?25l\u001b[?25hdone\n"
          ],
          "name": "stdout"
        }
      ]
    },
    {
      "cell_type": "code",
      "metadata": {
        "colab": {
          "base_uri": "https://localhost:8080/"
        },
        "id": "MeRBZZsrxy7G",
        "outputId": "8126fad7-7b33-49dd-af8d-42f5840a05bc"
      },
      "source": [
        "!gdown https://drive.google.com/uc?id=1jYb-dKqywLm5bQ5esP6YSV5xuBzqBPqm"
      ],
      "execution_count": null,
      "outputs": [
        {
          "output_type": "stream",
          "text": [
            "Downloading...\n",
            "From: https://drive.google.com/uc?id=1jYb-dKqywLm5bQ5esP6YSV5xuBzqBPqm\n",
            "To: /content/BRATS_Dataset.tar.gz\n",
            "2.76GB [00:24, 113MB/s]\n"
          ],
          "name": "stdout"
        }
      ]
    },
    {
      "cell_type": "code",
      "metadata": {
        "colab": {
          "base_uri": "https://localhost:8080/"
        },
        "id": "MCwAJtyIx0oX",
        "outputId": "cddf8b44-88bf-457d-ad83-ec13b9697301"
      },
      "source": [
        "!apt -qq install pigz"
      ],
      "execution_count": null,
      "outputs": [
        {
          "output_type": "stream",
          "text": [
            "The following package was automatically installed and is no longer required:\n",
            "  libnvidia-common-460\n",
            "Use 'apt autoremove' to remove it.\n",
            "The following NEW packages will be installed:\n",
            "  pigz\n",
            "0 upgraded, 1 newly installed, 0 to remove and 34 not upgraded.\n",
            "Need to get 57.4 kB of archives.\n",
            "After this operation, 259 kB of additional disk space will be used.\n",
            "Selecting previously unselected package pigz.\n",
            "(Reading database ... 160715 files and directories currently installed.)\n",
            "Preparing to unpack .../archives/pigz_2.4-1_amd64.deb ...\n",
            "Unpacking pigz (2.4-1) ...\n",
            "Setting up pigz (2.4-1) ...\n",
            "Processing triggers for man-db (2.8.3-2ubuntu0.1) ...\n"
          ],
          "name": "stdout"
        }
      ]
    },
    {
      "cell_type": "code",
      "metadata": {
        "id": "RBS9P9pVyL0p"
      },
      "source": [
        "!pigz -dc BRATS_Dataset.tar.gz | tar xf -"
      ],
      "execution_count": null,
      "outputs": []
    },
    {
      "cell_type": "code",
      "metadata": {
        "id": "iwMjK_O6yL-5"
      },
      "source": [
        "!rm BRATS_Dataset.tar.gz"
      ],
      "execution_count": null,
      "outputs": []
    },
    {
      "cell_type": "code",
      "metadata": {
        "colab": {
          "base_uri": "https://localhost:8080/"
        },
        "id": "6bu-os4Kqoiq",
        "outputId": "aca2d6ce-dfed-404a-903f-359149132bfa"
      },
      "source": [
        "%cd /content\n",
        "!rm -rf 3D_res_attn_Unet"
      ],
      "execution_count": null,
      "outputs": [
        {
          "output_type": "stream",
          "text": [
            "/content\n"
          ],
          "name": "stdout"
        }
      ]
    },
    {
      "cell_type": "code",
      "metadata": {
        "colab": {
          "base_uri": "https://localhost:8080/"
        },
        "id": "B5UZTWx-mb7Y",
        "outputId": "e3326d4e-0aca-46b5-f02d-f6b3d85b068d"
      },
      "source": [
        "!git clone https://github.com/ShivamShrirao/3D_res_attn_Unet"
      ],
      "execution_count": null,
      "outputs": [
        {
          "output_type": "stream",
          "text": [
            "Cloning into '3D_res_attn_Unet'...\n",
            "remote: Enumerating objects: 117, done.\u001b[K\n",
            "remote: Counting objects: 100% (117/117), done.\u001b[K\n",
            "remote: Compressing objects: 100% (78/78), done.\u001b[K\n",
            "remote: Total 117 (delta 75), reused 77 (delta 35), pack-reused 0\u001b[K\n",
            "Receiving objects: 100% (117/117), 473.38 KiB | 1.92 MiB/s, done.\n",
            "Resolving deltas: 100% (75/75), done.\n"
          ],
          "name": "stdout"
        }
      ]
    },
    {
      "cell_type": "code",
      "metadata": {
        "colab": {
          "base_uri": "https://localhost:8080/"
        },
        "id": "SDsMVBQUEX_C",
        "outputId": "1a000fff-c14e-4894-8b57-d6cbb0bdc2a1"
      },
      "source": [
        "%cd 3D_res_attn_Unet"
      ],
      "execution_count": null,
      "outputs": [
        {
          "output_type": "stream",
          "text": [
            "/content/3D_res_attn_Unet\n"
          ],
          "name": "stdout"
        }
      ]
    },
    {
      "cell_type": "code",
      "metadata": {
        "id": "fYq1D1nrmMfW"
      },
      "source": [
        "%load_ext tensorboard\n",
        "%load_ext autoreload\n",
        "%autoreload 2"
      ],
      "execution_count": null,
      "outputs": []
    },
    {
      "cell_type": "code",
      "metadata": {
        "id": "VxV8loizyQk5"
      },
      "source": [
        "import SimpleITK as sitk"
      ],
      "execution_count": null,
      "outputs": []
    },
    {
      "cell_type": "code",
      "metadata": {
        "id": "RyvK3bkmmRF5"
      },
      "source": [
        "import tensorflow as tf\n",
        "from tensorflow.keras import layers\n",
        "import tensorflow_addons as tfa\n",
        "import numpy as np\n",
        "import matplotlib.pyplot as plt\n",
        "import PIL.Image\n",
        "import glob\n",
        "from tqdm.notebook import tqdm\n",
        "from time import time\n",
        "%matplotlib inline"
      ],
      "execution_count": null,
      "outputs": []
    },
    {
      "cell_type": "code",
      "metadata": {
        "colab": {
          "base_uri": "https://localhost:8080/"
        },
        "id": "x8wLJQSNmV8W",
        "outputId": "0f218b92-6cfb-45e0-f4a3-aaaf3259e71b"
      },
      "source": [
        "from tensorflow.keras.mixed_precision import experimental as mixed_precision\n",
        "policy = mixed_precision.Policy('mixed_float16')\n",
        "mixed_precision.set_policy(policy)"
      ],
      "execution_count": null,
      "outputs": [
        {
          "output_type": "stream",
          "text": [
            "INFO:tensorflow:Mixed precision compatibility check (mixed_float16): OK\n",
            "Your GPU will likely run quickly with dtype policy mixed_float16 as it has compute capability of at least 7.0. Your GPU: Tesla T4, compute capability 7.5\n",
            "WARNING:tensorflow:From /usr/local/lib/python3.7/dist-packages/tensorflow/python/keras/mixed_precision/loss_scale.py:56: DynamicLossScale.__init__ (from tensorflow.python.training.experimental.loss_scale) is deprecated and will be removed in a future version.\n",
            "Instructions for updating:\n",
            "Use tf.keras.mixed_precision.LossScaleOptimizer instead. LossScaleOptimizer now has all the functionality of DynamicLossScale\n"
          ],
          "name": "stdout"
        }
      ]
    },
    {
      "cell_type": "code",
      "metadata": {
        "id": "DH9zA80Lyblg"
      },
      "source": [
        "def get_data_paths(dataset_path):\n",
        "    t1 = glob.glob(dataset_path+'/*GG/*/*t1.nii.gz')\n",
        "    t2 = glob.glob(dataset_path+'/*GG/*/*t2.nii.gz')\n",
        "    t1ce = glob.glob(dataset_path+'/*GG/*/*t1ce.nii.gz')\n",
        "    flair = glob.glob(dataset_path+'/*GG/*/*flair.nii.gz')\n",
        "    seg = glob.glob(dataset_path+'/*GG/*/*seg.nii.gz')\n",
        "    return list(zip(t1, t2, t1ce, flair, seg))"
      ],
      "execution_count": null,
      "outputs": []
    },
    {
      "cell_type": "code",
      "metadata": {
        "id": "KoB8nSTVyfUX"
      },
      "source": [
        "train_paths = get_data_paths('../BRATS_Dataset/brats_dataset/')\n",
        "val_paths = get_data_paths('../BRATS_Dataset/brats_test_dataset/')"
      ],
      "execution_count": null,
      "outputs": []
    },
    {
      "cell_type": "code",
      "metadata": {
        "colab": {
          "base_uri": "https://localhost:8080/"
        },
        "id": "B2BFkvT4yfRU",
        "outputId": "2eeebce3-b00a-4e1f-96bb-3ba35f02aa06"
      },
      "source": [
        "len(train_paths), len(val_paths)"
      ],
      "execution_count": null,
      "outputs": [
        {
          "output_type": "execute_result",
          "data": {
            "text/plain": [
              "(285, 50)"
            ]
          },
          "metadata": {
            "tags": []
          },
          "execution_count": 9
        }
      ]
    },
    {
      "cell_type": "code",
      "metadata": {
        "id": "T-GTEwiqy1E_"
      },
      "source": [
        "from model.preprocess import *"
      ],
      "execution_count": null,
      "outputs": []
    },
    {
      "cell_type": "code",
      "metadata": {
        "id": "QNGVcTA5fS51"
      },
      "source": [
        "mean = tf.constant([0.06301811, 0.05202341, 0.04396216, 0.05345017], shape=(1, 4, 1, 1, 1))\n",
        "std  = tf.constant([0.14905235, 0.12771605, 0.1042005 , 0.12938198], shape=(1, 4, 1, 1, 1))"
      ],
      "execution_count": null,
      "outputs": []
    },
    {
      "cell_type": "code",
      "metadata": {
        "id": "BLUheTvAyfNE"
      },
      "source": [
        "# mean = []\n",
        "# std = []\n",
        "# for tp in tqdm(train_paths[0:100]):\n",
        "#     img, lbl = load_img(tp)\n",
        "#     img = tf.cast(img, tf.float32)/255.0\n",
        "#     mean.append(tf.reduce_mean(img, axis=[1,2,3]))\n",
        "#     std.append(tf.math.reduce_std(img, axis=[1,2,3]))\n",
        "# mean = tf.reshape(tf.reduce_mean(mean, axis=0), (1, 4, 1, 1, 1))\n",
        "# std = tf.reshape(tf.reduce_mean(std, axis=0), (1, 4, 1, 1, 1))"
      ],
      "execution_count": null,
      "outputs": []
    },
    {
      "cell_type": "code",
      "metadata": {
        "colab": {
          "base_uri": "https://localhost:8080/"
        },
        "id": "gELRSfJLyfKe",
        "outputId": "0fed5e62-bd83-4218-ef51-5e6f9514e155"
      },
      "source": [
        "depth = 128 # 155\n",
        "height = 192 # 240\n",
        "width = 160 # 240\n",
        "(155-depth, 240-height, 240-width)"
      ],
      "execution_count": null,
      "outputs": [
        {
          "output_type": "execute_result",
          "data": {
            "text/plain": [
              "(27, 48, 80)"
            ]
          },
          "metadata": {
            "tags": []
          },
          "execution_count": 6
        }
      ]
    },
    {
      "cell_type": "code",
      "metadata": {
        "id": "hA8i-idEyfGn"
      },
      "source": [
        "def random_crop3D(imgs, lbls, train=True):          # Crops image to size (128, 192, 160)\n",
        "    d_cr, h_cr, w_cr = 13, 24, 40\n",
        "    if train:\n",
        "        if tf.random.uniform([], 0, 1, dtype=tf.float32) <= 0.8:\n",
        "            d_cr = tf.random.uniform([], 0, 27, dtype=tf.int32)\n",
        "            h_cr = tf.random.uniform([], 0, 48, dtype=tf.int32)\n",
        "            w_cr = tf.random.uniform([], 0, 80, dtype=tf.int32)\n",
        "    imgs = imgs[:, :, d_cr:d_cr+depth, h_cr:h_cr+height, w_cr:w_cr+width]\n",
        "    lbls = lbls[:, :, d_cr:d_cr+depth, h_cr:h_cr+height, w_cr:w_cr+width]\n",
        "    return imgs, lbls"
      ],
      "execution_count": null,
      "outputs": []
    },
    {
      "cell_type": "code",
      "metadata": {
        "id": "Kla_BA_JyfCP"
      },
      "source": [
        "def final_augmentation(img, lbl, train=True):       # input img[B, 4, 155, 240, 240], output[B, 4, 128, 192, 160]\n",
        "    img, lbl = random_crop3D(img, lbl, train)\n",
        "    img = tf.cast(img, tf.float32)/255.0\n",
        "    lbl = tf.cast(lbl, tf.float32)\n",
        "    if train:\n",
        "        img = tf.image.random_brightness(img, 0.2)      # source code checked, it's fine for 3D\n",
        "    # img = tf.image.per_image_standardization(img)   # source code checked, it's fine for 3D\n",
        "    img = (img - mean) / std\n",
        "    return img, lbl"
      ],
      "execution_count": null,
      "outputs": []
    },
    {
      "cell_type": "code",
      "metadata": {
        "id": "-jYQgwzeye7w"
      },
      "source": [
        "BATCH_SIZE = 2\n",
        "AUTOTUNE = tf.data.experimental.AUTOTUNE"
      ],
      "execution_count": null,
      "outputs": []
    },
    {
      "cell_type": "code",
      "metadata": {
        "id": "4CRpmKSryeMY"
      },
      "source": [
        "def get_tfds(data_paths, train=False):\n",
        "    # 53.3373920917511 s\n",
        "    dataset = tf.data.Dataset.from_tensor_slices(data_paths)\n",
        "    if train:\n",
        "        dataset = dataset.shuffle(len(data_paths))\n",
        "    dataset = dataset.map(load_paths_wrapper, num_parallel_calls=AUTOTUNE)\n",
        "    if train:\n",
        "        dataset = dataset.map(random_rotate3D, num_parallel_calls=AUTOTUNE)\n",
        "    dataset = dataset.repeat()\n",
        "    dataset = dataset.batch(BATCH_SIZE)\n",
        "    if train:\n",
        "        dataset = dataset.map(random_flip3D, num_parallel_calls=AUTOTUNE)\n",
        "    dataset = dataset.map(lambda x,y: final_augmentation(x,y,train), num_parallel_calls=AUTOTUNE)      # remove for test,val\n",
        "    dataset = dataset.prefetch(AUTOTUNE)\n",
        "    return dataset"
      ],
      "execution_count": null,
      "outputs": []
    },
    {
      "cell_type": "code",
      "metadata": {
        "id": "aLVvTfMPzSgG"
      },
      "source": [
        "train_ds = get_tfds(train_paths, train=True)\n",
        "val_ds = get_tfds(val_paths)"
      ],
      "execution_count": null,
      "outputs": []
    },
    {
      "cell_type": "code",
      "metadata": {
        "id": "k_u6nfUhzT9C"
      },
      "source": [
        "import wandb\n",
        "from wandb.keras import WandbCallback"
      ],
      "execution_count": null,
      "outputs": []
    },
    {
      "cell_type": "code",
      "metadata": {
        "colab": {
          "base_uri": "https://localhost:8080/"
        },
        "id": "39ZKOyeDzT6O",
        "outputId": "38b36399-a096-47f9-cb89-8a25d3709be7"
      },
      "source": [
        "wandb.login()"
      ],
      "execution_count": null,
      "outputs": [
        {
          "output_type": "stream",
          "text": [
            "\u001b[34m\u001b[1mwandb\u001b[0m: Currently logged in as: \u001b[33mshivamshrirao\u001b[0m (use `wandb login --relogin` to force relogin)\n"
          ],
          "name": "stderr"
        },
        {
          "output_type": "execute_result",
          "data": {
            "text/plain": [
              "True"
            ]
          },
          "metadata": {
            "tags": []
          },
          "execution_count": 21
        }
      ]
    },
    {
      "cell_type": "code",
      "metadata": {
        "id": "yUud1K2iloXZ"
      },
      "source": [
        "config_defaults = {\n",
        "    'activation'            : 'leaky_relu',\n",
        "    'batch_size'            : BATCH_SIZE,\n",
        "    'block_type'            : 'AttnBottleneckBlock',\n",
        "    'clr_step_size'         : 10,\n",
        "    'clr_offset_ep'         : 5,\n",
        "    'groups'                : 48,\n",
        "    'dp_rate'               : 0.25,\n",
        "    'dropout_type'          : 'Spatial',\n",
        "    'frac_dv'               : 0,\n",
        "    'loss_function'         : 'FocalTversky',\n",
        "    'max_lr'                : 8e-4,\n",
        "    'min_lr'                : 2e-6,\n",
        "    'nheads'                : 8,\n",
        "    'norm'                  : 'gn',\n",
        "    'optimizer'             : 'adamw',\n",
        "    'vary_weight_decay'     : True,\n",
        "    'weight_decay'          : 2e-5,     # max weight decay\n",
        "}\n",
        "CONFIG = config_defaults"
      ],
      "execution_count": null,
      "outputs": []
    },
    {
      "cell_type": "code",
      "metadata": {
        "id": "RjaGe7P4z1qV",
        "colab": {
          "base_uri": "https://localhost:8080/",
          "height": 119
        },
        "outputId": "8b85871c-f0bd-442a-9b4d-00a85a474f79"
      },
      "source": [
        "run = wandb.init(project=\"3D_res_attn_Unet\", entity=\"shivamshrirao\", config=config_defaults)\n",
        "CONFIG = wandb.config"
      ],
      "execution_count": null,
      "outputs": [
        {
          "output_type": "display_data",
          "data": {
            "text/html": [
              "\n",
              "                Tracking run with wandb version 0.10.30<br/>\n",
              "                Syncing run <strong style=\"color:#cdcd00\">vague-dream-5</strong> to <a href=\"https://wandb.ai\" target=\"_blank\">Weights & Biases</a> <a href=\"https://docs.wandb.com/integrations/jupyter.html\" target=\"_blank\">(Documentation)</a>.<br/>\n",
              "                Project page: <a href=\"https://wandb.ai/shivamshrirao/3D_res_attn_Unet\" target=\"_blank\">https://wandb.ai/shivamshrirao/3D_res_attn_Unet</a><br/>\n",
              "                Run page: <a href=\"https://wandb.ai/shivamshrirao/3D_res_attn_Unet/runs/21mtkw65\" target=\"_blank\">https://wandb.ai/shivamshrirao/3D_res_attn_Unet/runs/21mtkw65</a><br/>\n",
              "                Run data is saved locally in <code>/content/3D_res_attn_Unet/wandb/run-20210519_120356-21mtkw65</code><br/><br/>\n",
              "            "
            ],
            "text/plain": [
              "<IPython.core.display.HTML object>"
            ]
          },
          "metadata": {
            "tags": []
          }
        }
      ]
    },
    {
      "cell_type": "code",
      "metadata": {
        "colab": {
          "base_uri": "https://localhost:8080/"
        },
        "id": "8PNd1IfZ7D-R",
        "outputId": "df64b5cf-44c0-452d-8902-1b3b0424ee00"
      },
      "source": [
        "mean.numpy().ravel(), std.numpy().ravel()"
      ],
      "execution_count": null,
      "outputs": [
        {
          "output_type": "execute_result",
          "data": {
            "text/plain": [
              "(array([0.06301811, 0.05202341, 0.04396216, 0.05345017], dtype=float32),\n",
              " array([0.14905235, 0.12771605, 0.1042005 , 0.12938198], dtype=float32))"
            ]
          },
          "metadata": {
            "tags": []
          },
          "execution_count": 24
        }
      ]
    },
    {
      "cell_type": "code",
      "metadata": {
        "id": "muugExNpz1lY"
      },
      "source": [
        "tf.keras.backend.set_image_data_format('channels_first')"
      ],
      "execution_count": null,
      "outputs": []
    },
    {
      "cell_type": "code",
      "metadata": {
        "id": "hRbHoACDz8_D"
      },
      "source": [
        "## attention shortcuts to be used.\n",
        "## try attention on the unet shortcuts\n",
        "## try Global Context Block\n",
        "## try input image pyramid and deep supervised output layers (output from intermediate layers (fuse with conv-sigmoid like U^2net ??))\n",
        "## TRY PIXELSHUFFLE\n",
        "## Try SPARSE CONV NET https://github.com/facebookresearch/SparseConvNet"
      ],
      "execution_count": null,
      "outputs": []
    },
    {
      "cell_type": "code",
      "metadata": {
        "id": "nRY6Np0vmy6h"
      },
      "source": [
        "from model.conv_blocks import ConvNorm, NormAct, BasicBlock, AttnBottleneckBlock, down_stack, up_stack"
      ],
      "execution_count": null,
      "outputs": []
    },
    {
      "cell_type": "code",
      "metadata": {
        "id": "mWXn8he2nt5W"
      },
      "source": [
        "def enc_dec(x, block, frac_dv, stack_args):     # x(64,64,96,80)\n",
        "    x1 = down_stack(x ,  64, nblocks=2, block=block, strides=2, **stack_args)     # (256,32,48,40)\n",
        "    x2 = down_stack(x1, 128, nblocks=2, block=block, strides=2, **stack_args)     # (512,16,24,20)\n",
        "    x3 = down_stack(x2, 256, nblocks=2, block=block, strides=2, frac_dv=frac_dv, **stack_args) # (1024, 8,12,10)\n",
        "    x4 = down_stack(x3, 256, nblocks=3, block=block, strides=2, frac_dv=frac_dv, **stack_args) # (1024, 4, 6, 5)\n",
        "\n",
        "    y = up_stack(x4,x3, 128, nblocks=3, block=block, strides=2, frac_dv=frac_dv, **stack_args) # (1024+1024->512,8,12,10)\n",
        "    y = up_stack(y, x2,  64, nblocks=2, block=block, strides=2, **stack_args)     # (512+512->256,16,24,20)\n",
        "    y = up_stack(y, x1,  32, nblocks=2, block=block, strides=2, **stack_args)     # (256+256->128,32,48,40)\n",
        "    y = up_stack(y, x ,  16, nblocks=1, block=block, strides=2, **stack_args)     # (128+ 64-> 64,64,96,80)\n",
        "    return y\n",
        "\n",
        "\n",
        "def build_network(cfg, block, input_shape=(4,128,192,160), classes=4):\n",
        "    stack_args = {'activation': cfg['activation'], 'groups': cfg['groups'], 'norm': cfg['norm'],\n",
        "                  'dp_rate': cfg['dp_rate'], 'dropout_type': cfg['dropout_type']}\n",
        "\n",
        "    inp = layers.Input(shape=input_shape)                           # ( 4,128,192,160)\n",
        "    x = inp\n",
        "    x = ConvNorm(32, kernel_size=3, strides=2, activation=cfg['activation'], norm=cfg['norm'])(x)   # (32,64,96,80)\n",
        "    x = ConvNorm(64, kernel_size=3, do_norm_act=False)(x)                               # (64, 64, 96, 80)\n",
        "\n",
        "    x = enc_dec(x, block, cfg['frac_dv'], stack_args)                                   # (64, 64, 96, 80)\n",
        "\n",
        "    x = NormAct(activation=cfg['activation'], norm=cfg['norm'])(x)\n",
        "    x = layers.UpSampling3D(data_format=\"channels_first\")(x)                            # (64,128,192,160)\n",
        "    x = ConvNorm(16, kernel_size=3, activation=cfg['activation'], norm=cfg['norm'])(x)  # (16,128,192,160)\n",
        "    x = ConvNorm(classes, kernel_size=3, do_norm_act=False)(x)                          #(3,128,192,160)\n",
        "    x = layers.Softmax(axis=1)(x)         # softmax cause each pixel has unique class, no overlap with other classes, verified.\n",
        "\n",
        "    return tf.keras.Model(inputs=inp, outputs=x)"
      ],
      "execution_count": null,
      "outputs": []
    },
    {
      "cell_type": "code",
      "metadata": {
        "id": "d3He9IJQqzHq"
      },
      "source": [
        "block = AttnBottleneckBlock\n",
        "CONFIG['block_type'] = block.__name__\n",
        "model = build_network(CONFIG, block, input_shape=(4,depth,height,width), classes=4)"
      ],
      "execution_count": null,
      "outputs": []
    },
    {
      "cell_type": "code",
      "metadata": {
        "colab": {
          "base_uri": "https://localhost:8080/"
        },
        "id": "alHQI9fntI0U",
        "outputId": "58155677-782f-45a8-8d0f-b0f10294e05e"
      },
      "source": [
        "model.summary()"
      ],
      "execution_count": null,
      "outputs": [
        {
          "output_type": "stream",
          "text": [
            "Model: \"model_1\"\n",
            "__________________________________________________________________________________________________\n",
            "Layer (type)                    Output Shape         Param #     Connected to                     \n",
            "==================================================================================================\n",
            "input_19 (InputLayer)           [(None, 4, 128, 192, 0                                            \n",
            "__________________________________________________________________________________________________\n",
            "conv_norm_4 (ConvNorm)          (None, 32, 64, 96, 8 3520        input_19[0][0]                   \n",
            "__________________________________________________________________________________________________\n",
            "conv_norm_5 (ConvNorm)          (None, 64, 64, 96, 8 55360       conv_norm_4[0][0]                \n",
            "__________________________________________________________________________________________________\n",
            "attn_bottleneck_block_17 (AttnB (None, 256, 32, 48,  43344       conv_norm_5[0][0]                \n",
            "__________________________________________________________________________________________________\n",
            "attn_bottleneck_block_18 (AttnB (None, 256, 32, 48,  39376       attn_bottleneck_block_17[0][0]   \n",
            "__________________________________________________________________________________________________\n",
            "attn_bottleneck_block_19 (AttnB (None, 512, 16, 24,  253600      attn_bottleneck_block_18[0][0]   \n",
            "__________________________________________________________________________________________________\n",
            "attn_bottleneck_block_20 (AttnB (None, 512, 16, 24,  155296      attn_bottleneck_block_19[0][0]   \n",
            "__________________________________________________________________________________________________\n",
            "attn_bottleneck_block_21 (AttnB (None, 1024, 8, 12,  1009984     attn_bottleneck_block_20[0][0]   \n",
            "__________________________________________________________________________________________________\n",
            "attn_bottleneck_block_22 (AttnB (None, 1024, 8, 12,  616768      attn_bottleneck_block_21[0][0]   \n",
            "__________________________________________________________________________________________________\n",
            "attn_bottleneck_block_23 (AttnB (None, 1024, 4, 6, 5 616768      attn_bottleneck_block_22[0][0]   \n",
            "__________________________________________________________________________________________________\n",
            "attn_bottleneck_block_24 (AttnB (None, 1024, 4, 6, 5 616768      attn_bottleneck_block_23[0][0]   \n",
            "__________________________________________________________________________________________________\n",
            "attn_bottleneck_block_25 (AttnB (None, 1024, 4, 6, 5 616768      attn_bottleneck_block_24[0][0]   \n",
            "__________________________________________________________________________________________________\n",
            "up_sampling3d_5 (UpSampling3D)  (None, 1024, 8, 12,  0           attn_bottleneck_block_25[0][0]   \n",
            "__________________________________________________________________________________________________\n",
            "concatenate_4 (Concatenate)     (None, 2048, 8, 12,  0           up_sampling3d_5[0][0]            \n",
            "                                                                 attn_bottleneck_block_22[0][0]   \n",
            "__________________________________________________________________________________________________\n",
            "attn_bottleneck_block_26 (AttnB (None, 512, 8, 12, 1 1404064     concatenate_4[0][0]              \n",
            "__________________________________________________________________________________________________\n",
            "attn_bottleneck_block_27 (AttnB (None, 512, 8, 12, 1 155296      attn_bottleneck_block_26[0][0]   \n",
            "__________________________________________________________________________________________________\n",
            "attn_bottleneck_block_28 (AttnB (None, 512, 8, 12, 1 155296      attn_bottleneck_block_27[0][0]   \n",
            "__________________________________________________________________________________________________\n",
            "up_sampling3d_6 (UpSampling3D)  (None, 512, 16, 24,  0           attn_bottleneck_block_28[0][0]   \n",
            "__________________________________________________________________________________________________\n",
            "concatenate_5 (Concatenate)     (None, 1024, 16, 24, 0           up_sampling3d_6[0][0]            \n",
            "                                                                 attn_bottleneck_block_20[0][0]   \n",
            "__________________________________________________________________________________________________\n",
            "attn_bottleneck_block_29 (AttnB (None, 256, 16, 24,  352464      concatenate_5[0][0]              \n",
            "__________________________________________________________________________________________________\n",
            "attn_bottleneck_block_30 (AttnB (None, 256, 16, 24,  39376       attn_bottleneck_block_29[0][0]   \n",
            "__________________________________________________________________________________________________\n",
            "up_sampling3d_7 (UpSampling3D)  (None, 256, 32, 48,  0           attn_bottleneck_block_30[0][0]   \n",
            "__________________________________________________________________________________________________\n",
            "concatenate_6 (Concatenate)     (None, 512, 32, 48,  0           up_sampling3d_7[0][0]            \n",
            "                                                                 attn_bottleneck_block_18[0][0]   \n",
            "__________________________________________________________________________________________________\n",
            "attn_bottleneck_block_31 (AttnB (None, 128, 32, 48,  88840       concatenate_6[0][0]              \n",
            "__________________________________________________________________________________________________\n",
            "attn_bottleneck_block_32 (AttnB (None, 128, 32, 48,  10120       attn_bottleneck_block_31[0][0]   \n",
            "__________________________________________________________________________________________________\n",
            "up_sampling3d_8 (UpSampling3D)  (None, 128, 64, 96,  0           attn_bottleneck_block_32[0][0]   \n",
            "__________________________________________________________________________________________________\n",
            "concatenate_7 (Concatenate)     (None, 192, 64, 96,  0           up_sampling3d_8[0][0]            \n",
            "                                                                 conv_norm_5[0][0]                \n",
            "__________________________________________________________________________________________________\n",
            "attn_bottleneck_block_33 (AttnB (None, 64, 64, 96, 8 17540       concatenate_7[0][0]              \n",
            "__________________________________________________________________________________________________\n",
            "norm_act_35 (NormAct)           (None, 64, 64, 96, 8 128         attn_bottleneck_block_33[0][0]   \n",
            "__________________________________________________________________________________________________\n",
            "up_sampling3d_9 (UpSampling3D)  (None, 64, 128, 192, 0           norm_act_35[0][0]                \n",
            "__________________________________________________________________________________________________\n",
            "conv_norm_6 (ConvNorm)          (None, 16, 128, 192, 27680       up_sampling3d_9[0][0]            \n",
            "__________________________________________________________________________________________________\n",
            "conv_norm_7 (ConvNorm)          (None, 4, 128, 192,  1732        conv_norm_6[0][0]                \n",
            "__________________________________________________________________________________________________\n",
            "softmax_1 (Softmax)             (None, 4, 128, 192,  0           conv_norm_7[0][0]                \n",
            "==================================================================================================\n",
            "Total params: 6,280,088\n",
            "Trainable params: 6,280,088\n",
            "Non-trainable params: 0\n",
            "__________________________________________________________________________________________________\n"
          ],
          "name": "stdout"
        }
      ]
    },
    {
      "cell_type": "code",
      "metadata": {
        "id": "83ItIV7aZHed"
      },
      "source": [
        "wandb.log({\"model\": wandb.Image(\"/content/model.png\")})"
      ],
      "execution_count": null,
      "outputs": []
    },
    {
      "cell_type": "code",
      "metadata": {
        "id": "MXx318sknylB"
      },
      "source": [
        "from tensorflow.python.client import session\n",
        "from tensorflow.python.summary import summary"
      ],
      "execution_count": null,
      "outputs": []
    },
    {
      "cell_type": "code",
      "metadata": {
        "id": "gylV6eyKXj_c"
      },
      "source": [
        "log_dir = \"/content/trace_log\"\n",
        "!rm -rf $log_dir\n",
        "\n",
        "@tf.function\n",
        "def trace(x):\n",
        "    return model(x)\n",
        "\n",
        "data = tf.random.normal((2,) + model.input_shape[1:])\n",
        "data = tf.constant(data)\n",
        "\n",
        "imported_g = trace.get_concrete_function(data).graph\n",
        "\n",
        "# Export the graph\n",
        "with session.Session(graph=imported_g) as sess:\n",
        "    pb_visual_writer = summary.FileWriter(log_dir)\n",
        "    pb_visual_writer.add_graph(sess.graph)"
      ],
      "execution_count": null,
      "outputs": []
    },
    {
      "cell_type": "code",
      "metadata": {
        "id": "m0GzUyfRXt_G"
      },
      "source": [
        "%tensorboard --logdir /content/trace_log"
      ],
      "execution_count": null,
      "outputs": []
    },
    {
      "cell_type": "code",
      "metadata": {
        "colab": {
          "base_uri": "https://localhost:8080/",
          "height": 34
        },
        "id": "MDQCKTmBjlOt",
        "outputId": "3176f362-9ebc-43fb-a4e0-02d0693dbf16"
      },
      "source": [
        "from google.colab.output import eval_js\n",
        "print(eval_js(\"google.colab.kernel.proxyPort(6006)\"))"
      ],
      "execution_count": null,
      "outputs": [
        {
          "output_type": "stream",
          "text": [
            "https://2wi4nm079zg-496ff2e9c6d22116-6006-colab.googleusercontent.com/\n"
          ],
          "name": "stdout"
        }
      ]
    },
    {
      "cell_type": "code",
      "metadata": {
        "colab": {
          "base_uri": "https://localhost:8080/"
        },
        "id": "TO3HwVYoEpFA",
        "outputId": "6fc798a1-0923-4760-9648-8f1067a92df2"
      },
      "source": [
        "import gc\n",
        "gc.collect()"
      ],
      "execution_count": 41,
      "outputs": [
        {
          "output_type": "execute_result",
          "data": {
            "text/plain": [
              "8701"
            ]
          },
          "metadata": {
            "tags": []
          },
          "execution_count": 41
        }
      ]
    },
    {
      "cell_type": "code",
      "metadata": {
        "id": "TGDA2XLen0do"
      },
      "source": [
        "# model = tf.keras.models.load_model(wandb.restore(\"model-best.h5\").name, custom_objects={'ConvNorm': ConvNorm,\n",
        "#                                                                                         'NormAct': NormAct,\n",
        "#                                                                                         'AttnBottleneckBlock': AttnBottleneckBlock,\n",
        "#                                                                                         'BasicBlock': BasicBlock,\n",
        "#                                                                                         'SqueezeExcite': SqueezeExcite,\n",
        "#                                                                                         'MHSA3D': MHSA3D,\n",
        "#                                                                                         'AbsPosEmb': AbsPosEmb,\n",
        "#                                                                                         })"
      ],
      "execution_count": null,
      "outputs": []
    },
    {
      "cell_type": "code",
      "metadata": {
        "id": "uar0LFgp0n1-"
      },
      "source": [
        "from model.losses import *\n",
        "from model.utils import *"
      ],
      "execution_count": null,
      "outputs": []
    },
    {
      "cell_type": "code",
      "metadata": {
        "colab": {
          "base_uri": "https://localhost:8080/",
          "height": 265
        },
        "id": "8lX3j_he0nxj",
        "outputId": "c50476ae-8c71-4102-8547-e571496ff4e1"
      },
      "source": [
        "steps_per_epoch = int(np.ceil(len(train_paths)/BATCH_SIZE))\n",
        "clr = tfa.optimizers.Triangular2CyclicalLearningRate(\n",
        "            initial_learning_rate=CONFIG[\"min_lr\"],\n",
        "            maximal_learning_rate=CONFIG[\"max_lr\"],\n",
        "            step_size=CONFIG[\"clr_step_size\"] * steps_per_epoch,\n",
        "            scale_mode=\"cycle\")\n",
        "domain = range(0, 100*steps_per_epoch, 32)\n",
        "lr_log = [clr(i).numpy() for i in domain]\n",
        "plt.plot(domain, lr_log)\n",
        "plt.show()"
      ],
      "execution_count": null,
      "outputs": [
        {
          "output_type": "display_data",
          "data": {
            "image/png": "[encoded data removed]",
            "text/plain": [
              "<Figure size 432x288 with 1 Axes>"
            ]
          },
          "metadata": {
            "tags": [],
            "needs_background": "light"
          }
        }
      ]
    },
    {
      "cell_type": "code",
      "metadata": {
        "id": "RWz4DVIp0nuj"
      },
      "source": [
        "def get_wdc(op):\n",
        "    lr = op.learning_rate\n",
        "    wdc = CONFIG[\"weight_decay\"]*lr/CONFIG[\"max_lr\"]\n",
        "    return wdc\n",
        "\n",
        "initial_epoch = 0\n",
        "clr_offset_ep = CONFIG[\"clr_offset_ep\"]\n",
        "\n",
        "def get_lr(op):\n",
        "    lr = clr(op.iterations + (initial_epoch + clr_offset_ep)*steps_per_epoch)\n",
        "    if tf.executing_eagerly():\n",
        "        return lr.numpy()\n",
        "    else:\n",
        "        return lr"
      ],
      "execution_count": null,
      "outputs": []
    },
    {
      "cell_type": "code",
      "metadata": {
        "id": "yqk_6JVV03Ue"
      },
      "source": [
        "if CONFIG[\"optimizer\"] == 'adamw':\n",
        "    opt = tfa.optimizers.AdamW(learning_rate=lambda: clr, weight_decay=lambda : CONFIG[\"weight_decay\"])\n",
        "    # wd_schedule = tf.optimizers.schedules.ExponentialDecay(5e-5, 100, 0.9)    # weight_decay=lambda : None\n",
        "    opt.learning_rate = lambda : get_lr(opt)\n",
        "    if CONFIG[\"vary_weight_decay\"]:\n",
        "        opt.weight_decay = lambda : get_wdc(opt)\n",
        "elif CONFIG[\"optimizer\"] == 'adam':            # or just make weight_decay=0\n",
        "    opt = tf.keras.optimizers.Adam(learning_rate=clr)\n",
        "opt = tf.keras.mixed_precision.LossScaleOptimizer(opt)"
      ],
      "execution_count": null,
      "outputs": []
    },
    {
      "cell_type": "code",
      "metadata": {
        "id": "CVv7YFEA03SE"
      },
      "source": [
        "if CONFIG[\"loss_function\"] == 'FocalTversky':\n",
        "    loss_function = FocalTversky()\n",
        "elif CONFIG[\"loss_function\"] == 'cce':\n",
        "    loss_function = cce"
      ],
      "execution_count": null,
      "outputs": []
    },
    {
      "cell_type": "code",
      "metadata": {
        "id": "Hbb5bvp_03Pc"
      },
      "source": [
        "model.compile(optimizer=opt, loss=loss_function, metrics=[dsc])"
      ],
      "execution_count": null,
      "outputs": []
    },
    {
      "cell_type": "code",
      "metadata": {
        "id": "kt6_Pewu0_FW"
      },
      "source": [
        "wandb_cb = WandbCallback(monitor='dsc', mode='max')"
      ],
      "execution_count": null,
      "outputs": []
    },
    {
      "cell_type": "code",
      "metadata": {
        "id": "_dD2Nbrh0-5O"
      },
      "source": [
        "class CustomCallback(tf.keras.callbacks.Callback):\n",
        "    def on_epoch_begin(self, epoch, logs=None):\n",
        "        img, lbl = next(iter(val_ds))\n",
        "        pred = self.model(img)\n",
        "        i = epoch % 2\n",
        "        img = img[i,1].numpy()\n",
        "        mn = img.min()\n",
        "        mx = img.max()\n",
        "        img = (img - mn)/(mx - mn) * 255\n",
        "        lbl = lbl[i,1:].numpy()*255\n",
        "        pred = pred[i,1:].numpy()*255\n",
        "        get_gif(img, lbl, pred, \"out.gif\")\n",
        "        wandb.log({\"Outputs\": wandb.Image(\"out.gif\")})"
      ],
      "execution_count": null,
      "outputs": []
    },
    {
      "cell_type": "code",
      "metadata": {
        "id": "nk54vXOF1ZC1",
        "colab": {
          "base_uri": "https://localhost:8080/"
        },
        "outputId": "d0ee62a5-2878-48b6-b221-ef55dbd47843"
      },
      "source": [
        "history = model.fit(train_ds,\n",
        "                    epochs=100,\n",
        "                    steps_per_epoch=np.ceil(len(train_paths)/BATCH_SIZE),\n",
        "                    validation_data=val_ds,\n",
        "                    validation_steps=np.ceil(len(val_paths)//BATCH_SIZE),\n",
        "                    initial_epoch=initial_epoch,\n",
        "                    workers=4,\n",
        "                    use_multiprocessing=True,\n",
        "                    callbacks=[CustomCallback(), wandb_cb])"
      ],
      "execution_count": null,
      "outputs": [
        {
          "output_type": "stream",
          "text": [
            "Epoch 1/100\n",
            "143/143 [==============================] - 477s 3s/step - loss: 3.4472 - dsc: 0.0272 - val_loss: 3.2685 - val_dsc: 0.0255\n"
          ],
          "name": "stdout"
        },
        {
          "output_type": "stream",
          "text": [
            "\u001b[34m\u001b[1mwandb\u001b[0m: \u001b[32m\u001b[41mERROR\u001b[0m Can't save model, h5py returned error: get_config() missing 1 required positional argument: 'self'\n"
          ],
          "name": "stderr"
        },
        {
          "output_type": "stream",
          "text": [
            "Epoch 2/100\n",
            "143/143 [==============================] - 435s 3s/step - loss: 2.9785 - dsc: 0.1356 - val_loss: 2.7085 - val_dsc: 0.2307\n",
            "Epoch 3/100\n",
            "143/143 [==============================] - 435s 3s/step - loss: 2.3156 - dsc: 0.3618 - val_loss: 2.8234 - val_dsc: 0.1910\n",
            "Epoch 4/100\n",
            "143/143 [==============================] - 432s 3s/step - loss: 2.3159 - dsc: 0.3560 - val_loss: 2.5787 - val_dsc: 0.2651\n",
            "Epoch 5/100\n",
            "143/143 [==============================] - 430s 3s/step - loss: 2.1926 - dsc: 0.3872 - val_loss: 2.6896 - val_dsc: 0.2178\n",
            "Epoch 6/100\n",
            "143/143 [==============================] - 429s 3s/step - loss: 2.1704 - dsc: 0.3846 - val_loss: 2.0071 - val_dsc: 0.4116\n",
            "Epoch 7/100\n",
            "143/143 [==============================] - 433s 3s/step - loss: 1.8809 - dsc: 0.4474 - val_loss: 3.1391 - val_dsc: 0.0777\n",
            "Epoch 8/100\n",
            "143/143 [==============================] - 427s 3s/step - loss: 1.8132 - dsc: 0.4727 - val_loss: 2.5415 - val_dsc: 0.2359\n",
            "Epoch 9/100\n",
            "143/143 [==============================] - 432s 3s/step - loss: 1.7248 - dsc: 0.5033 - val_loss: 1.6998 - val_dsc: 0.4930\n",
            "Epoch 10/100\n",
            "143/143 [==============================] - 427s 3s/step - loss: 1.6083 - dsc: 0.5411 - val_loss: 2.2635 - val_dsc: 0.2695\n",
            "Epoch 11/100\n",
            "143/143 [==============================] - 434s 3s/step - loss: 1.5627 - dsc: 0.5567 - val_loss: 1.7736 - val_dsc: 0.4557\n",
            "Epoch 12/100\n",
            "143/143 [==============================] - 426s 3s/step - loss: 1.6190 - dsc: 0.5370 - val_loss: 1.9290 - val_dsc: 0.4639\n",
            "Epoch 13/100\n",
            "143/143 [==============================] - 420s 3s/step - loss: 1.5098 - dsc: 0.5791 - val_loss: 1.3913 - val_dsc: 0.5818\n",
            "Epoch 14/100\n",
            "143/143 [==============================] - 431s 3s/step - loss: 1.4291 - dsc: 0.6073 - val_loss: 1.4327 - val_dsc: 0.5563\n",
            "Epoch 15/100\n",
            "143/143 [==============================] - 426s 3s/step - loss: 1.4121 - dsc: 0.6065 - val_loss: 1.6753 - val_dsc: 0.5095\n",
            "Epoch 16/100\n",
            "143/143 [==============================] - 431s 3s/step - loss: 1.3806 - dsc: 0.6186 - val_loss: 1.1311 - val_dsc: 0.6849\n",
            "Epoch 17/100\n",
            "143/143 [==============================] - 430s 3s/step - loss: 1.2822 - dsc: 0.6516 - val_loss: 1.0867 - val_dsc: 0.7056\n",
            "Epoch 18/100\n",
            "143/143 [==============================] - 424s 3s/step - loss: 1.3211 - dsc: 0.6396 - val_loss: 1.0698 - val_dsc: 0.7083\n",
            "Epoch 19/100\n",
            "143/143 [==============================] - 429s 3s/step - loss: 1.3283 - dsc: 0.6333 - val_loss: 1.0003 - val_dsc: 0.7283\n",
            "Epoch 20/100\n",
            "143/143 [==============================] - 438s 3s/step - loss: 1.2197 - dsc: 0.6724 - val_loss: 0.9748 - val_dsc: 0.7440\n",
            "Epoch 21/100\n",
            "143/143 [==============================] - 430s 3s/step - loss: 1.2252 - dsc: 0.6676 - val_loss: 0.9490 - val_dsc: 0.7618\n",
            "Epoch 22/100\n",
            "143/143 [==============================] - 432s 3s/step - loss: 1.1654 - dsc: 0.6908 - val_loss: 0.9721 - val_dsc: 0.7383\n",
            "Epoch 23/100\n",
            "143/143 [==============================] - 428s 3s/step - loss: 1.2279 - dsc: 0.6693 - val_loss: 1.0018 - val_dsc: 0.7550\n",
            "Epoch 24/100\n",
            "143/143 [==============================] - 431s 3s/step - loss: 1.2414 - dsc: 0.6652 - val_loss: 1.0511 - val_dsc: 0.7059\n",
            "Epoch 25/100\n",
            "143/143 [==============================] - 428s 3s/step - loss: 1.3075 - dsc: 0.6405 - val_loss: 1.0057 - val_dsc: 0.7255\n",
            "Epoch 26/100\n",
            "143/143 [==============================] - 430s 3s/step - loss: 1.2247 - dsc: 0.6694 - val_loss: 0.9626 - val_dsc: 0.7563\n",
            "Epoch 27/100\n",
            "143/143 [==============================] - 426s 3s/step - loss: 1.1866 - dsc: 0.6851 - val_loss: 1.0163 - val_dsc: 0.7487\n",
            "Epoch 28/100\n",
            "143/143 [==============================] - 432s 3s/step - loss: 1.2630 - dsc: 0.6582 - val_loss: 1.0677 - val_dsc: 0.7074\n",
            "Epoch 29/100\n",
            "143/143 [==============================] - 426s 3s/step - loss: 1.2895 - dsc: 0.6470 - val_loss: 1.1375 - val_dsc: 0.7037\n",
            "Epoch 30/100\n",
            "143/143 [==============================] - 428s 3s/step - loss: 1.3238 - dsc: 0.6408 - val_loss: 0.9865 - val_dsc: 0.7403\n",
            "Epoch 31/100\n",
            "143/143 [==============================] - 427s 3s/step - loss: 1.2890 - dsc: 0.6488 - val_loss: 1.3845 - val_dsc: 0.5931\n",
            "Epoch 32/100\n",
            "143/143 [==============================] - 427s 3s/step - loss: 1.2926 - dsc: 0.6487 - val_loss: 1.1334 - val_dsc: 0.6608\n",
            "Epoch 33/100\n",
            "143/143 [==============================] - 433s 3s/step - loss: 1.2316 - dsc: 0.6705 - val_loss: 1.0027 - val_dsc: 0.7303\n",
            "Epoch 34/100\n",
            "143/143 [==============================] - 435s 3s/step - loss: 1.1958 - dsc: 0.6809 - val_loss: 0.8977 - val_dsc: 0.7645\n",
            "Epoch 35/100\n",
            "143/143 [==============================] - 434s 3s/step - loss: 1.2015 - dsc: 0.6788 - val_loss: 0.8869 - val_dsc: 0.7834\n",
            "Epoch 36/100\n",
            "143/143 [==============================] - 430s 3s/step - loss: 1.1414 - dsc: 0.6963 - val_loss: 0.9187 - val_dsc: 0.7673\n",
            "Epoch 37/100\n",
            "143/143 [==============================] - 426s 3s/step - loss: 1.1433 - dsc: 0.6949 - val_loss: 1.0684 - val_dsc: 0.6974\n",
            "Epoch 38/100\n",
            "143/143 [==============================] - 430s 3s/step - loss: 1.1054 - dsc: 0.7068 - val_loss: 0.8651 - val_dsc: 0.7855\n",
            "Epoch 39/100\n",
            "143/143 [==============================] - 425s 3s/step - loss: 1.1157 - dsc: 0.7070 - val_loss: 0.8318 - val_dsc: 0.7933\n",
            "Epoch 40/100\n",
            "143/143 [==============================] - 432s 3s/step - loss: 1.1125 - dsc: 0.7084 - val_loss: 0.8433 - val_dsc: 0.7862\n",
            "Epoch 41/100\n",
            "143/143 [==============================] - 431s 3s/step - loss: 1.1346 - dsc: 0.6990 - val_loss: 0.8368 - val_dsc: 0.7840\n",
            "Epoch 42/100\n",
            "143/143 [==============================] - 423s 3s/step - loss: 1.0868 - dsc: 0.7149 - val_loss: 0.8429 - val_dsc: 0.7849\n",
            "Epoch 43/100\n",
            "143/143 [==============================] - 433s 3s/step - loss: 1.0619 - dsc: 0.7252 - val_loss: 0.8794 - val_dsc: 0.7825\n",
            "Epoch 44/100\n",
            "143/143 [==============================] - 434s 3s/step - loss: 1.0643 - dsc: 0.7245 - val_loss: 0.8250 - val_dsc: 0.7815\n",
            "Epoch 45/100\n",
            "143/143 [==============================] - 432s 3s/step - loss: 1.0841 - dsc: 0.7146 - val_loss: 0.9033 - val_dsc: 0.7754\n",
            "Epoch 46/100\n",
            "143/143 [==============================] - 426s 3s/step - loss: 1.0812 - dsc: 0.7195 - val_loss: 0.8725 - val_dsc: 0.7597\n",
            "Epoch 47/100\n",
            "143/143 [==============================] - 434s 3s/step - loss: 1.0981 - dsc: 0.7142 - val_loss: 0.8047 - val_dsc: 0.7961\n",
            "Epoch 48/100\n",
            "143/143 [==============================] - 426s 3s/step - loss: 1.1126 - dsc: 0.7095 - val_loss: 0.8735 - val_dsc: 0.7739\n",
            "Epoch 49/100\n",
            "143/143 [==============================] - 420s 3s/step - loss: 1.1451 - dsc: 0.6957 - val_loss: 1.0215 - val_dsc: 0.7088\n",
            "Epoch 50/100\n",
            "143/143 [==============================] - 426s 3s/step - loss: 1.1626 - dsc: 0.6904 - val_loss: 0.9162 - val_dsc: 0.7476\n",
            "Epoch 51/100\n",
            "143/143 [==============================] - 432s 3s/step - loss: 1.1221 - dsc: 0.7021 - val_loss: 0.9008 - val_dsc: 0.7494\n",
            "Epoch 52/100\n",
            "143/143 [==============================] - 441s 3s/step - loss: 1.1794 - dsc: 0.6850 - val_loss: 0.8375 - val_dsc: 0.7768\n",
            "Epoch 53/100\n",
            "143/143 [==============================] - 437s 3s/step - loss: 1.1647 - dsc: 0.6901 - val_loss: 0.9143 - val_dsc: 0.7536\n",
            "Epoch 54/100\n",
            "143/143 [==============================] - 441s 3s/step - loss: 1.0732 - dsc: 0.7229 - val_loss: 0.8788 - val_dsc: 0.7767\n",
            "Epoch 55/100\n",
            "143/143 [==============================] - 439s 3s/step - loss: 1.0749 - dsc: 0.7203 - val_loss: 0.8335 - val_dsc: 0.7946\n",
            "Epoch 56/100\n",
            "143/143 [==============================] - 438s 3s/step - loss: 1.0669 - dsc: 0.7263 - val_loss: 0.7830 - val_dsc: 0.8029\n",
            "Epoch 57/100\n",
            "143/143 [==============================] - 438s 3s/step - loss: 1.0265 - dsc: 0.7363 - val_loss: 0.8075 - val_dsc: 0.7888\n",
            "Epoch 58/100\n",
            "143/143 [==============================] - 446s 3s/step - loss: 1.0008 - dsc: 0.7441 - val_loss: 0.8391 - val_dsc: 0.7745\n",
            "Epoch 59/100\n",
            "143/143 [==============================] - 441s 3s/step - loss: 1.0589 - dsc: 0.7206 - val_loss: 0.7674 - val_dsc: 0.8085\n",
            "Epoch 60/100\n",
            "143/143 [==============================] - 436s 3s/step - loss: 0.9765 - dsc: 0.7539 - val_loss: 0.7586 - val_dsc: 0.8123\n",
            "Epoch 61/100\n",
            "143/143 [==============================] - 434s 3s/step - loss: 1.0183 - dsc: 0.7379 - val_loss: 0.7573 - val_dsc: 0.8126\n",
            "Epoch 62/100\n",
            "143/143 [==============================] - 436s 3s/step - loss: 1.0712 - dsc: 0.7206 - val_loss: 0.7744 - val_dsc: 0.8053\n",
            "Epoch 63/100\n",
            "143/143 [==============================] - 442s 3s/step - loss: 0.9665 - dsc: 0.7556 - val_loss: 0.7667 - val_dsc: 0.8092\n",
            "Epoch 64/100\n",
            "143/143 [==============================] - 438s 3s/step - loss: 1.0065 - dsc: 0.7439 - val_loss: 0.7826 - val_dsc: 0.8141\n",
            "Epoch 65/100\n",
            "143/143 [==============================] - 439s 3s/step - loss: 0.9994 - dsc: 0.7489 - val_loss: 0.7958 - val_dsc: 0.7967\n",
            "Epoch 66/100\n",
            "143/143 [==============================] - 439s 3s/step - loss: 1.0277 - dsc: 0.7379 - val_loss: 0.7761 - val_dsc: 0.8015\n",
            "Epoch 67/100\n",
            "143/143 [==============================] - 442s 3s/step - loss: 1.0169 - dsc: 0.7382 - val_loss: 0.8270 - val_dsc: 0.7861\n",
            "Epoch 68/100\n",
            "143/143 [==============================] - 438s 3s/step - loss: 1.0380 - dsc: 0.7341 - val_loss: 0.8782 - val_dsc: 0.7677\n",
            "Epoch 69/100\n",
            "143/143 [==============================] - 444s 3s/step - loss: 1.0936 - dsc: 0.7146 - val_loss: 0.8646 - val_dsc: 0.7618\n",
            "Epoch 70/100\n",
            "143/143 [==============================] - 436s 3s/step - loss: 1.0420 - dsc: 0.7279 - val_loss: 0.8014 - val_dsc: 0.7996\n",
            "Epoch 71/100\n",
            "143/143 [==============================] - 433s 3s/step - loss: 1.0254 - dsc: 0.7400 - val_loss: 0.7855 - val_dsc: 0.7944\n",
            "Epoch 72/100\n",
            "143/143 [==============================] - 434s 3s/step - loss: 1.0980 - dsc: 0.7123 - val_loss: 0.7654 - val_dsc: 0.8100\n",
            "Epoch 73/100\n",
            "143/143 [==============================] - 433s 3s/step - loss: 1.0271 - dsc: 0.7360 - val_loss: 0.8566 - val_dsc: 0.7606\n",
            "Epoch 74/100\n",
            "143/143 [==============================] - 439s 3s/step - loss: 1.0654 - dsc: 0.7180 - val_loss: 0.7577 - val_dsc: 0.8163\n",
            "Epoch 75/100\n",
            "143/143 [==============================] - 436s 3s/step - loss: 1.0062 - dsc: 0.7412 - val_loss: 0.7424 - val_dsc: 0.8205\n",
            "Epoch 76/100\n",
            "143/143 [==============================] - 442s 3s/step - loss: 0.9668 - dsc: 0.7579 - val_loss: 0.7749 - val_dsc: 0.7989\n",
            "Epoch 77/100\n",
            "143/143 [==============================] - 441s 3s/step - loss: 1.0279 - dsc: 0.7384 - val_loss: 0.7418 - val_dsc: 0.8183\n",
            "Epoch 78/100\n",
            "143/143 [==============================] - 438s 3s/step - loss: 0.9887 - dsc: 0.7496 - val_loss: 0.7540 - val_dsc: 0.8088\n",
            "Epoch 79/100\n",
            "143/143 [==============================] - 443s 3s/step - loss: 1.0209 - dsc: 0.7397 - val_loss: 0.7536 - val_dsc: 0.8104\n",
            "Epoch 80/100\n",
            "143/143 [==============================] - 441s 3s/step - loss: 1.0124 - dsc: 0.7381 - val_loss: 0.7611 - val_dsc: 0.8054\n",
            "Epoch 81/100\n",
            "143/143 [==============================] - 438s 3s/step - loss: 0.9783 - dsc: 0.7516 - val_loss: 0.7579 - val_dsc: 0.8074\n",
            "Epoch 82/100\n",
            "143/143 [==============================] - 438s 3s/step - loss: 1.0119 - dsc: 0.7392 - val_loss: 0.7935 - val_dsc: 0.7942\n",
            "Epoch 83/100\n",
            "143/143 [==============================] - 437s 3s/step - loss: 1.0028 - dsc: 0.7447 - val_loss: 0.7827 - val_dsc: 0.8015\n",
            "Epoch 84/100\n",
            "143/143 [==============================] - 435s 3s/step - loss: 1.0377 - dsc: 0.7345 - val_loss: 0.7678 - val_dsc: 0.8043\n",
            "Epoch 85/100\n",
            "143/143 [==============================] - 445s 3s/step - loss: 1.0153 - dsc: 0.7381 - val_loss: 0.7328 - val_dsc: 0.8198\n",
            "Epoch 86/100\n",
            "143/143 [==============================] - 438s 3s/step - loss: 1.0241 - dsc: 0.7364 - val_loss: 0.7483 - val_dsc: 0.8146\n",
            "Epoch 87/100\n",
            "143/143 [==============================] - 433s 3s/step - loss: 1.0050 - dsc: 0.7438 - val_loss: 0.7549 - val_dsc: 0.8142\n",
            "Epoch 88/100\n",
            "143/143 [==============================] - 438s 3s/step - loss: 1.0260 - dsc: 0.7369 - val_loss: 0.7434 - val_dsc: 0.8148\n",
            "Epoch 89/100\n",
            "143/143 [==============================] - 437s 3s/step - loss: 1.0642 - dsc: 0.7234 - val_loss: 0.7671 - val_dsc: 0.8024\n",
            "Epoch 90/100\n",
            "143/143 [==============================] - 441s 3s/step - loss: 0.9821 - dsc: 0.7476 - val_loss: 0.7392 - val_dsc: 0.8171\n",
            "Epoch 91/100\n",
            "143/143 [==============================] - 438s 3s/step - loss: 1.0141 - dsc: 0.7412 - val_loss: 0.7710 - val_dsc: 0.7982\n",
            "Epoch 92/100\n",
            "143/143 [==============================] - 444s 3s/step - loss: 1.0376 - dsc: 0.7319 - val_loss: 0.7487 - val_dsc: 0.8138\n",
            "Epoch 93/100\n",
            "143/143 [==============================] - 439s 3s/step - loss: 0.9994 - dsc: 0.7449 - val_loss: 0.7611 - val_dsc: 0.8140\n",
            "Epoch 94/100\n",
            "143/143 [==============================] - 442s 3s/step - loss: 0.9891 - dsc: 0.7479 - val_loss: 0.7620 - val_dsc: 0.8048\n",
            "Epoch 95/100\n",
            "143/143 [==============================] - 446s 3s/step - loss: 0.9637 - dsc: 0.7557 - val_loss: 0.7484 - val_dsc: 0.8096\n",
            "Epoch 96/100\n",
            "143/143 [==============================] - 440s 3s/step - loss: 1.0126 - dsc: 0.7425 - val_loss: 0.7585 - val_dsc: 0.8072\n",
            "Epoch 97/100\n",
            "143/143 [==============================] - 444s 3s/step - loss: 1.0263 - dsc: 0.7316 - val_loss: 0.7367 - val_dsc: 0.8181\n",
            "Epoch 98/100\n",
            "143/143 [==============================] - 442s 3s/step - loss: 0.9754 - dsc: 0.7521 - val_loss: 0.7752 - val_dsc: 0.8008\n",
            "Epoch 99/100\n",
            "143/143 [==============================] - 441s 3s/step - loss: 1.0136 - dsc: 0.7380 - val_loss: 0.7403 - val_dsc: 0.8156\n",
            "Epoch 100/100\n",
            "143/143 [==============================] - 443s 3s/step - loss: 0.9562 - dsc: 0.7584 - val_loss: 0.7378 - val_dsc: 0.8147\n"
          ],
          "name": "stdout"
        }
      ]
    },
    {
      "cell_type": "code",
      "metadata": {
        "id": "WUdNNyl-1ktX",
        "colab": {
          "base_uri": "https://localhost:8080/"
        },
        "outputId": "54d205b0-b24f-4b57-c55c-6aac089340b3"
      },
      "source": [
        "model.evaluate(val_ds, steps=np.ceil(len(val_paths)//BATCH_SIZE))"
      ],
      "execution_count": null,
      "outputs": [
        {
          "output_type": "stream",
          "text": [
            "25/25 [==============================] - 34s 1s/step - loss: 0.7378 - dsc: 0.8147\n"
          ],
          "name": "stdout"
        },
        {
          "output_type": "execute_result",
          "data": {
            "text/plain": [
              "[0.7378356456756592, 0.8146770596504211]"
            ]
          },
          "metadata": {
            "tags": []
          },
          "execution_count": 48
        }
      ]
    },
    {
      "cell_type": "code",
      "metadata": {
        "id": "ttJA6gGL1pv7",
        "colab": {
          "base_uri": "https://localhost:8080/",
          "height": 49,
          "referenced_widgets": [
            "bdc48d7d86a047a9b4932aed93c8580f",
            "a18c3c3c0d564c96a606e7bc8f6ca046",
            "5ef7b4e565f349909e24a516d932e72c",
            "2343cb201f474fc3bf1e342356f02bfa",
            "081d180d3e8248f49ab910bb43868176",
            "83bf8d3811354aa1a529c02ca739624c",
            "77bfe86f8b8b4937b33bc5daf1442edf",
            "d39cd69703d14188b3b70118400c1519"
          ]
        },
        "outputId": "9df4530f-a999-4fed-cded-d8eb1582f319"
      },
      "source": [
        "scores = []\n",
        "for i, (a,b) in tqdm(enumerate(train_ds)):\n",
        "    if i==steps_per_epoch:\n",
        "        break\n",
        "    o = model(a)\n",
        "    o = tf.cast(o, tf.float32)\n",
        "    scores.append(dsc(b,o))"
      ],
      "execution_count": null,
      "outputs": [
        {
          "output_type": "display_data",
          "data": {
            "application/vnd.jupyter.widget-view+json": {
              "model_id": "bdc48d7d86a047a9b4932aed93c8580f",
              "version_minor": 0,
              "version_major": 2
            },
            "text/plain": [
              "HBox(children=(FloatProgress(value=1.0, bar_style='info', max=1.0), HTML(value='')))"
            ]
          },
          "metadata": {
            "tags": []
          }
        }
      ]
    },
    {
      "cell_type": "code",
      "metadata": {
        "id": "iZ1UO7i_1ppa",
        "colab": {
          "base_uri": "https://localhost:8080/"
        },
        "outputId": "613a3443-1602-4da1-8beb-6ed291132c3b"
      },
      "source": [
        "np.mean(scores, axis=0)"
      ],
      "execution_count": null,
      "outputs": [
        {
          "output_type": "execute_result",
          "data": {
            "text/plain": [
              "array([0.4047957 , 0.4720509 , 0.42634007], dtype=float32)"
            ]
          },
          "metadata": {
            "tags": []
          },
          "execution_count": 50
        }
      ]
    },
    {
      "cell_type": "code",
      "metadata": {
        "id": "m2qi8enp1maS",
        "colab": {
          "base_uri": "https://localhost:8080/",
          "height": 667,
          "referenced_widgets": [
            "b11a6c440457494e9c7f998876eeabf6",
            "9903b78827164f71a1f363e30699afbf",
            "4ab91895d2a94f32b3afbc63ef74b5df",
            "b0a9ec6d214c4453aae02b11c80903ec",
            "c5bc55da59c6430fad1bc4bab07862db",
            "16d9ece48b2e47708003a0deb39509fb",
            "bc0abc2800ac47dba6a06545215ec75f",
            "1f248d5e6d5046d7b2d99f5b756bacb4"
          ]
        },
        "outputId": "0a781e89-df1c-40b0-d68a-b01d7209ff53"
      },
      "source": [
        "run.finish()"
      ],
      "execution_count": null,
      "outputs": [
        {
          "output_type": "display_data",
          "data": {
            "text/html": [
              "<br/>Waiting for W&B process to finish, PID 1122<br/>Program ended successfully."
            ],
            "text/plain": [
              "<IPython.core.display.HTML object>"
            ]
          },
          "metadata": {
            "tags": []
          }
        },
        {
          "output_type": "display_data",
          "data": {
            "application/vnd.jupyter.widget-view+json": {
              "model_id": "b11a6c440457494e9c7f998876eeabf6",
              "version_minor": 0,
              "version_major": 2
            },
            "text/plain": [
              "VBox(children=(Label(value=' 330.01MB of 330.01MB uploaded (0.07MB deduped)\\r'), FloatProgress(value=1.0, max=…"
            ]
          },
          "metadata": {
            "tags": []
          }
        },
        {
          "output_type": "display_data",
          "data": {
            "text/html": [
              "Find user logs for this run at: <code>/content/3D_res_attn_Unet/wandb/run-20210519_120356-21mtkw65/logs/debug.log</code>"
            ],
            "text/plain": [
              "<IPython.core.display.HTML object>"
            ]
          },
          "metadata": {
            "tags": []
          }
        },
        {
          "output_type": "display_data",
          "data": {
            "text/html": [
              "Find internal logs for this run at: <code>/content/3D_res_attn_Unet/wandb/run-20210519_120356-21mtkw65/logs/debug-internal.log</code>"
            ],
            "text/plain": [
              "<IPython.core.display.HTML object>"
            ]
          },
          "metadata": {
            "tags": []
          }
        },
        {
          "output_type": "display_data",
          "data": {
            "text/html": [
              "<h3>Run summary:</h3><br/><style>\n",
              "    table.wandb td:nth-child(1) { padding: 0 10px; text-align: right }\n",
              "    </style><table class=\"wandb\">\n",
              "<tr><td>_runtime</td><td>43535</td></tr><tr><td>_timestamp</td><td>1621469371</td></tr><tr><td>_step</td><td>200</td></tr><tr><td>epoch</td><td>99</td></tr><tr><td>loss</td><td>0.96436</td></tr><tr><td>dsc</td><td>0.75595</td></tr><tr><td>val_loss</td><td>0.73784</td></tr><tr><td>val_dsc</td><td>0.81468</td></tr><tr><td>best_dsc</td><td>0.75603</td></tr><tr><td>best_epoch</td><td>94</td></tr></table>"
            ],
            "text/plain": [
              "<IPython.core.display.HTML object>"
            ]
          },
          "metadata": {
            "tags": []
          }
        },
        {
          "output_type": "display_data",
          "data": {
            "text/html": [
              "<h3>Run history:</h3><br/><style>\n",
              "    table.wandb td:nth-child(1) { padding: 0 10px; text-align: right }\n",
              "    </style><table class=\"wandb\">\n",
              "<tr><td>_runtime</td><td>▁▁▁▁▂▂▂▂▂▃▃▃▃▃▃▄▄▄▄▄▅▅▅▅▅▅▆▆▆▆▆▆▇▇▇▇▇███</td></tr><tr><td>_timestamp</td><td>▁▁▁▁▂▂▂▂▂▃▃▃▃▃▃▄▄▄▄▄▅▅▅▅▅▅▆▆▆▆▆▆▇▇▇▇▇███</td></tr><tr><td>_step</td><td>▁▁▁▁▂▂▂▂▂▃▃▃▃▃▃▄▄▄▄▄▅▅▅▅▅▅▆▆▆▆▆▇▇▇▇▇▇███</td></tr><tr><td>epoch</td><td>▁▁▁▁▂▂▂▂▂▃▃▃▃▃▃▄▄▄▄▄▅▅▅▅▅▅▆▆▆▆▆▇▇▇▇▇▇███</td></tr><tr><td>loss</td><td>█▅▄▃▃▃▂▂▂▂▂▂▂▂▂▁▁▁▁▁▁▁▁▁▁▁▁▁▁▁▁▁▁▁▁▁▁▁▁▁</td></tr><tr><td>dsc</td><td>▁▄▄▅▆▆▇▇▇▇▇▇▇▇▇████▇▇███████████████████</td></tr><tr><td>val_loss</td><td>█▇▅▆▄▃▂▂▂▂▂▂▃▁▂▁▁▁▁▂▁▁▁▁▁▁▁▁▁▁▁▁▁▁▁▁▁▁▁▁</td></tr><tr><td>val_dsc</td><td>▁▂▄▃▅▆▇▇█▇▇▇▆█████▇▇▇███████████████████</td></tr></table><br/>"
            ],
            "text/plain": [
              "<IPython.core.display.HTML object>"
            ]
          },
          "metadata": {
            "tags": []
          }
        },
        {
          "output_type": "display_data",
          "data": {
            "text/html": [
              "Synced 5 W&B file(s), 102 media file(s), 2 artifact file(s) and 2 other file(s)"
            ],
            "text/plain": [
              "<IPython.core.display.HTML object>"
            ]
          },
          "metadata": {
            "tags": []
          }
        },
        {
          "output_type": "display_data",
          "data": {
            "text/html": [
              "\n",
              "                    <br/>Synced <strong style=\"color:#cdcd00\">vague-dream-5</strong>: <a href=\"https://wandb.ai/shivamshrirao/3D_res_attn_Unet/runs/21mtkw65\" target=\"_blank\">https://wandb.ai/shivamshrirao/3D_res_attn_Unet/runs/21mtkw65</a><br/>\n",
              "                "
            ],
            "text/plain": [
              "<IPython.core.display.HTML object>"
            ]
          },
          "metadata": {
            "tags": []
          }
        }
      ]
    },
    {
      "cell_type": "code",
      "metadata": {
        "id": "kYyhhAMKLh4E"
      },
      "source": [
        ""
      ],
      "execution_count": null,
      "outputs": []
    }
  ]
}