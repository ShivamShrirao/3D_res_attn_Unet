{
  "nbformat": 4,
  "nbformat_minor": 0,
  "metadata": {
    "accelerator": "GPU",
    "colab": {
      "name": "3D_res_attn_Unet.ipynb",
      "provenance": [],
      "collapsed_sections": [],
      "machine_shape": "hm"
    },
    "kernelspec": {
      "display_name": "Python 3",
      "name": "python3"
    },
    "language_info": {
      "name": "python"
    }
  },
  "cells": [
    {
      "cell_type": "code",
      "metadata": {
        "colab": {
          "base_uri": "https://localhost:8080/"
        },
        "id": "TmD9SLQpmNJF",
        "outputId": "067c5133-55b1-4a39-9a24-43be5a91e53d"
      },
      "source": [
        "!nvidia-smi"
      ],
      "execution_count": 1,
      "outputs": [
        {
          "output_type": "stream",
          "text": [
            "Sun Jun 20 17:05:41 2021       \n",
            "+-----------------------------------------------------------------------------+\n",
            "| NVIDIA-SMI 465.27       Driver Version: 460.32.03    CUDA Version: 11.2     |\n",
            "|-------------------------------+----------------------+----------------------+\n",
            "| GPU  Name        Persistence-M| Bus-Id        Disp.A | Volatile Uncorr. ECC |\n",
            "| Fan  Temp  Perf  Pwr:Usage/Cap|         Memory-Usage | GPU-Util  Compute M. |\n",
            "|                               |                      |               MIG M. |\n",
            "|===============================+======================+======================|\n",
            "|   0  Tesla P100-PCIE...  Off  | 00000000:00:04.0 Off |                    0 |\n",
            "| N/A   40C    P0    26W / 250W |      0MiB / 16280MiB |      0%      Default |\n",
            "|                               |                      |                  N/A |\n",
            "+-------------------------------+----------------------+----------------------+\n",
            "                                                                               \n",
            "+-----------------------------------------------------------------------------+\n",
            "| Processes:                                                                  |\n",
            "|  GPU   GI   CI        PID   Type   Process name                  GPU Memory |\n",
            "|        ID   ID                                                   Usage      |\n",
            "|=============================================================================|\n",
            "|  No running processes found                                                 |\n",
            "+-----------------------------------------------------------------------------+\n"
          ],
          "name": "stdout"
        }
      ]
    },
    {
      "cell_type": "code",
      "metadata": {
        "colab": {
          "base_uri": "https://localhost:8080/"
        },
        "id": "Y9lUYIN8M0Z6",
        "outputId": "3915422a-1ba5-42a5-ed2a-e0ebc5bc5673"
      },
      "source": [
        "!apt install libcudnn8 --allow-change-held-packages"
      ],
      "execution_count": 2,
      "outputs": [
        {
          "output_type": "stream",
          "text": [
            "Reading package lists... Done\n",
            "Building dependency tree       \n",
            "Reading state information... Done\n",
            "The following additional packages will be installed:\n",
            "  libcudnn8-dev\n",
            "The following held packages will be changed:\n",
            "  libcudnn8\n",
            "The following packages will be upgraded:\n",
            "  libcudnn8 libcudnn8-dev\n",
            "2 upgraded, 0 newly installed, 0 to remove and 37 not upgraded.\n",
            "Need to get 1,070 MB of archives.\n",
            "After this operation, 337 MB of additional disk space will be used.\n",
            "Get:1 https://developer.download.nvidia.com/compute/cuda/repos/ubuntu1804/x86_64  libcudnn8-dev 8.2.1.32-1+cuda11.3 [614 MB]\n",
            "Get:2 https://developer.download.nvidia.com/compute/cuda/repos/ubuntu1804/x86_64  libcudnn8 8.2.1.32-1+cuda11.3 [456 MB]\n",
            "Fetched 1,070 MB in 20s (53.8 MB/s)\n",
            "(Reading database ... 160772 files and directories currently installed.)\n",
            "Preparing to unpack .../libcudnn8-dev_8.2.1.32-1+cuda11.3_amd64.deb ...\n",
            "Unpacking libcudnn8-dev (8.2.1.32-1+cuda11.3) over (8.0.4.30-1+cuda11.0) ...\n",
            "Preparing to unpack .../libcudnn8_8.2.1.32-1+cuda11.3_amd64.deb ...\n",
            "Unpacking libcudnn8 (8.2.1.32-1+cuda11.3) over (8.0.4.30-1+cuda11.0) ...\n",
            "Setting up libcudnn8 (8.2.1.32-1+cuda11.3) ...\n",
            "Setting up libcudnn8-dev (8.2.1.32-1+cuda11.3) ...\n",
            "update-alternatives: warning: forcing reinstallation of alternative /usr/include/x86_64-linux-gnu/cudnn_v7.h because link group libcudnn is broken\n",
            "update-alternatives: using /usr/include/x86_64-linux-gnu/cudnn_v8.h to provide /usr/include/cudnn.h (libcudnn) in manual mode\n",
            "Processing triggers for libc-bin (2.27-3ubuntu1.2) ...\n",
            "/sbin/ldconfig.real: /usr/local/lib/python3.7/dist-packages/ideep4py/lib/libmkldnn.so.0 is not a symbolic link\n",
            "\n"
          ],
          "name": "stdout"
        }
      ]
    },
    {
      "cell_type": "code",
      "metadata": {
        "colab": {
          "base_uri": "https://localhost:8080/"
        },
        "id": "AZI13ut7nBZF",
        "outputId": "b59f38a2-5b93-4694-d405-4f7630ecfdf4"
      },
      "source": [
        "%pip install -q tensorflow-addons[tensorflow]\n",
        "%pip install -q simpleitk\n",
        "# %pip install -q colab_ssh\n",
        "%pip install -q wandb"
      ],
      "execution_count": 3,
      "outputs": [
        {
          "output_type": "stream",
          "text": [
            "\u001b[K     |████████████████████████████████| 686kB 9.7MB/s \n",
            "\u001b[K     |████████████████████████████████| 47.4MB 102kB/s \n",
            "\u001b[K     |████████████████████████████████| 1.8MB 8.3MB/s \n",
            "\u001b[K     |████████████████████████████████| 102kB 9.3MB/s \n",
            "\u001b[K     |████████████████████████████████| 133kB 45.6MB/s \n",
            "\u001b[K     |████████████████████████████████| 174kB 44.7MB/s \n",
            "\u001b[K     |████████████████████████████████| 71kB 7.5MB/s \n",
            "\u001b[?25h  Building wheel for subprocess32 (setup.py) ... \u001b[?25l\u001b[?25hdone\n",
            "  Building wheel for pathtools (setup.py) ... \u001b[?25l\u001b[?25hdone\n"
          ],
          "name": "stdout"
        }
      ]
    },
    {
      "cell_type": "code",
      "metadata": {
        "colab": {
          "base_uri": "https://localhost:8080/"
        },
        "id": "MeRBZZsrxy7G",
        "outputId": "bb47c4d9-1b74-4b0e-bc1b-01cf2db31444"
      },
      "source": [
        "!gdown https://drive.google.com/uc?id=1jYb-dKqywLm5bQ5esP6YSV5xuBzqBPqm"
      ],
      "execution_count": 4,
      "outputs": [
        {
          "output_type": "stream",
          "text": [
            "Downloading...\n",
            "From: https://drive.google.com/uc?id=1jYb-dKqywLm5bQ5esP6YSV5xuBzqBPqm\n",
            "To: /content/BRATS_Dataset.tar.gz\n",
            "2.76GB [00:22, 125MB/s] \n"
          ],
          "name": "stdout"
        }
      ]
    },
    {
      "cell_type": "code",
      "metadata": {
        "id": "MCwAJtyIx0oX",
        "colab": {
          "base_uri": "https://localhost:8080/"
        },
        "outputId": "d2072fc9-d2d5-4aa2-de0a-d64140f1e9e3"
      },
      "source": [
        "!apt -qq install pigz"
      ],
      "execution_count": 5,
      "outputs": [
        {
          "output_type": "stream",
          "text": [
            "The following NEW packages will be installed:\n",
            "  pigz\n",
            "0 upgraded, 1 newly installed, 0 to remove and 37 not upgraded.\n",
            "Need to get 57.4 kB of archives.\n",
            "After this operation, 259 kB of additional disk space will be used.\n",
            "Selecting previously unselected package pigz.\n",
            "(Reading database ... 160784 files and directories currently installed.)\n",
            "Preparing to unpack .../archives/pigz_2.4-1_amd64.deb ...\n",
            "Unpacking pigz (2.4-1) ...\n",
            "Setting up pigz (2.4-1) ...\n",
            "Processing triggers for man-db (2.8.3-2ubuntu0.1) ...\n"
          ],
          "name": "stdout"
        }
      ]
    },
    {
      "cell_type": "code",
      "metadata": {
        "id": "RBS9P9pVyL0p"
      },
      "source": [
        "!pigz -dc BRATS_Dataset.tar.gz | tar xf -"
      ],
      "execution_count": 6,
      "outputs": []
    },
    {
      "cell_type": "code",
      "metadata": {
        "id": "iwMjK_O6yL-5"
      },
      "source": [
        "!rm BRATS_Dataset.tar.gz"
      ],
      "execution_count": 7,
      "outputs": []
    },
    {
      "cell_type": "code",
      "metadata": {
        "id": "6bu-os4Kqoiq",
        "colab": {
          "base_uri": "https://localhost:8080/"
        },
        "outputId": "e53e7813-9ef5-44fd-85a9-83c46b3bceb4"
      },
      "source": [
        "%cd /content\n",
        "!rm -rf 3D_res_attn_Unet"
      ],
      "execution_count": 8,
      "outputs": [
        {
          "output_type": "stream",
          "text": [
            "/content\n"
          ],
          "name": "stdout"
        }
      ]
    },
    {
      "cell_type": "code",
      "metadata": {
        "id": "B5UZTWx-mb7Y",
        "colab": {
          "base_uri": "https://localhost:8080/"
        },
        "outputId": "49c0beed-ee25-4265-b79f-961b6480e1ad"
      },
      "source": [
        "!git clone https://github.com/ShivamShrirao/3D_res_attn_Unet"
      ],
      "execution_count": 9,
      "outputs": [
        {
          "output_type": "stream",
          "text": [
            "Cloning into '3D_res_attn_Unet'...\n",
            "remote: Enumerating objects: 247, done.\u001b[K\n",
            "remote: Counting objects: 100% (247/247), done.\u001b[K\n",
            "remote: Compressing objects: 100% (163/163), done.\u001b[K\n",
            "remote: Total 247 (delta 173), reused 154 (delta 80), pack-reused 0\u001b[K\n",
            "Receiving objects: 100% (247/247), 595.06 KiB | 19.83 MiB/s, done.\n",
            "Resolving deltas: 100% (173/173), done.\n"
          ],
          "name": "stdout"
        }
      ]
    },
    {
      "cell_type": "code",
      "metadata": {
        "colab": {
          "base_uri": "https://localhost:8080/"
        },
        "id": "SDsMVBQUEX_C",
        "outputId": "62b733c1-cb85-4815-9216-35afa27a42e3"
      },
      "source": [
        "%cd 3D_res_attn_Unet"
      ],
      "execution_count": 10,
      "outputs": [
        {
          "output_type": "stream",
          "text": [
            "/content/3D_res_attn_Unet\n"
          ],
          "name": "stdout"
        }
      ]
    },
    {
      "cell_type": "code",
      "metadata": {
        "id": "fYq1D1nrmMfW"
      },
      "source": [
        "%load_ext tensorboard\n",
        "%load_ext autoreload\n",
        "%autoreload 2"
      ],
      "execution_count": 11,
      "outputs": []
    },
    {
      "cell_type": "code",
      "metadata": {
        "id": "VxV8loizyQk5"
      },
      "source": [
        "import SimpleITK as sitk"
      ],
      "execution_count": 12,
      "outputs": []
    },
    {
      "cell_type": "code",
      "metadata": {
        "id": "RyvK3bkmmRF5"
      },
      "source": [
        "import tensorflow as tf\n",
        "from tensorflow.keras import layers\n",
        "import tensorflow_addons as tfa\n",
        "import numpy as np\n",
        "import matplotlib.pyplot as plt\n",
        "import PIL.Image\n",
        "import glob\n",
        "from tqdm.notebook import tqdm\n",
        "from time import time\n",
        "import os\n",
        "%matplotlib inline"
      ],
      "execution_count": 13,
      "outputs": []
    },
    {
      "cell_type": "code",
      "metadata": {
        "id": "ke4itk7LVPXP"
      },
      "source": [
        "# Set the random seeds\n",
        "os.environ['TF_CUDNN_DETERMINISTIC'] = '1' \n",
        "np.random.seed(hash(\"improves reproducibility\") % 2**32 - 1)\n",
        "tf.random.set_seed(hash(\"by removing stochasticity\") % 2**32 - 1)"
      ],
      "execution_count": 14,
      "outputs": []
    },
    {
      "cell_type": "code",
      "metadata": {
        "colab": {
          "base_uri": "https://localhost:8080/"
        },
        "id": "x8wLJQSNmV8W",
        "outputId": "4463bf3d-65f3-4620-fd82-a3a24033a282"
      },
      "source": [
        "from tensorflow.keras import mixed_precision\n",
        "mixed_precision.set_global_policy(\"mixed_float16\")"
      ],
      "execution_count": 15,
      "outputs": [
        {
          "output_type": "stream",
          "text": [
            "WARNING:tensorflow:Mixed precision compatibility check (mixed_float16): WARNING\n",
            "Your GPU may run slowly with dtype policy mixed_float16 because it does not have compute capability of at least 7.0. Your GPU:\n",
            "  Tesla P100-PCIE-16GB, compute capability 6.0\n",
            "See https://developer.nvidia.com/cuda-gpus for a list of GPUs and their compute capabilities.\n",
            "If you will use compatible GPU(s) not attached to this host, e.g. by running a multi-worker model, you can ignore this warning. This message will only be logged once\n"
          ],
          "name": "stdout"
        }
      ]
    },
    {
      "cell_type": "code",
      "metadata": {
        "id": "DH9zA80Lyblg"
      },
      "source": [
        "def get_data_paths(dataset_path):\n",
        "    t1 = glob.glob(dataset_path+'/*GG/*/*t1.nii.gz')\n",
        "    t2 = glob.glob(dataset_path+'/*GG/*/*t2.nii.gz')\n",
        "    t1ce = glob.glob(dataset_path+'/*GG/*/*t1ce.nii.gz')\n",
        "    flair = glob.glob(dataset_path+'/*GG/*/*flair.nii.gz')\n",
        "    seg = glob.glob(dataset_path+'/*GG/*/*seg.nii.gz')\n",
        "    return list(zip(t1, t2, t1ce, flair, seg))"
      ],
      "execution_count": 16,
      "outputs": []
    },
    {
      "cell_type": "code",
      "metadata": {
        "id": "KoB8nSTVyfUX"
      },
      "source": [
        "train_paths = get_data_paths('../BRATS_Dataset/brats_dataset/')\n",
        "val_paths = get_data_paths('../BRATS_Dataset/brats_test_dataset/')"
      ],
      "execution_count": 17,
      "outputs": []
    },
    {
      "cell_type": "code",
      "metadata": {
        "colab": {
          "base_uri": "https://localhost:8080/"
        },
        "id": "B2BFkvT4yfRU",
        "outputId": "82df3b49-4f83-426d-f901-5186bb48691b"
      },
      "source": [
        "len(train_paths), len(val_paths)"
      ],
      "execution_count": 18,
      "outputs": [
        {
          "output_type": "execute_result",
          "data": {
            "text/plain": [
              "(285, 50)"
            ]
          },
          "metadata": {
            "tags": []
          },
          "execution_count": 18
        }
      ]
    },
    {
      "cell_type": "code",
      "metadata": {
        "id": "T-GTEwiqy1E_"
      },
      "source": [
        "from model.preprocess_brats import *"
      ],
      "execution_count": 19,
      "outputs": []
    },
    {
      "cell_type": "code",
      "metadata": {
        "id": "QNGVcTA5fS51"
      },
      "source": [
        "mean = tf.constant([-0.7050362 , -0.76629126, -0.8043347 , -0.77532315], shape=(1, 4, 1, 1, 1))\n",
        "std  = tf.constant([0.40932664, 0.33403134, 0.26365048, 0.31701902], shape=(1, 4, 1, 1, 1))"
      ],
      "execution_count": 20,
      "outputs": []
    },
    {
      "cell_type": "code",
      "metadata": {
        "id": "BLUheTvAyfNE"
      },
      "source": [
        "# mean = 0\n",
        "# std = 0\n",
        "# for i, (img,lbl) in tqdm(enumerate(train_ds)):\n",
        "#     if i == 200//BATCH_SIZE:\n",
        "#         break\n",
        "#     mean+= tf.reduce_mean(img, axis=[0,2,3,4])\n",
        "#     std += tf.math.reduce_std(img, axis=[0,2,3,4])\n",
        "# mean = tf.reshape(mean/i, (1, 4, 1, 1, 1))\n",
        "# std = tf.reshape(std/i, (1, 4, 1, 1, 1))"
      ],
      "execution_count": 21,
      "outputs": []
    },
    {
      "cell_type": "code",
      "metadata": {
        "colab": {
          "base_uri": "https://localhost:8080/"
        },
        "id": "gELRSfJLyfKe",
        "outputId": "30967187-3981-4d2d-a386-927ebc286aa9"
      },
      "source": [
        "depth = 128 # 155\n",
        "height = 192 # 240\n",
        "width = 160 # 240\n",
        "(155-depth, 240-height, 240-width)"
      ],
      "execution_count": 22,
      "outputs": [
        {
          "output_type": "execute_result",
          "data": {
            "text/plain": [
              "(27, 48, 80)"
            ]
          },
          "metadata": {
            "tags": []
          },
          "execution_count": 22
        }
      ]
    },
    {
      "cell_type": "code",
      "metadata": {
        "id": "hA8i-idEyfGn"
      },
      "source": [
        "def random_crop3D(imgs, lbls, train=True):          # Crops image to size (128, 192, 160)\n",
        "    d_cr, h_cr, w_cr = 13, 24, 40\n",
        "    if train:\n",
        "        if tf.random.uniform([], 0, 1, dtype=tf.float32) <= 0.8:\n",
        "            d_cr = tf.random.uniform([], 0, 27, dtype=tf.int32)\n",
        "            h_cr = tf.random.uniform([], 0, 48, dtype=tf.int32)\n",
        "            w_cr = tf.random.uniform([], 0, 80, dtype=tf.int32)\n",
        "    imgs = imgs[:, :, d_cr:d_cr+depth, h_cr:h_cr+height, w_cr:w_cr+width]\n",
        "    lbls = lbls[:, :, d_cr:d_cr+depth, h_cr:h_cr+height, w_cr:w_cr+width]\n",
        "    return imgs, lbls"
      ],
      "execution_count": 23,
      "outputs": []
    },
    {
      "cell_type": "code",
      "metadata": {
        "id": "HNBpYsiZCMLv"
      },
      "source": [
        "def final_augmentation(imgs, lbls, train=True):       # input imgs[B, 4, 155, 240, 240], output[B, 4, 128, 192, 160]\n",
        "    imgs, lbls = random_crop3D(imgs, lbls, train)\n",
        "    if train:\n",
        "        if tf.random.uniform([], 0, 1, dtype=tf.float32) <= 0.8:\n",
        "            imgs = tf.image.random_brightness(imgs, 0.2)      # source code checked, it's fine for 3D\n",
        "    # imgs = tf.image.per_image_standardization(imgs)   # source code checked, it's fine for 3D\n",
        "    imgs = (imgs - mean) / std\n",
        "    return imgs, lbls"
      ],
      "execution_count": 24,
      "outputs": []
    },
    {
      "cell_type": "code",
      "metadata": {
        "id": "-jYQgwzeye7w"
      },
      "source": [
        "BATCH_SIZE = 2\n",
        "AUTOTUNE = tf.data.experimental.AUTOTUNE"
      ],
      "execution_count": 25,
      "outputs": []
    },
    {
      "cell_type": "code",
      "metadata": {
        "id": "4CRpmKSryeMY"
      },
      "source": [
        "def get_tfds(data_paths, train=False):\n",
        "    # 53.3373920917511 s\n",
        "    dataset = tf.data.Dataset.from_tensor_slices(data_paths)\n",
        "    if train:\n",
        "        dataset = dataset.shuffle(len(data_paths))\n",
        "    dataset = dataset.map(load_paths_wrapper, num_parallel_calls=AUTOTUNE)\n",
        "    # if train:\n",
        "    #     dataset = dataset.map(random_rotate3D, num_parallel_calls=AUTOTUNE)\n",
        "    dataset = dataset.repeat()\n",
        "    dataset = dataset.batch(BATCH_SIZE)\n",
        "    if train:\n",
        "        dataset = dataset.map(random_flip3D, num_parallel_calls=AUTOTUNE)\n",
        "    dataset = dataset.map(lambda x,y: final_augmentation(x,y,train), num_parallel_calls=AUTOTUNE)      # remove for test,val\n",
        "    dataset = dataset.prefetch(AUTOTUNE)\n",
        "    return dataset"
      ],
      "execution_count": 26,
      "outputs": []
    },
    {
      "cell_type": "code",
      "metadata": {
        "id": "aLVvTfMPzSgG"
      },
      "source": [
        "train_ds = get_tfds(train_paths, train=True)\n",
        "val_ds = get_tfds(val_paths)"
      ],
      "execution_count": 27,
      "outputs": []
    },
    {
      "cell_type": "code",
      "metadata": {
        "id": "k_u6nfUhzT9C"
      },
      "source": [
        "import wandb\n",
        "from wandb.keras import WandbCallback"
      ],
      "execution_count": 28,
      "outputs": []
    },
    {
      "cell_type": "code",
      "metadata": {
        "colab": {
          "base_uri": "https://localhost:8080/",
          "height": 68
        },
        "id": "39ZKOyeDzT6O",
        "outputId": "3492abc7-3fc7-45e0-e756-08b1eb649d7b"
      },
      "source": [
        "wandb.login()"
      ],
      "execution_count": 29,
      "outputs": [
        {
          "output_type": "display_data",
          "data": {
            "application/javascript": [
              "\n",
              "        window._wandbApiKey = new Promise((resolve, reject) => {\n",
              "            function loadScript(url) {\n",
              "            return new Promise(function(resolve, reject) {\n",
              "                let newScript = document.createElement(\"script\");\n",
              "                newScript.onerror = reject;\n",
              "                newScript.onload = resolve;\n",
              "                document.body.appendChild(newScript);\n",
              "                newScript.src = url;\n",
              "            });\n",
              "            }\n",
              "            loadScript(\"https://cdn.jsdelivr.net/npm/postmate/build/postmate.min.js\").then(() => {\n",
              "            const iframe = document.createElement('iframe')\n",
              "            iframe.style.cssText = \"width:0;height:0;border:none\"\n",
              "            document.body.appendChild(iframe)\n",
              "            const handshake = new Postmate({\n",
              "                container: iframe,\n",
              "                url: 'https://wandb.ai/authorize'\n",
              "            });\n",
              "            const timeout = setTimeout(() => reject(\"Couldn't auto authenticate\"), 5000)\n",
              "            handshake.then(function(child) {\n",
              "                child.on('authorize', data => {\n",
              "                    clearTimeout(timeout)\n",
              "                    resolve(data)\n",
              "                });\n",
              "            });\n",
              "            })\n",
              "        });\n",
              "    "
            ],
            "text/plain": [
              "<IPython.core.display.Javascript object>"
            ]
          },
          "metadata": {
            "tags": []
          }
        },
        {
          "output_type": "stream",
          "text": [
            "\u001b[34m\u001b[1mwandb\u001b[0m: Appending key for api.wandb.ai to your netrc file: /root/.netrc\n"
          ],
          "name": "stderr"
        },
        {
          "output_type": "execute_result",
          "data": {
            "text/plain": [
              "True"
            ]
          },
          "metadata": {
            "tags": []
          },
          "execution_count": 29
        }
      ]
    },
    {
      "cell_type": "code",
      "metadata": {
        "id": "yUud1K2iloXZ"
      },
      "source": [
        "config_defaults = {\n",
        "    'activation'            : 'leaky_relu', # swish, elu\n",
        "    'batch_size'            : BATCH_SIZE,\n",
        "    'block_type'            : 'AttnBottleneckBlock',\n",
        "    'clr_step_size'         : 85,       # start from between with big step in one cycle\n",
        "    'clr_offset_ep'         : 8,         # also warmup steps\n",
        "    'clr_restart_rate'      : 0.4,\n",
        "    'downsample_method'     : 'pool',\n",
        "    'dp_rate'               : 0.25,\n",
        "    'dropout_type'          : 'Spatial',\n",
        "    'frac_dv'               : 0.25,\n",
        "    'groups'                : 32,                 # imp. = 48\n",
        "    'loss_function'         : 'FocalTversky',\n",
        "    'max_lr'                : 8e-4,\n",
        "    'min_lr'                : 1e-6,\n",
        "    'nheads'                : 16,\n",
        "    'norm'                  : 'gn',\n",
        "    'optimizer'             : 'adamw',\n",
        "    'weight_decay'          : 6e-5,     # max weight decay\n",
        "    'z_notes'               : ['kernel size 5 input','removed random rotation']\n",
        "}\n",
        "CONFIG = config_defaults"
      ],
      "execution_count": 30,
      "outputs": []
    },
    {
      "cell_type": "code",
      "metadata": {
        "id": "aTWSlkaTUVIp"
      },
      "source": [
        "# run = wandb.init(id='3nozrqhw', project=\"3D_res_attn_Unet\", resume='must')\n",
        "# CONFIG = run.config"
      ],
      "execution_count": 31,
      "outputs": []
    },
    {
      "cell_type": "code",
      "metadata": {
        "id": "RjaGe7P4z1qV",
        "colab": {
          "base_uri": "https://localhost:8080/",
          "height": 136
        },
        "outputId": "8afa0601-feed-43bf-cbfa-2b3ae734926d"
      },
      "source": [
        "run = wandb.init(project=\"3D_res_attn_Unet\", entity=\"shivamshrirao\", config=config_defaults)\n",
        "CONFIG = wandb.config"
      ],
      "execution_count": 32,
      "outputs": [
        {
          "output_type": "stream",
          "text": [
            "\u001b[34m\u001b[1mwandb\u001b[0m: Currently logged in as: \u001b[33mshivamshrirao\u001b[0m (use `wandb login --relogin` to force relogin)\n"
          ],
          "name": "stderr"
        },
        {
          "output_type": "display_data",
          "data": {
            "text/html": [
              "\n",
              "                Tracking run with wandb version 0.10.32<br/>\n",
              "                Syncing run <strong style=\"color:#cdcd00\">radiant-universe-65</strong> to <a href=\"https://wandb.ai\" target=\"_blank\">Weights & Biases</a> <a href=\"https://docs.wandb.com/integrations/jupyter.html\" target=\"_blank\">(Documentation)</a>.<br/>\n",
              "                Project page: <a href=\"https://wandb.ai/shivamshrirao/3D_res_attn_Unet\" target=\"_blank\">https://wandb.ai/shivamshrirao/3D_res_attn_Unet</a><br/>\n",
              "                Run page: <a href=\"https://wandb.ai/shivamshrirao/3D_res_attn_Unet/runs/3fo3nzzb\" target=\"_blank\">https://wandb.ai/shivamshrirao/3D_res_attn_Unet/runs/3fo3nzzb</a><br/>\n",
              "                Run data is saved locally in <code>/content/3D_res_attn_Unet/wandb/run-20210620_171039-3fo3nzzb</code><br/><br/>\n",
              "            "
            ],
            "text/plain": [
              "<IPython.core.display.HTML object>"
            ]
          },
          "metadata": {
            "tags": []
          }
        }
      ]
    },
    {
      "cell_type": "code",
      "metadata": {
        "colab": {
          "base_uri": "https://localhost:8080/"
        },
        "id": "8PNd1IfZ7D-R",
        "outputId": "6ad2874c-3e7f-4a6c-f293-a785214f6c04"
      },
      "source": [
        "mean.numpy().ravel(), std.numpy().ravel()"
      ],
      "execution_count": 33,
      "outputs": [
        {
          "output_type": "execute_result",
          "data": {
            "text/plain": [
              "(array([-0.7050362 , -0.76629126, -0.8043347 , -0.77532315], dtype=float32),\n",
              " array([0.40932664, 0.33403134, 0.26365048, 0.31701902], dtype=float32))"
            ]
          },
          "metadata": {
            "tags": []
          },
          "execution_count": 33
        }
      ]
    },
    {
      "cell_type": "code",
      "metadata": {
        "id": "muugExNpz1lY"
      },
      "source": [
        "tf.keras.backend.set_image_data_format('channels_first')"
      ],
      "execution_count": 34,
      "outputs": []
    },
    {
      "cell_type": "code",
      "metadata": {
        "id": "hRbHoACDz8_D"
      },
      "source": [
        "## attention shortcuts to be used.\n",
        "## try attention on the unet shortcuts\n",
        "## try Global Context Block\n",
        "## try input image pyramid and deep supervised output layers (output from intermediate layers (fuse with conv-sigmoid like U^2net ??))\n",
        "## TRY PIXELSHUFFLE\n",
        "## Try SPARSE CONV NET https://github.com/facebookresearch/SparseConvNet"
      ],
      "execution_count": 35,
      "outputs": []
    },
    {
      "cell_type": "code",
      "metadata": {
        "colab": {
          "base_uri": "https://localhost:8080/"
        },
        "id": "TO3HwVYoEpFA",
        "outputId": "6f7bc0ea-0907-4586-868a-65a24dd2c169"
      },
      "source": [
        "import gc\n",
        "gc.collect()"
      ],
      "execution_count": 36,
      "outputs": [
        {
          "output_type": "execute_result",
          "data": {
            "text/plain": [
              "403"
            ]
          },
          "metadata": {
            "tags": []
          },
          "execution_count": 36
        }
      ]
    },
    {
      "cell_type": "code",
      "metadata": {
        "id": "nRY6Np0vmy6h"
      },
      "source": [
        "from model.conv_blocks import *"
      ],
      "execution_count": 37,
      "outputs": []
    },
    {
      "cell_type": "code",
      "metadata": {
        "id": "uar0LFgp0n1-"
      },
      "source": [
        "from model.losses import *\n",
        "from model.utils import *"
      ],
      "execution_count": 38,
      "outputs": []
    },
    {
      "cell_type": "code",
      "metadata": {
        "id": "N09vgsSSh4Ch"
      },
      "source": [
        "steps_per_epoch = int(np.ceil(len(train_paths)/BATCH_SIZE))"
      ],
      "execution_count": 39,
      "outputs": []
    },
    {
      "cell_type": "code",
      "metadata": {
        "id": "mWXn8he2nt5W"
      },
      "source": [
        "def enc_dec(x, block, frac_dv, stack_args):     # x(64,64,96,80)\n",
        "    x1 = down_stack(x ,  64, nblocks=2, block=block, strides=2, **stack_args)     # (256,32,48,40)\n",
        "    x2 = down_stack(x1, 128, nblocks=2, block=block, strides=2, **stack_args)     # (512,16,24,20)\n",
        "    x3 = down_stack(x2, 256, nblocks=2, block=block, strides=2, frac_dv=frac_dv, **stack_args) # (1024, 8,12,10)\n",
        "    x4 = down_stack(x3, 256, nblocks=3, block=block, strides=2, frac_dv=frac_dv, **stack_args) # (1024, 4, 6, 5)\n",
        "\n",
        "    y = up_stack(x4,x3, 128, nblocks=3, block=block, strides=2, frac_dv=frac_dv, **stack_args) # (1024+1024->512,8,12,10)\n",
        "    y = up_stack(y, x2,  64, nblocks=2, block=block, strides=2, **stack_args)     # (512+512->256,16,24,20)\n",
        "    y = up_stack(y, x1,  32, nblocks=2, block=block, strides=2, **stack_args)     # (256+256->128,32,48,40)\n",
        "    y = up_stack(y, x ,  16, nblocks=1, block=block, strides=2, **stack_args)     # (128+ 64-> 64,64,96,80)\n",
        "    return y\n",
        "\n",
        "\n",
        "def build_network(cfg, block, input_shape=(4,128,192,160), classes=4):\n",
        "    stack_args = {'activation': cfg['activation'], 'groups': cfg['groups'], 'norm': cfg['norm'], 'dp_rate': cfg['dp_rate'],\n",
        "                  'dropout_type': cfg['dropout_type'], 'downsample_method': cfg['downsample_method']}\n",
        "\n",
        "    inp = layers.Input(shape=input_shape)                           # ( 4,128,192,160)\n",
        "    x = inp\n",
        "    x = ConvNorm(32, kernel_size=5, strides=2, activation=cfg['activation'], norm=cfg['norm'])(x)   # (32,64,96,80)\n",
        "    x = ConvNorm(64, kernel_size=3, do_norm_act=False)(x)                               # (64, 64, 96, 80)\n",
        "\n",
        "    x = enc_dec(x, block, cfg['frac_dv'], stack_args)                                   # (64, 64, 96, 80)\n",
        "\n",
        "    x = NormAct(activation=cfg['activation'], norm=cfg['norm'])(x)\n",
        "    x = layers.UpSampling3D(data_format=\"channels_first\")(x)                            # (64,128,192,160)\n",
        "    x = ConvNorm(16, kernel_size=3, activation=cfg['activation'], norm=cfg['norm'])(x)  # (16,128,192,160)\n",
        "    x = ConvNorm(classes, kernel_size=3, do_norm_act=False)(x)                          #(3,128,192,160)\n",
        "    x = layers.Softmax(axis=1)(x)         # softmax cause each pixel has unique class, no overlap with other classes, verified.\n",
        "\n",
        "    return tf.keras.Model(inputs=inp, outputs=x)"
      ],
      "execution_count": 40,
      "outputs": []
    },
    {
      "cell_type": "code",
      "metadata": {
        "id": "d3He9IJQqzHq"
      },
      "source": [
        "block = AttnBottleneckBlock\n",
        "CONFIG['block_type'] = block.__name__\n",
        "model = build_network(CONFIG, block, input_shape=(4,depth,height,width), classes=4)"
      ],
      "execution_count": 41,
      "outputs": []
    },
    {
      "cell_type": "code",
      "metadata": {
        "id": "alHQI9fntI0U",
        "colab": {
          "base_uri": "https://localhost:8080/"
        },
        "outputId": "92a9bb32-d0a9-44e8-c641-6a2c66bcd5e2"
      },
      "source": [
        "model.summary()"
      ],
      "execution_count": 42,
      "outputs": [
        {
          "output_type": "stream",
          "text": [
            "Model: \"model\"\n",
            "__________________________________________________________________________________________________\n",
            "Layer (type)                    Output Shape         Param #     Connected to                     \n",
            "==================================================================================================\n",
            "input_1 (InputLayer)            [(None, 4, 128, 192, 0                                            \n",
            "__________________________________________________________________________________________________\n",
            "conv_norm (ConvNorm)            (None, 32, 64, 96, 8 16064       input_1[0][0]                    \n",
            "__________________________________________________________________________________________________\n",
            "conv_norm_1 (ConvNorm)          (None, 64, 64, 96, 8 55360       conv_norm[0][0]                  \n",
            "__________________________________________________________________________________________________\n",
            "attn_bottleneck_block (AttnBott (None, 256, 32, 48,  43344       conv_norm_1[0][0]                \n",
            "__________________________________________________________________________________________________\n",
            "attn_bottleneck_block_1 (AttnBo (None, 256, 32, 48,  39376       attn_bottleneck_block[0][0]      \n",
            "__________________________________________________________________________________________________\n",
            "attn_bottleneck_block_2 (AttnBo (None, 512, 16, 24,  253600      attn_bottleneck_block_1[0][0]    \n",
            "__________________________________________________________________________________________________\n",
            "attn_bottleneck_block_3 (AttnBo (None, 512, 16, 24,  155296      attn_bottleneck_block_2[0][0]    \n",
            "__________________________________________________________________________________________________\n",
            "attn_bottleneck_block_4 (AttnBo (None, 1024, 8, 12,  1012656     attn_bottleneck_block_3[0][0]    \n",
            "__________________________________________________________________________________________________\n",
            "attn_bottleneck_block_5 (AttnBo (None, 1024, 8, 12,  619440      attn_bottleneck_block_4[0][0]    \n",
            "__________________________________________________________________________________________________\n",
            "attn_bottleneck_block_6 (AttnBo (None, 1024, 4, 6, 5 619320      attn_bottleneck_block_5[0][0]    \n",
            "__________________________________________________________________________________________________\n",
            "attn_bottleneck_block_7 (AttnBo (None, 1024, 4, 6, 5 619320      attn_bottleneck_block_6[0][0]    \n",
            "__________________________________________________________________________________________________\n",
            "attn_bottleneck_block_8 (AttnBo (None, 1024, 4, 6, 5 619320      attn_bottleneck_block_7[0][0]    \n",
            "__________________________________________________________________________________________________\n",
            "up_sampling3d (UpSampling3D)    (None, 1024, 8, 12,  0           attn_bottleneck_block_8[0][0]    \n",
            "__________________________________________________________________________________________________\n",
            "concatenate (Concatenate)       (None, 2048, 8, 12,  0           up_sampling3d[0][0]              \n",
            "                                                                 attn_bottleneck_block_5[0][0]    \n",
            "__________________________________________________________________________________________________\n",
            "attn_bottleneck_block_9 (AttnBo (None, 512, 8, 12, 1 1404760     concatenate[0][0]                \n",
            "__________________________________________________________________________________________________\n",
            "attn_bottleneck_block_10 (AttnB (None, 512, 8, 12, 1 155992      attn_bottleneck_block_9[0][0]    \n",
            "__________________________________________________________________________________________________\n",
            "attn_bottleneck_block_11 (AttnB (None, 512, 8, 12, 1 155992      attn_bottleneck_block_10[0][0]   \n",
            "__________________________________________________________________________________________________\n",
            "up_sampling3d_1 (UpSampling3D)  (None, 512, 16, 24,  0           attn_bottleneck_block_11[0][0]   \n",
            "__________________________________________________________________________________________________\n",
            "concatenate_1 (Concatenate)     (None, 1024, 16, 24, 0           up_sampling3d_1[0][0]            \n",
            "                                                                 attn_bottleneck_block_3[0][0]    \n",
            "__________________________________________________________________________________________________\n",
            "attn_bottleneck_block_12 (AttnB (None, 256, 16, 24,  352464      concatenate_1[0][0]              \n",
            "__________________________________________________________________________________________________\n",
            "attn_bottleneck_block_13 (AttnB (None, 256, 16, 24,  39376       attn_bottleneck_block_12[0][0]   \n",
            "__________________________________________________________________________________________________\n",
            "up_sampling3d_2 (UpSampling3D)  (None, 256, 32, 48,  0           attn_bottleneck_block_13[0][0]   \n",
            "__________________________________________________________________________________________________\n",
            "concatenate_2 (Concatenate)     (None, 512, 32, 48,  0           up_sampling3d_2[0][0]            \n",
            "                                                                 attn_bottleneck_block_1[0][0]    \n",
            "__________________________________________________________________________________________________\n",
            "attn_bottleneck_block_14 (AttnB (None, 128, 32, 48,  88840       concatenate_2[0][0]              \n",
            "__________________________________________________________________________________________________\n",
            "attn_bottleneck_block_15 (AttnB (None, 128, 32, 48,  10120       attn_bottleneck_block_14[0][0]   \n",
            "__________________________________________________________________________________________________\n",
            "up_sampling3d_3 (UpSampling3D)  (None, 128, 64, 96,  0           attn_bottleneck_block_15[0][0]   \n",
            "__________________________________________________________________________________________________\n",
            "concatenate_3 (Concatenate)     (None, 192, 64, 96,  0           up_sampling3d_3[0][0]            \n",
            "                                                                 conv_norm_1[0][0]                \n",
            "__________________________________________________________________________________________________\n",
            "attn_bottleneck_block_16 (AttnB (None, 64, 64, 96, 8 17540       concatenate_3[0][0]              \n",
            "__________________________________________________________________________________________________\n",
            "norm_act_17_1 (NormAct)         (None, 64, 64, 96, 8 128         attn_bottleneck_block_16[0][0]   \n",
            "__________________________________________________________________________________________________\n",
            "up_sampling3d_4 (UpSampling3D)  (None, 64, 128, 192, 0           norm_act_17_1[0][0]              \n",
            "__________________________________________________________________________________________________\n",
            "conv_norm_2_18 (ConvNorm)       (None, 16, 128, 192, 27680       up_sampling3d_4[0][0]            \n",
            "__________________________________________________________________________________________________\n",
            "conv_norm_3_7 (ConvNorm)        (None, 4, 128, 192,  1732        conv_norm_2_18[0][0]             \n",
            "__________________________________________________________________________________________________\n",
            "softmax (Softmax)               (None, 4, 128, 192,  0           conv_norm_3_7[0][0]              \n",
            "==================================================================================================\n",
            "Total params: 6,307,720\n",
            "Trainable params: 6,307,720\n",
            "Non-trainable params: 0\n",
            "__________________________________________________________________________________________________\n"
          ],
          "name": "stdout"
        }
      ]
    },
    {
      "cell_type": "code",
      "metadata": {
        "id": "zjkU03lnbji3"
      },
      "source": [
        "model_plot = tf.keras.utils.plot_model(model, '/content/model.png', show_shapes=True, dpi=None)"
      ],
      "execution_count": 43,
      "outputs": []
    },
    {
      "cell_type": "code",
      "metadata": {
        "id": "83ItIV7aZHed"
      },
      "source": [
        "wandb.log({\"model\": wandb.Image(\"/content/model.png\")})"
      ],
      "execution_count": 44,
      "outputs": []
    },
    {
      "cell_type": "code",
      "metadata": {
        "id": "MXx318sknylB"
      },
      "source": [
        "from tensorflow.python.client import session\n",
        "from tensorflow.python.summary import summary"
      ],
      "execution_count": 45,
      "outputs": []
    },
    {
      "cell_type": "code",
      "metadata": {
        "id": "gylV6eyKXj_c"
      },
      "source": [
        "log_dir = run.dir+\"/trace_log\"\n",
        "!rm -rf $log_dir\n",
        "\n",
        "@tf.function\n",
        "def trace(x):\n",
        "    return model(x)\n",
        "\n",
        "data = tf.random.normal((2,) + model.input_shape[1:])\n",
        "data = tf.constant(data)\n",
        "\n",
        "imported_g = trace.get_concrete_function(data).graph\n",
        "\n",
        "# Export the graph\n",
        "with session.Session(graph=imported_g) as sess:\n",
        "    pb_visual_writer = summary.FileWriter(log_dir)\n",
        "    pb_visual_writer.add_graph(sess.graph)"
      ],
      "execution_count": 46,
      "outputs": []
    },
    {
      "cell_type": "code",
      "metadata": {
        "id": "m0GzUyfRXt_G"
      },
      "source": [
        "%tensorboard --logdir $log_dir"
      ],
      "execution_count": null,
      "outputs": []
    },
    {
      "cell_type": "code",
      "metadata": {
        "id": "MDQCKTmBjlOt",
        "colab": {
          "base_uri": "https://localhost:8080/",
          "height": 34
        },
        "outputId": "b401b29d-97ec-46bf-f6f8-2f4fd25a4882"
      },
      "source": [
        "from google.colab.output import eval_js\n",
        "print(eval_js(\"google.colab.kernel.proxyPort(6006)\"))"
      ],
      "execution_count": 48,
      "outputs": [
        {
          "output_type": "stream",
          "text": [
            "https://06tmk29e1rqi-496ff2e9c6d22116-6006-colab.googleusercontent.com/\n"
          ],
          "name": "stdout"
        }
      ]
    },
    {
      "cell_type": "code",
      "metadata": {
        "id": "6tPMPpMFZ4eq"
      },
      "source": [
        "clr_offset = CONFIG[\"clr_offset_ep\"] * steps_per_epoch\n",
        "clr_step   = CONFIG['clr_step_size'] * steps_per_epoch"
      ],
      "execution_count": 49,
      "outputs": []
    },
    {
      "cell_type": "code",
      "metadata": {
        "id": "46U9U1PNW9AC"
      },
      "source": [
        "clr = WarmupExponentialDecayRestarts(\n",
        "                    initial_learning_rate=CONFIG['max_lr'],\n",
        "                    decay_steps=clr_step,\n",
        "                    decay_rate=CONFIG['min_lr']/CONFIG['max_lr'],\n",
        "                    warmup_steps=clr_offset,\n",
        "                    restart_rate=CONFIG['clr_restart_rate'])\n",
        "\n",
        "wdc = WarmupExponentialDecayRestarts(\n",
        "                    initial_learning_rate=CONFIG['weight_decay'],\n",
        "                    decay_steps=clr_step,\n",
        "                    decay_rate=CONFIG['min_lr']/CONFIG['max_lr'],\n",
        "                    warmup_steps=clr_offset,\n",
        "                    restart_rate=CONFIG['clr_restart_rate'])"
      ],
      "execution_count": 50,
      "outputs": []
    },
    {
      "cell_type": "code",
      "metadata": {
        "colab": {
          "base_uri": "https://localhost:8080/",
          "height": 282
        },
        "id": "jX1c7sL_WuZ1",
        "outputId": "18d9eb89-e985-4d50-ec82-4830201688ee"
      },
      "source": [
        "plt.rcParams['figure.facecolor'] = 'white'\n",
        "plt.plot([clr(tf.convert_to_tensor(i)) for i in range(0,100*steps_per_epoch,2)])"
      ],
      "execution_count": 51,
      "outputs": [
        {
          "output_type": "execute_result",
          "data": {
            "text/plain": [
              "[<matplotlib.lines.Line2D at 0x7f193c0303d0>]"
            ]
          },
          "metadata": {
            "tags": []
          },
          "execution_count": 51
        },
        {
          "output_type": "display_data",
          "data": {
            "image/png": "[encoded data removed]",
            "text/plain": [
              "<Figure size 432x288 with 1 Axes>"
            ]
          },
          "metadata": {
            "tags": []
          }
        }
      ]
    },
    {
      "cell_type": "code",
      "metadata": {
        "id": "8lX3j_he0nxj"
      },
      "source": [
        "# clr = CustomCLR(\n",
        "#         offset=clr_offset,\n",
        "#         initial_learning_rate=CONFIG[\"min_lr\"],\n",
        "#         maximal_learning_rate=CONFIG[\"max_lr\"],\n",
        "#         step_size=clr_step,\n",
        "#         scale_mode=\"cycle\")\n",
        "\n",
        "# wdc = CustomCLR(\n",
        "#         offset=clr_offset,\n",
        "#         initial_learning_rate=CONFIG[\"weight_decay\"]*CONFIG[\"min_lr\"]/CONFIG[\"max_lr\"],\n",
        "#         maximal_learning_rate=CONFIG[\"weight_decay\"],\n",
        "#         step_size=clr_step,\n",
        "#         scale_mode=\"cycle\")"
      ],
      "execution_count": 52,
      "outputs": []
    },
    {
      "cell_type": "code",
      "metadata": {
        "id": "yqk_6JVV03Ue"
      },
      "source": [
        "if CONFIG[\"optimizer\"] == 'adamw':\n",
        "    opt = tfa.optimizers.AdamW(learning_rate=clr, weight_decay=wdc)\n",
        "elif CONFIG[\"optimizer\"] == 'adam':            # or just make weight_decay=0\n",
        "    opt = tf.keras.optimizers.Adam(learning_rate=clr)\n",
        "opt = tf.keras.mixed_precision.LossScaleOptimizer(opt)"
      ],
      "execution_count": 53,
      "outputs": []
    },
    {
      "cell_type": "code",
      "metadata": {
        "id": "CVv7YFEA03SE"
      },
      "source": [
        "if CONFIG[\"loss_function\"] == 'FocalTversky':\n",
        "    loss_function = FocalTversky()\n",
        "elif CONFIG[\"loss_function\"] == 'cce':\n",
        "    loss_function = cce"
      ],
      "execution_count": 54,
      "outputs": []
    },
    {
      "cell_type": "code",
      "metadata": {
        "id": "Hbb5bvp_03Pc"
      },
      "source": [
        "model.compile(optimizer=opt, loss=loss_function, metrics=[dsc])"
      ],
      "execution_count": 55,
      "outputs": []
    },
    {
      "cell_type": "code",
      "metadata": {
        "id": "MSWPV3PxP0Gd"
      },
      "source": [
        "model.save(wandb.run.dir+\"/model-latest.h5\")"
      ],
      "execution_count": 56,
      "outputs": []
    },
    {
      "cell_type": "code",
      "metadata": {
        "id": "ItS5R3MwOzlZ",
        "colab": {
          "base_uri": "https://localhost:8080/"
        },
        "outputId": "2d05e7ed-3d34-43f3-85d7-a0a5024b774f"
      },
      "source": [
        "wandb.save(\"*.h5\")"
      ],
      "execution_count": 57,
      "outputs": [
        {
          "output_type": "execute_result",
          "data": {
            "text/plain": [
              "['/content/3D_res_attn_Unet/wandb/run-20210620_171039-3fo3nzzb/files/model-latest.h5']"
            ]
          },
          "metadata": {
            "tags": []
          },
          "execution_count": 57
        }
      ]
    },
    {
      "cell_type": "code",
      "metadata": {
        "id": "TGDA2XLen0do"
      },
      "source": [
        "# # VERIFY LATEST OR BEST\n",
        "# model = tf.keras.models.load_model(wandb.restore(\"model-latest.h5\").name, custom_objects={'ConvNorm': ConvNorm,\n",
        "#                                                                                           'NormAct': NormAct,\n",
        "#                                                                                           'AttnBottleneckBlock': AttnBottleneckBlock,\n",
        "#                                                                                           'BasicBlock': BasicBlock,\n",
        "#                                                                                           'InvertedResBlock': InvertedResBlock,\n",
        "#                                                                                           'SqueezeExcite': SqueezeExcite,\n",
        "#                                                                                           'MHSA3D': MHSA3D,\n",
        "#                                                                                           'AbsPosEmb': AbsPosEmb,\n",
        "#                                                                                           'dsc': dsc,\n",
        "#                                                                                           'FocalTversky': FocalTversky,\n",
        "#                                                                                           'CustomCLR': CustomCLR,\n",
        "#                                                                                           'WarmupExponentialDecay': WarmupExponentialDecay,\n",
        "#                                                                                           'WarmupExponentialDecayRestarts': WarmupExponentialDecayRestarts\n",
        "#                                                                                           })\n",
        "# model.compile(optimizer=model.optimizer, loss=model.loss, metrics=[dsc])"
      ],
      "execution_count": 58,
      "outputs": []
    },
    {
      "cell_type": "code",
      "metadata": {
        "id": "_dD2Nbrh0-5O"
      },
      "source": [
        "wandb_cb = WandbCallback(monitor='dsc', mode='max')\n",
        "\n",
        "class CustomCallback(tf.keras.callbacks.Callback):\n",
        "    def on_epoch_begin(self, epoch, logs=None):\n",
        "        img, lbl = next(iter(val_ds))\n",
        "        pred = self.model(img)\n",
        "        if epoch % BATCH_SIZE:\n",
        "            i = np.random.randint(0,BATCH_SIZE)\n",
        "            img = img[i,1].numpy()\n",
        "            mn = img.min()\n",
        "            mx = img.max()\n",
        "            img = (img - mn)/(mx - mn) * 255\n",
        "            lbl = lbl[i,1:].numpy()*255\n",
        "            pred = pred[i,1:].numpy()*255\n",
        "            get_gif(img, lbl, pred, \"out.gif\")\n",
        "            wandb.log({\"Outputs\": wandb.Image(\"out.gif\")}),\n",
        "        wandb.log({\"lr\": self.model.optimizer.inner_optimizer._decayed_lr('float32').numpy()})\n",
        "        self.model.save(wandb.run.dir+\"/model-latest.h5\")\n",
        "        wandb.save(\"*.h5\")                      # For forcing sync\n",
        "        gc.collect()"
      ],
      "execution_count": 64,
      "outputs": []
    },
    {
      "cell_type": "code",
      "metadata": {
        "colab": {
          "base_uri": "https://localhost:8080/"
        },
        "id": "TqqKSGy8S_zC",
        "outputId": "7bc6b83f-ca78-43f6-b17b-926c3ff32c88"
      },
      "source": [
        "initial_epoch = int(tf.round(model.optimizer.iterations/steps_per_epoch))\n",
        "initial_epoch"
      ],
      "execution_count": 65,
      "outputs": [
        {
          "output_type": "execute_result",
          "data": {
            "text/plain": [
              "0"
            ]
          },
          "metadata": {
            "tags": []
          },
          "execution_count": 65
        }
      ]
    },
    {
      "cell_type": "code",
      "metadata": {
        "id": "Lt9JdTqugB1_",
        "colab": {
          "base_uri": "https://localhost:8080/"
        },
        "outputId": "d130efbf-eaf6-40c9-aa5c-16cdccaa3d77"
      },
      "source": [
        "history = model.fit(train_ds,\n",
        "                    epochs=100,\n",
        "                    steps_per_epoch=np.ceil(len(train_paths)/BATCH_SIZE),\n",
        "                    validation_data=val_ds,\n",
        "                    validation_steps=np.ceil(len(val_paths)//BATCH_SIZE),\n",
        "                    initial_epoch=initial_epoch,\n",
        "                    workers=3,\n",
        "                    callbacks=[CustomCallback(), wandb_cb])"
      ],
      "execution_count": null,
      "outputs": [
        {
          "output_type": "stream",
          "text": [
            "Epoch 1/100\n",
            "143/143 [==============================] - 493s 3s/step - loss: 3.2164 - dsc: 0.0408 - val_loss: 2.9027 - val_dsc: 0.1006\n",
            "Epoch 2/100\n",
            "143/143 [==============================] - 447s 3s/step - loss: 2.4260 - dsc: 0.2570 - val_loss: 1.8348 - val_dsc: 0.4809\n",
            "Epoch 3/100\n",
            " 94/143 [==================>...........] - ETA: 2:13 - loss: 1.9399 - dsc: 0.4257"
          ],
          "name": "stdout"
        }
      ]
    },
    {
      "cell_type": "code",
      "metadata": {
        "id": "j3Ny3aQSIuXt"
      },
      "source": [
        "model.save(wandb.run.dir+\"/model-latest.h5\")"
      ],
      "execution_count": null,
      "outputs": []
    },
    {
      "cell_type": "code",
      "metadata": {
        "id": "TEwOLSTe1lRg"
      },
      "source": [
        "model.evaluate(val_ds, steps=np.ceil(len(val_paths)//BATCH_SIZE))"
      ],
      "execution_count": null,
      "outputs": []
    },
    {
      "cell_type": "code",
      "metadata": {
        "id": "ajlT9_0Cpi1H"
      },
      "source": [
        "scores = []\n",
        "for i, (a,b) in tqdm(enumerate(train_ds)):\n",
        "    if i==steps_per_epoch:\n",
        "        break\n",
        "    o = model(a)\n",
        "    o = tf.cast(o, tf.float32)\n",
        "    scores.append(dsc(b,o))"
      ],
      "execution_count": null,
      "outputs": []
    },
    {
      "cell_type": "code",
      "metadata": {
        "id": "mmhJuaC0SYbm"
      },
      "source": [
        "np.mean(scores, axis=0)"
      ],
      "execution_count": null,
      "outputs": []
    },
    {
      "cell_type": "code",
      "metadata": {
        "id": "m2qi8enp1maS"
      },
      "source": [
        "run.finish()"
      ],
      "execution_count": null,
      "outputs": []
    },
    {
      "cell_type": "code",
      "metadata": {
        "id": "ydpRU3XvKcuR"
      },
      "source": [
        ""
      ],
      "execution_count": null,
      "outputs": []
    }
  ]
}