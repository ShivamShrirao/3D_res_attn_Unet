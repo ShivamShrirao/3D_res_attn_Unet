{
  "nbformat": 4,
  "nbformat_minor": 0,
  "metadata": {
    "accelerator": "GPU",
    "colab": {
      "name": "3D_res_attn_Unet.ipynb",
      "provenance": [],
      "collapsed_sections": [],
      "machine_shape": "hm"
    },
    "kernelspec": {
      "display_name": "Python 3",
      "name": "python3"
    },
    "language_info": {
      "name": "python"
    }
  },
  "cells": [
    {
      "cell_type": "code",
      "metadata": {
        "colab": {
          "base_uri": "https://localhost:8080/"
        },
        "id": "TmD9SLQpmNJF",
        "outputId": "e1c5f0d6-bcde-4558-c12c-9bcb091206e6"
      },
      "source": [
        "!nvidia-smi"
      ],
      "execution_count": null,
      "outputs": [
        {
          "output_type": "stream",
          "text": [
            "Tue Jun 15 16:05:39 2021       \n",
            "+-----------------------------------------------------------------------------+\n",
            "| NVIDIA-SMI 465.27       Driver Version: 460.32.03    CUDA Version: 11.2     |\n",
            "|-------------------------------+----------------------+----------------------+\n",
            "| GPU  Name        Persistence-M| Bus-Id        Disp.A | Volatile Uncorr. ECC |\n",
            "| Fan  Temp  Perf  Pwr:Usage/Cap|         Memory-Usage | GPU-Util  Compute M. |\n",
            "|                               |                      |               MIG M. |\n",
            "|===============================+======================+======================|\n",
            "|   0  Tesla T4            Off  | 00000000:00:04.0 Off |                    0 |\n",
            "| N/A   53C    P8    10W /  70W |      0MiB / 15109MiB |      0%      Default |\n",
            "|                               |                      |                  N/A |\n",
            "+-------------------------------+----------------------+----------------------+\n",
            "                                                                               \n",
            "+-----------------------------------------------------------------------------+\n",
            "| Processes:                                                                  |\n",
            "|  GPU   GI   CI        PID   Type   Process name                  GPU Memory |\n",
            "|        ID   ID                                                   Usage      |\n",
            "|=============================================================================|\n",
            "|  No running processes found                                                 |\n",
            "+-----------------------------------------------------------------------------+\n"
          ],
          "name": "stdout"
        }
      ]
    },
    {
      "cell_type": "code",
      "metadata": {
        "colab": {
          "base_uri": "https://localhost:8080/"
        },
        "id": "Y9lUYIN8M0Z6",
        "outputId": "f1fe931d-9443-462b-c3d4-e95f07daed99"
      },
      "source": [
        "!apt install libcudnn8 --allow-change-held-packages"
      ],
      "execution_count": null,
      "outputs": [
        {
          "output_type": "stream",
          "text": [
            "Reading package lists... Done\n",
            "Building dependency tree       \n",
            "Reading state information... Done\n",
            "The following additional packages will be installed:\n",
            "  libcudnn8-dev\n",
            "The following held packages will be changed:\n",
            "  libcudnn8\n",
            "The following packages will be upgraded:\n",
            "  libcudnn8 libcudnn8-dev\n",
            "2 upgraded, 0 newly installed, 0 to remove and 37 not upgraded.\n",
            "Need to get 1,037 MB of archives.\n",
            "After this operation, 340 MB of additional disk space will be used.\n",
            "Get:1 https://developer.download.nvidia.com/compute/cuda/repos/ubuntu1804/x86_64  libcudnn8-dev 8.2.0.53-1+cuda11.3 [582 MB]\n",
            "Get:2 https://developer.download.nvidia.com/compute/cuda/repos/ubuntu1804/x86_64  libcudnn8 8.2.0.53-1+cuda11.3 [454 MB]\n",
            "Fetched 1,037 MB in 18s (58.5 MB/s)\n",
            "(Reading database ... 160772 files and directories currently installed.)\n",
            "Preparing to unpack .../libcudnn8-dev_8.2.0.53-1+cuda11.3_amd64.deb ...\n",
            "Unpacking libcudnn8-dev (8.2.0.53-1+cuda11.3) over (8.0.4.30-1+cuda11.0) ...\n",
            "Preparing to unpack .../libcudnn8_8.2.0.53-1+cuda11.3_amd64.deb ...\n",
            "Unpacking libcudnn8 (8.2.0.53-1+cuda11.3) over (8.0.4.30-1+cuda11.0) ...\n",
            "Setting up libcudnn8 (8.2.0.53-1+cuda11.3) ...\n",
            "Setting up libcudnn8-dev (8.2.0.53-1+cuda11.3) ...\n",
            "update-alternatives: warning: forcing reinstallation of alternative /usr/include/x86_64-linux-gnu/cudnn_v7.h because link group libcudnn is broken\n",
            "update-alternatives: using /usr/include/x86_64-linux-gnu/cudnn_v8.h to provide /usr/include/cudnn.h (libcudnn) in manual mode\n",
            "Processing triggers for libc-bin (2.27-3ubuntu1.2) ...\n",
            "/sbin/ldconfig.real: /usr/local/lib/python3.7/dist-packages/ideep4py/lib/libmkldnn.so.0 is not a symbolic link\n",
            "\n"
          ],
          "name": "stdout"
        }
      ]
    },
    {
      "cell_type": "code",
      "metadata": {
        "colab": {
          "base_uri": "https://localhost:8080/"
        },
        "id": "AZI13ut7nBZF",
        "outputId": "dcd10a9c-f1a0-4ac7-f51b-3ff632a043d3"
      },
      "source": [
        "%pip install -q tensorflow-addons[tensorflow]\n",
        "%pip install -q simpleitk\n",
        "# %pip install -q colab_ssh\n",
        "%pip install -q wandb"
      ],
      "execution_count": null,
      "outputs": [
        {
          "output_type": "stream",
          "text": [
            "\u001b[K     |████████████████████████████████| 686kB 7.2MB/s \n",
            "\u001b[K     |████████████████████████████████| 47.4MB 63kB/s \n",
            "\u001b[K     |████████████████████████████████| 1.8MB 8.3MB/s \n",
            "\u001b[K     |████████████████████████████████| 174kB 50.5MB/s \n",
            "\u001b[K     |████████████████████████████████| 102kB 13.9MB/s \n",
            "\u001b[K     |████████████████████████████████| 133kB 51.0MB/s \n",
            "\u001b[K     |████████████████████████████████| 71kB 11.4MB/s \n",
            "\u001b[?25h  Building wheel for subprocess32 (setup.py) ... \u001b[?25l\u001b[?25hdone\n",
            "  Building wheel for pathtools (setup.py) ... \u001b[?25l\u001b[?25hdone\n"
          ],
          "name": "stdout"
        }
      ]
    },
    {
      "cell_type": "code",
      "metadata": {
        "colab": {
          "base_uri": "https://localhost:8080/"
        },
        "id": "MeRBZZsrxy7G",
        "outputId": "72d8fd78-38b7-43f3-fa36-b287e8faa787"
      },
      "source": [
        "!gdown https://drive.google.com/uc?id=1jYb-dKqywLm5bQ5esP6YSV5xuBzqBPqm"
      ],
      "execution_count": null,
      "outputs": [
        {
          "output_type": "stream",
          "text": [
            "Downloading...\n",
            "From: https://drive.google.com/uc?id=1jYb-dKqywLm5bQ5esP6YSV5xuBzqBPqm\n",
            "To: /content/BRATS_Dataset.tar.gz\n",
            "2.76GB [00:40, 67.8MB/s]\n"
          ],
          "name": "stdout"
        }
      ]
    },
    {
      "cell_type": "code",
      "metadata": {
        "colab": {
          "base_uri": "https://localhost:8080/"
        },
        "id": "MCwAJtyIx0oX",
        "outputId": "97665d09-d80d-453e-9f57-465faa054f51"
      },
      "source": [
        "!apt -qq install pigz"
      ],
      "execution_count": null,
      "outputs": [
        {
          "output_type": "stream",
          "text": [
            "The following NEW packages will be installed:\n",
            "  pigz\n",
            "0 upgraded, 1 newly installed, 0 to remove and 37 not upgraded.\n",
            "Need to get 57.4 kB of archives.\n",
            "After this operation, 259 kB of additional disk space will be used.\n",
            "Selecting previously unselected package pigz.\n",
            "(Reading database ... 160784 files and directories currently installed.)\n",
            "Preparing to unpack .../archives/pigz_2.4-1_amd64.deb ...\n",
            "Unpacking pigz (2.4-1) ...\n",
            "Setting up pigz (2.4-1) ...\n",
            "Processing triggers for man-db (2.8.3-2ubuntu0.1) ...\n"
          ],
          "name": "stdout"
        }
      ]
    },
    {
      "cell_type": "code",
      "metadata": {
        "id": "RBS9P9pVyL0p"
      },
      "source": [
        "!pigz -dc BRATS_Dataset.tar.gz | tar xf -"
      ],
      "execution_count": null,
      "outputs": []
    },
    {
      "cell_type": "code",
      "metadata": {
        "id": "iwMjK_O6yL-5"
      },
      "source": [
        "!rm BRATS_Dataset.tar.gz"
      ],
      "execution_count": null,
      "outputs": []
    },
    {
      "cell_type": "code",
      "metadata": {
        "colab": {
          "base_uri": "https://localhost:8080/"
        },
        "id": "6bu-os4Kqoiq",
        "outputId": "9206f787-1774-44a0-9ae2-c1bddbcccf57"
      },
      "source": [
        "%cd /content\n",
        "!rm -rf 3D_res_attn_Unet"
      ],
      "execution_count": null,
      "outputs": [
        {
          "output_type": "stream",
          "text": [
            "/content\n"
          ],
          "name": "stdout"
        }
      ]
    },
    {
      "cell_type": "code",
      "metadata": {
        "colab": {
          "base_uri": "https://localhost:8080/"
        },
        "id": "B5UZTWx-mb7Y",
        "outputId": "ec44f65d-3e94-4295-ebd6-58e3f95bbb28"
      },
      "source": [
        "!git clone https://github.com/ShivamShrirao/3D_res_attn_Unet"
      ],
      "execution_count": null,
      "outputs": [
        {
          "output_type": "stream",
          "text": [
            "Cloning into '3D_res_attn_Unet'...\n",
            "remote: Enumerating objects: 189, done.\u001b[K\n",
            "remote: Counting objects: 100% (189/189), done.\u001b[K\n",
            "remote: Compressing objects: 100% (127/127), done.\u001b[K\n",
            "remote: Total 189 (delta 130), reused 117 (delta 58), pack-reused 0\u001b[K\n",
            "Receiving objects: 100% (189/189), 570.72 KiB | 5.65 MiB/s, done.\n",
            "Resolving deltas: 100% (130/130), done.\n"
          ],
          "name": "stdout"
        }
      ]
    },
    {
      "cell_type": "code",
      "metadata": {
        "colab": {
          "base_uri": "https://localhost:8080/"
        },
        "id": "SDsMVBQUEX_C",
        "outputId": "963107e3-63a0-4c47-db46-fda17caa633c"
      },
      "source": [
        "%cd 3D_res_attn_Unet"
      ],
      "execution_count": null,
      "outputs": [
        {
          "output_type": "stream",
          "text": [
            "/content/3D_res_attn_Unet\n",
            "remote: Enumerating objects: 7, done.\u001b[K\n",
            "remote: Counting objects: 100% (7/7), done.\u001b[K\n",
            "remote: Compressing objects: 100% (1/1), done.\u001b[K\n",
            "remote: Total 4 (delta 3), reused 4 (delta 3), pack-reused 0\u001b[K\n",
            "Unpacking objects: 100% (4/4), done.\n",
            "From https://github.com/ShivamShrirao/3D_res_attn_Unet\n",
            "   4411ee2..43bda7b  main       -> origin/main\n",
            "Updating 4411ee2..43bda7b\n",
            "Fast-forward\n",
            " model/utils.py | 9 \u001b[32m++++\u001b[m\u001b[31m-----\u001b[m\n",
            " 1 file changed, 4 insertions(+), 5 deletions(-)\n"
          ],
          "name": "stdout"
        }
      ]
    },
    {
      "cell_type": "code",
      "metadata": {
        "id": "fYq1D1nrmMfW"
      },
      "source": [
        "%load_ext tensorboard\n",
        "%load_ext autoreload\n",
        "%autoreload 2"
      ],
      "execution_count": null,
      "outputs": []
    },
    {
      "cell_type": "code",
      "metadata": {
        "id": "VxV8loizyQk5"
      },
      "source": [
        "import SimpleITK as sitk"
      ],
      "execution_count": null,
      "outputs": []
    },
    {
      "cell_type": "code",
      "metadata": {
        "id": "RyvK3bkmmRF5"
      },
      "source": [
        "import tensorflow as tf\n",
        "from tensorflow.keras import layers\n",
        "import tensorflow_addons as tfa\n",
        "import numpy as np\n",
        "import matplotlib.pyplot as plt\n",
        "import PIL.Image\n",
        "import glob\n",
        "from tqdm.notebook import tqdm\n",
        "from time import time\n",
        "import os\n",
        "%matplotlib inline"
      ],
      "execution_count": null,
      "outputs": []
    },
    {
      "cell_type": "code",
      "metadata": {
        "id": "ke4itk7LVPXP"
      },
      "source": [
        "# Set the random seeds\n",
        "os.environ['TF_CUDNN_DETERMINISTIC'] = '1' \n",
        "np.random.seed(hash(\"improves reproducibility\") % 2**32 - 1)\n",
        "tf.random.set_seed(hash(\"by removing stochasticity\") % 2**32 - 1)"
      ],
      "execution_count": null,
      "outputs": []
    },
    {
      "cell_type": "code",
      "metadata": {
        "colab": {
          "base_uri": "https://localhost:8080/"
        },
        "id": "x8wLJQSNmV8W",
        "outputId": "536fc108-973d-4e5c-ff7d-e4ff12556a75"
      },
      "source": [
        "from tensorflow.keras.mixed_precision import experimental as mixed_precision\n",
        "policy = mixed_precision.Policy('mixed_float16')\n",
        "mixed_precision.set_policy(policy)"
      ],
      "execution_count": null,
      "outputs": [
        {
          "output_type": "stream",
          "text": [
            "INFO:tensorflow:Mixed precision compatibility check (mixed_float16): OK\n",
            "Your GPU will likely run quickly with dtype policy mixed_float16 as it has compute capability of at least 7.0. Your GPU: Tesla T4, compute capability 7.5\n",
            "WARNING:tensorflow:From /usr/local/lib/python3.7/dist-packages/tensorflow/python/keras/mixed_precision/loss_scale.py:51: DynamicLossScale.__init__ (from tensorflow.python.training.experimental.loss_scale) is deprecated and will be removed in a future version.\n",
            "Instructions for updating:\n",
            "Use tf.keras.mixed_precision.LossScaleOptimizer instead. LossScaleOptimizer now has all the functionality of DynamicLossScale\n"
          ],
          "name": "stdout"
        }
      ]
    },
    {
      "cell_type": "code",
      "metadata": {
        "id": "DH9zA80Lyblg"
      },
      "source": [
        "def get_data_paths(dataset_path):\n",
        "    t1 = glob.glob(dataset_path+'/*GG/*/*t1.nii.gz')\n",
        "    t2 = glob.glob(dataset_path+'/*GG/*/*t2.nii.gz')\n",
        "    t1ce = glob.glob(dataset_path+'/*GG/*/*t1ce.nii.gz')\n",
        "    flair = glob.glob(dataset_path+'/*GG/*/*flair.nii.gz')\n",
        "    seg = glob.glob(dataset_path+'/*GG/*/*seg.nii.gz')\n",
        "    return list(zip(t1, t2, t1ce, flair, seg))"
      ],
      "execution_count": null,
      "outputs": []
    },
    {
      "cell_type": "code",
      "metadata": {
        "id": "KoB8nSTVyfUX"
      },
      "source": [
        "train_paths = get_data_paths('../BRATS_Dataset/brats_dataset/')\n",
        "val_paths = get_data_paths('../BRATS_Dataset/brats_test_dataset/')"
      ],
      "execution_count": null,
      "outputs": []
    },
    {
      "cell_type": "code",
      "metadata": {
        "colab": {
          "base_uri": "https://localhost:8080/"
        },
        "id": "B2BFkvT4yfRU",
        "outputId": "5a046480-cd05-494e-f7eb-c72a4b537ab1"
      },
      "source": [
        "len(train_paths), len(val_paths)"
      ],
      "execution_count": null,
      "outputs": [
        {
          "output_type": "execute_result",
          "data": {
            "text/plain": [
              "(285, 50)"
            ]
          },
          "metadata": {
            "tags": []
          },
          "execution_count": 9
        }
      ]
    },
    {
      "cell_type": "code",
      "metadata": {
        "id": "T-GTEwiqy1E_"
      },
      "source": [
        "from model.preprocess_brats import *"
      ],
      "execution_count": null,
      "outputs": []
    },
    {
      "cell_type": "code",
      "metadata": {
        "id": "QNGVcTA5fS51"
      },
      "source": [
        "mean = tf.constant([-0.7050362 , -0.76629126, -0.8043347 , -0.77532315], shape=(1, 4, 1, 1, 1))\n",
        "std  = tf.constant([0.40932664, 0.33403134, 0.26365048, 0.31701902], shape=(1, 4, 1, 1, 1))"
      ],
      "execution_count": null,
      "outputs": []
    },
    {
      "cell_type": "code",
      "metadata": {
        "id": "BLUheTvAyfNE"
      },
      "source": [
        "# mean = 0\n",
        "# std = 0\n",
        "# for i, (img,lbl) in tqdm(enumerate(train_ds)):\n",
        "#     if i == 200//BATCH_SIZE:\n",
        "#         break\n",
        "#     mean+= tf.reduce_mean(img, axis=[0,2,3,4])\n",
        "#     std += tf.math.reduce_std(img, axis=[0,2,3,4])\n",
        "# mean = tf.reshape(mean/i, (1, 4, 1, 1, 1))\n",
        "# std = tf.reshape(std/i, (1, 4, 1, 1, 1))"
      ],
      "execution_count": null,
      "outputs": []
    },
    {
      "cell_type": "code",
      "metadata": {
        "colab": {
          "base_uri": "https://localhost:8080/"
        },
        "id": "gELRSfJLyfKe",
        "outputId": "f148eaa7-39c0-4aa0-c443-1cc0df73bfc0"
      },
      "source": [
        "depth = 128 # 155\n",
        "height = 192 # 240\n",
        "width = 160 # 240\n",
        "(155-depth, 240-height, 240-width)"
      ],
      "execution_count": null,
      "outputs": [
        {
          "output_type": "execute_result",
          "data": {
            "text/plain": [
              "(27, 48, 80)"
            ]
          },
          "metadata": {
            "tags": []
          },
          "execution_count": 13
        }
      ]
    },
    {
      "cell_type": "code",
      "metadata": {
        "id": "hA8i-idEyfGn"
      },
      "source": [
        "def random_crop3D(imgs, lbls, train=True):          # Crops image to size (128, 192, 160)\n",
        "    d_cr, h_cr, w_cr = 13, 24, 40\n",
        "    if train:\n",
        "        if tf.random.uniform([], 0, 1, dtype=tf.float32) <= 0.8:\n",
        "            d_cr = tf.random.uniform([], 0, 27, dtype=tf.int32)\n",
        "            h_cr = tf.random.uniform([], 0, 48, dtype=tf.int32)\n",
        "            w_cr = tf.random.uniform([], 0, 80, dtype=tf.int32)\n",
        "    imgs = imgs[:, :, d_cr:d_cr+depth, h_cr:h_cr+height, w_cr:w_cr+width]\n",
        "    lbls = lbls[:, :, d_cr:d_cr+depth, h_cr:h_cr+height, w_cr:w_cr+width]\n",
        "    return imgs, lbls"
      ],
      "execution_count": null,
      "outputs": []
    },
    {
      "cell_type": "code",
      "metadata": {
        "id": "HNBpYsiZCMLv"
      },
      "source": [
        "def final_augmentation(imgs, lbls, train=True):       # input imgs[B, 4, 155, 240, 240], output[B, 4, 128, 192, 160]\n",
        "    imgs, lbls = random_crop3D(imgs, lbls, train)\n",
        "    if train:\n",
        "        if tf.random.uniform([], 0, 1, dtype=tf.float32) <= 0.8:\n",
        "            imgs = tf.image.random_brightness(imgs, 0.2)      # source code checked, it's fine for 3D\n",
        "    # imgs = tf.image.per_image_standardization(imgs)   # source code checked, it's fine for 3D\n",
        "    imgs = (imgs - mean) / std\n",
        "    return imgs, lbls"
      ],
      "execution_count": null,
      "outputs": []
    },
    {
      "cell_type": "code",
      "metadata": {
        "id": "-jYQgwzeye7w"
      },
      "source": [
        "BATCH_SIZE = 2\n",
        "AUTOTUNE = tf.data.experimental.AUTOTUNE"
      ],
      "execution_count": null,
      "outputs": []
    },
    {
      "cell_type": "code",
      "metadata": {
        "id": "4CRpmKSryeMY"
      },
      "source": [
        "def get_tfds(data_paths, train=False):\n",
        "    # 53.3373920917511 s\n",
        "    dataset = tf.data.Dataset.from_tensor_slices(data_paths)\n",
        "    if train:\n",
        "        dataset = dataset.shuffle(len(data_paths))\n",
        "    dataset = dataset.map(load_paths_wrapper, num_parallel_calls=AUTOTUNE)\n",
        "    # if train:\n",
        "    #     dataset = dataset.map(random_rotate3D, num_parallel_calls=AUTOTUNE)\n",
        "    dataset = dataset.repeat()\n",
        "    dataset = dataset.batch(BATCH_SIZE)\n",
        "    if train:\n",
        "        dataset = dataset.map(random_flip3D, num_parallel_calls=AUTOTUNE)\n",
        "    dataset = dataset.map(lambda x,y: final_augmentation(x,y,train), num_parallel_calls=AUTOTUNE)      # remove for test,val\n",
        "    dataset = dataset.prefetch(AUTOTUNE)\n",
        "    return dataset"
      ],
      "execution_count": null,
      "outputs": []
    },
    {
      "cell_type": "code",
      "metadata": {
        "id": "aLVvTfMPzSgG"
      },
      "source": [
        "train_ds = get_tfds(train_paths, train=True)\n",
        "val_ds = get_tfds(val_paths)"
      ],
      "execution_count": null,
      "outputs": []
    },
    {
      "cell_type": "code",
      "metadata": {
        "id": "k_u6nfUhzT9C"
      },
      "source": [
        "import wandb\n",
        "from wandb.keras import WandbCallback"
      ],
      "execution_count": null,
      "outputs": []
    },
    {
      "cell_type": "code",
      "metadata": {
        "colab": {
          "base_uri": "https://localhost:8080/"
        },
        "id": "39ZKOyeDzT6O",
        "outputId": "d13503e2-8a99-4603-d80d-52b05df13385"
      },
      "source": [
        "wandb.login()"
      ],
      "execution_count": null,
      "outputs": [
        {
          "output_type": "stream",
          "text": [
            "\u001b[34m\u001b[1mwandb\u001b[0m: Currently logged in as: \u001b[33mshivamshrirao\u001b[0m (use `wandb login --relogin` to force relogin)\n"
          ],
          "name": "stderr"
        },
        {
          "output_type": "execute_result",
          "data": {
            "text/plain": [
              "True"
            ]
          },
          "metadata": {
            "tags": []
          },
          "execution_count": 20
        }
      ]
    },
    {
      "cell_type": "code",
      "metadata": {
        "id": "yUud1K2iloXZ"
      },
      "source": [
        "config_defaults = {\n",
        "    'activation'            : 'elu', # swish, elu\n",
        "    'batch_size'            : BATCH_SIZE,\n",
        "    'block_type'            : 'AttnBottleneckBlock',\n",
        "    'clr_step_size'         : 100,      # start from between with big step in one cycle\n",
        "    'clr_offset_ep'         : 5,        # also warmup steps\n",
        "    'downsample_method'     : 'pool',\n",
        "    'dp_rate'               : 0.24,\n",
        "    'dropout_type'          : 'Spatial',\n",
        "    'frac_dv'               : 0.25,\n",
        "    'groups'                : 'max',                 # imp. = 48\n",
        "    'loss_function'         : 'FocalTversky',\n",
        "    'max_lr'                : 8e-4,\n",
        "    'min_lr'                : 1e-6,\n",
        "    'nheads'                : 8,\n",
        "    'norm'                  : 'gn',\n",
        "    'optimizer'             : 'adamw',\n",
        "    'weight_decay'          : 3e-5,     # max weight decay\n",
        "    'z_notes'               : ['kernel size 5 input','removed random rotation']\n",
        "}\n",
        "CONFIG = config_defaults"
      ],
      "execution_count": null,
      "outputs": []
    },
    {
      "cell_type": "code",
      "metadata": {
        "colab": {
          "base_uri": "https://localhost:8080/",
          "height": 119
        },
        "id": "aTWSlkaTUVIp",
        "outputId": "5b226680-e074-4b08-b836-99b84bcc9c29"
      },
      "source": [
        "# run = wandb.init(id='n89505wh', project=\"3D_res_attn_Unet\", resume='must')\n",
        "# CONFIG = run.config"
      ],
      "execution_count": null,
      "outputs": [
        {
          "output_type": "display_data",
          "data": {
            "text/html": [
              "\n",
              "                Tracking run with wandb version 0.10.32<br/>\n",
              "                Resuming run <strong style=\"color:#cdcd00\">twilight-voice-58</strong> to <a href=\"https://wandb.ai\" target=\"_blank\">Weights & Biases</a> <a href=\"https://docs.wandb.com/integrations/jupyter.html\" target=\"_blank\">(Documentation)</a>.<br/>\n",
              "                Project page: <a href=\"https://wandb.ai/shivamshrirao/3D_res_attn_Unet\" target=\"_blank\">https://wandb.ai/shivamshrirao/3D_res_attn_Unet</a><br/>\n",
              "                Run page: <a href=\"https://wandb.ai/shivamshrirao/3D_res_attn_Unet/runs/n89505wh\" target=\"_blank\">https://wandb.ai/shivamshrirao/3D_res_attn_Unet/runs/n89505wh</a><br/>\n",
              "                Run data is saved locally in <code>/content/3D_res_attn_Unet/wandb/run-20210615_175011-n89505wh</code><br/><br/>\n",
              "            "
            ],
            "text/plain": [
              "<IPython.core.display.HTML object>"
            ]
          },
          "metadata": {
            "tags": []
          }
        }
      ]
    },
    {
      "cell_type": "code",
      "metadata": {
        "colab": {
          "base_uri": "https://localhost:8080/",
          "height": 119
        },
        "id": "RjaGe7P4z1qV",
        "outputId": "843d8be4-84b1-443c-b7f4-8413f21748f0"
      },
      "source": [
        "run = wandb.init(project=\"3D_res_attn_Unet\", entity=\"shivamshrirao\", config=config_defaults)\n",
        "CONFIG = wandb.config"
      ],
      "execution_count": null,
      "outputs": [
        {
          "output_type": "display_data",
          "data": {
            "text/html": [
              "\n",
              "                Tracking run with wandb version 0.10.32<br/>\n",
              "                Syncing run <strong style=\"color:#cdcd00\">twilight-voice-58</strong> to <a href=\"https://wandb.ai\" target=\"_blank\">Weights & Biases</a> <a href=\"https://docs.wandb.com/integrations/jupyter.html\" target=\"_blank\">(Documentation)</a>.<br/>\n",
              "                Project page: <a href=\"https://wandb.ai/shivamshrirao/3D_res_attn_Unet\" target=\"_blank\">https://wandb.ai/shivamshrirao/3D_res_attn_Unet</a><br/>\n",
              "                Run page: <a href=\"https://wandb.ai/shivamshrirao/3D_res_attn_Unet/runs/n89505wh\" target=\"_blank\">https://wandb.ai/shivamshrirao/3D_res_attn_Unet/runs/n89505wh</a><br/>\n",
              "                Run data is saved locally in <code>/content/3D_res_attn_Unet/wandb/run-20210615_162245-n89505wh</code><br/><br/>\n",
              "            "
            ],
            "text/plain": [
              "<IPython.core.display.HTML object>"
            ]
          },
          "metadata": {
            "tags": []
          }
        }
      ]
    },
    {
      "cell_type": "code",
      "metadata": {
        "colab": {
          "base_uri": "https://localhost:8080/"
        },
        "id": "8PNd1IfZ7D-R",
        "outputId": "6736134f-87d2-4ed9-fa53-d0e4c26209f6"
      },
      "source": [
        "mean.numpy().ravel(), std.numpy().ravel()"
      ],
      "execution_count": null,
      "outputs": [
        {
          "output_type": "execute_result",
          "data": {
            "text/plain": [
              "(array([-0.7050362 , -0.76629126, -0.8043347 , -0.77532315], dtype=float32),\n",
              " array([0.40932664, 0.33403134, 0.26365048, 0.31701902], dtype=float32))"
            ]
          },
          "metadata": {
            "tags": []
          },
          "execution_count": 24
        }
      ]
    },
    {
      "cell_type": "code",
      "metadata": {
        "id": "muugExNpz1lY"
      },
      "source": [
        "tf.keras.backend.set_image_data_format('channels_first')"
      ],
      "execution_count": null,
      "outputs": []
    },
    {
      "cell_type": "code",
      "metadata": {
        "id": "hRbHoACDz8_D"
      },
      "source": [
        "## attention shortcuts to be used.\n",
        "## try attention on the unet shortcuts\n",
        "## try Global Context Block\n",
        "## try input image pyramid and deep supervised output layers (output from intermediate layers (fuse with conv-sigmoid like U^2net ??))\n",
        "## TRY PIXELSHUFFLE\n",
        "## Try SPARSE CONV NET https://github.com/facebookresearch/SparseConvNet"
      ],
      "execution_count": null,
      "outputs": []
    },
    {
      "cell_type": "code",
      "metadata": {
        "colab": {
          "base_uri": "https://localhost:8080/"
        },
        "id": "TO3HwVYoEpFA",
        "outputId": "fb207db0-200b-46ab-d6ba-f32ce49bed90"
      },
      "source": [
        "import gc\n",
        "gc.collect()"
      ],
      "execution_count": null,
      "outputs": [
        {
          "output_type": "execute_result",
          "data": {
            "text/plain": [
              "387"
            ]
          },
          "metadata": {
            "tags": []
          },
          "execution_count": 27
        }
      ]
    },
    {
      "cell_type": "code",
      "metadata": {
        "id": "nRY6Np0vmy6h"
      },
      "source": [
        "from model.conv_blocks import *"
      ],
      "execution_count": null,
      "outputs": []
    },
    {
      "cell_type": "code",
      "metadata": {
        "id": "uar0LFgp0n1-"
      },
      "source": [
        "from model.losses import *\n",
        "from model.utils import *"
      ],
      "execution_count": null,
      "outputs": []
    },
    {
      "cell_type": "code",
      "metadata": {
        "id": "N09vgsSSh4Ch"
      },
      "source": [
        "steps_per_epoch = int(np.ceil(len(train_paths)/BATCH_SIZE))"
      ],
      "execution_count": null,
      "outputs": []
    },
    {
      "cell_type": "code",
      "metadata": {
        "id": "mWXn8he2nt5W"
      },
      "source": [
        "def enc_dec(x, block, frac_dv, stack_args):     # x(64,64,96,80)\n",
        "    x1 = down_stack(x ,  64, nblocks=2, block=block, strides=2, **stack_args)     # (256,32,48,40)\n",
        "    x2 = down_stack(x1, 128, nblocks=2, block=block, strides=2, **stack_args)     # (512,16,24,20)\n",
        "    x3 = down_stack(x2, 256, nblocks=2, block=block, strides=2, frac_dv=frac_dv, **stack_args) # (1024, 8,12,10)\n",
        "    x4 = down_stack(x3, 256, nblocks=3, block=block, strides=2, frac_dv=frac_dv, **stack_args) # (1024, 4, 6, 5)\n",
        "\n",
        "    y = up_stack(x4,x3, 128, nblocks=3, block=block, strides=2, frac_dv=frac_dv, **stack_args) # (1024+1024->512,8,12,10)\n",
        "    y = up_stack(y, x2,  64, nblocks=2, block=block, strides=2, **stack_args)     # (512+512->256,16,24,20)\n",
        "    y = up_stack(y, x1,  32, nblocks=2, block=block, strides=2, **stack_args)     # (256+256->128,32,48,40)\n",
        "    y = up_stack(y, x ,  16, nblocks=1, block=block, strides=2, **stack_args)     # (128+ 64-> 64,64,96,80)\n",
        "    return y\n",
        "\n",
        "\n",
        "def build_network(cfg, block, input_shape=(4,128,192,160), classes=4):\n",
        "    stack_args = {'activation': cfg['activation'], 'groups': cfg['groups'], 'norm': cfg['norm'], 'dp_rate': cfg['dp_rate'],\n",
        "                  'dropout_type': cfg['dropout_type'], 'downsample_method': cfg['downsample_method']}\n",
        "\n",
        "    inp = layers.Input(shape=input_shape)                           # ( 4,128,192,160)\n",
        "    x = inp\n",
        "    x = ConvNorm(32, kernel_size=5, strides=2, activation=cfg['activation'], norm=cfg['norm'])(x)   # (32,64,96,80)\n",
        "    x = ConvNorm(64, kernel_size=3, do_norm_act=False)(x)                               # (64, 64, 96, 80)\n",
        "\n",
        "    x = enc_dec(x, block, cfg['frac_dv'], stack_args)                                   # (64, 64, 96, 80)\n",
        "\n",
        "    x = NormAct(activation=cfg['activation'], norm=cfg['norm'])(x)\n",
        "    x = layers.UpSampling3D(data_format=\"channels_first\")(x)                            # (64,128,192,160)\n",
        "    x = ConvNorm(16, kernel_size=3, activation=cfg['activation'], norm=cfg['norm'])(x)  # (16,128,192,160)\n",
        "    x = ConvNorm(classes, kernel_size=3, do_norm_act=False)(x)                          #(3,128,192,160)\n",
        "    x = layers.Softmax(axis=1)(x)         # softmax cause each pixel has unique class, no overlap with other classes, verified.\n",
        "\n",
        "    return tf.keras.Model(inputs=inp, outputs=x)"
      ],
      "execution_count": null,
      "outputs": []
    },
    {
      "cell_type": "code",
      "metadata": {
        "id": "d3He9IJQqzHq"
      },
      "source": [
        "block = AttnBottleneckBlock\n",
        "CONFIG['block_type'] = block.__name__\n",
        "model = build_network(CONFIG, block, input_shape=(4,depth,height,width), classes=4)"
      ],
      "execution_count": null,
      "outputs": []
    },
    {
      "cell_type": "code",
      "metadata": {
        "colab": {
          "base_uri": "https://localhost:8080/"
        },
        "id": "alHQI9fntI0U",
        "outputId": "ce9078e7-2e3b-4eca-9520-ba8915326977"
      },
      "source": [
        "model.summary()"
      ],
      "execution_count": null,
      "outputs": [
        {
          "output_type": "stream",
          "text": [
            "Model: \"model\"\n",
            "__________________________________________________________________________________________________\n",
            "Layer (type)                    Output Shape         Param #     Connected to                     \n",
            "==================================================================================================\n",
            "input_1 (InputLayer)            [(None, 4, 128, 192, 0                                            \n",
            "__________________________________________________________________________________________________\n",
            "conv_norm (ConvNorm)            (None, 32, 64, 96, 8 16064       input_1[0][0]                    \n",
            "__________________________________________________________________________________________________\n",
            "conv_norm_1 (ConvNorm)          (None, 64, 64, 96, 8 55360       conv_norm[0][0]                  \n",
            "__________________________________________________________________________________________________\n",
            "attn_bottleneck_block (AttnBott (None, 256, 32, 48,  41616       conv_norm_1[0][0]                \n",
            "__________________________________________________________________________________________________\n",
            "attn_bottleneck_block_1 (AttnBo (None, 256, 32, 48,  37648       attn_bottleneck_block[0][0]      \n",
            "__________________________________________________________________________________________________\n",
            "attn_bottleneck_block_2 (AttnBo (None, 512, 16, 24,  243232      attn_bottleneck_block_1[0][0]    \n",
            "__________________________________________________________________________________________________\n",
            "attn_bottleneck_block_3 (AttnBo (None, 512, 16, 24,  144928      attn_bottleneck_block_2[0][0]    \n",
            "__________________________________________________________________________________________________\n",
            "attn_bottleneck_block_4 (AttnBo (None, 1024, 8, 12,  991920      attn_bottleneck_block_3[0][0]    \n",
            "__________________________________________________________________________________________________\n",
            "attn_bottleneck_block_5 (AttnBo (None, 1024, 8, 12,  598704      attn_bottleneck_block_4[0][0]    \n",
            "__________________________________________________________________________________________________\n",
            "attn_bottleneck_block_6 (AttnBo (None, 1024, 4, 6, 5 598584      attn_bottleneck_block_5[0][0]    \n",
            "__________________________________________________________________________________________________\n",
            "attn_bottleneck_block_7 (AttnBo (None, 1024, 4, 6, 5 598584      attn_bottleneck_block_6[0][0]    \n",
            "__________________________________________________________________________________________________\n",
            "attn_bottleneck_block_8 (AttnBo (None, 1024, 4, 6, 5 598584      attn_bottleneck_block_7[0][0]    \n",
            "__________________________________________________________________________________________________\n",
            "up_sampling3d (UpSampling3D)    (None, 1024, 8, 12,  0           attn_bottleneck_block_8[0][0]    \n",
            "__________________________________________________________________________________________________\n",
            "concatenate (Concatenate)       (None, 2048, 8, 12,  0           up_sampling3d[0][0]              \n",
            "                                                                 attn_bottleneck_block_5[0][0]    \n",
            "__________________________________________________________________________________________________\n",
            "attn_bottleneck_block_9 (AttnBo (None, 512, 8, 12, 1 1404760     concatenate[0][0]                \n",
            "__________________________________________________________________________________________________\n",
            "attn_bottleneck_block_10 (AttnB (None, 512, 8, 12, 1 155992      attn_bottleneck_block_9[0][0]    \n",
            "__________________________________________________________________________________________________\n",
            "attn_bottleneck_block_11 (AttnB (None, 512, 8, 12, 1 155992      attn_bottleneck_block_10[0][0]   \n",
            "__________________________________________________________________________________________________\n",
            "up_sampling3d_1 (UpSampling3D)  (None, 512, 16, 24,  0           attn_bottleneck_block_11[0][0]   \n",
            "__________________________________________________________________________________________________\n",
            "concatenate_1 (Concatenate)     (None, 1024, 16, 24, 0           up_sampling3d_1[0][0]            \n",
            "                                                                 attn_bottleneck_block_3[0][0]    \n",
            "__________________________________________________________________________________________________\n",
            "attn_bottleneck_block_12 (AttnB (None, 256, 16, 24,  350736      concatenate_1[0][0]              \n",
            "__________________________________________________________________________________________________\n",
            "attn_bottleneck_block_13 (AttnB (None, 256, 16, 24,  37648       attn_bottleneck_block_12[0][0]   \n",
            "__________________________________________________________________________________________________\n",
            "up_sampling3d_2 (UpSampling3D)  (None, 256, 32, 48,  0           attn_bottleneck_block_13[0][0]   \n",
            "__________________________________________________________________________________________________\n",
            "concatenate_2 (Concatenate)     (None, 512, 32, 48,  0           up_sampling3d_2[0][0]            \n",
            "                                                                 attn_bottleneck_block_1[0][0]    \n",
            "__________________________________________________________________________________________________\n",
            "attn_bottleneck_block_14 (AttnB (None, 128, 32, 48,  88840       concatenate_2[0][0]              \n",
            "__________________________________________________________________________________________________\n",
            "attn_bottleneck_block_15 (AttnB (None, 128, 32, 48,  10120       attn_bottleneck_block_14[0][0]   \n",
            "__________________________________________________________________________________________________\n",
            "up_sampling3d_3 (UpSampling3D)  (None, 128, 64, 96,  0           attn_bottleneck_block_15[0][0]   \n",
            "__________________________________________________________________________________________________\n",
            "concatenate_3 (Concatenate)     (None, 192, 64, 96,  0           up_sampling3d_3[0][0]            \n",
            "                                                                 conv_norm_1[0][0]                \n",
            "__________________________________________________________________________________________________\n",
            "attn_bottleneck_block_16 (AttnB (None, 64, 64, 96, 8 17540       concatenate_3[0][0]              \n",
            "__________________________________________________________________________________________________\n",
            "norm_act_17_1 (NormAct)         (None, 64, 64, 96, 8 128         attn_bottleneck_block_16[0][0]   \n",
            "__________________________________________________________________________________________________\n",
            "up_sampling3d_4 (UpSampling3D)  (None, 64, 128, 192, 0           norm_act_17_1[0][0]              \n",
            "__________________________________________________________________________________________________\n",
            "conv_norm_2_18 (ConvNorm)       (None, 16, 128, 192, 27680       up_sampling3d_4[0][0]            \n",
            "__________________________________________________________________________________________________\n",
            "conv_norm_3_7 (ConvNorm)        (None, 4, 128, 192,  1732        conv_norm_2_18[0][0]             \n",
            "__________________________________________________________________________________________________\n",
            "softmax (Softmax)               (None, 4, 128, 192,  0           conv_norm_3_7[0][0]              \n",
            "==================================================================================================\n",
            "Total params: 6,176,392\n",
            "Trainable params: 6,176,392\n",
            "Non-trainable params: 0\n",
            "__________________________________________________________________________________________________\n"
          ],
          "name": "stdout"
        }
      ]
    },
    {
      "cell_type": "code",
      "metadata": {
        "id": "zjkU03lnbji3"
      },
      "source": [
        "model_plot = tf.keras.utils.plot_model(model, '/content/model.png', show_shapes=True, dpi=None)"
      ],
      "execution_count": null,
      "outputs": []
    },
    {
      "cell_type": "code",
      "metadata": {
        "id": "83ItIV7aZHed"
      },
      "source": [
        "wandb.log({\"model\": wandb.Image(\"/content/model.png\")})"
      ],
      "execution_count": null,
      "outputs": []
    },
    {
      "cell_type": "code",
      "metadata": {
        "id": "MXx318sknylB"
      },
      "source": [
        "from tensorflow.python.client import session\n",
        "from tensorflow.python.summary import summary"
      ],
      "execution_count": null,
      "outputs": []
    },
    {
      "cell_type": "code",
      "metadata": {
        "id": "gylV6eyKXj_c"
      },
      "source": [
        "log_dir = run.dir+\"/trace_log\"\n",
        "!rm -rf $log_dir\n",
        "\n",
        "@tf.function\n",
        "def trace(x):\n",
        "    return model(x)\n",
        "\n",
        "data = tf.random.normal((2,) + model.input_shape[1:])\n",
        "data = tf.constant(data)\n",
        "\n",
        "imported_g = trace.get_concrete_function(data).graph\n",
        "\n",
        "# Export the graph\n",
        "with session.Session(graph=imported_g) as sess:\n",
        "    pb_visual_writer = summary.FileWriter(log_dir)\n",
        "    pb_visual_writer.add_graph(sess.graph)"
      ],
      "execution_count": null,
      "outputs": []
    },
    {
      "cell_type": "code",
      "metadata": {
        "id": "m0GzUyfRXt_G"
      },
      "source": [
        "%tensorboard --logdir $log_dir"
      ],
      "execution_count": null,
      "outputs": []
    },
    {
      "cell_type": "code",
      "metadata": {
        "colab": {
          "base_uri": "https://localhost:8080/",
          "height": 34
        },
        "id": "MDQCKTmBjlOt",
        "outputId": "2aaef6bf-425c-484c-a658-69f4a93d7ed4"
      },
      "source": [
        "from google.colab.output import eval_js\n",
        "print(eval_js(\"google.colab.kernel.proxyPort(6006)\"))"
      ],
      "execution_count": null,
      "outputs": [
        {
          "output_type": "stream",
          "text": [
            "https://7euxqfwxn2p-496ff2e9c6d22116-6006-colab.googleusercontent.com/\n"
          ],
          "name": "stdout"
        }
      ]
    },
    {
      "cell_type": "code",
      "metadata": {
        "id": "6tPMPpMFZ4eq"
      },
      "source": [
        "clr_offset = CONFIG[\"clr_offset_ep\"] * steps_per_epoch\n",
        "clr_step   = CONFIG['clr_step_size'] * steps_per_epoch"
      ],
      "execution_count": null,
      "outputs": []
    },
    {
      "cell_type": "code",
      "metadata": {
        "id": "46U9U1PNW9AC"
      },
      "source": [
        "clr = WarmupExponentialDecay(\n",
        "                    initial_learning_rate=CONFIG['max_lr'],\n",
        "                    decay_steps=clr_step,\n",
        "                    decay_rate=CONFIG['min_lr']/CONFIG['max_lr'],\n",
        "                    warmup_steps=clr_offset)\n",
        "\n",
        "wdc = WarmupExponentialDecay(\n",
        "                    initial_learning_rate=CONFIG['weight_decay'],\n",
        "                    decay_steps=clr_step,\n",
        "                    decay_rate=CONFIG['min_lr']/CONFIG['max_lr'],\n",
        "                    warmup_steps=clr_offset)"
      ],
      "execution_count": null,
      "outputs": []
    },
    {
      "cell_type": "code",
      "metadata": {
        "id": "8lX3j_he0nxj"
      },
      "source": [
        "# clr = CustomCLR(\n",
        "#         offset=clr_offset,\n",
        "#         initial_learning_rate=CONFIG[\"min_lr\"],\n",
        "#         maximal_learning_rate=CONFIG[\"max_lr\"],\n",
        "#         step_size=clr_step,\n",
        "#         scale_mode=\"cycle\")\n",
        "\n",
        "# wdc = CustomCLR(\n",
        "#         offset=clr_offset,\n",
        "#         initial_learning_rate=CONFIG[\"weight_decay\"]*CONFIG[\"min_lr\"]/CONFIG[\"max_lr\"],\n",
        "#         maximal_learning_rate=CONFIG[\"weight_decay\"],\n",
        "#         step_size=clr_step,\n",
        "#         scale_mode=\"cycle\")"
      ],
      "execution_count": null,
      "outputs": []
    },
    {
      "cell_type": "code",
      "metadata": {
        "id": "yqk_6JVV03Ue"
      },
      "source": [
        "if CONFIG[\"optimizer\"] == 'adamw':\n",
        "    opt = tfa.optimizers.AdamW(learning_rate=clr, weight_decay=wdc)\n",
        "elif CONFIG[\"optimizer\"] == 'adam':            # or just make weight_decay=0\n",
        "    opt = tf.keras.optimizers.Adam(learning_rate=clr)\n",
        "opt = tf.keras.mixed_precision.LossScaleOptimizer(opt)"
      ],
      "execution_count": null,
      "outputs": []
    },
    {
      "cell_type": "code",
      "metadata": {
        "id": "CVv7YFEA03SE"
      },
      "source": [
        "if CONFIG[\"loss_function\"] == 'FocalTversky':\n",
        "    loss_function = FocalTversky()\n",
        "elif CONFIG[\"loss_function\"] == 'cce':\n",
        "    loss_function = cce"
      ],
      "execution_count": null,
      "outputs": []
    },
    {
      "cell_type": "code",
      "metadata": {
        "id": "Hbb5bvp_03Pc"
      },
      "source": [
        "model.compile(optimizer=opt, loss=loss_function, metrics=[dsc])"
      ],
      "execution_count": null,
      "outputs": []
    },
    {
      "cell_type": "code",
      "metadata": {
        "id": "MSWPV3PxP0Gd"
      },
      "source": [
        "model.save(wandb.run.dir+\"/model-best.h5\")"
      ],
      "execution_count": null,
      "outputs": []
    },
    {
      "cell_type": "code",
      "metadata": {
        "colab": {
          "base_uri": "https://localhost:8080/"
        },
        "id": "ItS5R3MwOzlZ",
        "outputId": "c6cb2f28-bd6a-4c7b-85b9-f20e243ccaa2"
      },
      "source": [
        "wandb.save(\"*.h5\")"
      ],
      "execution_count": null,
      "outputs": [
        {
          "output_type": "execute_result",
          "data": {
            "text/plain": [
              "['/content/3D_res_attn_Unet/wandb/run-20210615_162245-n89505wh/files/model-best.h5']"
            ]
          },
          "metadata": {
            "tags": []
          },
          "execution_count": 97
        }
      ]
    },
    {
      "cell_type": "code",
      "metadata": {
        "id": "TGDA2XLen0do"
      },
      "source": [
        "# model = tf.keras.models.load_model(wandb.restore(\"model-best.h5\").name, custom_objects={'ConvNorm': ConvNorm,\n",
        "#                                                                                         'NormAct': NormAct,\n",
        "#                                                                                         'AttnBottleneckBlock': AttnBottleneckBlock,\n",
        "#                                                                                         'BasicBlock': BasicBlock,\n",
        "#                                                                                         'InvertedResBlock': InvertedResBlock,\n",
        "#                                                                                         'SqueezeExcite': SqueezeExcite,\n",
        "#                                                                                         'MHSA3D': MHSA3D,\n",
        "#                                                                                         'AbsPosEmb': AbsPosEmb,\n",
        "#                                                                                         'dsc': dsc,\n",
        "#                                                                                         'FocalTversky': FocalTversky,\n",
        "#                                                                                         'CustomCLR': CustomCLR,\n",
        "#                                                                                         'WarmupExponentialDecay': WarmupExponentialDecay,\n",
        "#                                                                                         })\n",
        "# model.compile(optimizer=model.optimizer, loss=model.loss, metrics=[dsc])"
      ],
      "execution_count": null,
      "outputs": []
    },
    {
      "cell_type": "code",
      "metadata": {
        "id": "_dD2Nbrh0-5O"
      },
      "source": [
        "wandb_cb = WandbCallback(monitor='dsc', mode='max')\n",
        "\n",
        "class CustomCallback(tf.keras.callbacks.Callback):\n",
        "    def on_epoch_begin(self, epoch, logs=None):\n",
        "        img, lbl = next(iter(val_ds))\n",
        "        pred = self.model(img)\n",
        "        i = epoch % BATCH_SIZE\n",
        "        img = img[i,1].numpy()\n",
        "        mn = img.min()\n",
        "        mx = img.max()\n",
        "        img = (img - mn)/(mx - mn) * 255\n",
        "        lbl = lbl[i,1:].numpy()*255\n",
        "        pred = pred[i,1:].numpy()*255\n",
        "        get_gif(img, lbl, pred, \"out.gif\")\n",
        "        wandb.log({\"Outputs\": wandb.Image(\"out.gif\"),\n",
        "                   \"lr\": self.model.optimizer.inner_optimizer._decayed_lr('float32').numpy()})\n",
        "        # model-latest ??\n",
        "        wandb.save(\"*.h5\")                      # For forcing sync\n",
        "        gc.collect()"
      ],
      "execution_count": null,
      "outputs": []
    },
    {
      "cell_type": "code",
      "metadata": {
        "colab": {
          "base_uri": "https://localhost:8080/"
        },
        "id": "TqqKSGy8S_zC",
        "outputId": "e1957fd9-e172-4516-e6c5-d48a7b45dfbd"
      },
      "source": [
        "initial_epoch = tf.round(model.optimizer.iterations/steps_per_epoch)\n",
        "initial_epoch"
      ],
      "execution_count": null,
      "outputs": [
        {
          "output_type": "execute_result",
          "data": {
            "text/plain": [
              "<tf.Tensor: shape=(), dtype=int64, numpy=4>"
            ]
          },
          "metadata": {
            "tags": []
          },
          "execution_count": 35
        }
      ]
    },
    {
      "cell_type": "code",
      "metadata": {
        "colab": {
          "background_save": true,
          "base_uri": "https://localhost:8080/"
        },
        "id": "Lt9JdTqugB1_",
        "outputId": "40c04e38-82d3-4fbe-c30a-dc444bdd8f72"
      },
      "source": [
        "history = model.fit(train_ds,\n",
        "                    epochs=100,\n",
        "                    steps_per_epoch=np.ceil(len(train_paths)/BATCH_SIZE),\n",
        "                    validation_data=val_ds,\n",
        "                    validation_steps=np.ceil(len(val_paths)//BATCH_SIZE),\n",
        "                    initial_epoch=initial_epoch,\n",
        "                    workers=2,\n",
        "                    callbacks=[CustomCallback(), wandb_cb])"
      ],
      "execution_count": null,
      "outputs": [
        {
          "output_type": "stream",
          "text": [
            "Epoch 5/100\n",
            "143/143 [==============================] - 699s 4s/step - loss: 1.7717 - dsc: 0.4828 - val_loss: 1.5590 - val_dsc: 0.5362\n",
            "Epoch 6/100\n",
            "143/143 [==============================] - 622s 4s/step - loss: 1.8935 - dsc: 0.4366 - val_loss: 1.4018 - val_dsc: 0.6139\n",
            "Epoch 7/100\n",
            "143/143 [==============================] - 625s 4s/step - loss: 1.6037 - dsc: 0.5395 - val_loss: 1.2633 - val_dsc: 0.6725\n",
            "Epoch 8/100\n",
            "143/143 [==============================] - 618s 4s/step - loss: 1.5265 - dsc: 0.5666 - val_loss: 1.2202 - val_dsc: 0.6848\n",
            "Epoch 9/100\n",
            "143/143 [==============================] - 621s 4s/step - loss: 1.4347 - dsc: 0.6003 - val_loss: 1.1683 - val_dsc: 0.6829\n",
            "Epoch 10/100\n",
            "143/143 [==============================] - 619s 4s/step - loss: 1.4679 - dsc: 0.5876 - val_loss: 1.2170 - val_dsc: 0.6961\n",
            "Epoch 11/100\n",
            "143/143 [==============================] - 616s 4s/step - loss: 1.3823 - dsc: 0.6175 - val_loss: 1.1260 - val_dsc: 0.6858\n",
            "Epoch 12/100\n",
            "143/143 [==============================] - 614s 4s/step - loss: 1.4016 - dsc: 0.6093 - val_loss: 1.1253 - val_dsc: 0.7096\n",
            "Epoch 13/100\n",
            "143/143 [==============================] - 614s 4s/step - loss: 1.3489 - dsc: 0.6272 - val_loss: 1.0944 - val_dsc: 0.7398\n",
            "Epoch 14/100\n",
            "143/143 [==============================] - 616s 4s/step - loss: 1.3417 - dsc: 0.6305 - val_loss: 1.0945 - val_dsc: 0.7319\n",
            "Epoch 15/100\n",
            "143/143 [==============================] - 616s 4s/step - loss: 1.3329 - dsc: 0.6317 - val_loss: 0.9843 - val_dsc: 0.7653\n",
            "Epoch 16/100\n",
            "143/143 [==============================] - 615s 4s/step - loss: 1.2622 - dsc: 0.6564 - val_loss: 0.9683 - val_dsc: 0.7372\n",
            "Epoch 17/100\n",
            "143/143 [==============================] - 610s 4s/step - loss: 1.2358 - dsc: 0.6663 - val_loss: 1.0099 - val_dsc: 0.7451\n",
            "Epoch 18/100\n",
            "143/143 [==============================] - 613s 4s/step - loss: 1.2404 - dsc: 0.6631 - val_loss: 0.9978 - val_dsc: 0.7353\n",
            "Epoch 19/100\n",
            "143/143 [==============================] - 611s 4s/step - loss: 1.2053 - dsc: 0.6738 - val_loss: 0.8985 - val_dsc: 0.7731\n",
            "Epoch 20/100\n",
            "143/143 [==============================] - 610s 4s/step - loss: 1.1591 - dsc: 0.6906 - val_loss: 0.9229 - val_dsc: 0.7767\n",
            "Epoch 21/100\n",
            "143/143 [==============================] - 611s 4s/step - loss: 1.2274 - dsc: 0.6665 - val_loss: 0.8593 - val_dsc: 0.7779\n",
            "Epoch 22/100\n",
            "143/143 [==============================] - 615s 4s/step - loss: 1.1809 - dsc: 0.6841 - val_loss: 0.9007 - val_dsc: 0.7841\n",
            "Epoch 23/100\n",
            "143/143 [==============================] - 611s 4s/step - loss: 1.1628 - dsc: 0.6881 - val_loss: 0.8765 - val_dsc: 0.7772\n",
            "Epoch 24/100\n",
            "143/143 [==============================] - 612s 4s/step - loss: 1.1320 - dsc: 0.6990 - val_loss: 0.8499 - val_dsc: 0.7925\n",
            "Epoch 25/100\n",
            "143/143 [==============================] - 613s 4s/step - loss: 1.1303 - dsc: 0.6986 - val_loss: 0.8340 - val_dsc: 0.7955\n",
            "Epoch 26/100\n",
            "143/143 [==============================] - 613s 4s/step - loss: 1.1341 - dsc: 0.6985 - val_loss: 0.8116 - val_dsc: 0.7966\n",
            "Epoch 27/100\n",
            "143/143 [==============================] - 613s 4s/step - loss: 1.1211 - dsc: 0.7015 - val_loss: 0.8015 - val_dsc: 0.8014\n",
            "Epoch 28/100\n",
            "143/143 [==============================] - 613s 4s/step - loss: 1.1182 - dsc: 0.7027 - val_loss: 0.7886 - val_dsc: 0.8069\n",
            "Epoch 29/100\n",
            "143/143 [==============================] - 613s 4s/step - loss: 1.0970 - dsc: 0.7100 - val_loss: 0.8254 - val_dsc: 0.8065\n",
            "Epoch 30/100\n",
            "143/143 [==============================] - 609s 4s/step - loss: 1.0987 - dsc: 0.7088 - val_loss: 0.8249 - val_dsc: 0.8073\n",
            "Epoch 31/100\n",
            " 82/143 [================>.............] - ETA: 3:57 - loss: 1.0553 - dsc: 0.7250"
          ],
          "name": "stdout"
        }
      ]
    },
    {
      "cell_type": "code",
      "metadata": {
        "id": "TEwOLSTe1lRg"
      },
      "source": [
        "model.evaluate(val_ds, steps=np.ceil(len(val_paths)//BATCH_SIZE))"
      ],
      "execution_count": null,
      "outputs": []
    },
    {
      "cell_type": "code",
      "metadata": {
        "id": "ttJA6gGL1pv7"
      },
      "source": [
        "scores = []\n",
        "for i, (a,b) in tqdm(enumerate(train_ds)):\n",
        "    if i==steps_per_epoch:\n",
        "        break\n",
        "    o = model(a)\n",
        "    o = tf.cast(o, tf.float32)\n",
        "    scores.append(dsc(b,o))"
      ],
      "execution_count": null,
      "outputs": []
    },
    {
      "cell_type": "code",
      "metadata": {
        "id": "iZ1UO7i_1ppa"
      },
      "source": [
        "np.mean(scores, axis=0)"
      ],
      "execution_count": null,
      "outputs": []
    },
    {
      "cell_type": "code",
      "metadata": {
        "id": "m2qi8enp1maS"
      },
      "source": [
        "run.finish()"
      ],
      "execution_count": null,
      "outputs": []
    },
    {
      "cell_type": "code",
      "metadata": {
        "id": "q0uCOgvkQJmi"
      },
      "source": [
        ""
      ],
      "execution_count": null,
      "outputs": []
    }
  ]
}